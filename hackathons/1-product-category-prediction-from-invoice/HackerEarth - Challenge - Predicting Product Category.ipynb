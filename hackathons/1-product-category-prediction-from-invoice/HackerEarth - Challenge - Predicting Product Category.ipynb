{
 "cells": [
  {
   "cell_type": "markdown",
   "metadata": {},
   "source": [
    "## Hacker Earth Challenge"
   ]
  },
  {
   "cell_type": "markdown",
   "metadata": {},
   "source": [
    "### Predict Product Category from Invoice"
   ]
  },
  {
   "cell_type": "markdown",
   "metadata": {},
   "source": [
    "Organizations around the world purchase goods & services from their suppliers via Purchase Order-Invoice exchange. Organizations raise Purchase Order for specific item and expected price. Suppliers then raise an Invoice to the organization for billing. As part of process streamlining, organizations catalogue items, i.e., they document all the item details in their procurement system. However in many cases organizations are required to purchase non-catalogued items."
   ]
  },
  {
   "cell_type": "markdown",
   "metadata": {},
   "source": [
    "**Task:** Attached is the data for analysis of expenditures based on Invoices received. You need to innovate a high accuracy classification system to predict ‘Product Category’, given invoice information."
   ]
  },
  {
   "cell_type": "code",
   "execution_count": 1,
   "metadata": {},
   "outputs": [],
   "source": [
    "#import all the necessary libraries\n",
    "\n",
    "import pandas as pd\n",
    "import numpy as np\n",
    "import pandas as pd\n",
    "\n",
    "# For Visualisation\n",
    "import matplotlib.pyplot as plt\n",
    "import seaborn as sns\n",
    "%matplotlib inline\n",
    "\n",
    "# To Scale our data\n",
    "from sklearn.preprocessing import scale\n",
    "\n",
    "#Modelling\n",
    "from sklearn.model_selection import train_test_split\n",
    "from sklearn.preprocessing import StandardScaler\n",
    "from sklearn.ensemble import RandomForestClassifier\n",
    "from sklearn.metrics import confusion_matrix\n",
    "from sklearn.externals import joblib"
   ]
  },
  {
   "cell_type": "markdown",
   "metadata": {},
   "source": [
    "Let's begin by importing the provided training data"
   ]
  },
  {
   "cell_type": "code",
   "execution_count": 2,
   "metadata": {},
   "outputs": [],
   "source": [
    "train = pd.read_csv(\"Train.csv\")"
   ]
  },
  {
   "cell_type": "code",
   "execution_count": 3,
   "metadata": {},
   "outputs": [
    {
     "data": {
      "text/html": [
       "<div>\n",
       "<style scoped>\n",
       "    .dataframe tbody tr th:only-of-type {\n",
       "        vertical-align: middle;\n",
       "    }\n",
       "\n",
       "    .dataframe tbody tr th {\n",
       "        vertical-align: top;\n",
       "    }\n",
       "\n",
       "    .dataframe thead th {\n",
       "        text-align: right;\n",
       "    }\n",
       "</style>\n",
       "<table border=\"1\" class=\"dataframe\">\n",
       "  <thead>\n",
       "    <tr style=\"text-align: right;\">\n",
       "      <th></th>\n",
       "      <th>Inv_Id</th>\n",
       "      <th>Vendor_Code</th>\n",
       "      <th>GL_Code</th>\n",
       "      <th>Inv_Amt</th>\n",
       "      <th>Item_Description</th>\n",
       "      <th>Product_Category</th>\n",
       "    </tr>\n",
       "  </thead>\n",
       "  <tbody>\n",
       "    <tr>\n",
       "      <th>0</th>\n",
       "      <td>1</td>\n",
       "      <td>VENDOR-61</td>\n",
       "      <td>GL-6050100</td>\n",
       "      <td>6.973473</td>\n",
       "      <td>AETNA VARIABLE FUND - Apr-2002 - Store Managem...</td>\n",
       "      <td>CLASS-784</td>\n",
       "    </tr>\n",
       "    <tr>\n",
       "      <th>1</th>\n",
       "      <td>2</td>\n",
       "      <td>VENDOR-61</td>\n",
       "      <td>GL-6050100</td>\n",
       "      <td>25.053841</td>\n",
       "      <td>AETNA VARIABLE FUND - Nov-2000 - Store Managem...</td>\n",
       "      <td>CLASS-784</td>\n",
       "    </tr>\n",
       "    <tr>\n",
       "      <th>2</th>\n",
       "      <td>3</td>\n",
       "      <td>VENDOR-449</td>\n",
       "      <td>GL-6050100</td>\n",
       "      <td>53.573737</td>\n",
       "      <td>FAIRCHILD CORP - Nov-2001 - Store Management R...</td>\n",
       "      <td>CLASS-784</td>\n",
       "    </tr>\n",
       "    <tr>\n",
       "      <th>3</th>\n",
       "      <td>4</td>\n",
       "      <td>VENDOR-682</td>\n",
       "      <td>GL-6050100</td>\n",
       "      <td>67.388827</td>\n",
       "      <td>CALIFORNIA REAL ESTATE INVESTMENT TRUST - Aug-...</td>\n",
       "      <td>CLASS-784</td>\n",
       "    </tr>\n",
       "    <tr>\n",
       "      <th>4</th>\n",
       "      <td>5</td>\n",
       "      <td>VENDOR-682</td>\n",
       "      <td>GL-6050100</td>\n",
       "      <td>74.262047</td>\n",
       "      <td>CALIFORNIA REAL ESTATE INVESTMENT TRUST - Mar-...</td>\n",
       "      <td>CLASS-784</td>\n",
       "    </tr>\n",
       "  </tbody>\n",
       "</table>\n",
       "</div>"
      ],
      "text/plain": [
       "   Inv_Id Vendor_Code     GL_Code    Inv_Amt  \\\n",
       "0       1   VENDOR-61  GL-6050100   6.973473   \n",
       "1       2   VENDOR-61  GL-6050100  25.053841   \n",
       "2       3  VENDOR-449  GL-6050100  53.573737   \n",
       "3       4  VENDOR-682  GL-6050100  67.388827   \n",
       "4       5  VENDOR-682  GL-6050100  74.262047   \n",
       "\n",
       "                                    Item_Description Product_Category  \n",
       "0  AETNA VARIABLE FUND - Apr-2002 - Store Managem...        CLASS-784  \n",
       "1  AETNA VARIABLE FUND - Nov-2000 - Store Managem...        CLASS-784  \n",
       "2  FAIRCHILD CORP - Nov-2001 - Store Management R...        CLASS-784  \n",
       "3  CALIFORNIA REAL ESTATE INVESTMENT TRUST - Aug-...        CLASS-784  \n",
       "4  CALIFORNIA REAL ESTATE INVESTMENT TRUST - Mar-...        CLASS-784  "
      ]
     },
     "execution_count": 3,
     "metadata": {},
     "output_type": "execute_result"
    }
   ],
   "source": [
    "train.head()"
   ]
  },
  {
   "cell_type": "markdown",
   "metadata": {},
   "source": [
    "To get a deeper understanding of what the content of the *item_description* column is, let's look at a few examples"
   ]
  },
  {
   "cell_type": "code",
   "execution_count": 4,
   "metadata": {},
   "outputs": [
    {
     "name": "stdout",
     "output_type": "stream",
     "text": [
      "AETNA VARIABLE FUND - Nov-2000 - Store Management Real Estate Real Estate Services Real Estate General (Search, Appraisal, Realtor Commission)\n",
      "CANTEL INDUSTRIES INC - Oct-2010 - Corporate Services Human Resources Contingent Labor/Temp Labor Contingent Labor/Temp Labor\n",
      "CHILE REPUBLIC OF - Feb-2011 - Corporate Services Human Resources Contingent Labor/Temp Labor Contingent Labor/Temp Labor\n",
      "CALIFORNIA REAL ESTATE INVESTMENT TRUST - Mar-2013 - Store Management Real Estate Real Estate Services Real Estate General (Search, Appraisal, Realtor Commission)\n",
      "EDO CORP - Jul-2008 - Store Management Real Estate Real Estate Services Real Estate General (Search, Appraisal, Realtor Commission)\n"
     ]
    }
   ],
   "source": [
    "print(train['Item_Description'][1])\n",
    "print(train['Item_Description'][200])\n",
    "print(train['Item_Description'][300])\n",
    "print(train['Item_Description'][4])\n",
    "print(train['Item_Description'][5])\n"
   ]
  },
  {
   "cell_type": "markdown",
   "metadata": {},
   "source": [
    "On observing the item_description, we see that there is a pattern separated by a hyphen (Vendor Name - Date - Product Information)"
   ]
  },
  {
   "cell_type": "markdown",
   "metadata": {},
   "source": [
    "On splitting the column into sub-columns to extract the relevant information:"
   ]
  },
  {
   "cell_type": "code",
   "execution_count": 5,
   "metadata": {},
   "outputs": [],
   "source": [
    "train[['split1','split2','split3','split4','split5']] = train['Item_Description'].str.split(' - ', expand=True)"
   ]
  },
  {
   "cell_type": "code",
   "execution_count": 6,
   "metadata": {},
   "outputs": [],
   "source": [
    "# We can go ahead and drop the Item description column now\n",
    "train = train.drop('Item_Description', axis=1)"
   ]
  },
  {
   "cell_type": "code",
   "execution_count": 7,
   "metadata": {},
   "outputs": [
    {
     "data": {
      "text/html": [
       "<div>\n",
       "<style scoped>\n",
       "    .dataframe tbody tr th:only-of-type {\n",
       "        vertical-align: middle;\n",
       "    }\n",
       "\n",
       "    .dataframe tbody tr th {\n",
       "        vertical-align: top;\n",
       "    }\n",
       "\n",
       "    .dataframe thead th {\n",
       "        text-align: right;\n",
       "    }\n",
       "</style>\n",
       "<table border=\"1\" class=\"dataframe\">\n",
       "  <thead>\n",
       "    <tr style=\"text-align: right;\">\n",
       "      <th></th>\n",
       "      <th>Inv_Id</th>\n",
       "      <th>Vendor_Code</th>\n",
       "      <th>GL_Code</th>\n",
       "      <th>Inv_Amt</th>\n",
       "      <th>Product_Category</th>\n",
       "      <th>split1</th>\n",
       "      <th>split2</th>\n",
       "      <th>split3</th>\n",
       "      <th>split4</th>\n",
       "      <th>split5</th>\n",
       "    </tr>\n",
       "  </thead>\n",
       "  <tbody>\n",
       "    <tr>\n",
       "      <th>0</th>\n",
       "      <td>1</td>\n",
       "      <td>VENDOR-61</td>\n",
       "      <td>GL-6050100</td>\n",
       "      <td>6.973473</td>\n",
       "      <td>CLASS-784</td>\n",
       "      <td>AETNA VARIABLE FUND</td>\n",
       "      <td>Apr-2002</td>\n",
       "      <td>Store Management Real Estate Real Estate Servi...</td>\n",
       "      <td>None</td>\n",
       "      <td>None</td>\n",
       "    </tr>\n",
       "    <tr>\n",
       "      <th>1</th>\n",
       "      <td>2</td>\n",
       "      <td>VENDOR-61</td>\n",
       "      <td>GL-6050100</td>\n",
       "      <td>25.053841</td>\n",
       "      <td>CLASS-784</td>\n",
       "      <td>AETNA VARIABLE FUND</td>\n",
       "      <td>Nov-2000</td>\n",
       "      <td>Store Management Real Estate Real Estate Servi...</td>\n",
       "      <td>None</td>\n",
       "      <td>None</td>\n",
       "    </tr>\n",
       "    <tr>\n",
       "      <th>2</th>\n",
       "      <td>3</td>\n",
       "      <td>VENDOR-449</td>\n",
       "      <td>GL-6050100</td>\n",
       "      <td>53.573737</td>\n",
       "      <td>CLASS-784</td>\n",
       "      <td>FAIRCHILD CORP</td>\n",
       "      <td>Nov-2001</td>\n",
       "      <td>Store Management Real Estate Real Estate Servi...</td>\n",
       "      <td>None</td>\n",
       "      <td>None</td>\n",
       "    </tr>\n",
       "    <tr>\n",
       "      <th>3</th>\n",
       "      <td>4</td>\n",
       "      <td>VENDOR-682</td>\n",
       "      <td>GL-6050100</td>\n",
       "      <td>67.388827</td>\n",
       "      <td>CLASS-784</td>\n",
       "      <td>CALIFORNIA REAL ESTATE INVESTMENT TRUST</td>\n",
       "      <td>Aug-2006</td>\n",
       "      <td>Store Management Real Estate Real Estate Servi...</td>\n",
       "      <td>None</td>\n",
       "      <td>None</td>\n",
       "    </tr>\n",
       "    <tr>\n",
       "      <th>4</th>\n",
       "      <td>5</td>\n",
       "      <td>VENDOR-682</td>\n",
       "      <td>GL-6050100</td>\n",
       "      <td>74.262047</td>\n",
       "      <td>CLASS-784</td>\n",
       "      <td>CALIFORNIA REAL ESTATE INVESTMENT TRUST</td>\n",
       "      <td>Mar-2013</td>\n",
       "      <td>Store Management Real Estate Real Estate Servi...</td>\n",
       "      <td>None</td>\n",
       "      <td>None</td>\n",
       "    </tr>\n",
       "  </tbody>\n",
       "</table>\n",
       "</div>"
      ],
      "text/plain": [
       "   Inv_Id Vendor_Code     GL_Code    Inv_Amt Product_Category  \\\n",
       "0       1   VENDOR-61  GL-6050100   6.973473        CLASS-784   \n",
       "1       2   VENDOR-61  GL-6050100  25.053841        CLASS-784   \n",
       "2       3  VENDOR-449  GL-6050100  53.573737        CLASS-784   \n",
       "3       4  VENDOR-682  GL-6050100  67.388827        CLASS-784   \n",
       "4       5  VENDOR-682  GL-6050100  74.262047        CLASS-784   \n",
       "\n",
       "                                    split1    split2  \\\n",
       "0                      AETNA VARIABLE FUND  Apr-2002   \n",
       "1                      AETNA VARIABLE FUND  Nov-2000   \n",
       "2                           FAIRCHILD CORP  Nov-2001   \n",
       "3  CALIFORNIA REAL ESTATE INVESTMENT TRUST  Aug-2006   \n",
       "4  CALIFORNIA REAL ESTATE INVESTMENT TRUST  Mar-2013   \n",
       "\n",
       "                                              split3 split4 split5  \n",
       "0  Store Management Real Estate Real Estate Servi...   None   None  \n",
       "1  Store Management Real Estate Real Estate Servi...   None   None  \n",
       "2  Store Management Real Estate Real Estate Servi...   None   None  \n",
       "3  Store Management Real Estate Real Estate Servi...   None   None  \n",
       "4  Store Management Real Estate Real Estate Servi...   None   None  "
      ]
     },
     "execution_count": 7,
     "metadata": {},
     "output_type": "execute_result"
    }
   ],
   "source": [
    "train.head()"
   ]
  },
  {
   "cell_type": "code",
   "execution_count": 8,
   "metadata": {},
   "outputs": [
    {
     "data": {
      "text/plain": [
       "Inv_Id                 0\n",
       "Vendor_Code            0\n",
       "GL_Code                0\n",
       "Inv_Amt                0\n",
       "Product_Category       0\n",
       "split1                 0\n",
       "split2                 0\n",
       "split3                 0\n",
       "split4              5421\n",
       "split5              5706\n",
       "dtype: int64"
      ]
     },
     "execution_count": 8,
     "metadata": {},
     "output_type": "execute_result"
    }
   ],
   "source": [
    "train.isnull().sum()"
   ]
  },
  {
   "cell_type": "markdown",
   "metadata": {},
   "source": [
    "The product description part of the column has been split into 3 different columns, let's bring them all into one column"
   ]
  },
  {
   "cell_type": "code",
   "execution_count": 9,
   "metadata": {},
   "outputs": [],
   "source": [
    "train ['desc'] = train['split3'].map(str) + train['split4'].map(str) + train['split5'].map(str)"
   ]
  },
  {
   "cell_type": "code",
   "execution_count": 10,
   "metadata": {},
   "outputs": [],
   "source": [
    "train['desc'] = train['desc'].str.replace('None', '')"
   ]
  },
  {
   "cell_type": "markdown",
   "metadata": {},
   "source": [
    "Now, let's look at what columns are we left with in the training dataset"
   ]
  },
  {
   "cell_type": "code",
   "execution_count": 11,
   "metadata": {},
   "outputs": [
    {
     "data": {
      "text/plain": [
       "Index(['Inv_Id', 'Vendor_Code', 'GL_Code', 'Inv_Amt', 'Product_Category',\n",
       "       'split1', 'split2', 'split3', 'split4', 'split5', 'desc'],\n",
       "      dtype='object')"
      ]
     },
     "execution_count": 11,
     "metadata": {},
     "output_type": "execute_result"
    }
   ],
   "source": [
    "train.columns"
   ]
  },
  {
   "cell_type": "markdown",
   "metadata": {},
   "source": [
    "There are a number of columns that can be deemed as non-contributing to what we're trying to achieve. Since we want to classify invoices to their corresponding product category, the only columns that we're interested in are the product-related ones. Let's drop the unnecessary columns"
   ]
  },
  {
   "cell_type": "code",
   "execution_count": 12,
   "metadata": {},
   "outputs": [],
   "source": [
    "train =train.drop(['Inv_Id', 'Vendor_Code', 'GL_Code','split1', 'split2', 'split3', \n",
    "                   'split4', 'split5' ], axis=1)"
   ]
  },
  {
   "cell_type": "code",
   "execution_count": 13,
   "metadata": {},
   "outputs": [
    {
     "data": {
      "text/html": [
       "<div>\n",
       "<style scoped>\n",
       "    .dataframe tbody tr th:only-of-type {\n",
       "        vertical-align: middle;\n",
       "    }\n",
       "\n",
       "    .dataframe tbody tr th {\n",
       "        vertical-align: top;\n",
       "    }\n",
       "\n",
       "    .dataframe thead th {\n",
       "        text-align: right;\n",
       "    }\n",
       "</style>\n",
       "<table border=\"1\" class=\"dataframe\">\n",
       "  <thead>\n",
       "    <tr style=\"text-align: right;\">\n",
       "      <th></th>\n",
       "      <th>Inv_Amt</th>\n",
       "      <th>Product_Category</th>\n",
       "      <th>desc</th>\n",
       "    </tr>\n",
       "  </thead>\n",
       "  <tbody>\n",
       "    <tr>\n",
       "      <th>0</th>\n",
       "      <td>6.973473</td>\n",
       "      <td>CLASS-784</td>\n",
       "      <td>Store Management Real Estate Real Estate Servi...</td>\n",
       "    </tr>\n",
       "    <tr>\n",
       "      <th>1</th>\n",
       "      <td>25.053841</td>\n",
       "      <td>CLASS-784</td>\n",
       "      <td>Store Management Real Estate Real Estate Servi...</td>\n",
       "    </tr>\n",
       "    <tr>\n",
       "      <th>2</th>\n",
       "      <td>53.573737</td>\n",
       "      <td>CLASS-784</td>\n",
       "      <td>Store Management Real Estate Real Estate Servi...</td>\n",
       "    </tr>\n",
       "    <tr>\n",
       "      <th>3</th>\n",
       "      <td>67.388827</td>\n",
       "      <td>CLASS-784</td>\n",
       "      <td>Store Management Real Estate Real Estate Servi...</td>\n",
       "    </tr>\n",
       "    <tr>\n",
       "      <th>4</th>\n",
       "      <td>74.262047</td>\n",
       "      <td>CLASS-784</td>\n",
       "      <td>Store Management Real Estate Real Estate Servi...</td>\n",
       "    </tr>\n",
       "  </tbody>\n",
       "</table>\n",
       "</div>"
      ],
      "text/plain": [
       "     Inv_Amt Product_Category  \\\n",
       "0   6.973473        CLASS-784   \n",
       "1  25.053841        CLASS-784   \n",
       "2  53.573737        CLASS-784   \n",
       "3  67.388827        CLASS-784   \n",
       "4  74.262047        CLASS-784   \n",
       "\n",
       "                                                desc  \n",
       "0  Store Management Real Estate Real Estate Servi...  \n",
       "1  Store Management Real Estate Real Estate Servi...  \n",
       "2  Store Management Real Estate Real Estate Servi...  \n",
       "3  Store Management Real Estate Real Estate Servi...  \n",
       "4  Store Management Real Estate Real Estate Servi...  "
      ]
     },
     "execution_count": 13,
     "metadata": {},
     "output_type": "execute_result"
    }
   ],
   "source": [
    "train.head()"
   ]
  },
  {
   "cell_type": "markdown",
   "metadata": {},
   "source": [
    "Let's see if we can extract any information from the product description column as it looks to be too large, and there would probably be a pattern within it"
   ]
  },
  {
   "cell_type": "code",
   "execution_count": 14,
   "metadata": {},
   "outputs": [],
   "source": [
    "description_lu = pd.DataFrame(train['desc'].unique())"
   ]
  },
  {
   "cell_type": "code",
   "execution_count": 15,
   "metadata": {},
   "outputs": [
    {
     "data": {
      "text/plain": [
       "['Store Management Real Estate Real Estate Services Real Estate General (Search, Appraisal, Realtor Commission)',\n",
       " 'Corporate Services Human Resources Benefits Life and Health and Accident Insurance',\n",
       " 'Store Construction Fixtures Store Fixtures Store Fixtures',\n",
       " 'Supply Chain Logistics Transportation Services Freight Forwarders Services Other',\n",
       " 'Non-Procurable Miscellaneous Non-Procurable Royalties Royalties',\n",
       " 'Production Agency Fees & Commissions Other Agency',\n",
       " 'Corporate Services Human Resources Contingent Labor/Temp Labor Contingent Labor/Temp Labor',\n",
       " 'Non-Procurable Charity Organizations Charity Organizations Charity Organizations',\n",
       " 'Supply Chain Logistics Transportation Services Parcel/Postage/Courier',\n",
       " 'Corporate Services Human Resources Benefits Retirement and Pension Funds',\n",
       " 'Information Technology Managed Services IT Managed Services IT Managed Services',\n",
       " \"Corporate Services Commercial Insurance Workmen's Insurance Workmen's Insurance\",\n",
       " 'Corporate Services Commercial Insurance Building and Property Insurance Building and Property Insurance',\n",
       " 'Corporate Services Consulting Finance Consulting Audit & Risk Consulting',\n",
       " 'Non-Procurable Taxes Taxes Taxes',\n",
       " 'National Advertising Media BuyTraditional Catalogue',\n",
       " 'Digital Paid Media Media BuyMobile or E-Mail Direct E-Messaging Media Buy',\n",
       " 'National Advertising Media BuyTraditional Magazines',\n",
       " 'National Advertising Media BuyTraditional Newspaper',\n",
       " 'National Advertising Media BuyTraditional Outdoor/Out of Home',\n",
       " 'Events and Promotions Agency Fees & Commissions Public Relations Agency',\n",
       " 'National Advertising Media BuyTraditional Television',\n",
       " 'Production Agency Fees & Commissions Search Agency',\n",
       " 'Digital Paid Media Media BuySocial Paid SocialContent Production with Influencer',\n",
       " 'Events and Promotions Trade Show Expenses Promotional Gift for Trade Show',\n",
       " 'Events and Promotions Trade Show Expenses Talent, Artists & Models for Trade Show',\n",
       " 'Production Artworking/Typesetting Prototype and Comp Production/Packaging Design',\n",
       " 'Corporate Services Other Corporate Services Auto Leasing and Maintenance Auto Fleet Repair and Maintenance',\n",
       " 'Corporate Services Other Corporate Services Auto Leasing and Maintenance Auto Leasing',\n",
       " 'Travel and Entertainment Ground Transportation Miscellaneous Company Car (Field Only) Miscellaneous Company Car (Field Only)',\n",
       " 'Store Management Real Estate Lease/Rent Base Rent',\n",
       " 'Facility Management Real Estate Lease/Rent Base Rent',\n",
       " 'Facility Management Real Estate Real Estate Services Real Estate General (Search, Appraisal, Realtor Commission)',\n",
       " 'Store Construction General Contractor General Requirements Final Site Clean Up',\n",
       " 'Facility Construction General Contractor General Requirements Final Site Clean Up',\n",
       " 'Printed Collateral Direct Mail Post Card/Mailer',\n",
       " 'Production Digital/Social Digital Display',\n",
       " 'Printed Collateral Miscellaneous Printed Materials Miscellaneous Printed Materials']"
      ]
     },
     "execution_count": 15,
     "metadata": {},
     "output_type": "execute_result"
    }
   ],
   "source": [
    "list(description_lu[0])"
   ]
  },
  {
   "cell_type": "markdown",
   "metadata": {},
   "source": [
    "On observing the product descriptions, we can see that there seems to be a trend repeated across all the descriptions. We can further split the product descriptions into 4 sections<br>\n",
    "In order to do this, let's first create a lookup for all the product descriptions and their corresponding splits"
   ]
  },
  {
   "cell_type": "code",
   "execution_count": 16,
   "metadata": {},
   "outputs": [],
   "source": [
    "#Create a new Lookup Data Frame\n",
    "lu_data = [['Store Management Real Estate Real Estate Services Real Estate General (Search, Appraisal, Realtor Commission)', \n",
    "          'Store Management','Real Estate','Real Estate Services', 'Real Estate General'],\n",
    "          ['Corporate Services Human Resources Benefits Life and Health and Accident Insurance','Corporate Services',\n",
    "           'Human Resources','Benefits','Life and Health and Accident Insurance'],\n",
    "          ['Store Construction Fixtures Store Fixtures Store Fixtures', 'Store Construction', 'Fixtures', 'Store Fixtures', \n",
    "           'Store Fixtures'],\n",
    "          ['Supply Chain Logistics Transportation Services Freight Forwarders Services Other', 'Supply Chain Logistics', \n",
    "           'Transportation Services', 'Freight Forwarders Services', 'Other'],\n",
    "          ['Non-Procurable Miscellaneous Non-Procurable Royalties Royalties','Non-Procurable', 'Miscellaneous', \n",
    "           'Non-Procurable Royalties', 'Royalties'],\n",
    "          ['Production Agency Fees & Commissions Other Agency', 'Production Agency', 'Fees & Commissions', 'Other', 'Agency'],\n",
    "          ['Corporate Services Human Resources Contingent Labor/Temp Labor Contingent Labor/Temp Labor', 'Corporate Services',\n",
    "           'Human Resources', 'Contingent Labor/Temp Labor', 'Contingent Labor/Temp Labor'],\n",
    "          ['Non-Procurable Charity Organizations Charity Organizations Charity Organizations', 'Non-Procurable', 'Charity Organizations',\n",
    "           'Charity Organizations', 'Charity Organizations'],\n",
    "          ['Supply Chain Logistics Transportation Services Parcel/Postage/Courier','Supply Chain Logistics',\n",
    "           'Transportation Services', 'Parcel/Postage/Courier', 'Other'],\n",
    "          ['Corporate Services Human Resources Benefits Retirement and Pension Funds','Corporate Services','Human Resources',\n",
    "           'Benefits', 'Retirement and Pension Funds'],\n",
    "          ['Information Technology Managed Services IT Managed Services IT Managed Services','Information Technology',\n",
    "           'Managed Services', 'IT Managed Services', 'IT Managed Services'],\n",
    "          [\"Corporate Services Commercial Insurance Workmen's Insurance Workmen's Insurance\",\"Corporate Services\",\n",
    "           \"Commercial Insurance\", \"Workmen's Insurance\", \"Workmen's Insurance\"],\n",
    "          ['Corporate Services Commercial Insurance Building and Property Insurance Building and Property Insurance',\n",
    "           'Corporate Services', 'Commercial Insurance', 'Building and Property Insurance', 'Building and Property Insurance'],\n",
    "          ['Corporate Services Consulting Finance Consulting Audit & Risk Consulting','Corporate Services', 'Consulting',\n",
    "           'Finance Consulting', 'Audit & Risk Consulting'],\n",
    "          ['Non-Procurable Taxes Taxes Taxes','Non-Procurable', 'Taxes', 'Taxes', 'Taxes'],\n",
    "          ['National Advertising Media BuyTraditional Catalogue','National Advertising', 'Media Buy','Traditional', 'Catalogue'],\n",
    "          ['Digital Paid Media Media Buy ','Digital','Paid Media', 'Media', 'Buy'],\n",
    "          ['National Advertising Media BuyTraditional Magazines', 'National Advertising', 'Media Buy', 'Traditional', 'Magazines'],\n",
    "          ['National Advertising Media BuyTraditional Newspaper','National Advertising', 'Media Buy','Traditional', 'Newspaper'],\n",
    "          ['National Advertising Media BuyTraditional Outdoor/Out of Home','National Advertising', 'Media Buy','Traditional', \n",
    "           'Outdoor/Out of Home'],\n",
    "          ['Events and Promotions Agency Fees & Commissions Public Relations Agency','Events and Promotions', 'Agency',\n",
    "           'Fees & Commissions', 'Public Relations Agency'],\n",
    "          ['National Advertising Media BuyTraditional Television','National Advertising', 'Media Buy','Traditional', 'Television'],\n",
    "          ['Production Agency Fees & Commissions Search Agency','Production', 'Agency', 'Fees & Commissions','Search Agency'],\n",
    "          ['Digital Paid Media Media BuySocial Paid SocialContent Production with Influencer', 'Digital Paid Media', 'Media Buy',\n",
    "           'Social', 'Paid Social Content Production with Influencer'],\n",
    "          ['Events and Promotions Trade Show Expenses Promotional Gift for Trade Show','Events and Promotions', 'Trade Show',\n",
    "           'Expenses', 'Promotional Gift for Trade Show'],\n",
    "          ['Events and Promotions Trade Show Expenses Talent, Artists & Models for Trade Show','Events and Promotions',\n",
    "           'Trade Show', 'Expenses', 'Talent, Artists & Models for Trade Show'],\n",
    "          ['Production Artworking/Typesetting Prototype and Comp Production/Packaging Design','Production', 'Artworking/Typesetting',\n",
    "           'Prototype and Comp','Production/Packaging Design'],\n",
    "          ['Corporate Services Other Corporate Services Auto Leasing and Maintenance Auto Fleet Repair and Maintenance',\n",
    "           'Corporate Services', 'Other Corporate Services', 'Auto Leasing and Maintenance','Auto Fleet Repair and Maintenance'],\n",
    "          ['Corporate Services Other Corporate Services Auto Leasing and Maintenance Auto Leasing',\n",
    "           'Corporate Services', 'Other Corporate Services', 'Auto Leasing and Maintenance', 'Auto Leasing'],\n",
    "          ['Travel and Entertainment Ground Transportation Miscellaneous Company Car (Field Only) Miscellaneous Company Car (Field Only)',\n",
    "           'Travel and Entertainment', 'Ground Transportation',  'Miscellaneous Company Car', 'Miscellaneous Company Car'],\n",
    "          ['Store Management Real Estate Lease/Rent Base Rent','Store Management', 'Real Estate', 'Lease/Rent', 'Base Rent'],\n",
    "          ['Facility Management Real Estate Lease/Rent Base Rent','Facility Management', 'Real Estate', 'Lease/Rent', 'Base Rent'],\n",
    "          ['Facility Management Real Estate Real Estate Services Real Estate General (Search, Appraisal, Realtor Commission)',\n",
    "           'Facility Management', 'Real Estate', 'Real Estate Services', 'Real Estate General'],\n",
    "          ['Store Construction General Contractor General Requirements Final Site Clean Up','Store Construction', 'General Contractor',\n",
    "           'General Requirements', 'Final Site Clean Up'],\n",
    "          ['Facility Construction General Contractor General Requirements Final Site Clean Up', 'Facility Construction',\n",
    "           'General Contractor', 'General Requirements', 'Final Site Clean Up'],\n",
    "          ['Printed Collateral Direct Mail Post Card/Mailer','Printed', 'Collateral', 'Direct Mail', 'Post Card/Mailer'],\n",
    "          ['Production Digital/Social Digital Display', 'Production', 'Digital/Social', 'Digital', 'Display'],\n",
    "          ['Printed Collateral Miscellaneous Printed Materials Miscellaneous Printed Materials', 'Printed', 'Collateral',\n",
    "           'Miscellaneous Printed Materials', 'Miscellaneous Printed Materials']]\n",
    "          \n",
    "lu_df = pd.DataFrame(lu_data, columns = ['desc', 'Var1', 'Var2', 'Var3', 'Var4']) "
   ]
  },
  {
   "cell_type": "code",
   "execution_count": 17,
   "metadata": {
    "scrolled": true
   },
   "outputs": [
    {
     "data": {
      "text/html": [
       "<div>\n",
       "<style scoped>\n",
       "    .dataframe tbody tr th:only-of-type {\n",
       "        vertical-align: middle;\n",
       "    }\n",
       "\n",
       "    .dataframe tbody tr th {\n",
       "        vertical-align: top;\n",
       "    }\n",
       "\n",
       "    .dataframe thead th {\n",
       "        text-align: right;\n",
       "    }\n",
       "</style>\n",
       "<table border=\"1\" class=\"dataframe\">\n",
       "  <thead>\n",
       "    <tr style=\"text-align: right;\">\n",
       "      <th></th>\n",
       "      <th>desc</th>\n",
       "      <th>Var1</th>\n",
       "      <th>Var2</th>\n",
       "      <th>Var3</th>\n",
       "      <th>Var4</th>\n",
       "    </tr>\n",
       "  </thead>\n",
       "  <tbody>\n",
       "    <tr>\n",
       "      <th>0</th>\n",
       "      <td>Store Management Real Estate Real Estate Servi...</td>\n",
       "      <td>Store Management</td>\n",
       "      <td>Real Estate</td>\n",
       "      <td>Real Estate Services</td>\n",
       "      <td>Real Estate General</td>\n",
       "    </tr>\n",
       "    <tr>\n",
       "      <th>1</th>\n",
       "      <td>Corporate Services Human Resources Benefits Li...</td>\n",
       "      <td>Corporate Services</td>\n",
       "      <td>Human Resources</td>\n",
       "      <td>Benefits</td>\n",
       "      <td>Life and Health and Accident Insurance</td>\n",
       "    </tr>\n",
       "    <tr>\n",
       "      <th>2</th>\n",
       "      <td>Store Construction Fixtures Store Fixtures Sto...</td>\n",
       "      <td>Store Construction</td>\n",
       "      <td>Fixtures</td>\n",
       "      <td>Store Fixtures</td>\n",
       "      <td>Store Fixtures</td>\n",
       "    </tr>\n",
       "    <tr>\n",
       "      <th>3</th>\n",
       "      <td>Supply Chain Logistics Transportation Services...</td>\n",
       "      <td>Supply Chain Logistics</td>\n",
       "      <td>Transportation Services</td>\n",
       "      <td>Freight Forwarders Services</td>\n",
       "      <td>Other</td>\n",
       "    </tr>\n",
       "    <tr>\n",
       "      <th>4</th>\n",
       "      <td>Non-Procurable Miscellaneous Non-Procurable Ro...</td>\n",
       "      <td>Non-Procurable</td>\n",
       "      <td>Miscellaneous</td>\n",
       "      <td>Non-Procurable Royalties</td>\n",
       "      <td>Royalties</td>\n",
       "    </tr>\n",
       "  </tbody>\n",
       "</table>\n",
       "</div>"
      ],
      "text/plain": [
       "                                                desc                    Var1  \\\n",
       "0  Store Management Real Estate Real Estate Servi...        Store Management   \n",
       "1  Corporate Services Human Resources Benefits Li...      Corporate Services   \n",
       "2  Store Construction Fixtures Store Fixtures Sto...      Store Construction   \n",
       "3  Supply Chain Logistics Transportation Services...  Supply Chain Logistics   \n",
       "4  Non-Procurable Miscellaneous Non-Procurable Ro...          Non-Procurable   \n",
       "\n",
       "                      Var2                         Var3  \\\n",
       "0              Real Estate         Real Estate Services   \n",
       "1          Human Resources                     Benefits   \n",
       "2                 Fixtures               Store Fixtures   \n",
       "3  Transportation Services  Freight Forwarders Services   \n",
       "4            Miscellaneous     Non-Procurable Royalties   \n",
       "\n",
       "                                     Var4  \n",
       "0                     Real Estate General  \n",
       "1  Life and Health and Accident Insurance  \n",
       "2                          Store Fixtures  \n",
       "3                                   Other  \n",
       "4                               Royalties  "
      ]
     },
     "execution_count": 17,
     "metadata": {},
     "output_type": "execute_result"
    }
   ],
   "source": [
    "lu_df.head()"
   ]
  },
  {
   "cell_type": "markdown",
   "metadata": {},
   "source": [
    "Let's replace the description column in our training dataset with these 4 splits based on the lookup created"
   ]
  },
  {
   "cell_type": "code",
   "execution_count": 18,
   "metadata": {},
   "outputs": [],
   "source": [
    "train_refined = pd.merge(train, lu_df, how='left',left_on='desc', right_on='desc' )"
   ]
  },
  {
   "cell_type": "code",
   "execution_count": 19,
   "metadata": {},
   "outputs": [
    {
     "data": {
      "text/html": [
       "<div>\n",
       "<style scoped>\n",
       "    .dataframe tbody tr th:only-of-type {\n",
       "        vertical-align: middle;\n",
       "    }\n",
       "\n",
       "    .dataframe tbody tr th {\n",
       "        vertical-align: top;\n",
       "    }\n",
       "\n",
       "    .dataframe thead th {\n",
       "        text-align: right;\n",
       "    }\n",
       "</style>\n",
       "<table border=\"1\" class=\"dataframe\">\n",
       "  <thead>\n",
       "    <tr style=\"text-align: right;\">\n",
       "      <th></th>\n",
       "      <th>Inv_Amt</th>\n",
       "      <th>Product_Category</th>\n",
       "      <th>desc</th>\n",
       "      <th>Var1</th>\n",
       "      <th>Var2</th>\n",
       "      <th>Var3</th>\n",
       "      <th>Var4</th>\n",
       "    </tr>\n",
       "  </thead>\n",
       "  <tbody>\n",
       "    <tr>\n",
       "      <th>0</th>\n",
       "      <td>6.973473</td>\n",
       "      <td>CLASS-784</td>\n",
       "      <td>Store Management Real Estate Real Estate Servi...</td>\n",
       "      <td>Store Management</td>\n",
       "      <td>Real Estate</td>\n",
       "      <td>Real Estate Services</td>\n",
       "      <td>Real Estate General</td>\n",
       "    </tr>\n",
       "    <tr>\n",
       "      <th>1</th>\n",
       "      <td>25.053841</td>\n",
       "      <td>CLASS-784</td>\n",
       "      <td>Store Management Real Estate Real Estate Servi...</td>\n",
       "      <td>Store Management</td>\n",
       "      <td>Real Estate</td>\n",
       "      <td>Real Estate Services</td>\n",
       "      <td>Real Estate General</td>\n",
       "    </tr>\n",
       "    <tr>\n",
       "      <th>2</th>\n",
       "      <td>53.573737</td>\n",
       "      <td>CLASS-784</td>\n",
       "      <td>Store Management Real Estate Real Estate Servi...</td>\n",
       "      <td>Store Management</td>\n",
       "      <td>Real Estate</td>\n",
       "      <td>Real Estate Services</td>\n",
       "      <td>Real Estate General</td>\n",
       "    </tr>\n",
       "    <tr>\n",
       "      <th>3</th>\n",
       "      <td>67.388827</td>\n",
       "      <td>CLASS-784</td>\n",
       "      <td>Store Management Real Estate Real Estate Servi...</td>\n",
       "      <td>Store Management</td>\n",
       "      <td>Real Estate</td>\n",
       "      <td>Real Estate Services</td>\n",
       "      <td>Real Estate General</td>\n",
       "    </tr>\n",
       "    <tr>\n",
       "      <th>4</th>\n",
       "      <td>74.262047</td>\n",
       "      <td>CLASS-784</td>\n",
       "      <td>Store Management Real Estate Real Estate Servi...</td>\n",
       "      <td>Store Management</td>\n",
       "      <td>Real Estate</td>\n",
       "      <td>Real Estate Services</td>\n",
       "      <td>Real Estate General</td>\n",
       "    </tr>\n",
       "  </tbody>\n",
       "</table>\n",
       "</div>"
      ],
      "text/plain": [
       "     Inv_Amt Product_Category  \\\n",
       "0   6.973473        CLASS-784   \n",
       "1  25.053841        CLASS-784   \n",
       "2  53.573737        CLASS-784   \n",
       "3  67.388827        CLASS-784   \n",
       "4  74.262047        CLASS-784   \n",
       "\n",
       "                                                desc              Var1  \\\n",
       "0  Store Management Real Estate Real Estate Servi...  Store Management   \n",
       "1  Store Management Real Estate Real Estate Servi...  Store Management   \n",
       "2  Store Management Real Estate Real Estate Servi...  Store Management   \n",
       "3  Store Management Real Estate Real Estate Servi...  Store Management   \n",
       "4  Store Management Real Estate Real Estate Servi...  Store Management   \n",
       "\n",
       "          Var2                  Var3                 Var4  \n",
       "0  Real Estate  Real Estate Services  Real Estate General  \n",
       "1  Real Estate  Real Estate Services  Real Estate General  \n",
       "2  Real Estate  Real Estate Services  Real Estate General  \n",
       "3  Real Estate  Real Estate Services  Real Estate General  \n",
       "4  Real Estate  Real Estate Services  Real Estate General  "
      ]
     },
     "execution_count": 19,
     "metadata": {},
     "output_type": "execute_result"
    }
   ],
   "source": [
    "train_refined.head()"
   ]
  },
  {
   "cell_type": "code",
   "execution_count": 20,
   "metadata": {},
   "outputs": [],
   "source": [
    "train_refined = train_refined.drop(['desc'], axis=1 )"
   ]
  },
  {
   "cell_type": "code",
   "execution_count": 21,
   "metadata": {},
   "outputs": [
    {
     "data": {
      "text/html": [
       "<div>\n",
       "<style scoped>\n",
       "    .dataframe tbody tr th:only-of-type {\n",
       "        vertical-align: middle;\n",
       "    }\n",
       "\n",
       "    .dataframe tbody tr th {\n",
       "        vertical-align: top;\n",
       "    }\n",
       "\n",
       "    .dataframe thead th {\n",
       "        text-align: right;\n",
       "    }\n",
       "</style>\n",
       "<table border=\"1\" class=\"dataframe\">\n",
       "  <thead>\n",
       "    <tr style=\"text-align: right;\">\n",
       "      <th></th>\n",
       "      <th>Inv_Amt</th>\n",
       "      <th>Product_Category</th>\n",
       "      <th>Var1</th>\n",
       "      <th>Var2</th>\n",
       "      <th>Var3</th>\n",
       "      <th>Var4</th>\n",
       "    </tr>\n",
       "  </thead>\n",
       "  <tbody>\n",
       "    <tr>\n",
       "      <th>0</th>\n",
       "      <td>6.973473</td>\n",
       "      <td>CLASS-784</td>\n",
       "      <td>Store Management</td>\n",
       "      <td>Real Estate</td>\n",
       "      <td>Real Estate Services</td>\n",
       "      <td>Real Estate General</td>\n",
       "    </tr>\n",
       "    <tr>\n",
       "      <th>1</th>\n",
       "      <td>25.053841</td>\n",
       "      <td>CLASS-784</td>\n",
       "      <td>Store Management</td>\n",
       "      <td>Real Estate</td>\n",
       "      <td>Real Estate Services</td>\n",
       "      <td>Real Estate General</td>\n",
       "    </tr>\n",
       "    <tr>\n",
       "      <th>2</th>\n",
       "      <td>53.573737</td>\n",
       "      <td>CLASS-784</td>\n",
       "      <td>Store Management</td>\n",
       "      <td>Real Estate</td>\n",
       "      <td>Real Estate Services</td>\n",
       "      <td>Real Estate General</td>\n",
       "    </tr>\n",
       "    <tr>\n",
       "      <th>3</th>\n",
       "      <td>67.388827</td>\n",
       "      <td>CLASS-784</td>\n",
       "      <td>Store Management</td>\n",
       "      <td>Real Estate</td>\n",
       "      <td>Real Estate Services</td>\n",
       "      <td>Real Estate General</td>\n",
       "    </tr>\n",
       "    <tr>\n",
       "      <th>4</th>\n",
       "      <td>74.262047</td>\n",
       "      <td>CLASS-784</td>\n",
       "      <td>Store Management</td>\n",
       "      <td>Real Estate</td>\n",
       "      <td>Real Estate Services</td>\n",
       "      <td>Real Estate General</td>\n",
       "    </tr>\n",
       "  </tbody>\n",
       "</table>\n",
       "</div>"
      ],
      "text/plain": [
       "     Inv_Amt Product_Category              Var1         Var2  \\\n",
       "0   6.973473        CLASS-784  Store Management  Real Estate   \n",
       "1  25.053841        CLASS-784  Store Management  Real Estate   \n",
       "2  53.573737        CLASS-784  Store Management  Real Estate   \n",
       "3  67.388827        CLASS-784  Store Management  Real Estate   \n",
       "4  74.262047        CLASS-784  Store Management  Real Estate   \n",
       "\n",
       "                   Var3                 Var4  \n",
       "0  Real Estate Services  Real Estate General  \n",
       "1  Real Estate Services  Real Estate General  \n",
       "2  Real Estate Services  Real Estate General  \n",
       "3  Real Estate Services  Real Estate General  \n",
       "4  Real Estate Services  Real Estate General  "
      ]
     },
     "execution_count": 21,
     "metadata": {},
     "output_type": "execute_result"
    }
   ],
   "source": [
    "train_refined.head()"
   ]
  },
  {
   "cell_type": "markdown",
   "metadata": {},
   "source": [
    "Now we have our training data that is concise and we can proceed with further analysis "
   ]
  },
  {
   "cell_type": "markdown",
   "metadata": {},
   "source": [
    "Let's see if the price column varies based on the different product categories"
   ]
  },
  {
   "cell_type": "code",
   "execution_count": 22,
   "metadata": {},
   "outputs": [
    {
     "data": {
      "text/plain": [
       "CLASS-559     1521\n",
       "CLASS-75       985\n",
       "CLASS-323      773\n",
       "CLASS-51       464\n",
       "CLASS-177      370\n",
       "CLASS-764      219\n",
       "CLASS-50       196\n",
       "CLASS-522      117\n",
       "CLASS-629      115\n",
       "CLASS-322      107\n",
       "CLASS-942      107\n",
       "CLASS-368       79\n",
       "CLASS-720       73\n",
       "CLASS-651       68\n",
       "CLASS-913       53\n",
       "CLASS-278       50\n",
       "CLASS-671       42\n",
       "CLASS-74        42\n",
       "CLASS-804       38\n",
       "CLASS-230       34\n",
       "CLASS-1042      34\n",
       "CLASS-110       29\n",
       "CLASS-765       27\n",
       "CLASS-95        27\n",
       "CLASS-123       26\n",
       "CLASS-571       22\n",
       "CLASS-784       19\n",
       "CLASS-453       15\n",
       "CLASS-606       13\n",
       "CLASS-839       13\n",
       "CLASS-668       13\n",
       "CLASS-953        8\n",
       "CLASS-49         7\n",
       "CLASS-489        4\n",
       "CLASS-758        3\n",
       "CLASS-783        2\n",
       "CLASS-947        2\n",
       "CLASS-816        2\n",
       "Name: Product_Category, dtype: int64"
      ]
     },
     "execution_count": 22,
     "metadata": {},
     "output_type": "execute_result"
    }
   ],
   "source": [
    "train_refined['Product_Category'].value_counts()"
   ]
  },
  {
   "cell_type": "code",
   "execution_count": 23,
   "metadata": {},
   "outputs": [
    {
     "data": {
      "text/plain": [
       "{'whiskers': [<matplotlib.lines.Line2D at 0x20c070f7470>,\n",
       "  <matplotlib.lines.Line2D at 0x20c070f7908>],\n",
       " 'caps': [<matplotlib.lines.Line2D at 0x20c070f7d30>,\n",
       "  <matplotlib.lines.Line2D at 0x20c070fc198>],\n",
       " 'boxes': [<matplotlib.lines.Line2D at 0x20c070f7320>],\n",
       " 'medians': [<matplotlib.lines.Line2D at 0x20c070fc5c0>],\n",
       " 'fliers': [<matplotlib.lines.Line2D at 0x20c070fc9e8>],\n",
       " 'means': []}"
      ]
     },
     "execution_count": 23,
     "metadata": {},
     "output_type": "execute_result"
    },
    {
     "data": {
      "image/png": "[encoded data removed]",
      "text/plain": [
       "<Figure size 432x288 with 3 Axes>"
      ]
     },
     "metadata": {},
     "output_type": "display_data"
    }
   ],
   "source": [
    "plt.subplot(1,3,1)\n",
    "plt.boxplot(train_refined.loc[train_refined['Product_Category'] == 'CLASS-368', 'Inv_Amt'])\n",
    "\n",
    "plt.subplot(1,3,2)\n",
    "plt.boxplot(train_refined.loc[train_refined['Product_Category'] == 'CLASS-784', 'Inv_Amt'])\n",
    "\n",
    "plt.subplot(1,3,3)\n",
    "plt.boxplot(train_refined.loc[train_refined['Product_Category'] == 'CLASS-953', 'Inv_Amt'])\n"
   ]
  },
  {
   "cell_type": "markdown",
   "metadata": {},
   "source": [
    "We can see that the price distribution across the products is not very distinguishable. There deosn't seem to be an evident patter between the differnt product categories and their prices"
   ]
  },
  {
   "cell_type": "code",
   "execution_count": 24,
   "metadata": {},
   "outputs": [
    {
     "data": {
      "text/html": [
       "<div>\n",
       "<style scoped>\n",
       "    .dataframe tbody tr th:only-of-type {\n",
       "        vertical-align: middle;\n",
       "    }\n",
       "\n",
       "    .dataframe tbody tr th {\n",
       "        vertical-align: top;\n",
       "    }\n",
       "\n",
       "    .dataframe thead th {\n",
       "        text-align: right;\n",
       "    }\n",
       "</style>\n",
       "<table border=\"1\" class=\"dataframe\">\n",
       "  <thead>\n",
       "    <tr style=\"text-align: right;\">\n",
       "      <th></th>\n",
       "      <th>Inv_Amt</th>\n",
       "      <th>Product_Category</th>\n",
       "      <th>Var1</th>\n",
       "      <th>Var2</th>\n",
       "      <th>Var3</th>\n",
       "      <th>Var4</th>\n",
       "    </tr>\n",
       "  </thead>\n",
       "  <tbody>\n",
       "    <tr>\n",
       "      <th>0</th>\n",
       "      <td>6.973473</td>\n",
       "      <td>CLASS-784</td>\n",
       "      <td>Store Management</td>\n",
       "      <td>Real Estate</td>\n",
       "      <td>Real Estate Services</td>\n",
       "      <td>Real Estate General</td>\n",
       "    </tr>\n",
       "    <tr>\n",
       "      <th>1</th>\n",
       "      <td>25.053841</td>\n",
       "      <td>CLASS-784</td>\n",
       "      <td>Store Management</td>\n",
       "      <td>Real Estate</td>\n",
       "      <td>Real Estate Services</td>\n",
       "      <td>Real Estate General</td>\n",
       "    </tr>\n",
       "    <tr>\n",
       "      <th>2</th>\n",
       "      <td>53.573737</td>\n",
       "      <td>CLASS-784</td>\n",
       "      <td>Store Management</td>\n",
       "      <td>Real Estate</td>\n",
       "      <td>Real Estate Services</td>\n",
       "      <td>Real Estate General</td>\n",
       "    </tr>\n",
       "    <tr>\n",
       "      <th>3</th>\n",
       "      <td>67.388827</td>\n",
       "      <td>CLASS-784</td>\n",
       "      <td>Store Management</td>\n",
       "      <td>Real Estate</td>\n",
       "      <td>Real Estate Services</td>\n",
       "      <td>Real Estate General</td>\n",
       "    </tr>\n",
       "    <tr>\n",
       "      <th>4</th>\n",
       "      <td>74.262047</td>\n",
       "      <td>CLASS-784</td>\n",
       "      <td>Store Management</td>\n",
       "      <td>Real Estate</td>\n",
       "      <td>Real Estate Services</td>\n",
       "      <td>Real Estate General</td>\n",
       "    </tr>\n",
       "  </tbody>\n",
       "</table>\n",
       "</div>"
      ],
      "text/plain": [
       "     Inv_Amt Product_Category              Var1         Var2  \\\n",
       "0   6.973473        CLASS-784  Store Management  Real Estate   \n",
       "1  25.053841        CLASS-784  Store Management  Real Estate   \n",
       "2  53.573737        CLASS-784  Store Management  Real Estate   \n",
       "3  67.388827        CLASS-784  Store Management  Real Estate   \n",
       "4  74.262047        CLASS-784  Store Management  Real Estate   \n",
       "\n",
       "                   Var3                 Var4  \n",
       "0  Real Estate Services  Real Estate General  \n",
       "1  Real Estate Services  Real Estate General  \n",
       "2  Real Estate Services  Real Estate General  \n",
       "3  Real Estate Services  Real Estate General  \n",
       "4  Real Estate Services  Real Estate General  "
      ]
     },
     "execution_count": 24,
     "metadata": {},
     "output_type": "execute_result"
    }
   ],
   "source": [
    "train_refined.head()"
   ]
  },
  {
   "cell_type": "markdown",
   "metadata": {},
   "source": [
    "Encoding the categorical variables"
   ]
  },
  {
   "cell_type": "code",
   "execution_count": 25,
   "metadata": {},
   "outputs": [],
   "source": [
    "var1_levels = pd.get_dummies(train_refined['Var1'])"
   ]
  },
  {
   "cell_type": "code",
   "execution_count": 26,
   "metadata": {},
   "outputs": [
    {
     "data": {
      "text/plain": [
       "Index(['Corporate Services', 'Digital Paid Media', 'Events and Promotions',\n",
       "       'Facility Construction', 'Facility Management',\n",
       "       'Information Technology', 'National Advertising', 'Non-Procurable',\n",
       "       'Printed', 'Production', 'Production Agency', 'Store Construction',\n",
       "       'Store Management', 'Supply Chain Logistics',\n",
       "       'Travel and Entertainment'],\n",
       "      dtype='object')"
      ]
     },
     "execution_count": 26,
     "metadata": {},
     "output_type": "execute_result"
    }
   ],
   "source": [
    "var1_levels.columns"
   ]
  },
  {
   "cell_type": "code",
   "execution_count": 27,
   "metadata": {},
   "outputs": [],
   "source": [
    "var1_levels.columns = ['var1_CorporateServices', 'var1_DigitalPaidMedia', 'var1_EventsandPromotions','var1_FacilityConstruction', \n",
    "                       'var1_FacilityManagement', 'var1_InformationTechnology', 'var1_NationalAdvertising', 'var1_Non-Procurable',\n",
    "                       'var1_Printed', 'var1_Production', 'var1_ProductionAgency', 'var1_StoreConstruction', \n",
    "                       'var1_StoreManagement', 'var1-SupplyChainLogistics', 'var1_TravelandEntertainment']"
   ]
  },
  {
   "cell_type": "code",
   "execution_count": 28,
   "metadata": {},
   "outputs": [],
   "source": [
    "train_refined2 = pd.concat([train_refined, var1_levels], axis=1)"
   ]
  },
  {
   "cell_type": "code",
   "execution_count": 29,
   "metadata": {},
   "outputs": [],
   "source": [
    "var2_levels = pd.get_dummies(train_refined['Var2'])"
   ]
  },
  {
   "cell_type": "code",
   "execution_count": 30,
   "metadata": {},
   "outputs": [
    {
     "data": {
      "text/plain": [
       "Index(['Agency', 'Artworking/Typesetting', 'Charity Organizations',\n",
       "       'Collateral', 'Commercial Insurance', 'Consulting', 'Digital/Social',\n",
       "       'Fees & Commissions', 'Fixtures', 'General Contractor',\n",
       "       'Ground Transportation', 'Human Resources', 'Managed Services',\n",
       "       'Media Buy', 'Miscellaneous', 'Other Corporate Services', 'Real Estate',\n",
       "       'Taxes', 'Trade Show', 'Transportation Services'],\n",
       "      dtype='object')"
      ]
     },
     "execution_count": 30,
     "metadata": {},
     "output_type": "execute_result"
    }
   ],
   "source": [
    "var2_levels.columns"
   ]
  },
  {
   "cell_type": "code",
   "execution_count": 31,
   "metadata": {},
   "outputs": [],
   "source": [
    "var2_levels.columns = ['var2_Agency', 'var2_Artworking/Typesetting', 'var2_CharityOrganizations','var2_Collateral',\n",
    "                       'var2_CommercialInsurance', 'var2_Consulting', 'var2_Digital/Social', 'var2_Fees&Commissions',\n",
    "                       'var2_Fixtures', 'var2_GeneralContractor', 'var2_GroundTransportation', 'var2_HumanResources',\n",
    "                       'var2_ManagedServices', 'var2_MediaBuy','var2_Miscellaneous', 'var2_OtherCorporateServices', \n",
    "                       'var2_RealEstate', 'var2_Taxes', 'var2_TradeShow', 'var2_TransportationServices']"
   ]
  },
  {
   "cell_type": "code",
   "execution_count": 32,
   "metadata": {},
   "outputs": [],
   "source": [
    "train_refined2 = pd.concat([train_refined2, var2_levels], axis=1)"
   ]
  },
  {
   "cell_type": "code",
   "execution_count": 33,
   "metadata": {},
   "outputs": [
    {
     "data": {
      "text/plain": [
       "Index(['Inv_Amt', 'Product_Category', 'Var1', 'Var2', 'Var3', 'Var4',\n",
       "       'var1_CorporateServices', 'var1_DigitalPaidMedia',\n",
       "       'var1_EventsandPromotions', 'var1_FacilityConstruction',\n",
       "       'var1_FacilityManagement', 'var1_InformationTechnology',\n",
       "       'var1_NationalAdvertising', 'var1_Non-Procurable', 'var1_Printed',\n",
       "       'var1_Production', 'var1_ProductionAgency', 'var1_StoreConstruction',\n",
       "       'var1_StoreManagement', 'var1-SupplyChainLogistics',\n",
       "       'var1_TravelandEntertainment', 'var2_Agency',\n",
       "       'var2_Artworking/Typesetting', 'var2_CharityOrganizations',\n",
       "       'var2_Collateral', 'var2_CommercialInsurance', 'var2_Consulting',\n",
       "       'var2_Digital/Social', 'var2_Fees&Commissions', 'var2_Fixtures',\n",
       "       'var2_GeneralContractor', 'var2_GroundTransportation',\n",
       "       'var2_HumanResources', 'var2_ManagedServices', 'var2_MediaBuy',\n",
       "       'var2_Miscellaneous', 'var2_OtherCorporateServices', 'var2_RealEstate',\n",
       "       'var2_Taxes', 'var2_TradeShow', 'var2_TransportationServices'],\n",
       "      dtype='object')"
      ]
     },
     "execution_count": 33,
     "metadata": {},
     "output_type": "execute_result"
    }
   ],
   "source": [
    "train_refined2.columns"
   ]
  },
  {
   "cell_type": "code",
   "execution_count": 34,
   "metadata": {},
   "outputs": [],
   "source": [
    "var3_levels = pd.get_dummies(train_refined['Var3'])"
   ]
  },
  {
   "cell_type": "code",
   "execution_count": 35,
   "metadata": {},
   "outputs": [
    {
     "data": {
      "text/plain": [
       "Index(['Auto Leasing and Maintenance', 'Benefits',\n",
       "       'Building and Property Insurance', 'Charity Organizations',\n",
       "       'Contingent Labor/Temp Labor', 'Digital', 'Direct Mail', 'Expenses',\n",
       "       'Fees & Commissions', 'Finance Consulting',\n",
       "       'Freight Forwarders Services', 'General Requirements',\n",
       "       'IT Managed Services', 'Lease/Rent', 'Miscellaneous Company Car',\n",
       "       'Miscellaneous Printed Materials', 'Non-Procurable Royalties', 'Other',\n",
       "       'Parcel/Postage/Courier', 'Prototype and Comp', 'Real Estate Services',\n",
       "       'Social', 'Store Fixtures', 'Taxes', 'Traditional',\n",
       "       'Workmen's Insurance'],\n",
       "      dtype='object')"
      ]
     },
     "execution_count": 35,
     "metadata": {},
     "output_type": "execute_result"
    }
   ],
   "source": [
    "var3_levels.columns"
   ]
  },
  {
   "cell_type": "code",
   "execution_count": 36,
   "metadata": {},
   "outputs": [],
   "source": [
    "var3_levels.columns = ['var3_AutoLeasingandMaintenance', 'var3_Benefits', 'var3_BuildingandPropertyInsurance',\n",
    "                       'var3_CharityOrganizations', \n",
    "                       'var3_ContingentLabor/TempLabor', 'var3_Digital', 'var3_DirectMail', 'var3_Expenses', \n",
    "                       'var3_Fees&Commissions', 'var3_FinanceConsulting', 'var3_FreightForwardersServices', \n",
    "                       'var3_GeneralRequirements', 'var3_ITManagedServices', 'var3_Lease/Rent',  \n",
    "                       'var3_MiscellaneousCompanyCar', 'var3_MiscellaneousPrintedMaterials', 'var3_Non-ProcurableRoyalties',\n",
    "                       'var3_Other', \n",
    "                       'var3_Parcel/Postage/Courier', 'var3_PrototypeandComp', 'var3_RealEstateServices', 'var3_Social',\n",
    "                       'var3_StoreFixtures','var3_Taxes','var3_Traditional',\n",
    "                       \"var3_Workmen'sInsurance\"]"
   ]
  },
  {
   "cell_type": "code",
   "execution_count": 37,
   "metadata": {},
   "outputs": [],
   "source": [
    "train_refined2 = pd.concat([train_refined2, var3_levels], axis=1)"
   ]
  },
  {
   "cell_type": "code",
   "execution_count": 38,
   "metadata": {},
   "outputs": [
    {
     "data": {
      "text/plain": [
       "Index(['Inv_Amt', 'Product_Category', 'Var1', 'Var2', 'Var3', 'Var4',\n",
       "       'var1_CorporateServices', 'var1_DigitalPaidMedia',\n",
       "       'var1_EventsandPromotions', 'var1_FacilityConstruction',\n",
       "       'var1_FacilityManagement', 'var1_InformationTechnology',\n",
       "       'var1_NationalAdvertising', 'var1_Non-Procurable', 'var1_Printed',\n",
       "       'var1_Production', 'var1_ProductionAgency', 'var1_StoreConstruction',\n",
       "       'var1_StoreManagement', 'var1-SupplyChainLogistics',\n",
       "       'var1_TravelandEntertainment', 'var2_Agency',\n",
       "       'var2_Artworking/Typesetting', 'var2_CharityOrganizations',\n",
       "       'var2_Collateral', 'var2_CommercialInsurance', 'var2_Consulting',\n",
       "       'var2_Digital/Social', 'var2_Fees&Commissions', 'var2_Fixtures',\n",
       "       'var2_GeneralContractor', 'var2_GroundTransportation',\n",
       "       'var2_HumanResources', 'var2_ManagedServices', 'var2_MediaBuy',\n",
       "       'var2_Miscellaneous', 'var2_OtherCorporateServices', 'var2_RealEstate',\n",
       "       'var2_Taxes', 'var2_TradeShow', 'var2_TransportationServices',\n",
       "       'var3_AutoLeasingandMaintenance', 'var3_Benefits',\n",
       "       'var3_BuildingandPropertyInsurance', 'var3_CharityOrganizations',\n",
       "       'var3_ContingentLabor/TempLabor', 'var3_Digital', 'var3_DirectMail',\n",
       "       'var3_Expenses', 'var3_Fees&Commissions', 'var3_FinanceConsulting',\n",
       "       'var3_FreightForwardersServices', 'var3_GeneralRequirements',\n",
       "       'var3_ITManagedServices', 'var3_Lease/Rent',\n",
       "       'var3_MiscellaneousCompanyCar', 'var3_MiscellaneousPrintedMaterials',\n",
       "       'var3_Non-ProcurableRoyalties', 'var3_Other',\n",
       "       'var3_Parcel/Postage/Courier', 'var3_PrototypeandComp',\n",
       "       'var3_RealEstateServices', 'var3_Social', 'var3_StoreFixtures',\n",
       "       'var3_Taxes', 'var3_Traditional', 'var3_Workmen'sInsurance'],\n",
       "      dtype='object')"
      ]
     },
     "execution_count": 38,
     "metadata": {},
     "output_type": "execute_result"
    }
   ],
   "source": [
    "train_refined2.columns"
   ]
  },
  {
   "cell_type": "code",
   "execution_count": 39,
   "metadata": {},
   "outputs": [],
   "source": [
    "var4_levels = pd.get_dummies(train_refined['Var4'])"
   ]
  },
  {
   "cell_type": "code",
   "execution_count": 40,
   "metadata": {},
   "outputs": [
    {
     "data": {
      "text/plain": [
       "Index(['Agency', 'Audit & Risk Consulting',\n",
       "       'Auto Fleet Repair and Maintenance', 'Auto Leasing', 'Base Rent',\n",
       "       'Building and Property Insurance', 'Catalogue', 'Charity Organizations',\n",
       "       'Contingent Labor/Temp Labor', 'Display', 'Final Site Clean Up',\n",
       "       'IT Managed Services', 'Life and Health and Accident Insurance',\n",
       "       'Magazines', 'Miscellaneous Company Car',\n",
       "       'Miscellaneous Printed Materials', 'Newspaper', 'Other',\n",
       "       'Outdoor/Out of Home', 'Paid Social Content Production with Influencer',\n",
       "       'Post Card/Mailer', 'Production/Packaging Design',\n",
       "       'Promotional Gift for Trade Show', 'Public Relations Agency',\n",
       "       'Real Estate General', 'Retirement and Pension Funds', 'Royalties',\n",
       "       'Search Agency', 'Store Fixtures',\n",
       "       'Talent, Artists & Models for Trade Show', 'Taxes', 'Television',\n",
       "       'Workmen's Insurance'],\n",
       "      dtype='object')"
      ]
     },
     "execution_count": 40,
     "metadata": {},
     "output_type": "execute_result"
    }
   ],
   "source": [
    "var4_levels.columns"
   ]
  },
  {
   "cell_type": "code",
   "execution_count": 41,
   "metadata": {},
   "outputs": [],
   "source": [
    "var4_levels.columns = ['var4_Agency', 'var4_Audit&RiskConsulting', 'var4_AutoFleetRepairandMaintenance', 'var4_AutoLeasing',\n",
    "                       'var4_BaseRent', 'var4_BuildingandPropertyInsurance', 'var4_Catalogue', 'var4_CharityOrganizations',\n",
    "                       'var4_ContingentLabor/TempLabor', \n",
    "                       'var4_Display', 'var4_FinalSiteCleanUp', 'var4_ITManagedServices', \n",
    "                       'var4_LifeandHealthandAccidentInsurance', 'var4_Magazines','var4_MiscellaneousCompanyCar', \n",
    "                       'var4_MiscellaneousPrintedMaterials', 'var4_Newspaper','var4_Other', 'var4_Outdoor/OutofHome',\n",
    "                       'var4_PaidSocialContentProductionwithInfluencer','var4_PostCard/Mailer', \n",
    "                       'var4_Production/PackagingDesign', 'var4_PromotionalGiftforTradeShow', 'var4_PublicRelationsAgency', \n",
    "                       'var4_RealEstateGeneral', 'var4_RetirementandPensionFunds', 'var4_Royalties', \n",
    "                       'var4_SearchAgency', 'var4_StoreFixtures',\n",
    "                       'var4_Talent,Artists&ModelsforTradeShow', 'var4_Taxes','var4_Television',\"var4_Workmen'sInsurance\"]"
   ]
  },
  {
   "cell_type": "code",
   "execution_count": 42,
   "metadata": {},
   "outputs": [],
   "source": [
    "train_refined2 = pd.concat([train_refined2, var4_levels], axis=1)"
   ]
  },
  {
   "cell_type": "code",
   "execution_count": 43,
   "metadata": {},
   "outputs": [
    {
     "data": {
      "text/plain": [
       "Index(['Inv_Amt', 'Product_Category', 'Var1', 'Var2', 'Var3', 'Var4',\n",
       "       'var1_CorporateServices', 'var1_DigitalPaidMedia',\n",
       "       'var1_EventsandPromotions', 'var1_FacilityConstruction',\n",
       "       'var1_FacilityManagement', 'var1_InformationTechnology',\n",
       "       'var1_NationalAdvertising', 'var1_Non-Procurable', 'var1_Printed',\n",
       "       'var1_Production', 'var1_ProductionAgency', 'var1_StoreConstruction',\n",
       "       'var1_StoreManagement', 'var1-SupplyChainLogistics',\n",
       "       'var1_TravelandEntertainment', 'var2_Agency',\n",
       "       'var2_Artworking/Typesetting', 'var2_CharityOrganizations',\n",
       "       'var2_Collateral', 'var2_CommercialInsurance', 'var2_Consulting',\n",
       "       'var2_Digital/Social', 'var2_Fees&Commissions', 'var2_Fixtures',\n",
       "       'var2_GeneralContractor', 'var2_GroundTransportation',\n",
       "       'var2_HumanResources', 'var2_ManagedServices', 'var2_MediaBuy',\n",
       "       'var2_Miscellaneous', 'var2_OtherCorporateServices', 'var2_RealEstate',\n",
       "       'var2_Taxes', 'var2_TradeShow', 'var2_TransportationServices',\n",
       "       'var3_AutoLeasingandMaintenance', 'var3_Benefits',\n",
       "       'var3_BuildingandPropertyInsurance', 'var3_CharityOrganizations',\n",
       "       'var3_ContingentLabor/TempLabor', 'var3_Digital', 'var3_DirectMail',\n",
       "       'var3_Expenses', 'var3_Fees&Commissions', 'var3_FinanceConsulting',\n",
       "       'var3_FreightForwardersServices', 'var3_GeneralRequirements',\n",
       "       'var3_ITManagedServices', 'var3_Lease/Rent',\n",
       "       'var3_MiscellaneousCompanyCar', 'var3_MiscellaneousPrintedMaterials',\n",
       "       'var3_Non-ProcurableRoyalties', 'var3_Other',\n",
       "       'var3_Parcel/Postage/Courier', 'var3_PrototypeandComp',\n",
       "       'var3_RealEstateServices', 'var3_Social', 'var3_StoreFixtures',\n",
       "       'var3_Taxes', 'var3_Traditional', 'var3_Workmen'sInsurance',\n",
       "       'var4_Agency', 'var4_Audit&RiskConsulting',\n",
       "       'var4_AutoFleetRepairandMaintenance', 'var4_AutoLeasing',\n",
       "       'var4_BaseRent', 'var4_BuildingandPropertyInsurance', 'var4_Catalogue',\n",
       "       'var4_CharityOrganizations', 'var4_ContingentLabor/TempLabor',\n",
       "       'var4_Display', 'var4_FinalSiteCleanUp', 'var4_ITManagedServices',\n",
       "       'var4_LifeandHealthandAccidentInsurance', 'var4_Magazines',\n",
       "       'var4_MiscellaneousCompanyCar', 'var4_MiscellaneousPrintedMaterials',\n",
       "       'var4_Newspaper', 'var4_Other', 'var4_Outdoor/OutofHome',\n",
       "       'var4_PaidSocialContentProductionwithInfluencer',\n",
       "       'var4_PostCard/Mailer', 'var4_Production/PackagingDesign',\n",
       "       'var4_PromotionalGiftforTradeShow', 'var4_PublicRelationsAgency',\n",
       "       'var4_RealEstateGeneral', 'var4_RetirementandPensionFunds',\n",
       "       'var4_Royalties', 'var4_SearchAgency', 'var4_StoreFixtures',\n",
       "       'var4_Talent,Artists&ModelsforTradeShow', 'var4_Taxes',\n",
       "       'var4_Television', 'var4_Workmen'sInsurance'],\n",
       "      dtype='object')"
      ]
     },
     "execution_count": 43,
     "metadata": {},
     "output_type": "execute_result"
    }
   ],
   "source": [
    "train_refined2.columns"
   ]
  },
  {
   "cell_type": "code",
   "execution_count": 44,
   "metadata": {},
   "outputs": [],
   "source": [
    "# Drop the original columns\n",
    "train_refined2 = train_refined2.drop(['Var1', 'Var2', 'Var3', 'Var4'], axis=1)"
   ]
  },
  {
   "cell_type": "code",
   "execution_count": 45,
   "metadata": {
    "scrolled": true
   },
   "outputs": [
    {
     "data": {
      "text/html": [
       "<div>\n",
       "<style scoped>\n",
       "    .dataframe tbody tr th:only-of-type {\n",
       "        vertical-align: middle;\n",
       "    }\n",
       "\n",
       "    .dataframe tbody tr th {\n",
       "        vertical-align: top;\n",
       "    }\n",
       "\n",
       "    .dataframe thead th {\n",
       "        text-align: right;\n",
       "    }\n",
       "</style>\n",
       "<table border=\"1\" class=\"dataframe\">\n",
       "  <thead>\n",
       "    <tr style=\"text-align: right;\">\n",
       "      <th></th>\n",
       "      <th>Inv_Amt</th>\n",
       "      <th>Product_Category</th>\n",
       "      <th>var1_CorporateServices</th>\n",
       "      <th>var1_DigitalPaidMedia</th>\n",
       "      <th>var1_EventsandPromotions</th>\n",
       "      <th>var1_FacilityConstruction</th>\n",
       "      <th>var1_FacilityManagement</th>\n",
       "      <th>var1_InformationTechnology</th>\n",
       "      <th>var1_NationalAdvertising</th>\n",
       "      <th>var1_Non-Procurable</th>\n",
       "      <th>...</th>\n",
       "      <th>var4_PublicRelationsAgency</th>\n",
       "      <th>var4_RealEstateGeneral</th>\n",
       "      <th>var4_RetirementandPensionFunds</th>\n",
       "      <th>var4_Royalties</th>\n",
       "      <th>var4_SearchAgency</th>\n",
       "      <th>var4_StoreFixtures</th>\n",
       "      <th>var4_Talent,Artists&amp;ModelsforTradeShow</th>\n",
       "      <th>var4_Taxes</th>\n",
       "      <th>var4_Television</th>\n",
       "      <th>var4_Workmen'sInsurance</th>\n",
       "    </tr>\n",
       "  </thead>\n",
       "  <tbody>\n",
       "    <tr>\n",
       "      <th>0</th>\n",
       "      <td>6.973473</td>\n",
       "      <td>CLASS-784</td>\n",
       "      <td>0</td>\n",
       "      <td>0</td>\n",
       "      <td>0</td>\n",
       "      <td>0</td>\n",
       "      <td>0</td>\n",
       "      <td>0</td>\n",
       "      <td>0</td>\n",
       "      <td>0</td>\n",
       "      <td>...</td>\n",
       "      <td>0</td>\n",
       "      <td>1</td>\n",
       "      <td>0</td>\n",
       "      <td>0</td>\n",
       "      <td>0</td>\n",
       "      <td>0</td>\n",
       "      <td>0</td>\n",
       "      <td>0</td>\n",
       "      <td>0</td>\n",
       "      <td>0</td>\n",
       "    </tr>\n",
       "    <tr>\n",
       "      <th>1</th>\n",
       "      <td>25.053841</td>\n",
       "      <td>CLASS-784</td>\n",
       "      <td>0</td>\n",
       "      <td>0</td>\n",
       "      <td>0</td>\n",
       "      <td>0</td>\n",
       "      <td>0</td>\n",
       "      <td>0</td>\n",
       "      <td>0</td>\n",
       "      <td>0</td>\n",
       "      <td>...</td>\n",
       "      <td>0</td>\n",
       "      <td>1</td>\n",
       "      <td>0</td>\n",
       "      <td>0</td>\n",
       "      <td>0</td>\n",
       "      <td>0</td>\n",
       "      <td>0</td>\n",
       "      <td>0</td>\n",
       "      <td>0</td>\n",
       "      <td>0</td>\n",
       "    </tr>\n",
       "    <tr>\n",
       "      <th>2</th>\n",
       "      <td>53.573737</td>\n",
       "      <td>CLASS-784</td>\n",
       "      <td>0</td>\n",
       "      <td>0</td>\n",
       "      <td>0</td>\n",
       "      <td>0</td>\n",
       "      <td>0</td>\n",
       "      <td>0</td>\n",
       "      <td>0</td>\n",
       "      <td>0</td>\n",
       "      <td>...</td>\n",
       "      <td>0</td>\n",
       "      <td>1</td>\n",
       "      <td>0</td>\n",
       "      <td>0</td>\n",
       "      <td>0</td>\n",
       "      <td>0</td>\n",
       "      <td>0</td>\n",
       "      <td>0</td>\n",
       "      <td>0</td>\n",
       "      <td>0</td>\n",
       "    </tr>\n",
       "    <tr>\n",
       "      <th>3</th>\n",
       "      <td>67.388827</td>\n",
       "      <td>CLASS-784</td>\n",
       "      <td>0</td>\n",
       "      <td>0</td>\n",
       "      <td>0</td>\n",
       "      <td>0</td>\n",
       "      <td>0</td>\n",
       "      <td>0</td>\n",
       "      <td>0</td>\n",
       "      <td>0</td>\n",
       "      <td>...</td>\n",
       "      <td>0</td>\n",
       "      <td>1</td>\n",
       "      <td>0</td>\n",
       "      <td>0</td>\n",
       "      <td>0</td>\n",
       "      <td>0</td>\n",
       "      <td>0</td>\n",
       "      <td>0</td>\n",
       "      <td>0</td>\n",
       "      <td>0</td>\n",
       "    </tr>\n",
       "    <tr>\n",
       "      <th>4</th>\n",
       "      <td>74.262047</td>\n",
       "      <td>CLASS-784</td>\n",
       "      <td>0</td>\n",
       "      <td>0</td>\n",
       "      <td>0</td>\n",
       "      <td>0</td>\n",
       "      <td>0</td>\n",
       "      <td>0</td>\n",
       "      <td>0</td>\n",
       "      <td>0</td>\n",
       "      <td>...</td>\n",
       "      <td>0</td>\n",
       "      <td>1</td>\n",
       "      <td>0</td>\n",
       "      <td>0</td>\n",
       "      <td>0</td>\n",
       "      <td>0</td>\n",
       "      <td>0</td>\n",
       "      <td>0</td>\n",
       "      <td>0</td>\n",
       "      <td>0</td>\n",
       "    </tr>\n",
       "  </tbody>\n",
       "</table>\n",
       "<p>5 rows × 96 columns</p>\n",
       "</div>"
      ],
      "text/plain": [
       "     Inv_Amt Product_Category  var1_CorporateServices  var1_DigitalPaidMedia  \\\n",
       "0   6.973473        CLASS-784                       0                      0   \n",
       "1  25.053841        CLASS-784                       0                      0   \n",
       "2  53.573737        CLASS-784                       0                      0   \n",
       "3  67.388827        CLASS-784                       0                      0   \n",
       "4  74.262047        CLASS-784                       0                      0   \n",
       "\n",
       "   var1_EventsandPromotions  var1_FacilityConstruction  \\\n",
       "0                         0                          0   \n",
       "1                         0                          0   \n",
       "2                         0                          0   \n",
       "3                         0                          0   \n",
       "4                         0                          0   \n",
       "\n",
       "   var1_FacilityManagement  var1_InformationTechnology  \\\n",
       "0                        0                           0   \n",
       "1                        0                           0   \n",
       "2                        0                           0   \n",
       "3                        0                           0   \n",
       "4                        0                           0   \n",
       "\n",
       "   var1_NationalAdvertising  var1_Non-Procurable           ...             \\\n",
       "0                         0                    0           ...              \n",
       "1                         0                    0           ...              \n",
       "2                         0                    0           ...              \n",
       "3                         0                    0           ...              \n",
       "4                         0                    0           ...              \n",
       "\n",
       "   var4_PublicRelationsAgency  var4_RealEstateGeneral  \\\n",
       "0                           0                       1   \n",
       "1                           0                       1   \n",
       "2                           0                       1   \n",
       "3                           0                       1   \n",
       "4                           0                       1   \n",
       "\n",
       "   var4_RetirementandPensionFunds  var4_Royalties  var4_SearchAgency  \\\n",
       "0                               0               0                  0   \n",
       "1                               0               0                  0   \n",
       "2                               0               0                  0   \n",
       "3                               0               0                  0   \n",
       "4                               0               0                  0   \n",
       "\n",
       "   var4_StoreFixtures  var4_Talent,Artists&ModelsforTradeShow  var4_Taxes  \\\n",
       "0                   0                                       0           0   \n",
       "1                   0                                       0           0   \n",
       "2                   0                                       0           0   \n",
       "3                   0                                       0           0   \n",
       "4                   0                                       0           0   \n",
       "\n",
       "   var4_Television  var4_Workmen'sInsurance  \n",
       "0                0                        0  \n",
       "1                0                        0  \n",
       "2                0                        0  \n",
       "3                0                        0  \n",
       "4                0                        0  \n",
       "\n",
       "[5 rows x 96 columns]"
      ]
     },
     "execution_count": 45,
     "metadata": {},
     "output_type": "execute_result"
    }
   ],
   "source": [
    "train_refined2.head()"
   ]
  },
  {
   "cell_type": "markdown",
   "metadata": {},
   "source": [
    "Now that we've handled all our categorical variables, let's proceed with the modelling bit"
   ]
  },
  {
   "cell_type": "markdown",
   "metadata": {},
   "source": [
    "Our dependent variable is a multi-class variable. The classes are in string format and need to be encoded in a manner in which our algorithm can treat them as dependent variables"
   ]
  },
  {
   "cell_type": "code",
   "execution_count": 46,
   "metadata": {},
   "outputs": [],
   "source": [
    "#Creating dependent variable class\n",
    "factor = pd.factorize(train_refined2['Product_Category'])\n",
    "train_refined2['Product_Category'] = factor[0]\n",
    "definitions = factor[1]"
   ]
  },
  {
   "cell_type": "code",
   "execution_count": 47,
   "metadata": {},
   "outputs": [
    {
     "data": {
      "text/html": [
       "<div>\n",
       "<style scoped>\n",
       "    .dataframe tbody tr th:only-of-type {\n",
       "        vertical-align: middle;\n",
       "    }\n",
       "\n",
       "    .dataframe tbody tr th {\n",
       "        vertical-align: top;\n",
       "    }\n",
       "\n",
       "    .dataframe thead th {\n",
       "        text-align: right;\n",
       "    }\n",
       "</style>\n",
       "<table border=\"1\" class=\"dataframe\">\n",
       "  <thead>\n",
       "    <tr style=\"text-align: right;\">\n",
       "      <th></th>\n",
       "      <th>Inv_Amt</th>\n",
       "      <th>Product_Category</th>\n",
       "      <th>var1_CorporateServices</th>\n",
       "      <th>var1_DigitalPaidMedia</th>\n",
       "      <th>var1_EventsandPromotions</th>\n",
       "      <th>var1_FacilityConstruction</th>\n",
       "      <th>var1_FacilityManagement</th>\n",
       "      <th>var1_InformationTechnology</th>\n",
       "      <th>var1_NationalAdvertising</th>\n",
       "      <th>var1_Non-Procurable</th>\n",
       "      <th>...</th>\n",
       "      <th>var4_PublicRelationsAgency</th>\n",
       "      <th>var4_RealEstateGeneral</th>\n",
       "      <th>var4_RetirementandPensionFunds</th>\n",
       "      <th>var4_Royalties</th>\n",
       "      <th>var4_SearchAgency</th>\n",
       "      <th>var4_StoreFixtures</th>\n",
       "      <th>var4_Talent,Artists&amp;ModelsforTradeShow</th>\n",
       "      <th>var4_Taxes</th>\n",
       "      <th>var4_Television</th>\n",
       "      <th>var4_Workmen'sInsurance</th>\n",
       "    </tr>\n",
       "  </thead>\n",
       "  <tbody>\n",
       "    <tr>\n",
       "      <th>0</th>\n",
       "      <td>6.973473</td>\n",
       "      <td>0</td>\n",
       "      <td>0</td>\n",
       "      <td>0</td>\n",
       "      <td>0</td>\n",
       "      <td>0</td>\n",
       "      <td>0</td>\n",
       "      <td>0</td>\n",
       "      <td>0</td>\n",
       "      <td>0</td>\n",
       "      <td>...</td>\n",
       "      <td>0</td>\n",
       "      <td>1</td>\n",
       "      <td>0</td>\n",
       "      <td>0</td>\n",
       "      <td>0</td>\n",
       "      <td>0</td>\n",
       "      <td>0</td>\n",
       "      <td>0</td>\n",
       "      <td>0</td>\n",
       "      <td>0</td>\n",
       "    </tr>\n",
       "    <tr>\n",
       "      <th>1</th>\n",
       "      <td>25.053841</td>\n",
       "      <td>0</td>\n",
       "      <td>0</td>\n",
       "      <td>0</td>\n",
       "      <td>0</td>\n",
       "      <td>0</td>\n",
       "      <td>0</td>\n",
       "      <td>0</td>\n",
       "      <td>0</td>\n",
       "      <td>0</td>\n",
       "      <td>...</td>\n",
       "      <td>0</td>\n",
       "      <td>1</td>\n",
       "      <td>0</td>\n",
       "      <td>0</td>\n",
       "      <td>0</td>\n",
       "      <td>0</td>\n",
       "      <td>0</td>\n",
       "      <td>0</td>\n",
       "      <td>0</td>\n",
       "      <td>0</td>\n",
       "    </tr>\n",
       "    <tr>\n",
       "      <th>2</th>\n",
       "      <td>53.573737</td>\n",
       "      <td>0</td>\n",
       "      <td>0</td>\n",
       "      <td>0</td>\n",
       "      <td>0</td>\n",
       "      <td>0</td>\n",
       "      <td>0</td>\n",
       "      <td>0</td>\n",
       "      <td>0</td>\n",
       "      <td>0</td>\n",
       "      <td>...</td>\n",
       "      <td>0</td>\n",
       "      <td>1</td>\n",
       "      <td>0</td>\n",
       "      <td>0</td>\n",
       "      <td>0</td>\n",
       "      <td>0</td>\n",
       "      <td>0</td>\n",
       "      <td>0</td>\n",
       "      <td>0</td>\n",
       "      <td>0</td>\n",
       "    </tr>\n",
       "    <tr>\n",
       "      <th>3</th>\n",
       "      <td>67.388827</td>\n",
       "      <td>0</td>\n",
       "      <td>0</td>\n",
       "      <td>0</td>\n",
       "      <td>0</td>\n",
       "      <td>0</td>\n",
       "      <td>0</td>\n",
       "      <td>0</td>\n",
       "      <td>0</td>\n",
       "      <td>0</td>\n",
       "      <td>...</td>\n",
       "      <td>0</td>\n",
       "      <td>1</td>\n",
       "      <td>0</td>\n",
       "      <td>0</td>\n",
       "      <td>0</td>\n",
       "      <td>0</td>\n",
       "      <td>0</td>\n",
       "      <td>0</td>\n",
       "      <td>0</td>\n",
       "      <td>0</td>\n",
       "    </tr>\n",
       "    <tr>\n",
       "      <th>4</th>\n",
       "      <td>74.262047</td>\n",
       "      <td>0</td>\n",
       "      <td>0</td>\n",
       "      <td>0</td>\n",
       "      <td>0</td>\n",
       "      <td>0</td>\n",
       "      <td>0</td>\n",
       "      <td>0</td>\n",
       "      <td>0</td>\n",
       "      <td>0</td>\n",
       "      <td>...</td>\n",
       "      <td>0</td>\n",
       "      <td>1</td>\n",
       "      <td>0</td>\n",
       "      <td>0</td>\n",
       "      <td>0</td>\n",
       "      <td>0</td>\n",
       "      <td>0</td>\n",
       "      <td>0</td>\n",
       "      <td>0</td>\n",
       "      <td>0</td>\n",
       "    </tr>\n",
       "  </tbody>\n",
       "</table>\n",
       "<p>5 rows × 96 columns</p>\n",
       "</div>"
      ],
      "text/plain": [
       "     Inv_Amt  Product_Category  var1_CorporateServices  var1_DigitalPaidMedia  \\\n",
       "0   6.973473                 0                       0                      0   \n",
       "1  25.053841                 0                       0                      0   \n",
       "2  53.573737                 0                       0                      0   \n",
       "3  67.388827                 0                       0                      0   \n",
       "4  74.262047                 0                       0                      0   \n",
       "\n",
       "   var1_EventsandPromotions  var1_FacilityConstruction  \\\n",
       "0                         0                          0   \n",
       "1                         0                          0   \n",
       "2                         0                          0   \n",
       "3                         0                          0   \n",
       "4                         0                          0   \n",
       "\n",
       "   var1_FacilityManagement  var1_InformationTechnology  \\\n",
       "0                        0                           0   \n",
       "1                        0                           0   \n",
       "2                        0                           0   \n",
       "3                        0                           0   \n",
       "4                        0                           0   \n",
       "\n",
       "   var1_NationalAdvertising  var1_Non-Procurable           ...             \\\n",
       "0                         0                    0           ...              \n",
       "1                         0                    0           ...              \n",
       "2                         0                    0           ...              \n",
       "3                         0                    0           ...              \n",
       "4                         0                    0           ...              \n",
       "\n",
       "   var4_PublicRelationsAgency  var4_RealEstateGeneral  \\\n",
       "0                           0                       1   \n",
       "1                           0                       1   \n",
       "2                           0                       1   \n",
       "3                           0                       1   \n",
       "4                           0                       1   \n",
       "\n",
       "   var4_RetirementandPensionFunds  var4_Royalties  var4_SearchAgency  \\\n",
       "0                               0               0                  0   \n",
       "1                               0               0                  0   \n",
       "2                               0               0                  0   \n",
       "3                               0               0                  0   \n",
       "4                               0               0                  0   \n",
       "\n",
       "   var4_StoreFixtures  var4_Talent,Artists&ModelsforTradeShow  var4_Taxes  \\\n",
       "0                   0                                       0           0   \n",
       "1                   0                                       0           0   \n",
       "2                   0                                       0           0   \n",
       "3                   0                                       0           0   \n",
       "4                   0                                       0           0   \n",
       "\n",
       "   var4_Television  var4_Workmen'sInsurance  \n",
       "0                0                        0  \n",
       "1                0                        0  \n",
       "2                0                        0  \n",
       "3                0                        0  \n",
       "4                0                        0  \n",
       "\n",
       "[5 rows x 96 columns]"
      ]
     },
     "execution_count": 47,
     "metadata": {},
     "output_type": "execute_result"
    }
   ],
   "source": [
    "train_refined2.head()"
   ]
  },
  {
   "cell_type": "code",
   "execution_count": 48,
   "metadata": {},
   "outputs": [
    {
     "data": {
      "text/plain": [
       "Index(['CLASS-784', 'CLASS-489', 'CLASS-913', 'CLASS-368', 'CLASS-816',\n",
       "       'CLASS-629', 'CLASS-177', 'CLASS-123', 'CLASS-671', 'CLASS-804',\n",
       "       'CLASS-453', 'CLASS-1042', 'CLASS-95', 'CLASS-49', 'CLASS-947',\n",
       "       'CLASS-110', 'CLASS-278', 'CLASS-522', 'CLASS-606', 'CLASS-651',\n",
       "       'CLASS-765', 'CLASS-953', 'CLASS-839', 'CLASS-668', 'CLASS-758',\n",
       "       'CLASS-942', 'CLASS-764', 'CLASS-50', 'CLASS-51', 'CLASS-559',\n",
       "       'CLASS-75', 'CLASS-74', 'CLASS-783', 'CLASS-323', 'CLASS-322',\n",
       "       'CLASS-720', 'CLASS-230', 'CLASS-571'],\n",
       "      dtype='object')"
      ]
     },
     "execution_count": 48,
     "metadata": {},
     "output_type": "execute_result"
    }
   ],
   "source": [
    "factor[1]"
   ]
  },
  {
   "cell_type": "code",
   "execution_count": 49,
   "metadata": {},
   "outputs": [
    {
     "data": {
      "text/plain": [
       "Index(['Inv_Amt', 'Product_Category', 'var1_CorporateServices',\n",
       "       'var1_DigitalPaidMedia', 'var1_EventsandPromotions',\n",
       "       'var1_FacilityConstruction', 'var1_FacilityManagement',\n",
       "       'var1_InformationTechnology', 'var1_NationalAdvertising',\n",
       "       'var1_Non-Procurable', 'var1_Printed', 'var1_Production',\n",
       "       'var1_ProductionAgency', 'var1_StoreConstruction',\n",
       "       'var1_StoreManagement', 'var1-SupplyChainLogistics',\n",
       "       'var1_TravelandEntertainment', 'var2_Agency',\n",
       "       'var2_Artworking/Typesetting', 'var2_CharityOrganizations',\n",
       "       'var2_Collateral', 'var2_CommercialInsurance', 'var2_Consulting',\n",
       "       'var2_Digital/Social', 'var2_Fees&Commissions', 'var2_Fixtures',\n",
       "       'var2_GeneralContractor', 'var2_GroundTransportation',\n",
       "       'var2_HumanResources', 'var2_ManagedServices', 'var2_MediaBuy',\n",
       "       'var2_Miscellaneous', 'var2_OtherCorporateServices', 'var2_RealEstate',\n",
       "       'var2_Taxes', 'var2_TradeShow', 'var2_TransportationServices',\n",
       "       'var3_AutoLeasingandMaintenance', 'var3_Benefits',\n",
       "       'var3_BuildingandPropertyInsurance', 'var3_CharityOrganizations',\n",
       "       'var3_ContingentLabor/TempLabor', 'var3_Digital', 'var3_DirectMail',\n",
       "       'var3_Expenses', 'var3_Fees&Commissions', 'var3_FinanceConsulting',\n",
       "       'var3_FreightForwardersServices', 'var3_GeneralRequirements',\n",
       "       'var3_ITManagedServices', 'var3_Lease/Rent',\n",
       "       'var3_MiscellaneousCompanyCar', 'var3_MiscellaneousPrintedMaterials',\n",
       "       'var3_Non-ProcurableRoyalties', 'var3_Other',\n",
       "       'var3_Parcel/Postage/Courier', 'var3_PrototypeandComp',\n",
       "       'var3_RealEstateServices', 'var3_Social', 'var3_StoreFixtures',\n",
       "       'var3_Taxes', 'var3_Traditional', 'var3_Workmen'sInsurance',\n",
       "       'var4_Agency', 'var4_Audit&RiskConsulting',\n",
       "       'var4_AutoFleetRepairandMaintenance', 'var4_AutoLeasing',\n",
       "       'var4_BaseRent', 'var4_BuildingandPropertyInsurance', 'var4_Catalogue',\n",
       "       'var4_CharityOrganizations', 'var4_ContingentLabor/TempLabor',\n",
       "       'var4_Display', 'var4_FinalSiteCleanUp', 'var4_ITManagedServices',\n",
       "       'var4_LifeandHealthandAccidentInsurance', 'var4_Magazines',\n",
       "       'var4_MiscellaneousCompanyCar', 'var4_MiscellaneousPrintedMaterials',\n",
       "       'var4_Newspaper', 'var4_Other', 'var4_Outdoor/OutofHome',\n",
       "       'var4_PaidSocialContentProductionwithInfluencer',\n",
       "       'var4_PostCard/Mailer', 'var4_Production/PackagingDesign',\n",
       "       'var4_PromotionalGiftforTradeShow', 'var4_PublicRelationsAgency',\n",
       "       'var4_RealEstateGeneral', 'var4_RetirementandPensionFunds',\n",
       "       'var4_Royalties', 'var4_SearchAgency', 'var4_StoreFixtures',\n",
       "       'var4_Talent,Artists&ModelsforTradeShow', 'var4_Taxes',\n",
       "       'var4_Television', 'var4_Workmen'sInsurance'],\n",
       "      dtype='object')"
      ]
     },
     "execution_count": 49,
     "metadata": {},
     "output_type": "execute_result"
    }
   ],
   "source": [
    "#splitting the data into test and train\n",
    "train_refined2.columns"
   ]
  },
  {
   "cell_type": "code",
   "execution_count": 50,
   "metadata": {},
   "outputs": [],
   "source": [
    "X = train_refined2.drop('Product_Category', axis=1)\n",
    "y = train_refined2['Product_Category']"
   ]
  },
  {
   "cell_type": "markdown",
   "metadata": {},
   "source": [
    "Splitting the data into test and train"
   ]
  },
  {
   "cell_type": "code",
   "execution_count": 51,
   "metadata": {},
   "outputs": [],
   "source": [
    "# Creating the Training and Test set from data\n",
    "X_train, X_test, y_train, y_test = train_test_split(X, y, test_size = 0.25, random_state = 21)"
   ]
  },
  {
   "cell_type": "markdown",
   "metadata": {},
   "source": [
    "Let's use the **Random Forest Classification** learnig algorithm to create our final multi-class model "
   ]
  },
  {
   "cell_type": "code",
   "execution_count": 52,
   "metadata": {},
   "outputs": [
    {
     "data": {
      "text/plain": [
       "RandomForestClassifier(bootstrap=True, class_weight=None, criterion='entropy',\n",
       "            max_depth=None, max_features='auto', max_leaf_nodes=None,\n",
       "            min_impurity_decrease=0.0, min_impurity_split=None,\n",
       "            min_samples_leaf=1, min_samples_split=2,\n",
       "            min_weight_fraction_leaf=0.0, n_estimators=10, n_jobs=1,\n",
       "            oob_score=False, random_state=42, verbose=0, warm_start=False)"
      ]
     },
     "execution_count": 52,
     "metadata": {},
     "output_type": "execute_result"
    }
   ],
   "source": [
    "# Fitting Random Forest Classification to the Training set\n",
    "classifier = RandomForestClassifier(n_estimators = 10, criterion = 'entropy', random_state = 42)\n",
    "classifier.fit(X_train, y_train)"
   ]
  },
  {
   "cell_type": "markdown",
   "metadata": {},
   "source": [
    "Predicting the output on our test set using the model created"
   ]
  },
  {
   "cell_type": "code",
   "execution_count": 53,
   "metadata": {},
   "outputs": [],
   "source": [
    "# Predicting the Test set results\n",
    "y_pred = classifier.predict(X_test)"
   ]
  },
  {
   "cell_type": "code",
   "execution_count": 54,
   "metadata": {},
   "outputs": [
    {
     "data": {
      "text/plain": [
       "array([ 3,  6, 30, ..., 29,  5, 29], dtype=int64)"
      ]
     },
     "execution_count": 54,
     "metadata": {},
     "output_type": "execute_result"
    }
   ],
   "source": [
    "y_pred"
   ]
  },
  {
   "cell_type": "code",
   "execution_count": 55,
   "metadata": {},
   "outputs": [],
   "source": [
    "reversefactor = dict(zip(range(38),definitions))"
   ]
  },
  {
   "cell_type": "code",
   "execution_count": 56,
   "metadata": {},
   "outputs": [],
   "source": [
    "y_pred = np.vectorize(reversefactor.get)(y_pred)"
   ]
  },
  {
   "cell_type": "code",
   "execution_count": 57,
   "metadata": {},
   "outputs": [],
   "source": [
    "y_test = np.vectorize(reversefactor.get)(y_test)"
   ]
  },
  {
   "cell_type": "code",
   "execution_count": 58,
   "metadata": {},
   "outputs": [],
   "source": [
    "pred_test = pd.concat([pd.DataFrame(y_test), pd.DataFrame(y_pred)], axis=1)"
   ]
  },
  {
   "cell_type": "code",
   "execution_count": 59,
   "metadata": {},
   "outputs": [],
   "source": [
    "pred_test.columns = ['y_test', 'y_pred']"
   ]
  },
  {
   "cell_type": "code",
   "execution_count": 60,
   "metadata": {},
   "outputs": [
    {
     "data": {
      "text/html": [
       "<div>\n",
       "<style scoped>\n",
       "    .dataframe tbody tr th:only-of-type {\n",
       "        vertical-align: middle;\n",
       "    }\n",
       "\n",
       "    .dataframe tbody tr th {\n",
       "        vertical-align: top;\n",
       "    }\n",
       "\n",
       "    .dataframe thead th {\n",
       "        text-align: right;\n",
       "    }\n",
       "</style>\n",
       "<table border=\"1\" class=\"dataframe\">\n",
       "  <thead>\n",
       "    <tr style=\"text-align: right;\">\n",
       "      <th></th>\n",
       "      <th>y_test</th>\n",
       "      <th>y_pred</th>\n",
       "    </tr>\n",
       "  </thead>\n",
       "  <tbody>\n",
       "    <tr>\n",
       "      <th>0</th>\n",
       "      <td>CLASS-368</td>\n",
       "      <td>CLASS-368</td>\n",
       "    </tr>\n",
       "    <tr>\n",
       "      <th>1</th>\n",
       "      <td>CLASS-177</td>\n",
       "      <td>CLASS-177</td>\n",
       "    </tr>\n",
       "    <tr>\n",
       "      <th>2</th>\n",
       "      <td>CLASS-75</td>\n",
       "      <td>CLASS-75</td>\n",
       "    </tr>\n",
       "    <tr>\n",
       "      <th>3</th>\n",
       "      <td>CLASS-764</td>\n",
       "      <td>CLASS-764</td>\n",
       "    </tr>\n",
       "    <tr>\n",
       "      <th>4</th>\n",
       "      <td>CLASS-177</td>\n",
       "      <td>CLASS-177</td>\n",
       "    </tr>\n",
       "  </tbody>\n",
       "</table>\n",
       "</div>"
      ],
      "text/plain": [
       "      y_test     y_pred\n",
       "0  CLASS-368  CLASS-368\n",
       "1  CLASS-177  CLASS-177\n",
       "2   CLASS-75   CLASS-75\n",
       "3  CLASS-764  CLASS-764\n",
       "4  CLASS-177  CLASS-177"
      ]
     },
     "execution_count": 60,
     "metadata": {},
     "output_type": "execute_result"
    }
   ],
   "source": [
    "pred_test.head()"
   ]
  },
  {
   "cell_type": "markdown",
   "metadata": {},
   "source": [
    "Let's check the accuracy of our model"
   ]
  },
  {
   "cell_type": "code",
   "execution_count": 61,
   "metadata": {},
   "outputs": [],
   "source": [
    "pred_test['accuracy'] = pred_test['y_test']==pred_test['y_pred']"
   ]
  },
  {
   "cell_type": "code",
   "execution_count": 62,
   "metadata": {},
   "outputs": [
    {
     "data": {
      "text/plain": [
       "0.9993006993006993"
      ]
     },
     "execution_count": 62,
     "metadata": {},
     "output_type": "execute_result"
    }
   ],
   "source": [
    "pred_test['accuracy'].value_counts()[1]/pred_test['accuracy'].count()"
   ]
  },
  {
   "cell_type": "markdown",
   "metadata": {},
   "source": [
    "#### Making the Predictions on the Test Data given\n",
    "\n",
    "Importing the testing data"
   ]
  },
  {
   "cell_type": "code",
   "execution_count": 63,
   "metadata": {},
   "outputs": [],
   "source": [
    "test = pd.read_csv('Test.csv')"
   ]
  },
  {
   "cell_type": "code",
   "execution_count": 64,
   "metadata": {},
   "outputs": [
    {
     "data": {
      "text/html": [
       "<div>\n",
       "<style scoped>\n",
       "    .dataframe tbody tr th:only-of-type {\n",
       "        vertical-align: middle;\n",
       "    }\n",
       "\n",
       "    .dataframe tbody tr th {\n",
       "        vertical-align: top;\n",
       "    }\n",
       "\n",
       "    .dataframe thead th {\n",
       "        text-align: right;\n",
       "    }\n",
       "</style>\n",
       "<table border=\"1\" class=\"dataframe\">\n",
       "  <thead>\n",
       "    <tr style=\"text-align: right;\">\n",
       "      <th></th>\n",
       "      <th>Inv_Id</th>\n",
       "      <th>Vendor_Code</th>\n",
       "      <th>GL_Code</th>\n",
       "      <th>Inv_Amt</th>\n",
       "      <th>Item_Description</th>\n",
       "    </tr>\n",
       "  </thead>\n",
       "  <tbody>\n",
       "    <tr>\n",
       "      <th>0</th>\n",
       "      <td>6</td>\n",
       "      <td>VENDOR-1197</td>\n",
       "      <td>GL-6050100</td>\n",
       "      <td>10.916343</td>\n",
       "      <td>DESOTO INC - Jul-2008 - Store Management Real ...</td>\n",
       "    </tr>\n",
       "    <tr>\n",
       "      <th>1</th>\n",
       "      <td>12</td>\n",
       "      <td>VENDOR-792</td>\n",
       "      <td>GL-6050100</td>\n",
       "      <td>38.658772</td>\n",
       "      <td>CENTURY REALTY TRUST - Nov-2019 - Store Manage...</td>\n",
       "    </tr>\n",
       "    <tr>\n",
       "      <th>2</th>\n",
       "      <td>14</td>\n",
       "      <td>VENDOR-792</td>\n",
       "      <td>GL-6050100</td>\n",
       "      <td>46.780476</td>\n",
       "      <td>CENTURY REALTY TRUST - Jan-2006 - Store Manage...</td>\n",
       "    </tr>\n",
       "    <tr>\n",
       "      <th>3</th>\n",
       "      <td>18</td>\n",
       "      <td>VENDOR-792</td>\n",
       "      <td>GL-6050100</td>\n",
       "      <td>7.058866</td>\n",
       "      <td>CENTURY REALTY TRUST - Sep-2002 - Store Manage...</td>\n",
       "    </tr>\n",
       "    <tr>\n",
       "      <th>4</th>\n",
       "      <td>19</td>\n",
       "      <td>VENDOR-792</td>\n",
       "      <td>GL-6050100</td>\n",
       "      <td>32.931765</td>\n",
       "      <td>CENTURY REALTY TRUST - Nov-2018 - Store Manage...</td>\n",
       "    </tr>\n",
       "  </tbody>\n",
       "</table>\n",
       "</div>"
      ],
      "text/plain": [
       "   Inv_Id  Vendor_Code     GL_Code    Inv_Amt  \\\n",
       "0       6  VENDOR-1197  GL-6050100  10.916343   \n",
       "1      12   VENDOR-792  GL-6050100  38.658772   \n",
       "2      14   VENDOR-792  GL-6050100  46.780476   \n",
       "3      18   VENDOR-792  GL-6050100   7.058866   \n",
       "4      19   VENDOR-792  GL-6050100  32.931765   \n",
       "\n",
       "                                    Item_Description  \n",
       "0  DESOTO INC - Jul-2008 - Store Management Real ...  \n",
       "1  CENTURY REALTY TRUST - Nov-2019 - Store Manage...  \n",
       "2  CENTURY REALTY TRUST - Jan-2006 - Store Manage...  \n",
       "3  CENTURY REALTY TRUST - Sep-2002 - Store Manage...  \n",
       "4  CENTURY REALTY TRUST - Nov-2018 - Store Manage...  "
      ]
     },
     "execution_count": 64,
     "metadata": {},
     "output_type": "execute_result"
    }
   ],
   "source": [
    "test.head()"
   ]
  },
  {
   "cell_type": "markdown",
   "metadata": {},
   "source": [
    "Let's replicate all the data transformations that were done to the training data on the test data"
   ]
  },
  {
   "cell_type": "code",
   "execution_count": 65,
   "metadata": {},
   "outputs": [],
   "source": [
    "test[['split1','split2','split3','split4','split5']] = test['Item_Description'].str.split(' - ', expand=True)\n",
    "test = test.drop('Item_Description', axis=1)\n",
    "test ['desc'] = test['split3'].map(str) + test['split4'].map(str) + test['split5'].map(str)\n",
    "test['desc'] = test['desc'].str.replace('None', '')\n",
    "test2 = test.drop(['Inv_Id', 'Vendor_Code', 'GL_Code', 'split1', 'split2', 'split3', \n",
    "                   'split4', 'split5' ], axis=1)\n",
    "test_refined = pd.merge(test2, lu_df, how='left',left_on='desc', right_on='desc' )\n",
    "test_refined = test_refined.drop(['desc'], axis=1 )"
   ]
  },
  {
   "cell_type": "code",
   "execution_count": 66,
   "metadata": {},
   "outputs": [
    {
     "data": {
      "text/html": [
       "<div>\n",
       "<style scoped>\n",
       "    .dataframe tbody tr th:only-of-type {\n",
       "        vertical-align: middle;\n",
       "    }\n",
       "\n",
       "    .dataframe tbody tr th {\n",
       "        vertical-align: top;\n",
       "    }\n",
       "\n",
       "    .dataframe thead th {\n",
       "        text-align: right;\n",
       "    }\n",
       "</style>\n",
       "<table border=\"1\" class=\"dataframe\">\n",
       "  <thead>\n",
       "    <tr style=\"text-align: right;\">\n",
       "      <th></th>\n",
       "      <th>Inv_Amt</th>\n",
       "      <th>Var1</th>\n",
       "      <th>Var2</th>\n",
       "      <th>Var3</th>\n",
       "      <th>Var4</th>\n",
       "    </tr>\n",
       "  </thead>\n",
       "  <tbody>\n",
       "    <tr>\n",
       "      <th>0</th>\n",
       "      <td>10.916343</td>\n",
       "      <td>Store Management</td>\n",
       "      <td>Real Estate</td>\n",
       "      <td>Real Estate Services</td>\n",
       "      <td>Real Estate General</td>\n",
       "    </tr>\n",
       "    <tr>\n",
       "      <th>1</th>\n",
       "      <td>38.658772</td>\n",
       "      <td>Store Management</td>\n",
       "      <td>Real Estate</td>\n",
       "      <td>Real Estate Services</td>\n",
       "      <td>Real Estate General</td>\n",
       "    </tr>\n",
       "    <tr>\n",
       "      <th>2</th>\n",
       "      <td>46.780476</td>\n",
       "      <td>Store Management</td>\n",
       "      <td>Real Estate</td>\n",
       "      <td>Real Estate Services</td>\n",
       "      <td>Real Estate General</td>\n",
       "    </tr>\n",
       "    <tr>\n",
       "      <th>3</th>\n",
       "      <td>7.058866</td>\n",
       "      <td>Store Management</td>\n",
       "      <td>Real Estate</td>\n",
       "      <td>Real Estate Services</td>\n",
       "      <td>Real Estate General</td>\n",
       "    </tr>\n",
       "    <tr>\n",
       "      <th>4</th>\n",
       "      <td>32.931765</td>\n",
       "      <td>Store Management</td>\n",
       "      <td>Real Estate</td>\n",
       "      <td>Real Estate Services</td>\n",
       "      <td>Real Estate General</td>\n",
       "    </tr>\n",
       "  </tbody>\n",
       "</table>\n",
       "</div>"
      ],
      "text/plain": [
       "     Inv_Amt              Var1         Var2                  Var3  \\\n",
       "0  10.916343  Store Management  Real Estate  Real Estate Services   \n",
       "1  38.658772  Store Management  Real Estate  Real Estate Services   \n",
       "2  46.780476  Store Management  Real Estate  Real Estate Services   \n",
       "3   7.058866  Store Management  Real Estate  Real Estate Services   \n",
       "4  32.931765  Store Management  Real Estate  Real Estate Services   \n",
       "\n",
       "                  Var4  \n",
       "0  Real Estate General  \n",
       "1  Real Estate General  \n",
       "2  Real Estate General  \n",
       "3  Real Estate General  \n",
       "4  Real Estate General  "
      ]
     },
     "execution_count": 66,
     "metadata": {},
     "output_type": "execute_result"
    }
   ],
   "source": [
    "test_refined.head()"
   ]
  },
  {
   "cell_type": "code",
   "execution_count": 67,
   "metadata": {},
   "outputs": [
    {
     "data": {
      "text/plain": [
       "(2292, 5)"
      ]
     },
     "execution_count": 67,
     "metadata": {},
     "output_type": "execute_result"
    }
   ],
   "source": [
    "test_refined.shape"
   ]
  },
  {
   "cell_type": "markdown",
   "metadata": {},
   "source": [
    "Encoding the categorical variables"
   ]
  },
  {
   "cell_type": "code",
   "execution_count": 68,
   "metadata": {},
   "outputs": [],
   "source": [
    "var1_levels_test = pd.get_dummies(test_refined['Var1'])"
   ]
  },
  {
   "cell_type": "code",
   "execution_count": 69,
   "metadata": {},
   "outputs": [
    {
     "data": {
      "text/plain": [
       "Index(['Corporate Services', 'Digital Paid Media', 'Events and Promotions',\n",
       "       'Facility Construction', 'Facility Management',\n",
       "       'Information Technology', 'National Advertising', 'Non-Procurable',\n",
       "       'Printed', 'Production', 'Production Agency', 'Store Construction',\n",
       "       'Store Management', 'Supply Chain Logistics',\n",
       "       'Travel and Entertainment'],\n",
       "      dtype='object')"
      ]
     },
     "execution_count": 69,
     "metadata": {},
     "output_type": "execute_result"
    }
   ],
   "source": [
    "var1_levels_test.columns"
   ]
  },
  {
   "cell_type": "code",
   "execution_count": 70,
   "metadata": {},
   "outputs": [],
   "source": [
    "var1_levels_test.columns = ['var1_CorporateServices', 'var1_DigitalPaidMedia', 'var1_EventsandPromotions',\n",
    "                            'var1_FacilityConstruction', \n",
    "                       'var1_FacilityManagement', 'var1_InformationTechnology', 'var1_NationalAdvertising', 'var1_Non-Procurable',\n",
    "                       'var1_Printed', 'var1_Production', 'var1_ProductionAgency', 'var1_StoreConstruction', \n",
    "                       'var1_StoreManagement', 'var1-SupplyChainLogistics', 'var1_TravelandEntertainment']"
   ]
  },
  {
   "cell_type": "code",
   "execution_count": 71,
   "metadata": {},
   "outputs": [],
   "source": [
    "var2_levels_test = pd.get_dummies(test_refined['Var2'])"
   ]
  },
  {
   "cell_type": "code",
   "execution_count": 72,
   "metadata": {},
   "outputs": [
    {
     "data": {
      "text/plain": [
       "Index(['Agency', 'Artworking/Typesetting', 'Charity Organizations',\n",
       "       'Collateral', 'Commercial Insurance', 'Consulting', 'Digital/Social',\n",
       "       'Fees & Commissions', 'Fixtures', 'General Contractor',\n",
       "       'Ground Transportation', 'Human Resources', 'Managed Services',\n",
       "       'Media Buy', 'Miscellaneous', 'Other Corporate Services', 'Real Estate',\n",
       "       'Taxes', 'Trade Show', 'Transportation Services'],\n",
       "      dtype='object')"
      ]
     },
     "execution_count": 72,
     "metadata": {},
     "output_type": "execute_result"
    }
   ],
   "source": [
    "var2_levels_test.columns"
   ]
  },
  {
   "cell_type": "code",
   "execution_count": 73,
   "metadata": {},
   "outputs": [],
   "source": [
    "var2_levels_test.columns = ['var2_Agency', 'var2_Artworking/Typesetting', 'var2_CharityOrganizations','var2_Collateral',\n",
    "                       'var2_CommercialInsurance', 'var2_Consulting', 'var2_Digital/Social', 'var2_Fees&Commissions',\n",
    "                       'var2_Fixtures', 'var2_GeneralContractor', 'var2_GroundTransportation', 'var2_HumanResources',\n",
    "                       'var2_ManagedServices', 'var2_MediaBuy','var2_Miscellaneous', 'var2_OtherCorporateServices', \n",
    "                       'var2_RealEstate', 'var2_Taxes', 'var2_TradeShow', 'var2_TransportationServices']"
   ]
  },
  {
   "cell_type": "code",
   "execution_count": 74,
   "metadata": {},
   "outputs": [],
   "source": [
    "var3_levels_test = pd.get_dummies(test_refined['Var3'])"
   ]
  },
  {
   "cell_type": "code",
   "execution_count": 75,
   "metadata": {},
   "outputs": [
    {
     "data": {
      "text/plain": [
       "Index(['Auto Leasing and Maintenance', 'Benefits',\n",
       "       'Building and Property Insurance', 'Charity Organizations',\n",
       "       'Contingent Labor/Temp Labor', 'Digital', 'Direct Mail', 'Expenses',\n",
       "       'Fees & Commissions', 'Finance Consulting',\n",
       "       'Freight Forwarders Services', 'General Requirements',\n",
       "       'IT Managed Services', 'Lease/Rent', 'Miscellaneous Company Car',\n",
       "       'Miscellaneous Printed Materials', 'Non-Procurable Royalties', 'Other',\n",
       "       'Parcel/Postage/Courier', 'Prototype and Comp', 'Real Estate Services',\n",
       "       'Social', 'Store Fixtures', 'Taxes', 'Traditional',\n",
       "       'Workmen's Insurance'],\n",
       "      dtype='object')"
      ]
     },
     "execution_count": 75,
     "metadata": {},
     "output_type": "execute_result"
    }
   ],
   "source": [
    "var3_levels_test.columns"
   ]
  },
  {
   "cell_type": "code",
   "execution_count": 76,
   "metadata": {},
   "outputs": [],
   "source": [
    "var3_levels_test.columns = ['var3_AutoLeasingandMaintenance', 'var3_Benefits', 'var3_BuildingandPropertyInsurance',\n",
    "                       'var3_CharityOrganizations', \n",
    "                       'var3_ContingentLabor/TempLabor', 'var3_Digital', 'var3_DirectMail', 'var3_Expenses', \n",
    "                       'var3_Fees&Commissions', 'var3_FinanceConsulting', 'var3_FreightForwardersServices', \n",
    "                       'var3_GeneralRequirements', 'var3_ITManagedServices', 'var3_Lease/Rent',  \n",
    "                       'var3_MiscellaneousCompanyCar', 'var3_MiscellaneousPrintedMaterials', 'var3_Non-ProcurableRoyalties',\n",
    "                       'var3_Other', \n",
    "                       'var3_Parcel/Postage/Courier', 'var3_PrototypeandComp', 'var3_RealEstateServices', 'var3_Social',\n",
    "                       'var3_StoreFixtures','var3_Taxes','var3_Traditional',\n",
    "                       \"var3_Workmen'sInsurance\"]"
   ]
  },
  {
   "cell_type": "code",
   "execution_count": 77,
   "metadata": {},
   "outputs": [],
   "source": [
    "var4_levels_test = pd.get_dummies(test_refined['Var4'])"
   ]
  },
  {
   "cell_type": "code",
   "execution_count": 78,
   "metadata": {},
   "outputs": [
    {
     "data": {
      "text/plain": [
       "Index(['Agency', 'Audit & Risk Consulting',\n",
       "       'Auto Fleet Repair and Maintenance', 'Auto Leasing', 'Base Rent',\n",
       "       'Building and Property Insurance', 'Catalogue', 'Charity Organizations',\n",
       "       'Contingent Labor/Temp Labor', 'Display', 'Final Site Clean Up',\n",
       "       'IT Managed Services', 'Life and Health and Accident Insurance',\n",
       "       'Magazines', 'Miscellaneous Company Car',\n",
       "       'Miscellaneous Printed Materials', 'Newspaper', 'Other',\n",
       "       'Outdoor/Out of Home', 'Paid Social Content Production with Influencer',\n",
       "       'Post Card/Mailer', 'Production/Packaging Design',\n",
       "       'Promotional Gift for Trade Show', 'Public Relations Agency',\n",
       "       'Real Estate General', 'Retirement and Pension Funds', 'Royalties',\n",
       "       'Search Agency', 'Store Fixtures',\n",
       "       'Talent, Artists & Models for Trade Show', 'Taxes', 'Television',\n",
       "       'Workmen's Insurance'],\n",
       "      dtype='object')"
      ]
     },
     "execution_count": 78,
     "metadata": {},
     "output_type": "execute_result"
    }
   ],
   "source": [
    "var4_levels_test.columns"
   ]
  },
  {
   "cell_type": "code",
   "execution_count": 79,
   "metadata": {},
   "outputs": [],
   "source": [
    "var4_levels_test.columns = ['var4_Agency', 'var4_Audit&RiskConsulting', 'var4_AutoFleetRepairandMaintenance', 'var4_AutoLeasing',\n",
    "                       'var4_BaseRent', 'var4_BuildingandPropertyInsurance', 'var4_Catalogue', 'var4_CharityOrganizations',\n",
    "                       'var4_ContingentLabor/TempLabor', \n",
    "                       'var4_Display', 'var4_FinalSiteCleanUp', 'var4_ITManagedServices', \n",
    "                       'var4_LifeandHealthandAccidentInsurance', 'var4_Magazines','var4_MiscellaneousCompanyCar', \n",
    "                       'var4_MiscellaneousPrintedMaterials', 'var4_Newspaper','var4_Other', 'var4_Outdoor/OutofHome',\n",
    "                       'var4_PaidSocialContentProductionwithInfluencer','var4_PostCard/Mailer', \n",
    "                       'var4_Production/PackagingDesign', 'var4_PromotionalGiftforTradeShow', 'var4_PublicRelationsAgency', \n",
    "                       'var4_RealEstateGeneral', 'var4_RetirementandPensionFunds', 'var4_Royalties', \n",
    "                       'var4_SearchAgency', 'var4_StoreFixtures',\n",
    "                       'var4_Talent,Artists&ModelsforTradeShow', 'var4_Taxes','var4_Television',\"var4_Workmen'sInsurance\"]"
   ]
  },
  {
   "cell_type": "code",
   "execution_count": 80,
   "metadata": {},
   "outputs": [],
   "source": [
    "test_refined2 = pd.concat([test_refined, var1_levels_test, var2_levels_test, var3_levels_test, var4_levels_test], axis=1)"
   ]
  },
  {
   "cell_type": "code",
   "execution_count": 81,
   "metadata": {},
   "outputs": [],
   "source": [
    "# Drop the original columns\n",
    "test_refined2 = test_refined2.drop(['Var1', 'Var2', 'Var3', 'Var4'], axis=1)"
   ]
  },
  {
   "cell_type": "code",
   "execution_count": 82,
   "metadata": {},
   "outputs": [],
   "source": [
    "X_pred = test_refined2[train_refined2.columns[train_refined2.columns!='Product_Category']]"
   ]
  },
  {
   "cell_type": "code",
   "execution_count": 83,
   "metadata": {
    "scrolled": true
   },
   "outputs": [
    {
     "data": {
      "text/html": [
       "<div>\n",
       "<style scoped>\n",
       "    .dataframe tbody tr th:only-of-type {\n",
       "        vertical-align: middle;\n",
       "    }\n",
       "\n",
       "    .dataframe tbody tr th {\n",
       "        vertical-align: top;\n",
       "    }\n",
       "\n",
       "    .dataframe thead th {\n",
       "        text-align: right;\n",
       "    }\n",
       "</style>\n",
       "<table border=\"1\" class=\"dataframe\">\n",
       "  <thead>\n",
       "    <tr style=\"text-align: right;\">\n",
       "      <th></th>\n",
       "      <th>Inv_Amt</th>\n",
       "      <th>var1_CorporateServices</th>\n",
       "      <th>var1_DigitalPaidMedia</th>\n",
       "      <th>var1_EventsandPromotions</th>\n",
       "      <th>var1_FacilityConstruction</th>\n",
       "      <th>var1_FacilityManagement</th>\n",
       "      <th>var1_InformationTechnology</th>\n",
       "      <th>var1_NationalAdvertising</th>\n",
       "      <th>var1_Non-Procurable</th>\n",
       "      <th>var1_Printed</th>\n",
       "      <th>...</th>\n",
       "      <th>var4_PublicRelationsAgency</th>\n",
       "      <th>var4_RealEstateGeneral</th>\n",
       "      <th>var4_RetirementandPensionFunds</th>\n",
       "      <th>var4_Royalties</th>\n",
       "      <th>var4_SearchAgency</th>\n",
       "      <th>var4_StoreFixtures</th>\n",
       "      <th>var4_Talent,Artists&amp;ModelsforTradeShow</th>\n",
       "      <th>var4_Taxes</th>\n",
       "      <th>var4_Television</th>\n",
       "      <th>var4_Workmen'sInsurance</th>\n",
       "    </tr>\n",
       "  </thead>\n",
       "  <tbody>\n",
       "    <tr>\n",
       "      <th>0</th>\n",
       "      <td>10.916343</td>\n",
       "      <td>0</td>\n",
       "      <td>0</td>\n",
       "      <td>0</td>\n",
       "      <td>0</td>\n",
       "      <td>0</td>\n",
       "      <td>0</td>\n",
       "      <td>0</td>\n",
       "      <td>0</td>\n",
       "      <td>0</td>\n",
       "      <td>...</td>\n",
       "      <td>0</td>\n",
       "      <td>1</td>\n",
       "      <td>0</td>\n",
       "      <td>0</td>\n",
       "      <td>0</td>\n",
       "      <td>0</td>\n",
       "      <td>0</td>\n",
       "      <td>0</td>\n",
       "      <td>0</td>\n",
       "      <td>0</td>\n",
       "    </tr>\n",
       "    <tr>\n",
       "      <th>1</th>\n",
       "      <td>38.658772</td>\n",
       "      <td>0</td>\n",
       "      <td>0</td>\n",
       "      <td>0</td>\n",
       "      <td>0</td>\n",
       "      <td>0</td>\n",
       "      <td>0</td>\n",
       "      <td>0</td>\n",
       "      <td>0</td>\n",
       "      <td>0</td>\n",
       "      <td>...</td>\n",
       "      <td>0</td>\n",
       "      <td>1</td>\n",
       "      <td>0</td>\n",
       "      <td>0</td>\n",
       "      <td>0</td>\n",
       "      <td>0</td>\n",
       "      <td>0</td>\n",
       "      <td>0</td>\n",
       "      <td>0</td>\n",
       "      <td>0</td>\n",
       "    </tr>\n",
       "    <tr>\n",
       "      <th>2</th>\n",
       "      <td>46.780476</td>\n",
       "      <td>0</td>\n",
       "      <td>0</td>\n",
       "      <td>0</td>\n",
       "      <td>0</td>\n",
       "      <td>0</td>\n",
       "      <td>0</td>\n",
       "      <td>0</td>\n",
       "      <td>0</td>\n",
       "      <td>0</td>\n",
       "      <td>...</td>\n",
       "      <td>0</td>\n",
       "      <td>1</td>\n",
       "      <td>0</td>\n",
       "      <td>0</td>\n",
       "      <td>0</td>\n",
       "      <td>0</td>\n",
       "      <td>0</td>\n",
       "      <td>0</td>\n",
       "      <td>0</td>\n",
       "      <td>0</td>\n",
       "    </tr>\n",
       "    <tr>\n",
       "      <th>3</th>\n",
       "      <td>7.058866</td>\n",
       "      <td>0</td>\n",
       "      <td>0</td>\n",
       "      <td>0</td>\n",
       "      <td>0</td>\n",
       "      <td>0</td>\n",
       "      <td>0</td>\n",
       "      <td>0</td>\n",
       "      <td>0</td>\n",
       "      <td>0</td>\n",
       "      <td>...</td>\n",
       "      <td>0</td>\n",
       "      <td>1</td>\n",
       "      <td>0</td>\n",
       "      <td>0</td>\n",
       "      <td>0</td>\n",
       "      <td>0</td>\n",
       "      <td>0</td>\n",
       "      <td>0</td>\n",
       "      <td>0</td>\n",
       "      <td>0</td>\n",
       "    </tr>\n",
       "    <tr>\n",
       "      <th>4</th>\n",
       "      <td>32.931765</td>\n",
       "      <td>0</td>\n",
       "      <td>0</td>\n",
       "      <td>0</td>\n",
       "      <td>0</td>\n",
       "      <td>0</td>\n",
       "      <td>0</td>\n",
       "      <td>0</td>\n",
       "      <td>0</td>\n",
       "      <td>0</td>\n",
       "      <td>...</td>\n",
       "      <td>0</td>\n",
       "      <td>1</td>\n",
       "      <td>0</td>\n",
       "      <td>0</td>\n",
       "      <td>0</td>\n",
       "      <td>0</td>\n",
       "      <td>0</td>\n",
       "      <td>0</td>\n",
       "      <td>0</td>\n",
       "      <td>0</td>\n",
       "    </tr>\n",
       "  </tbody>\n",
       "</table>\n",
       "<p>5 rows × 95 columns</p>\n",
       "</div>"
      ],
      "text/plain": [
       "     Inv_Amt  var1_CorporateServices  var1_DigitalPaidMedia  \\\n",
       "0  10.916343                       0                      0   \n",
       "1  38.658772                       0                      0   \n",
       "2  46.780476                       0                      0   \n",
       "3   7.058866                       0                      0   \n",
       "4  32.931765                       0                      0   \n",
       "\n",
       "   var1_EventsandPromotions  var1_FacilityConstruction  \\\n",
       "0                         0                          0   \n",
       "1                         0                          0   \n",
       "2                         0                          0   \n",
       "3                         0                          0   \n",
       "4                         0                          0   \n",
       "\n",
       "   var1_FacilityManagement  var1_InformationTechnology  \\\n",
       "0                        0                           0   \n",
       "1                        0                           0   \n",
       "2                        0                           0   \n",
       "3                        0                           0   \n",
       "4                        0                           0   \n",
       "\n",
       "   var1_NationalAdvertising  var1_Non-Procurable  var1_Printed  \\\n",
       "0                         0                    0             0   \n",
       "1                         0                    0             0   \n",
       "2                         0                    0             0   \n",
       "3                         0                    0             0   \n",
       "4                         0                    0             0   \n",
       "\n",
       "            ...             var4_PublicRelationsAgency  \\\n",
       "0           ...                                      0   \n",
       "1           ...                                      0   \n",
       "2           ...                                      0   \n",
       "3           ...                                      0   \n",
       "4           ...                                      0   \n",
       "\n",
       "   var4_RealEstateGeneral  var4_RetirementandPensionFunds  var4_Royalties  \\\n",
       "0                       1                               0               0   \n",
       "1                       1                               0               0   \n",
       "2                       1                               0               0   \n",
       "3                       1                               0               0   \n",
       "4                       1                               0               0   \n",
       "\n",
       "   var4_SearchAgency  var4_StoreFixtures  \\\n",
       "0                  0                   0   \n",
       "1                  0                   0   \n",
       "2                  0                   0   \n",
       "3                  0                   0   \n",
       "4                  0                   0   \n",
       "\n",
       "   var4_Talent,Artists&ModelsforTradeShow  var4_Taxes  var4_Television  \\\n",
       "0                                       0           0                0   \n",
       "1                                       0           0                0   \n",
       "2                                       0           0                0   \n",
       "3                                       0           0                0   \n",
       "4                                       0           0                0   \n",
       "\n",
       "   var4_Workmen'sInsurance  \n",
       "0                        0  \n",
       "1                        0  \n",
       "2                        0  \n",
       "3                        0  \n",
       "4                        0  \n",
       "\n",
       "[5 rows x 95 columns]"
      ]
     },
     "execution_count": 83,
     "metadata": {},
     "output_type": "execute_result"
    }
   ],
   "source": [
    "X_pred.head()"
   ]
  },
  {
   "cell_type": "markdown",
   "metadata": {},
   "source": [
    "Now that we have the testing data in the same format as what our training data was, let's go ahead and run the model created on the test data"
   ]
  },
  {
   "cell_type": "code",
   "execution_count": 84,
   "metadata": {},
   "outputs": [],
   "source": [
    "# Predicting the Test set results\n",
    "y_pred = classifier.predict(X_pred)"
   ]
  },
  {
   "cell_type": "code",
   "execution_count": 85,
   "metadata": {},
   "outputs": [
    {
     "data": {
      "text/plain": [
       "array([ 0,  0,  0, ..., 37, 37, 37], dtype=int64)"
      ]
     },
     "execution_count": 85,
     "metadata": {},
     "output_type": "execute_result"
    }
   ],
   "source": [
    "y_pred"
   ]
  },
  {
   "cell_type": "code",
   "execution_count": 86,
   "metadata": {},
   "outputs": [],
   "source": [
    "y_pred = np.vectorize(reversefactor.get)(y_pred)"
   ]
  },
  {
   "cell_type": "markdown",
   "metadata": {},
   "source": [
    "Producing the final output submission file in the required format"
   ]
  },
  {
   "cell_type": "code",
   "execution_count": 87,
   "metadata": {},
   "outputs": [],
   "source": [
    "final_output = pd.concat([test[['Inv_Id']], pd.DataFrame(y_pred)], axis=1)"
   ]
  },
  {
   "cell_type": "code",
   "execution_count": 88,
   "metadata": {},
   "outputs": [],
   "source": [
    "final_output.columns = ['Inv_Id', 'Product_Category']"
   ]
  },
  {
   "cell_type": "code",
   "execution_count": 89,
   "metadata": {},
   "outputs": [],
   "source": [
    "final_output.to_csv('final_prediction.csv', index=False)"
   ]
  },
  {
   "cell_type": "code",
   "execution_count": null,
   "metadata": {},
   "outputs": [],
   "source": []
  }
 ],
 "metadata": {
  "kernelspec": {
   "display_name": "Python 3",
   "language": "python",
   "name": "python3"
  },
  "language_info": {
   "codemirror_mode": {
    "name": "ipython",
    "version": 3
   },
   "file_extension": ".py",
   "mimetype": "text/x-python",
   "name": "python",
   "nbconvert_exporter": "python",
   "pygments_lexer": "ipython3",
   "version": "3.6.5"
  }
 },
 "nbformat": 4,
 "nbformat_minor": 2
}
