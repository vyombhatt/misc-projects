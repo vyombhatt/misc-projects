{
 "cells": [
  {
   "cell_type": "markdown",
   "metadata": {},
   "source": [
    "### Case Study Problem Statement"
   ]
  },
  {
   "cell_type": "markdown",
   "metadata": {},
   "source": [
    "**Objective**: Evaluate effectiveness of the Friendship Sale Promotion which ran online in March-2020 (21-23 March)\n",
    "\n",
    "Datasets provided:\n",
    "1.\tMaster Orders dataset: Item level orders dataset from 2018 to June 2020. \n",
    "    \n",
    "    a.\tKey Fields: \n",
    "            i. Ord_num uniquely identifies an order\n",
    "            ii. dmd_dol represents Sales on order. \n",
    "            iii. Ord_lin_status of R,X indicates return and Cancellation respectively\n",
    "            iv. Emp_Ind=1 identifies Employees\n",
    "            v. International_order_ind indicates Internationally Shipped orders\n",
    "\n",
    "2.\tMaster Promo dataset: Contains order level promo codes used/redeemed. “PC_ECOM_CD_5” is the promo code to help identify Friendship Sale (in all past years as well). Note that in a single order, multiple promo codes could be stacked together.\n",
    "    \n",
    "    a.\tKey Fields: Order_Num\n",
    "\n",
    "Please adequately comment your Python script for each of the key parts: Data Prep, EDA, Model Building (including iterations), model performance & prepare slides with findings from the model, including computations around Baseline and Incremental Sales.\n",
    "Feel free to take any assumptions as relevant within the scope of the analysis"
   ]
  },
  {
   "cell_type": "markdown",
   "metadata": {},
   "source": [
    "### Loading the necessary packages"
   ]
  },
  {
   "cell_type": "code",
   "execution_count": 1,
   "metadata": {},
   "outputs": [],
   "source": [
    "# Supress Warnings\n",
    "\n",
    "import warnings\n",
    "warnings.filterwarnings('ignore')"
   ]
  },
  {
   "cell_type": "code",
   "execution_count": 2,
   "metadata": {},
   "outputs": [],
   "source": [
    "#import all the necessary libraries\n",
    "\n",
    "import pandas as pd\n",
    "import numpy as np\n",
    "import pandas as pd\n",
    "\n",
    "# For Visualisation\n",
    "import matplotlib.pyplot as plt\n",
    "import seaborn as sns\n",
    "%matplotlib inline\n",
    "\n",
    "# For handling timestamp columns\n",
    "import datetime\n",
    "from datetime import date as dt\n",
    "from datetime import time\n",
    "from datetime import timedelta"
   ]
  },
  {
   "cell_type": "markdown",
   "metadata": {},
   "source": [
    "### Reading and Understanding the datasets"
   ]
  },
  {
   "cell_type": "code",
   "execution_count": 3,
   "metadata": {},
   "outputs": [
    {
     "data": {
      "text/html": [
       "<div>\n",
       "<style scoped>\n",
       "    .dataframe tbody tr th:only-of-type {\n",
       "        vertical-align: middle;\n",
       "    }\n",
       "\n",
       "    .dataframe tbody tr th {\n",
       "        vertical-align: top;\n",
       "    }\n",
       "\n",
       "    .dataframe thead th {\n",
       "        text-align: right;\n",
       "    }\n",
       "</style>\n",
       "<table border=\"1\" class=\"dataframe\">\n",
       "  <thead>\n",
       "    <tr style=\"text-align: right;\">\n",
       "      <th></th>\n",
       "      <th>ord_num</th>\n",
       "      <th>ord_lin_no</th>\n",
       "      <th>ord_dt</th>\n",
       "      <th>ord_line_status</th>\n",
       "      <th>ord_hdr_status</th>\n",
       "      <th>ord_type</th>\n",
       "      <th>cncl_dol</th>\n",
       "      <th>rtn_dol</th>\n",
       "      <th>cncl_dt</th>\n",
       "      <th>dmd_dol</th>\n",
       "      <th>...</th>\n",
       "      <th>skn_nbr</th>\n",
       "      <th>Subcat_ID</th>\n",
       "      <th>Cat_ID</th>\n",
       "      <th>Dept_id</th>\n",
       "      <th>RTN_UNITS</th>\n",
       "      <th>cncl_units</th>\n",
       "      <th>international_order_ind</th>\n",
       "      <th>City_shipped</th>\n",
       "      <th>State_Shipped</th>\n",
       "      <th>Cntry_Shipped</th>\n",
       "    </tr>\n",
       "  </thead>\n",
       "  <tbody>\n",
       "    <tr>\n",
       "      <th>0</th>\n",
       "      <td>7513817.0</td>\n",
       "      <td>19147551.0</td>\n",
       "      <td>2019-04-11 17:22:19</td>\n",
       "      <td>D</td>\n",
       "      <td>S</td>\n",
       "      <td>WEB</td>\n",
       "      <td>0.0</td>\n",
       "      <td>0.0</td>\n",
       "      <td>NaN</td>\n",
       "      <td>489.58</td>\n",
       "      <td>...</td>\n",
       "      <td>9558428.0</td>\n",
       "      <td>969.0</td>\n",
       "      <td>76.0</td>\n",
       "      <td>4.0</td>\n",
       "      <td>0.0</td>\n",
       "      <td>0.0</td>\n",
       "      <td>F</td>\n",
       "      <td>PORTLAND</td>\n",
       "      <td>OR</td>\n",
       "      <td>US</td>\n",
       "    </tr>\n",
       "    <tr>\n",
       "      <th>1</th>\n",
       "      <td>9009772.0</td>\n",
       "      <td>22402482.0</td>\n",
       "      <td>2019-12-01 14:42:08</td>\n",
       "      <td>D</td>\n",
       "      <td>S</td>\n",
       "      <td>MOB</td>\n",
       "      <td>0.0</td>\n",
       "      <td>0.0</td>\n",
       "      <td>NaN</td>\n",
       "      <td>559.86</td>\n",
       "      <td>...</td>\n",
       "      <td>1121512.0</td>\n",
       "      <td>903.0</td>\n",
       "      <td>47.0</td>\n",
       "      <td>4.0</td>\n",
       "      <td>0.0</td>\n",
       "      <td>0.0</td>\n",
       "      <td>F</td>\n",
       "      <td>Boise</td>\n",
       "      <td>ID</td>\n",
       "      <td>US</td>\n",
       "    </tr>\n",
       "    <tr>\n",
       "      <th>2</th>\n",
       "      <td>8992959.0</td>\n",
       "      <td>22362690.0</td>\n",
       "      <td>2019-11-30 11:50:02</td>\n",
       "      <td>D</td>\n",
       "      <td>S</td>\n",
       "      <td>MOB</td>\n",
       "      <td>0.0</td>\n",
       "      <td>0.0</td>\n",
       "      <td>NaN</td>\n",
       "      <td>769.86</td>\n",
       "      <td>...</td>\n",
       "      <td>986561.0</td>\n",
       "      <td>971.0</td>\n",
       "      <td>46.0</td>\n",
       "      <td>4.0</td>\n",
       "      <td>0.0</td>\n",
       "      <td>0.0</td>\n",
       "      <td>F</td>\n",
       "      <td>Parlin</td>\n",
       "      <td>NJ</td>\n",
       "      <td>US</td>\n",
       "    </tr>\n",
       "    <tr>\n",
       "      <th>3</th>\n",
       "      <td>7090647.0</td>\n",
       "      <td>18252383.0</td>\n",
       "      <td>2019-01-25 21:58:08</td>\n",
       "      <td>D</td>\n",
       "      <td>S</td>\n",
       "      <td>WEB</td>\n",
       "      <td>0.0</td>\n",
       "      <td>0.0</td>\n",
       "      <td>NaN</td>\n",
       "      <td>279.86</td>\n",
       "      <td>...</td>\n",
       "      <td>960251.0</td>\n",
       "      <td>978.0</td>\n",
       "      <td>44.0</td>\n",
       "      <td>4.0</td>\n",
       "      <td>0.0</td>\n",
       "      <td>0.0</td>\n",
       "      <td>F</td>\n",
       "      <td>JERSEY CITY</td>\n",
       "      <td>NJ</td>\n",
       "      <td>US</td>\n",
       "    </tr>\n",
       "    <tr>\n",
       "      <th>4</th>\n",
       "      <td>7343394.0</td>\n",
       "      <td>18785581.0</td>\n",
       "      <td>2019-03-12 17:17:18</td>\n",
       "      <td>D</td>\n",
       "      <td>S</td>\n",
       "      <td>WEB</td>\n",
       "      <td>0.0</td>\n",
       "      <td>0.0</td>\n",
       "      <td>NaN</td>\n",
       "      <td>2519.86</td>\n",
       "      <td>...</td>\n",
       "      <td>9690716.0</td>\n",
       "      <td>947.0</td>\n",
       "      <td>47.0</td>\n",
       "      <td>4.0</td>\n",
       "      <td>0.0</td>\n",
       "      <td>0.0</td>\n",
       "      <td>F</td>\n",
       "      <td>Moses Lake</td>\n",
       "      <td>WA</td>\n",
       "      <td>US</td>\n",
       "    </tr>\n",
       "  </tbody>\n",
       "</table>\n",
       "<p>5 rows × 26 columns</p>\n",
       "</div>"
      ],
      "text/plain": [
       "     ord_num  ord_lin_no               ord_dt ord_line_status ord_hdr_status  \\\n",
       "0  7513817.0  19147551.0  2019-04-11 17:22:19               D              S   \n",
       "1  9009772.0  22402482.0  2019-12-01 14:42:08               D              S   \n",
       "2  8992959.0  22362690.0  2019-11-30 11:50:02               D              S   \n",
       "3  7090647.0  18252383.0  2019-01-25 21:58:08               D              S   \n",
       "4  7343394.0  18785581.0  2019-03-12 17:17:18               D              S   \n",
       "\n",
       "  ord_type  cncl_dol  rtn_dol cncl_dt  dmd_dol  ...    skn_nbr  Subcat_ID  \\\n",
       "0      WEB       0.0      0.0     NaN   489.58  ...  9558428.0      969.0   \n",
       "1      MOB       0.0      0.0     NaN   559.86  ...  1121512.0      903.0   \n",
       "2      MOB       0.0      0.0     NaN   769.86  ...   986561.0      971.0   \n",
       "3      WEB       0.0      0.0     NaN   279.86  ...   960251.0      978.0   \n",
       "4      WEB       0.0      0.0     NaN  2519.86  ...  9690716.0      947.0   \n",
       "\n",
       "   Cat_ID  Dept_id RTN_UNITS cncl_units  international_order_ind  \\\n",
       "0    76.0      4.0       0.0        0.0                        F   \n",
       "1    47.0      4.0       0.0        0.0                        F   \n",
       "2    46.0      4.0       0.0        0.0                        F   \n",
       "3    44.0      4.0       0.0        0.0                        F   \n",
       "4    47.0      4.0       0.0        0.0                        F   \n",
       "\n",
       "   City_shipped  State_Shipped  Cntry_Shipped  \n",
       "0      PORTLAND             OR             US  \n",
       "1         Boise             ID             US  \n",
       "2        Parlin             NJ             US  \n",
       "3   JERSEY CITY             NJ             US  \n",
       "4    Moses Lake             WA             US  \n",
       "\n",
       "[5 rows x 26 columns]"
      ]
     },
     "execution_count": 3,
     "metadata": {},
     "output_type": "execute_result"
    }
   ],
   "source": [
    "# Reading the order-master table\n",
    "order_master = pd.read_csv(\"ORDER_MASTER.csv\")\n",
    "order_master.head()"
   ]
  },
  {
   "cell_type": "code",
   "execution_count": 4,
   "metadata": {},
   "outputs": [
    {
     "name": "stdout",
     "output_type": "stream",
     "text": [
      "(9962620, 26)\n",
      "            ord_num    ord_lin_no      cncl_dol       rtn_dol       dmd_dol  \\\n",
      "count  9.962620e+06  9.962620e+06  9.962596e+06  9.960168e+06  9.962597e+06   \n",
      "mean   9.670925e+06  1.938102e+07  6.576043e+00  2.289588e+01  1.336298e+03   \n",
      "std    1.310880e+07  4.243707e+06  5.811572e+01  8.395312e+01  1.943219e+03   \n",
      "min    5.147396e+06  1.000000e+00 -5.170100e+02  0.000000e+00 -7.238140e+03   \n",
      "25%    6.539306e+06  1.682705e+07  0.000000e+00  0.000000e+00  4.513600e+02   \n",
      "50%    7.855346e+06  1.966380e+07  0.000000e+00  0.000000e+00  8.398600e+02   \n",
      "75%    9.159293e+06  2.251817e+07  0.000000e+00  0.000000e+00  1.511860e+03   \n",
      "max    1.000607e+08  2.540096e+07  2.868000e+04  2.680000e+04  4.690000e+05   \n",
      "\n",
      "          dmd_units   Loyalty_Ind       Emp_Ind  Fship_Ind       skn_nbr  \\\n",
      "count  9.958141e+06  9.962620e+06  9.962620e+06  9962620.0  9.962620e+06   \n",
      "mean   1.050443e+01  1.039224e-01  8.738464e-03        0.0  5.763649e+06   \n",
      "std    4.451366e+00  3.051598e-01  9.307043e-02        0.0  4.298479e+06   \n",
      "min    1.000000e+01  0.000000e+00  0.000000e+00        0.0 -5.489400e+04   \n",
      "25%    1.000000e+01  0.000000e+00  0.000000e+00        0.0  1.089386e+06   \n",
      "50%    1.000000e+01  0.000000e+00  0.000000e+00        0.0  9.396646e+06   \n",
      "75%    1.000000e+01  0.000000e+00  0.000000e+00        0.0  9.783541e+06   \n",
      "max    9.900000e+02  1.000000e+00  1.000000e+00        0.0  9.944980e+06   \n",
      "\n",
      "          Subcat_ID        Cat_ID       Dept_id     RTN_UNITS    cncl_units  \n",
      "count  9.962619e+06  9.962619e+06  9.962619e+06  9.960168e+06  9.962596e+06  \n",
      "mean   9.223834e+02  4.944744e+01  4.001493e+00  1.872846e-01  5.596031e-02  \n",
      "std    4.549063e+01  8.336327e+00  8.637517e-02  4.096970e-01  2.763302e-01  \n",
      "min    8.180000e+02  4.400000e+01  4.000000e+00  0.000000e+00  0.000000e+00  \n",
      "25%    9.060000e+02  4.600000e+01  4.000000e+00  0.000000e+00  0.000000e+00  \n",
      "50%    9.280000e+02  4.700000e+01  4.000000e+00  0.000000e+00  0.000000e+00  \n",
      "75%    9.560000e+02  4.800000e+01  4.000000e+00  0.000000e+00  0.000000e+00  \n",
      "max    9.950000e+02  9.600000e+01  9.000000e+00  9.900000e+01  9.900000e+01  \n"
     ]
    }
   ],
   "source": [
    "# dataframe overview\n",
    "print(order_master.shape)\n",
    "print(order_master.describe())"
   ]
  },
  {
   "cell_type": "code",
   "execution_count": 5,
   "metadata": {},
   "outputs": [
    {
     "data": {
      "text/plain": [
       "ord_num                            7.51382e+06\n",
       "ord_lin_no                         1.91476e+07\n",
       "ord_dt                     2019-04-11 17:22:19\n",
       "ord_line_status                              D\n",
       "ord_hdr_status                               S\n",
       "ord_type                                   WEB\n",
       "cncl_dol                                     0\n",
       "rtn_dol                                      0\n",
       "cncl_dt                                    NaN\n",
       "dmd_dol                                 489.58\n",
       "dmd_units                                   10\n",
       "Loyalty_Ind                                  0\n",
       "Emp_Ind                                      0\n",
       "Fship_Ind                                    0\n",
       "Shp_Date                   2019-04-12 00:00:00\n",
       "rtn_dt                                     NaN\n",
       "skn_nbr                            9.55843e+06\n",
       "Subcat_ID                                  969\n",
       "Cat_ID                                      76\n",
       "Dept_id                                      4\n",
       "RTN_UNITS                                    0\n",
       "cncl_units                                   0\n",
       "international_order_ind                      F\n",
       "City_shipped                          PORTLAND\n",
       "State_Shipped                               OR\n",
       "Cntry_Shipped                               US\n",
       "Name: 0, dtype: object"
      ]
     },
     "execution_count": 5,
     "metadata": {},
     "output_type": "execute_result"
    }
   ],
   "source": [
    "# Observing the entries for a single row in the table\n",
    "order_master.iloc[0]"
   ]
  },
  {
   "cell_type": "code",
   "execution_count": 6,
   "metadata": {},
   "outputs": [
    {
     "data": {
      "text/html": [
       "<div>\n",
       "<style scoped>\n",
       "    .dataframe tbody tr th:only-of-type {\n",
       "        vertical-align: middle;\n",
       "    }\n",
       "\n",
       "    .dataframe tbody tr th {\n",
       "        vertical-align: top;\n",
       "    }\n",
       "\n",
       "    .dataframe thead th {\n",
       "        text-align: right;\n",
       "    }\n",
       "</style>\n",
       "<table border=\"1\" class=\"dataframe\">\n",
       "  <thead>\n",
       "    <tr style=\"text-align: right;\">\n",
       "      <th></th>\n",
       "      <th>ORDER_NUM</th>\n",
       "      <th>PROMO_CD_1</th>\n",
       "      <th>PROMO_CD_2</th>\n",
       "      <th>PROMO_CD_3</th>\n",
       "      <th>PROMO_CD_4</th>\n",
       "      <th>PROMO_CD_5</th>\n",
       "      <th>PROMO_CD_6</th>\n",
       "      <th>PROMO_CD_7</th>\n",
       "      <th>PROMO_CD_8</th>\n",
       "      <th>PROMO_CD_9</th>\n",
       "      <th>PROMO_CD_10</th>\n",
       "    </tr>\n",
       "  </thead>\n",
       "  <tbody>\n",
       "    <tr>\n",
       "      <th>0</th>\n",
       "      <td>7513817.0</td>\n",
       "      <td>PC_ECOM_CD_2</td>\n",
       "      <td>NONE</td>\n",
       "      <td>NONE</td>\n",
       "      <td>NONE</td>\n",
       "      <td>NONE</td>\n",
       "      <td>NONE</td>\n",
       "      <td>NONE</td>\n",
       "      <td>NONE</td>\n",
       "      <td>NONE</td>\n",
       "      <td>NONE</td>\n",
       "    </tr>\n",
       "    <tr>\n",
       "      <th>1</th>\n",
       "      <td>7658034.0</td>\n",
       "      <td>PC_ECOM_CD_2</td>\n",
       "      <td>NONE</td>\n",
       "      <td>NONE</td>\n",
       "      <td>NONE</td>\n",
       "      <td>NONE</td>\n",
       "      <td>NONE</td>\n",
       "      <td>NONE</td>\n",
       "      <td>NONE</td>\n",
       "      <td>NONE</td>\n",
       "      <td>NONE</td>\n",
       "    </tr>\n",
       "    <tr>\n",
       "      <th>2</th>\n",
       "      <td>8992959.0</td>\n",
       "      <td>PC_ECOM_CD_4</td>\n",
       "      <td>PC_ECOM_CD_1</td>\n",
       "      <td>NONE</td>\n",
       "      <td>NONE</td>\n",
       "      <td>NONE</td>\n",
       "      <td>NONE</td>\n",
       "      <td>NONE</td>\n",
       "      <td>NONE</td>\n",
       "      <td>NONE</td>\n",
       "      <td>NONE</td>\n",
       "    </tr>\n",
       "    <tr>\n",
       "      <th>3</th>\n",
       "      <td>9668876.0</td>\n",
       "      <td>NONE</td>\n",
       "      <td>NONE</td>\n",
       "      <td>NONE</td>\n",
       "      <td>NONE</td>\n",
       "      <td>NONE</td>\n",
       "      <td>NONE</td>\n",
       "      <td>NONE</td>\n",
       "      <td>NONE</td>\n",
       "      <td>NONE</td>\n",
       "      <td>NONE</td>\n",
       "    </tr>\n",
       "    <tr>\n",
       "      <th>4</th>\n",
       "      <td>7343394.0</td>\n",
       "      <td>NONE</td>\n",
       "      <td>PC_ECOM_CD_1</td>\n",
       "      <td>NONE</td>\n",
       "      <td>NONE</td>\n",
       "      <td>NONE</td>\n",
       "      <td>NONE</td>\n",
       "      <td>NONE</td>\n",
       "      <td>NONE</td>\n",
       "      <td>NONE</td>\n",
       "      <td>NONE</td>\n",
       "    </tr>\n",
       "  </tbody>\n",
       "</table>\n",
       "</div>"
      ],
      "text/plain": [
       "   ORDER_NUM    PROMO_CD_1    PROMO_CD_2 PROMO_CD_3 PROMO_CD_4 PROMO_CD_5  \\\n",
       "0  7513817.0  PC_ECOM_CD_2          NONE       NONE       NONE       NONE   \n",
       "1  7658034.0  PC_ECOM_CD_2          NONE       NONE       NONE       NONE   \n",
       "2  8992959.0  PC_ECOM_CD_4  PC_ECOM_CD_1       NONE       NONE       NONE   \n",
       "3  9668876.0          NONE          NONE       NONE       NONE       NONE   \n",
       "4  7343394.0          NONE  PC_ECOM_CD_1       NONE       NONE       NONE   \n",
       "\n",
       "  PROMO_CD_6 PROMO_CD_7 PROMO_CD_8 PROMO_CD_9 PROMO_CD_10  \n",
       "0       NONE       NONE       NONE       NONE        NONE  \n",
       "1       NONE       NONE       NONE       NONE        NONE  \n",
       "2       NONE       NONE       NONE       NONE        NONE  \n",
       "3       NONE       NONE       NONE       NONE        NONE  \n",
       "4       NONE       NONE       NONE       NONE        NONE  "
      ]
     },
     "execution_count": 6,
     "metadata": {},
     "output_type": "execute_result"
    }
   ],
   "source": [
    "# Reading the promo-master table\n",
    "promo_master = pd.read_csv(\"PROMO_MASTER.csv\")\n",
    "promo_master.head()"
   ]
  },
  {
   "cell_type": "code",
   "execution_count": 7,
   "metadata": {},
   "outputs": [
    {
     "name": "stdout",
     "output_type": "stream",
     "text": [
      "(2984946, 11)\n",
      "          ORDER_NUM\n",
      "count  2.984946e+06\n",
      "mean   8.459314e+06\n",
      "std    7.930416e+06\n",
      "min    5.092395e+06\n",
      "25%    6.561853e+06\n",
      "50%    7.865266e+06\n",
      "75%    9.091792e+06\n",
      "max    1.000057e+08\n"
     ]
    }
   ],
   "source": [
    "# dataframe overview\n",
    "print(promo_master.shape)\n",
    "print(promo_master.describe())"
   ]
  },
  {
   "cell_type": "code",
   "execution_count": 8,
   "metadata": {},
   "outputs": [
    {
     "data": {
      "text/plain": [
       "ORDER_NUM       7.65803e+06\n",
       "PROMO_CD_1     PC_ECOM_CD_2\n",
       "PROMO_CD_2             NONE\n",
       "PROMO_CD_3             NONE\n",
       "PROMO_CD_4             NONE\n",
       "PROMO_CD_5             NONE\n",
       "PROMO_CD_6             NONE\n",
       "PROMO_CD_7             NONE\n",
       "PROMO_CD_8             NONE\n",
       "PROMO_CD_9             NONE\n",
       "PROMO_CD_10            NONE\n",
       "Name: 1, dtype: object"
      ]
     },
     "execution_count": 8,
     "metadata": {},
     "output_type": "execute_result"
    }
   ],
   "source": [
    "promo_master.iloc[1]"
   ]
  },
  {
   "cell_type": "markdown",
   "metadata": {},
   "source": [
    "From observing the data, we see that the order_master table is the base table which is huge (has over ~10M rows). The promo_master table represents all the promos that have been added to the different orders"
   ]
  },
  {
   "cell_type": "markdown",
   "metadata": {},
   "source": [
    "### Data Cleaning"
   ]
  },
  {
   "cell_type": "markdown",
   "metadata": {},
   "source": [
    "Before proceeding with data preparation, we need to get a sense of the data and ensure that the primary key holds true i.e. we should have just one row representing each order_id"
   ]
  },
  {
   "cell_type": "code",
   "execution_count": 9,
   "metadata": {},
   "outputs": [
    {
     "name": "stdout",
     "output_type": "stream",
     "text": [
      "total rows in the data: 9962620\n",
      "distinct orders in the data: 4683027\n"
     ]
    }
   ],
   "source": [
    "# Checking if there exist and duplicates in order_id\n",
    "print(\"total rows in the data: \"+ str(len(order_master)))\n",
    "print(\"distinct orders in the data: \"+str(order_master['ord_num'].nunique()))"
   ]
  },
  {
   "cell_type": "markdown",
   "metadata": {},
   "source": [
    "We observe that there are almost half the number of unique orders compared to the total rows! This tells us that we are seeing repetitive values for some orders. Let's observe one such case"
   ]
  },
  {
   "cell_type": "code",
   "execution_count": 10,
   "metadata": {},
   "outputs": [
    {
     "data": {
      "text/html": [
       "<div>\n",
       "<style scoped>\n",
       "    .dataframe tbody tr th:only-of-type {\n",
       "        vertical-align: middle;\n",
       "    }\n",
       "\n",
       "    .dataframe tbody tr th {\n",
       "        vertical-align: top;\n",
       "    }\n",
       "\n",
       "    .dataframe thead th {\n",
       "        text-align: right;\n",
       "    }\n",
       "</style>\n",
       "<table border=\"1\" class=\"dataframe\">\n",
       "  <thead>\n",
       "    <tr style=\"text-align: right;\">\n",
       "      <th></th>\n",
       "      <th>ord_num</th>\n",
       "      <th>ord_lin_no</th>\n",
       "      <th>ord_dt</th>\n",
       "      <th>ord_line_status</th>\n",
       "      <th>ord_hdr_status</th>\n",
       "      <th>ord_type</th>\n",
       "      <th>cncl_dol</th>\n",
       "      <th>rtn_dol</th>\n",
       "      <th>cncl_dt</th>\n",
       "      <th>dmd_dol</th>\n",
       "      <th>...</th>\n",
       "      <th>skn_nbr</th>\n",
       "      <th>Subcat_ID</th>\n",
       "      <th>Cat_ID</th>\n",
       "      <th>Dept_id</th>\n",
       "      <th>RTN_UNITS</th>\n",
       "      <th>cncl_units</th>\n",
       "      <th>international_order_ind</th>\n",
       "      <th>City_shipped</th>\n",
       "      <th>State_Shipped</th>\n",
       "      <th>Cntry_Shipped</th>\n",
       "    </tr>\n",
       "  </thead>\n",
       "  <tbody>\n",
       "    <tr>\n",
       "      <th>6539132</th>\n",
       "      <td>5147444.0</td>\n",
       "      <td>14179115.0</td>\n",
       "      <td>2018-02-04 00:01:53</td>\n",
       "      <td>X</td>\n",
       "      <td>S</td>\n",
       "      <td>WEB</td>\n",
       "      <td>37.50</td>\n",
       "      <td>0.0</td>\n",
       "      <td>2018-02-04 00:00:00</td>\n",
       "      <td>525.00</td>\n",
       "      <td>...</td>\n",
       "      <td>9526741.0</td>\n",
       "      <td>959.0</td>\n",
       "      <td>49.0</td>\n",
       "      <td>4.0</td>\n",
       "      <td>0.0</td>\n",
       "      <td>1.0</td>\n",
       "      <td>F</td>\n",
       "      <td>Monterey Park</td>\n",
       "      <td>CA</td>\n",
       "      <td>US</td>\n",
       "    </tr>\n",
       "    <tr>\n",
       "      <th>6539342</th>\n",
       "      <td>5147444.0</td>\n",
       "      <td>14179116.0</td>\n",
       "      <td>2018-02-04 00:01:53</td>\n",
       "      <td>X</td>\n",
       "      <td>S</td>\n",
       "      <td>WEB</td>\n",
       "      <td>69.99</td>\n",
       "      <td>0.0</td>\n",
       "      <td>2018-02-05 00:00:00</td>\n",
       "      <td>979.86</td>\n",
       "      <td>...</td>\n",
       "      <td>9585770.0</td>\n",
       "      <td>947.0</td>\n",
       "      <td>47.0</td>\n",
       "      <td>4.0</td>\n",
       "      <td>0.0</td>\n",
       "      <td>1.0</td>\n",
       "      <td>F</td>\n",
       "      <td>Monterey Park</td>\n",
       "      <td>CA</td>\n",
       "      <td>US</td>\n",
       "    </tr>\n",
       "    <tr>\n",
       "      <th>6539552</th>\n",
       "      <td>5147444.0</td>\n",
       "      <td>14179117.0</td>\n",
       "      <td>2018-02-04 00:01:53</td>\n",
       "      <td>X</td>\n",
       "      <td>S</td>\n",
       "      <td>WEB</td>\n",
       "      <td>59.99</td>\n",
       "      <td>0.0</td>\n",
       "      <td>2018-02-05 00:00:00</td>\n",
       "      <td>839.86</td>\n",
       "      <td>...</td>\n",
       "      <td>9528520.0</td>\n",
       "      <td>936.0</td>\n",
       "      <td>48.0</td>\n",
       "      <td>4.0</td>\n",
       "      <td>0.0</td>\n",
       "      <td>1.0</td>\n",
       "      <td>F</td>\n",
       "      <td>Monterey Park</td>\n",
       "      <td>CA</td>\n",
       "      <td>US</td>\n",
       "    </tr>\n",
       "    <tr>\n",
       "      <th>6539762</th>\n",
       "      <td>5147444.0</td>\n",
       "      <td>14179118.0</td>\n",
       "      <td>2018-02-04 00:01:53</td>\n",
       "      <td>X</td>\n",
       "      <td>S</td>\n",
       "      <td>WEB</td>\n",
       "      <td>199.99</td>\n",
       "      <td>0.0</td>\n",
       "      <td>2018-02-05 00:00:00</td>\n",
       "      <td>2799.86</td>\n",
       "      <td>...</td>\n",
       "      <td>9657681.0</td>\n",
       "      <td>947.0</td>\n",
       "      <td>47.0</td>\n",
       "      <td>4.0</td>\n",
       "      <td>0.0</td>\n",
       "      <td>1.0</td>\n",
       "      <td>F</td>\n",
       "      <td>Monterey Park</td>\n",
       "      <td>CA</td>\n",
       "      <td>US</td>\n",
       "    </tr>\n",
       "    <tr>\n",
       "      <th>6539972</th>\n",
       "      <td>5147444.0</td>\n",
       "      <td>14179119.0</td>\n",
       "      <td>2018-02-04 00:01:53</td>\n",
       "      <td>D</td>\n",
       "      <td>S</td>\n",
       "      <td>WEB</td>\n",
       "      <td>0.00</td>\n",
       "      <td>0.0</td>\n",
       "      <td>NaN</td>\n",
       "      <td>1399.86</td>\n",
       "      <td>...</td>\n",
       "      <td>9560743.0</td>\n",
       "      <td>947.0</td>\n",
       "      <td>47.0</td>\n",
       "      <td>4.0</td>\n",
       "      <td>0.0</td>\n",
       "      <td>0.0</td>\n",
       "      <td>F</td>\n",
       "      <td>Monterey Park</td>\n",
       "      <td>CA</td>\n",
       "      <td>US</td>\n",
       "    </tr>\n",
       "  </tbody>\n",
       "</table>\n",
       "<p>5 rows × 26 columns</p>\n",
       "</div>"
      ],
      "text/plain": [
       "           ord_num  ord_lin_no               ord_dt ord_line_status  \\\n",
       "6539132  5147444.0  14179115.0  2018-02-04 00:01:53               X   \n",
       "6539342  5147444.0  14179116.0  2018-02-04 00:01:53               X   \n",
       "6539552  5147444.0  14179117.0  2018-02-04 00:01:53               X   \n",
       "6539762  5147444.0  14179118.0  2018-02-04 00:01:53               X   \n",
       "6539972  5147444.0  14179119.0  2018-02-04 00:01:53               D   \n",
       "\n",
       "        ord_hdr_status ord_type  cncl_dol  rtn_dol              cncl_dt  \\\n",
       "6539132              S      WEB     37.50      0.0  2018-02-04 00:00:00   \n",
       "6539342              S      WEB     69.99      0.0  2018-02-05 00:00:00   \n",
       "6539552              S      WEB     59.99      0.0  2018-02-05 00:00:00   \n",
       "6539762              S      WEB    199.99      0.0  2018-02-05 00:00:00   \n",
       "6539972              S      WEB      0.00      0.0                  NaN   \n",
       "\n",
       "         dmd_dol  ...    skn_nbr  Subcat_ID  Cat_ID  Dept_id RTN_UNITS  \\\n",
       "6539132   525.00  ...  9526741.0      959.0    49.0      4.0       0.0   \n",
       "6539342   979.86  ...  9585770.0      947.0    47.0      4.0       0.0   \n",
       "6539552   839.86  ...  9528520.0      936.0    48.0      4.0       0.0   \n",
       "6539762  2799.86  ...  9657681.0      947.0    47.0      4.0       0.0   \n",
       "6539972  1399.86  ...  9560743.0      947.0    47.0      4.0       0.0   \n",
       "\n",
       "        cncl_units  international_order_ind   City_shipped  State_Shipped  \\\n",
       "6539132        1.0                        F  Monterey Park             CA   \n",
       "6539342        1.0                        F  Monterey Park             CA   \n",
       "6539552        1.0                        F  Monterey Park             CA   \n",
       "6539762        1.0                        F  Monterey Park             CA   \n",
       "6539972        0.0                        F  Monterey Park             CA   \n",
       "\n",
       "         Cntry_Shipped  \n",
       "6539132             US  \n",
       "6539342             US  \n",
       "6539552             US  \n",
       "6539762             US  \n",
       "6539972             US  \n",
       "\n",
       "[5 rows x 26 columns]"
      ]
     },
     "execution_count": 10,
     "metadata": {},
     "output_type": "execute_result"
    }
   ],
   "source": [
    "# Observing one case of a repetitve order_num\n",
    "order_master.loc[order_master['ord_num']==5147444.0, :].sort_values('ord_lin_no')"
   ]
  },
  {
   "cell_type": "markdown",
   "metadata": {},
   "source": [
    "Here, we observe that for one specific ord_num, there are different ord_lin_no values. This seems to be a case of status update of the same order. In order to deal with this, we assume that the final status update (the greatest value for the ord_lin_no) is the final status of the order. We use the ord_lin_no column to determine this since the ord_dt column remains consistent across all the rows."
   ]
  },
  {
   "cell_type": "markdown",
   "metadata": {},
   "source": [
    "Filtering the data to only include the most updated rows (greatest order_lin_no) for the order_num values to ensure that we are de-duplicating the data"
   ]
  },
  {
   "cell_type": "code",
   "execution_count": 11,
   "metadata": {},
   "outputs": [
    {
     "data": {
      "text/html": [
       "<div>\n",
       "<style scoped>\n",
       "    .dataframe tbody tr th:only-of-type {\n",
       "        vertical-align: middle;\n",
       "    }\n",
       "\n",
       "    .dataframe tbody tr th {\n",
       "        vertical-align: top;\n",
       "    }\n",
       "\n",
       "    .dataframe thead th {\n",
       "        text-align: right;\n",
       "    }\n",
       "</style>\n",
       "<table border=\"1\" class=\"dataframe\">\n",
       "  <thead>\n",
       "    <tr style=\"text-align: right;\">\n",
       "      <th></th>\n",
       "      <th>ord_num</th>\n",
       "      <th>ord_lin_no</th>\n",
       "      <th>ord_dt</th>\n",
       "      <th>ord_line_status</th>\n",
       "      <th>ord_hdr_status</th>\n",
       "      <th>ord_type</th>\n",
       "      <th>cncl_dol</th>\n",
       "      <th>rtn_dol</th>\n",
       "      <th>cncl_dt</th>\n",
       "      <th>dmd_dol</th>\n",
       "      <th>...</th>\n",
       "      <th>skn_nbr</th>\n",
       "      <th>Subcat_ID</th>\n",
       "      <th>Cat_ID</th>\n",
       "      <th>Dept_id</th>\n",
       "      <th>RTN_UNITS</th>\n",
       "      <th>cncl_units</th>\n",
       "      <th>international_order_ind</th>\n",
       "      <th>City_shipped</th>\n",
       "      <th>State_Shipped</th>\n",
       "      <th>Cntry_Shipped</th>\n",
       "    </tr>\n",
       "  </thead>\n",
       "  <tbody>\n",
       "    <tr>\n",
       "      <th>0</th>\n",
       "      <td>9009772.0</td>\n",
       "      <td>22402482.0</td>\n",
       "      <td>2019-12-01 14:42:08</td>\n",
       "      <td>D</td>\n",
       "      <td>S</td>\n",
       "      <td>MOB</td>\n",
       "      <td>0.0</td>\n",
       "      <td>0.00</td>\n",
       "      <td>NaN</td>\n",
       "      <td>559.86</td>\n",
       "      <td>...</td>\n",
       "      <td>1121512.0</td>\n",
       "      <td>903.0</td>\n",
       "      <td>47.0</td>\n",
       "      <td>4.0</td>\n",
       "      <td>0.0</td>\n",
       "      <td>0.0</td>\n",
       "      <td>F</td>\n",
       "      <td>Boise</td>\n",
       "      <td>ID</td>\n",
       "      <td>US</td>\n",
       "    </tr>\n",
       "    <tr>\n",
       "      <th>1</th>\n",
       "      <td>7343394.0</td>\n",
       "      <td>18785581.0</td>\n",
       "      <td>2019-03-12 17:17:18</td>\n",
       "      <td>D</td>\n",
       "      <td>S</td>\n",
       "      <td>WEB</td>\n",
       "      <td>0.0</td>\n",
       "      <td>0.00</td>\n",
       "      <td>NaN</td>\n",
       "      <td>2519.86</td>\n",
       "      <td>...</td>\n",
       "      <td>9690716.0</td>\n",
       "      <td>947.0</td>\n",
       "      <td>47.0</td>\n",
       "      <td>4.0</td>\n",
       "      <td>0.0</td>\n",
       "      <td>0.0</td>\n",
       "      <td>F</td>\n",
       "      <td>Moses Lake</td>\n",
       "      <td>WA</td>\n",
       "      <td>US</td>\n",
       "    </tr>\n",
       "    <tr>\n",
       "      <th>2</th>\n",
       "      <td>8653822.0</td>\n",
       "      <td>21630678.0</td>\n",
       "      <td>2019-10-26 21:09:37</td>\n",
       "      <td>D</td>\n",
       "      <td>S</td>\n",
       "      <td>MOB</td>\n",
       "      <td>0.0</td>\n",
       "      <td>0.00</td>\n",
       "      <td>NaN</td>\n",
       "      <td>5711.86</td>\n",
       "      <td>...</td>\n",
       "      <td>1136128.0</td>\n",
       "      <td>928.0</td>\n",
       "      <td>46.0</td>\n",
       "      <td>4.0</td>\n",
       "      <td>0.0</td>\n",
       "      <td>0.0</td>\n",
       "      <td>F</td>\n",
       "      <td>Alexandria</td>\n",
       "      <td>VA</td>\n",
       "      <td>US</td>\n",
       "    </tr>\n",
       "    <tr>\n",
       "      <th>3</th>\n",
       "      <td>9295849.0</td>\n",
       "      <td>23038199.0</td>\n",
       "      <td>2019-12-26 08:00:03</td>\n",
       "      <td>X</td>\n",
       "      <td>X</td>\n",
       "      <td>WEB</td>\n",
       "      <td>46.0</td>\n",
       "      <td>0.00</td>\n",
       "      <td>2019-12-26 00:00:00</td>\n",
       "      <td>644.00</td>\n",
       "      <td>...</td>\n",
       "      <td>1029584.0</td>\n",
       "      <td>818.0</td>\n",
       "      <td>49.0</td>\n",
       "      <td>4.0</td>\n",
       "      <td>0.0</td>\n",
       "      <td>1.0</td>\n",
       "      <td>F</td>\n",
       "      <td>Owings Mills</td>\n",
       "      <td>MD</td>\n",
       "      <td>US</td>\n",
       "    </tr>\n",
       "    <tr>\n",
       "      <th>4</th>\n",
       "      <td>5384524.0</td>\n",
       "      <td>14643824.0</td>\n",
       "      <td>2018-03-27 13:41:35</td>\n",
       "      <td>R</td>\n",
       "      <td>S</td>\n",
       "      <td>WEB</td>\n",
       "      <td>0.0</td>\n",
       "      <td>174.99</td>\n",
       "      <td>NaN</td>\n",
       "      <td>2449.86</td>\n",
       "      <td>...</td>\n",
       "      <td>9645502.0</td>\n",
       "      <td>906.0</td>\n",
       "      <td>47.0</td>\n",
       "      <td>4.0</td>\n",
       "      <td>1.0</td>\n",
       "      <td>0.0</td>\n",
       "      <td>F</td>\n",
       "      <td>Middle Village</td>\n",
       "      <td>NY</td>\n",
       "      <td>US</td>\n",
       "    </tr>\n",
       "  </tbody>\n",
       "</table>\n",
       "<p>5 rows × 26 columns</p>\n",
       "</div>"
      ],
      "text/plain": [
       "     ord_num  ord_lin_no               ord_dt ord_line_status ord_hdr_status  \\\n",
       "0  9009772.0  22402482.0  2019-12-01 14:42:08               D              S   \n",
       "1  7343394.0  18785581.0  2019-03-12 17:17:18               D              S   \n",
       "2  8653822.0  21630678.0  2019-10-26 21:09:37               D              S   \n",
       "3  9295849.0  23038199.0  2019-12-26 08:00:03               X              X   \n",
       "4  5384524.0  14643824.0  2018-03-27 13:41:35               R              S   \n",
       "\n",
       "  ord_type  cncl_dol  rtn_dol              cncl_dt  dmd_dol  ...    skn_nbr  \\\n",
       "0      MOB       0.0     0.00                  NaN   559.86  ...  1121512.0   \n",
       "1      WEB       0.0     0.00                  NaN  2519.86  ...  9690716.0   \n",
       "2      MOB       0.0     0.00                  NaN  5711.86  ...  1136128.0   \n",
       "3      WEB      46.0     0.00  2019-12-26 00:00:00   644.00  ...  1029584.0   \n",
       "4      WEB       0.0   174.99                  NaN  2449.86  ...  9645502.0   \n",
       "\n",
       "   Subcat_ID  Cat_ID  Dept_id RTN_UNITS cncl_units  international_order_ind  \\\n",
       "0      903.0    47.0      4.0       0.0        0.0                        F   \n",
       "1      947.0    47.0      4.0       0.0        0.0                        F   \n",
       "2      928.0    46.0      4.0       0.0        0.0                        F   \n",
       "3      818.0    49.0      4.0       0.0        1.0                        F   \n",
       "4      906.0    47.0      4.0       1.0        0.0                        F   \n",
       "\n",
       "     City_shipped  State_Shipped  Cntry_Shipped  \n",
       "0           Boise             ID             US  \n",
       "1      Moses Lake             WA             US  \n",
       "2      Alexandria             VA             US  \n",
       "3    Owings Mills             MD             US  \n",
       "4  Middle Village             NY             US  \n",
       "\n",
       "[5 rows x 26 columns]"
      ]
     },
     "execution_count": 11,
     "metadata": {},
     "output_type": "execute_result"
    }
   ],
   "source": [
    "# Creating a temporary dataframe to hold the ord_num and the corresponding most updated ord_lin_no\n",
    "tmp = pd.DataFrame(order_master.groupby(['ord_num'])['ord_lin_no'].max()).reset_index()\n",
    "\n",
    "# left joining order table with above lookup to filter for the most updated row for every order\n",
    "order_master = pd.merge(order_master, tmp, on = ['ord_num', 'ord_lin_no'], how = 'inner').drop_duplicates().reset_index(drop=True)\n",
    "order_master.head()"
   ]
  },
  {
   "cell_type": "code",
   "execution_count": 12,
   "metadata": {},
   "outputs": [],
   "source": [
    "# order_master.shape"
   ]
  },
  {
   "cell_type": "markdown",
   "metadata": {},
   "source": [
    "With the above analysis, we have now worked on eliminating the repetitve values for specific order_num. Next, we'll go ahead with null value treatment"
   ]
  },
  {
   "cell_type": "markdown",
   "metadata": {},
   "source": [
    "#### Null Value Check and Treatment"
   ]
  },
  {
   "cell_type": "markdown",
   "metadata": {},
   "source": [
    "The first step in the process of cleaning the dataset would be to treat the missing values in the data. Let's have a look at the column-wise and row-wise nulls in both the tables"
   ]
  },
  {
   "cell_type": "code",
   "execution_count": 13,
   "metadata": {},
   "outputs": [
    {
     "data": {
      "text/plain": [
       "ord_num                     0.000000\n",
       "ord_lin_no                  0.000000\n",
       "ord_dt                      0.000000\n",
       "ord_line_status             0.000000\n",
       "ord_hdr_status              1.882609\n",
       "ord_type                    0.000107\n",
       "cncl_dol                    0.000320\n",
       "rtn_dol                     0.024342\n",
       "cncl_dt                    94.598287\n",
       "dmd_dol                     0.000299\n",
       "dmd_units                   0.035916\n",
       "Loyalty_Ind                 0.000000\n",
       "Emp_Ind                     0.000000\n",
       "Fship_Ind                   0.000000\n",
       "Shp_Date                    5.724037\n",
       "rtn_dt                     81.891197\n",
       "skn_nbr                     0.000000\n",
       "Subcat_ID                   0.000000\n",
       "Cat_ID                      0.000000\n",
       "Dept_id                     0.000000\n",
       "RTN_UNITS                   0.024342\n",
       "cncl_units                  0.000320\n",
       "international_order_ind     0.000000\n",
       "City_shipped                0.259738\n",
       "State_Shipped               1.076170\n",
       "Cntry_Shipped               0.259653\n",
       "dtype: float64"
      ]
     },
     "execution_count": 13,
     "metadata": {},
     "output_type": "execute_result"
    }
   ],
   "source": [
    "#checking the percentage of null values in order table columns\n",
    "order_master.isnull().sum()*100/len(order_master)"
   ]
  },
  {
   "cell_type": "markdown",
   "metadata": {},
   "source": [
    "We observe that the rtn_dt and cncl_dt have a really large number of null values. This is expected as the share of orders that are being cancelled or returned would be much lower than the ones completed. As a result, we go ahead and drop these columns"
   ]
  },
  {
   "cell_type": "code",
   "execution_count": 14,
   "metadata": {},
   "outputs": [],
   "source": [
    "order_master = order_master.drop(['cncl_dt', 'rtn_dt'], axis=1)"
   ]
  },
  {
   "cell_type": "markdown",
   "metadata": {},
   "source": [
    "For the missing values in the ord_hdr_status, we will leverage the ord_line_status column for imputation. In this case, we'll identify what are mode values for the non-null ord_hdr_status column correponding to the different categories in the ord_line_Status columns. We'll use these to impute the missing values."
   ]
  },
  {
   "cell_type": "code",
   "execution_count": 15,
   "metadata": {},
   "outputs": [
    {
     "data": {
      "text/plain": [
       "ord_line_status\n",
       "D     S\n",
       "G     S\n",
       "HB    S\n",
       "HC    S\n",
       "HR    S\n",
       "HY    X\n",
       "L     S\n",
       "O     S\n",
       "P     S\n",
       "R     S\n",
       "S     S\n",
       "U     S\n",
       "W     S\n",
       "X     X\n",
       "Name: ord_hdr_status, dtype: object"
      ]
     },
     "execution_count": 15,
     "metadata": {},
     "output_type": "execute_result"
    }
   ],
   "source": [
    "ohs_tmp = order_master[['ord_line_status', 'ord_hdr_status']].loc[~(order_master['ord_hdr_status']).isnull(),:].groupby(['ord_line_status'])['ord_hdr_status'].agg(pd.Series.mode)\n",
    "ohs_tmp"
   ]
  },
  {
   "cell_type": "code",
   "execution_count": 16,
   "metadata": {},
   "outputs": [],
   "source": [
    "ohs_tmp = order_master[['ord_line_status', 'ord_hdr_status']].loc[~(order_master['ord_hdr_status']).isnull(),:].groupby(['ord_line_status'])['ord_hdr_status'].agg(pd.Series.mode)\n",
    "\n",
    "#Impute the missing values in the ord_hdr_status column based on their corresponding ord_line_status value\n",
    "\n",
    "order_master.loc[((order_master['ord_hdr_status']).isnull()) & (~order_master['ord_line_status'].isin(['HY','X'])),'ord_hdr_status'] = 'S'\n",
    "order_master.loc[((order_master['ord_hdr_status']).isnull()) & (order_master['ord_line_status'].isin(['HY','X'])),'ord_hdr_status'] = 'X'"
   ]
  },
  {
   "cell_type": "markdown",
   "metadata": {},
   "source": [
    "For the dmd_dol column, we will remove the rows corresponding to nulls in this column. We will refrain from imputing data in this column as this is our dependent variable."
   ]
  },
  {
   "cell_type": "code",
   "execution_count": 17,
   "metadata": {},
   "outputs": [],
   "source": [
    "order_master = order_master.loc[~order_master['dmd_dol'].isnull(), :].reset_index(drop=True)"
   ]
  },
  {
   "cell_type": "markdown",
   "metadata": {},
   "source": [
    "Replacing the nulls in the cncl_dol and rtn_dol with 0's as we'll assume that there were no cancellation or return amounts for these orders"
   ]
  },
  {
   "cell_type": "code",
   "execution_count": 18,
   "metadata": {},
   "outputs": [],
   "source": [
    "order_master.loc[order_master['cncl_dol'].isnull(), 'cncl_dol'] = 0\n",
    "order_master.loc[order_master['rtn_dol'].isnull(), 'rtn_dol'] = 0"
   ]
  },
  {
   "cell_type": "markdown",
   "metadata": {},
   "source": [
    "For the ord_type column, we'll impute the missing value in the data considering the mode of the column"
   ]
  },
  {
   "cell_type": "code",
   "execution_count": 19,
   "metadata": {},
   "outputs": [
    {
     "data": {
      "text/plain": [
       "WEB    3135335\n",
       "MOB    1387147\n",
       "TEL     160680\n",
       "Name: ord_type, dtype: int64"
      ]
     },
     "execution_count": 19,
     "metadata": {},
     "output_type": "execute_result"
    }
   ],
   "source": [
    "order_master['ord_type'].value_counts()"
   ]
  },
  {
   "cell_type": "code",
   "execution_count": 20,
   "metadata": {},
   "outputs": [],
   "source": [
    "order_master.loc[order_master['ord_type'].isnull(), 'ord_type'] = 'WEB'"
   ]
  },
  {
   "cell_type": "markdown",
   "metadata": {},
   "source": [
    "For the missing values in dmd_units, we don't have any other column that we can refer to in order to impute based on relative data. As a result, let's observe the distribution of the data, and post that we can impute the missing values in this column by considering one of the central tendency measures."
   ]
  },
  {
   "cell_type": "code",
   "execution_count": 21,
   "metadata": {},
   "outputs": [
    {
     "data": {
      "text/plain": [
       "{'whiskers': [<matplotlib.lines.Line2D at 0x27ef7ee5880>,\n",
       "  <matplotlib.lines.Line2D at 0x27ef7ee5be0>],\n",
       " 'caps': [<matplotlib.lines.Line2D at 0x27ef7ee5f40>,\n",
       "  <matplotlib.lines.Line2D at 0x27ef7ef42e0>],\n",
       " 'boxes': [<matplotlib.lines.Line2D at 0x27ef7ee5520>],\n",
       " 'medians': [<matplotlib.lines.Line2D at 0x27ef7ef4640>],\n",
       " 'fliers': [<matplotlib.lines.Line2D at 0x27ef7ef49a0>],\n",
       " 'means': []}"
      ]
     },
     "execution_count": 21,
     "metadata": {},
     "output_type": "execute_result"
    },
    {
     "data": {
      "image/png": "[encoded data removed]",
      "text/plain": [
       "<Figure size 432x288 with 1 Axes>"
      ]
     },
     "metadata": {
      "needs_background": "light"
     },
     "output_type": "display_data"
    }
   ],
   "source": [
    "plt.boxplot(order_master.loc[~order_master['dmd_units'].isnull(), 'dmd_units'])"
   ]
  },
  {
   "cell_type": "code",
   "execution_count": 22,
   "metadata": {},
   "outputs": [],
   "source": [
    "# Considering the number of outliers in the distribution, let's replace the missing values in this column with the median\n",
    "dmd_units_median = order_master.loc[~order_master['dmd_units'].isnull(), 'dmd_units'].median()\n",
    "order_master.loc[order_master['dmd_units'].isnull(), 'dmd_units'] = dmd_units_median"
   ]
  },
  {
   "cell_type": "markdown",
   "metadata": {},
   "source": [
    "The shipping date column is one column that we can get rid of. In context with the problem statement provided, the date element of the order can be captured by the order_date, and hence the shipping date as a variable can be ignored"
   ]
  },
  {
   "cell_type": "code",
   "execution_count": 23,
   "metadata": {},
   "outputs": [],
   "source": [
    "order_master = order_master.drop('Shp_Date', axis=1)"
   ]
  },
  {
   "cell_type": "markdown",
   "metadata": {},
   "source": [
    "In the case of missing values in the rtn_units and cncl_units columns, we'll replace the values with 0's if the corresponding revenue values for these columns is 0's, else we'll replace the values with the median units value."
   ]
  },
  {
   "cell_type": "code",
   "execution_count": 24,
   "metadata": {},
   "outputs": [],
   "source": [
    "# rtn_units\n",
    "# Replace rtn_units with 0 if rtn_dol is 0\n",
    "order_master.loc[(order_master['RTN_UNITS'].isnull()) & (order_master['rtn_dol']==0), 'RTN_UNITS'] = 0\n",
    "# Replace rest of missing values in rtn_units with median value\n",
    "rtn_units_median = order_master.loc[~order_master['RTN_UNITS'].isnull(), 'RTN_UNITS'].median()\n",
    "order_master.loc[order_master['RTN_UNITS'].isnull(), 'RTN_UNITS'] = rtn_units_median\n",
    "\n",
    "\n",
    "# cncl_units\n",
    "# Replace cncl_units with 0 if cncl_dol is 0\n",
    "order_master.loc[(order_master['cncl_units'].isnull()) & (order_master['cncl_dol']==0), 'cncl_units'] = 0\n",
    "# Replace rest of missing values in cncl_dol with median value\n",
    "cncl_units_median = order_master.loc[~order_master['cncl_units'].isnull(), 'cncl_units'].median()\n",
    "order_master.loc[order_master['cncl_units'].isnull(), 'cncl_units'] = cncl_units_median\n"
   ]
  },
  {
   "cell_type": "markdown",
   "metadata": {},
   "source": [
    "The missing values in the City column can be imputed using the mode. As for the state and the country column, we can infer both these sets of missing values from the corresponding cities for each of the rows.\n",
    "\n",
    "However, when we observe the cardinality of these variables, it is extremely high. We can ofcourse perform encoding later such as target encoding or reduce dimensions based on PCA, however, in the interest of time and also taking into account the problem statement, we will drop the city column. Also, we'll imput the state and country values with the mode values"
   ]
  },
  {
   "cell_type": "code",
   "execution_count": 25,
   "metadata": {},
   "outputs": [],
   "source": [
    "# Dropping the city column\n",
    "order_master = order_master.drop('City_shipped', axis=1)\n",
    "\n",
    "# Replacing the Country with the mode = US\n",
    "order_master.loc[order_master['Cntry_Shipped'].isnull(), 'Cntry_Shipped'] = 'US'\n",
    "\n",
    "# Replacing the State with the mode state value for the corresponding country\n",
    "cntry_state_mode = pd.DataFrame(order_master[['Cntry_Shipped', 'State_Shipped']].loc[~(order_master['State_Shipped']).isnull(),:].groupby('Cntry_Shipped')['State_Shipped'].agg(lambda x: pd.Series.mode(x).iat[0])).reset_index()\n",
    "cntry_state_mode.tail()\n",
    "\n",
    "tmp = order_master.loc[order_master['State_Shipped'].isnull(), order_master.columns != 'State_Shipped']\n",
    "tmp2 = pd.merge(tmp, cntry_state_mode, on ='Cntry_Shipped', how = 'left')\n",
    "\n",
    "order_master = pd.concat([order_master.loc[~order_master['State_Shipped'].isnull(), :], tmp2]).reset_index(drop=True)\n",
    "\n",
    "#Replacing rest of the missing State values with NA\n",
    "order_master.loc[order_master['State_Shipped'].isnull(), 'State_Shipped'] = 'NA'"
   ]
  },
  {
   "cell_type": "markdown",
   "metadata": {},
   "source": [
    "Now that we have treated the missing values in all the columns the orders dataset, let's verify that there are no missing values left."
   ]
  },
  {
   "cell_type": "code",
   "execution_count": 26,
   "metadata": {},
   "outputs": [
    {
     "data": {
      "text/plain": [
       "ord_num                    0.0\n",
       "ord_lin_no                 0.0\n",
       "ord_dt                     0.0\n",
       "ord_line_status            0.0\n",
       "ord_hdr_status             0.0\n",
       "ord_type                   0.0\n",
       "cncl_dol                   0.0\n",
       "rtn_dol                    0.0\n",
       "dmd_dol                    0.0\n",
       "dmd_units                  0.0\n",
       "Loyalty_Ind                0.0\n",
       "Emp_Ind                    0.0\n",
       "Fship_Ind                  0.0\n",
       "skn_nbr                    0.0\n",
       "Subcat_ID                  0.0\n",
       "Cat_ID                     0.0\n",
       "Dept_id                    0.0\n",
       "RTN_UNITS                  0.0\n",
       "cncl_units                 0.0\n",
       "international_order_ind    0.0\n",
       "State_Shipped              0.0\n",
       "Cntry_Shipped              0.0\n",
       "dtype: float64"
      ]
     },
     "execution_count": 26,
     "metadata": {},
     "output_type": "execute_result"
    }
   ],
   "source": [
    "#checking the percentage of null values in order table columns\n",
    "order_master.isnull().sum()*100/len(order_master)"
   ]
  },
  {
   "cell_type": "markdown",
   "metadata": {},
   "source": [
    "Now, let's have a look at the promos table to understand what kind of data does it consist and if there is any treatment that needs to be performed."
   ]
  },
  {
   "cell_type": "code",
   "execution_count": 27,
   "metadata": {},
   "outputs": [
    {
     "data": {
      "text/html": [
       "<div>\n",
       "<style scoped>\n",
       "    .dataframe tbody tr th:only-of-type {\n",
       "        vertical-align: middle;\n",
       "    }\n",
       "\n",
       "    .dataframe tbody tr th {\n",
       "        vertical-align: top;\n",
       "    }\n",
       "\n",
       "    .dataframe thead th {\n",
       "        text-align: right;\n",
       "    }\n",
       "</style>\n",
       "<table border=\"1\" class=\"dataframe\">\n",
       "  <thead>\n",
       "    <tr style=\"text-align: right;\">\n",
       "      <th></th>\n",
       "      <th>ORDER_NUM</th>\n",
       "      <th>PROMO_CD_1</th>\n",
       "      <th>PROMO_CD_2</th>\n",
       "      <th>PROMO_CD_3</th>\n",
       "      <th>PROMO_CD_4</th>\n",
       "      <th>PROMO_CD_5</th>\n",
       "      <th>PROMO_CD_6</th>\n",
       "      <th>PROMO_CD_7</th>\n",
       "      <th>PROMO_CD_8</th>\n",
       "      <th>PROMO_CD_9</th>\n",
       "      <th>PROMO_CD_10</th>\n",
       "    </tr>\n",
       "  </thead>\n",
       "  <tbody>\n",
       "    <tr>\n",
       "      <th>0</th>\n",
       "      <td>7513817.0</td>\n",
       "      <td>PC_ECOM_CD_2</td>\n",
       "      <td>NONE</td>\n",
       "      <td>NONE</td>\n",
       "      <td>NONE</td>\n",
       "      <td>NONE</td>\n",
       "      <td>NONE</td>\n",
       "      <td>NONE</td>\n",
       "      <td>NONE</td>\n",
       "      <td>NONE</td>\n",
       "      <td>NONE</td>\n",
       "    </tr>\n",
       "    <tr>\n",
       "      <th>1</th>\n",
       "      <td>7658034.0</td>\n",
       "      <td>PC_ECOM_CD_2</td>\n",
       "      <td>NONE</td>\n",
       "      <td>NONE</td>\n",
       "      <td>NONE</td>\n",
       "      <td>NONE</td>\n",
       "      <td>NONE</td>\n",
       "      <td>NONE</td>\n",
       "      <td>NONE</td>\n",
       "      <td>NONE</td>\n",
       "      <td>NONE</td>\n",
       "    </tr>\n",
       "    <tr>\n",
       "      <th>2</th>\n",
       "      <td>8992959.0</td>\n",
       "      <td>PC_ECOM_CD_4</td>\n",
       "      <td>PC_ECOM_CD_1</td>\n",
       "      <td>NONE</td>\n",
       "      <td>NONE</td>\n",
       "      <td>NONE</td>\n",
       "      <td>NONE</td>\n",
       "      <td>NONE</td>\n",
       "      <td>NONE</td>\n",
       "      <td>NONE</td>\n",
       "      <td>NONE</td>\n",
       "    </tr>\n",
       "    <tr>\n",
       "      <th>3</th>\n",
       "      <td>9668876.0</td>\n",
       "      <td>NONE</td>\n",
       "      <td>NONE</td>\n",
       "      <td>NONE</td>\n",
       "      <td>NONE</td>\n",
       "      <td>NONE</td>\n",
       "      <td>NONE</td>\n",
       "      <td>NONE</td>\n",
       "      <td>NONE</td>\n",
       "      <td>NONE</td>\n",
       "      <td>NONE</td>\n",
       "    </tr>\n",
       "    <tr>\n",
       "      <th>4</th>\n",
       "      <td>7343394.0</td>\n",
       "      <td>NONE</td>\n",
       "      <td>PC_ECOM_CD_1</td>\n",
       "      <td>NONE</td>\n",
       "      <td>NONE</td>\n",
       "      <td>NONE</td>\n",
       "      <td>NONE</td>\n",
       "      <td>NONE</td>\n",
       "      <td>NONE</td>\n",
       "      <td>NONE</td>\n",
       "      <td>NONE</td>\n",
       "    </tr>\n",
       "  </tbody>\n",
       "</table>\n",
       "</div>"
      ],
      "text/plain": [
       "   ORDER_NUM    PROMO_CD_1    PROMO_CD_2 PROMO_CD_3 PROMO_CD_4 PROMO_CD_5  \\\n",
       "0  7513817.0  PC_ECOM_CD_2          NONE       NONE       NONE       NONE   \n",
       "1  7658034.0  PC_ECOM_CD_2          NONE       NONE       NONE       NONE   \n",
       "2  8992959.0  PC_ECOM_CD_4  PC_ECOM_CD_1       NONE       NONE       NONE   \n",
       "3  9668876.0          NONE          NONE       NONE       NONE       NONE   \n",
       "4  7343394.0          NONE  PC_ECOM_CD_1       NONE       NONE       NONE   \n",
       "\n",
       "  PROMO_CD_6 PROMO_CD_7 PROMO_CD_8 PROMO_CD_9 PROMO_CD_10  \n",
       "0       NONE       NONE       NONE       NONE        NONE  \n",
       "1       NONE       NONE       NONE       NONE        NONE  \n",
       "2       NONE       NONE       NONE       NONE        NONE  \n",
       "3       NONE       NONE       NONE       NONE        NONE  \n",
       "4       NONE       NONE       NONE       NONE        NONE  "
      ]
     },
     "execution_count": 27,
     "metadata": {},
     "output_type": "execute_result"
    }
   ],
   "source": [
    "promo_master.head()"
   ]
  },
  {
   "cell_type": "code",
   "execution_count": 28,
   "metadata": {},
   "outputs": [
    {
     "name": "stdout",
     "output_type": "stream",
     "text": [
      "total rows in the data: 2984946\n",
      "distinct orders in the data: 2984946\n"
     ]
    }
   ],
   "source": [
    "# Checking if there exist and duplicates in order_id\n",
    "print(\"total rows in the data: \"+ str(len(promo_master)))\n",
    "print(\"distinct orders in the data: \"+str(promo_master['ORDER_NUM'].nunique()))"
   ]
  },
  {
   "cell_type": "markdown",
   "metadata": {},
   "source": [
    "From the data, we observe that the columns represent the type of promo applied on each order, and in case no promo is applied, it is represented as NULL. The format of this table can be made a lot more intuitive if we redefine the columns to represent the different types of coupons availbale, and the rows corresponding to each of those columns would be a 1/0 flag indicating whether that specific coupon type was applied on the order or not."
   ]
  },
  {
   "cell_type": "code",
   "execution_count": 29,
   "metadata": {},
   "outputs": [],
   "source": [
    "# Collecting the list of all the different coupon types\n",
    "unique_promos = []\n",
    "for i in range(len(promo_master.columns)-1):\n",
    "    unique_promos.extend(list(promo_master.iloc[:, 1+1].unique()))\n",
    "\n",
    "unique_promos = list(set(unique_promos))\n",
    "unique_promos.sort()\n"
   ]
  },
  {
   "cell_type": "code",
   "execution_count": 30,
   "metadata": {},
   "outputs": [
    {
     "data": {
      "text/plain": [
       "['NONE',\n",
       " 'PC_ECOM_CD_1',\n",
       " 'PC_ECOM_CD_10',\n",
       " 'PC_ECOM_CD_11',\n",
       " 'PC_ECOM_CD_12',\n",
       " 'PC_ECOM_CD_13',\n",
       " 'PC_ECOM_CD_14',\n",
       " 'PC_ECOM_CD_15',\n",
       " 'PC_ECOM_CD_2',\n",
       " 'PC_ECOM_CD_3',\n",
       " 'PC_ECOM_CD_4',\n",
       " 'PC_ECOM_CD_5',\n",
       " 'PC_ECOM_CD_6',\n",
       " 'PC_ECOM_CD_7',\n",
       " 'PC_ECOM_CD_8',\n",
       " 'PC_ECOM_CD_9']"
      ]
     },
     "execution_count": 30,
     "metadata": {},
     "output_type": "execute_result"
    }
   ],
   "source": [
    "unique_promos"
   ]
  },
  {
   "cell_type": "markdown",
   "metadata": {},
   "source": [
    "We'll use the above distinct promo codes as the new set of columns for the promo table"
   ]
  },
  {
   "cell_type": "code",
   "execution_count": 31,
   "metadata": {},
   "outputs": [],
   "source": [
    "for i in unique_promos:\n",
    "    promo_master[i] = 0\n",
    "    promo_master.loc[(promo_master['PROMO_CD_1']==i)| (promo_master['PROMO_CD_2']==i)| (promo_master['PROMO_CD_3']==i)| \n",
    "                     (promo_master['PROMO_CD_4']==i)| (promo_master['PROMO_CD_5']==i)| (promo_master['PROMO_CD_6']==i)|\n",
    "                     (promo_master['PROMO_CD_7']==i)| (promo_master['PROMO_CD_8']==i)| (promo_master['PROMO_CD_9']==i)| \n",
    "                     (promo_master['PROMO_CD_10']==i), i] = 1\n"
   ]
  },
  {
   "cell_type": "code",
   "execution_count": 32,
   "metadata": {},
   "outputs": [],
   "source": [
    "# Dropping the unnecessary columns from the promo table now \n",
    "# We also drop the NONE column as that can be inherently explained by the other columns.\n",
    "promo_master = promo_master.drop(['PROMO_CD_1', 'PROMO_CD_2', 'PROMO_CD_3', 'PROMO_CD_4', 'PROMO_CD_5', 'PROMO_CD_6', 'PROMO_CD_7', \n",
    "                   'PROMO_CD_8', 'PROMO_CD_9', 'PROMO_CD_10', 'NONE'], axis=1)"
   ]
  },
  {
   "cell_type": "code",
   "execution_count": 33,
   "metadata": {},
   "outputs": [
    {
     "data": {
      "text/html": [
       "<div>\n",
       "<style scoped>\n",
       "    .dataframe tbody tr th:only-of-type {\n",
       "        vertical-align: middle;\n",
       "    }\n",
       "\n",
       "    .dataframe tbody tr th {\n",
       "        vertical-align: top;\n",
       "    }\n",
       "\n",
       "    .dataframe thead th {\n",
       "        text-align: right;\n",
       "    }\n",
       "</style>\n",
       "<table border=\"1\" class=\"dataframe\">\n",
       "  <thead>\n",
       "    <tr style=\"text-align: right;\">\n",
       "      <th></th>\n",
       "      <th>ORDER_NUM</th>\n",
       "      <th>PC_ECOM_CD_1</th>\n",
       "      <th>PC_ECOM_CD_10</th>\n",
       "      <th>PC_ECOM_CD_11</th>\n",
       "      <th>PC_ECOM_CD_12</th>\n",
       "      <th>PC_ECOM_CD_13</th>\n",
       "      <th>PC_ECOM_CD_14</th>\n",
       "      <th>PC_ECOM_CD_15</th>\n",
       "      <th>PC_ECOM_CD_2</th>\n",
       "      <th>PC_ECOM_CD_3</th>\n",
       "      <th>PC_ECOM_CD_4</th>\n",
       "      <th>PC_ECOM_CD_5</th>\n",
       "      <th>PC_ECOM_CD_6</th>\n",
       "      <th>PC_ECOM_CD_7</th>\n",
       "      <th>PC_ECOM_CD_8</th>\n",
       "      <th>PC_ECOM_CD_9</th>\n",
       "    </tr>\n",
       "  </thead>\n",
       "  <tbody>\n",
       "    <tr>\n",
       "      <th>0</th>\n",
       "      <td>7513817.0</td>\n",
       "      <td>0</td>\n",
       "      <td>0</td>\n",
       "      <td>0</td>\n",
       "      <td>0</td>\n",
       "      <td>0</td>\n",
       "      <td>0</td>\n",
       "      <td>0</td>\n",
       "      <td>1</td>\n",
       "      <td>0</td>\n",
       "      <td>0</td>\n",
       "      <td>0</td>\n",
       "      <td>0</td>\n",
       "      <td>0</td>\n",
       "      <td>0</td>\n",
       "      <td>0</td>\n",
       "    </tr>\n",
       "    <tr>\n",
       "      <th>1</th>\n",
       "      <td>7658034.0</td>\n",
       "      <td>0</td>\n",
       "      <td>0</td>\n",
       "      <td>0</td>\n",
       "      <td>0</td>\n",
       "      <td>0</td>\n",
       "      <td>0</td>\n",
       "      <td>0</td>\n",
       "      <td>1</td>\n",
       "      <td>0</td>\n",
       "      <td>0</td>\n",
       "      <td>0</td>\n",
       "      <td>0</td>\n",
       "      <td>0</td>\n",
       "      <td>0</td>\n",
       "      <td>0</td>\n",
       "    </tr>\n",
       "    <tr>\n",
       "      <th>2</th>\n",
       "      <td>8992959.0</td>\n",
       "      <td>1</td>\n",
       "      <td>0</td>\n",
       "      <td>0</td>\n",
       "      <td>0</td>\n",
       "      <td>0</td>\n",
       "      <td>0</td>\n",
       "      <td>0</td>\n",
       "      <td>0</td>\n",
       "      <td>0</td>\n",
       "      <td>1</td>\n",
       "      <td>0</td>\n",
       "      <td>0</td>\n",
       "      <td>0</td>\n",
       "      <td>0</td>\n",
       "      <td>0</td>\n",
       "    </tr>\n",
       "    <tr>\n",
       "      <th>3</th>\n",
       "      <td>9668876.0</td>\n",
       "      <td>0</td>\n",
       "      <td>0</td>\n",
       "      <td>0</td>\n",
       "      <td>0</td>\n",
       "      <td>0</td>\n",
       "      <td>0</td>\n",
       "      <td>0</td>\n",
       "      <td>0</td>\n",
       "      <td>0</td>\n",
       "      <td>0</td>\n",
       "      <td>0</td>\n",
       "      <td>0</td>\n",
       "      <td>0</td>\n",
       "      <td>0</td>\n",
       "      <td>0</td>\n",
       "    </tr>\n",
       "    <tr>\n",
       "      <th>4</th>\n",
       "      <td>7343394.0</td>\n",
       "      <td>1</td>\n",
       "      <td>0</td>\n",
       "      <td>0</td>\n",
       "      <td>0</td>\n",
       "      <td>0</td>\n",
       "      <td>0</td>\n",
       "      <td>0</td>\n",
       "      <td>0</td>\n",
       "      <td>0</td>\n",
       "      <td>0</td>\n",
       "      <td>0</td>\n",
       "      <td>0</td>\n",
       "      <td>0</td>\n",
       "      <td>0</td>\n",
       "      <td>0</td>\n",
       "    </tr>\n",
       "  </tbody>\n",
       "</table>\n",
       "</div>"
      ],
      "text/plain": [
       "   ORDER_NUM  PC_ECOM_CD_1  PC_ECOM_CD_10  PC_ECOM_CD_11  PC_ECOM_CD_12  \\\n",
       "0  7513817.0             0              0              0              0   \n",
       "1  7658034.0             0              0              0              0   \n",
       "2  8992959.0             1              0              0              0   \n",
       "3  9668876.0             0              0              0              0   \n",
       "4  7343394.0             1              0              0              0   \n",
       "\n",
       "   PC_ECOM_CD_13  PC_ECOM_CD_14  PC_ECOM_CD_15  PC_ECOM_CD_2  PC_ECOM_CD_3  \\\n",
       "0              0              0              0             1             0   \n",
       "1              0              0              0             1             0   \n",
       "2              0              0              0             0             0   \n",
       "3              0              0              0             0             0   \n",
       "4              0              0              0             0             0   \n",
       "\n",
       "   PC_ECOM_CD_4  PC_ECOM_CD_5  PC_ECOM_CD_6  PC_ECOM_CD_7  PC_ECOM_CD_8  \\\n",
       "0             0             0             0             0             0   \n",
       "1             0             0             0             0             0   \n",
       "2             1             0             0             0             0   \n",
       "3             0             0             0             0             0   \n",
       "4             0             0             0             0             0   \n",
       "\n",
       "   PC_ECOM_CD_9  \n",
       "0             0  \n",
       "1             0  \n",
       "2             0  \n",
       "3             0  \n",
       "4             0  "
      ]
     },
     "execution_count": 33,
     "metadata": {},
     "output_type": "execute_result"
    }
   ],
   "source": [
    "promo_master.head()"
   ]
  },
  {
   "cell_type": "markdown",
   "metadata": {},
   "source": [
    "Now that we have completed cleaning the promo and the order table, we'll go ahead and merge these 2 tables at an order level."
   ]
  },
  {
   "cell_type": "code",
   "execution_count": 34,
   "metadata": {},
   "outputs": [
    {
     "data": {
      "text/html": [
       "<div>\n",
       "<style scoped>\n",
       "    .dataframe tbody tr th:only-of-type {\n",
       "        vertical-align: middle;\n",
       "    }\n",
       "\n",
       "    .dataframe tbody tr th {\n",
       "        vertical-align: top;\n",
       "    }\n",
       "\n",
       "    .dataframe thead th {\n",
       "        text-align: right;\n",
       "    }\n",
       "</style>\n",
       "<table border=\"1\" class=\"dataframe\">\n",
       "  <thead>\n",
       "    <tr style=\"text-align: right;\">\n",
       "      <th></th>\n",
       "      <th>ord_num</th>\n",
       "      <th>ord_lin_no</th>\n",
       "      <th>ord_dt</th>\n",
       "      <th>ord_line_status</th>\n",
       "      <th>ord_hdr_status</th>\n",
       "      <th>ord_type</th>\n",
       "      <th>cncl_dol</th>\n",
       "      <th>rtn_dol</th>\n",
       "      <th>dmd_dol</th>\n",
       "      <th>dmd_units</th>\n",
       "      <th>...</th>\n",
       "      <th>PC_ECOM_CD_14</th>\n",
       "      <th>PC_ECOM_CD_15</th>\n",
       "      <th>PC_ECOM_CD_2</th>\n",
       "      <th>PC_ECOM_CD_3</th>\n",
       "      <th>PC_ECOM_CD_4</th>\n",
       "      <th>PC_ECOM_CD_5</th>\n",
       "      <th>PC_ECOM_CD_6</th>\n",
       "      <th>PC_ECOM_CD_7</th>\n",
       "      <th>PC_ECOM_CD_8</th>\n",
       "      <th>PC_ECOM_CD_9</th>\n",
       "    </tr>\n",
       "  </thead>\n",
       "  <tbody>\n",
       "    <tr>\n",
       "      <th>0</th>\n",
       "      <td>9009772.0</td>\n",
       "      <td>22402482.0</td>\n",
       "      <td>2019-12-01 14:42:08</td>\n",
       "      <td>D</td>\n",
       "      <td>S</td>\n",
       "      <td>MOB</td>\n",
       "      <td>0.0</td>\n",
       "      <td>0.00</td>\n",
       "      <td>559.86</td>\n",
       "      <td>10.0</td>\n",
       "      <td>...</td>\n",
       "      <td>0.0</td>\n",
       "      <td>0.0</td>\n",
       "      <td>0.0</td>\n",
       "      <td>0.0</td>\n",
       "      <td>0.0</td>\n",
       "      <td>0.0</td>\n",
       "      <td>0.0</td>\n",
       "      <td>0.0</td>\n",
       "      <td>0.0</td>\n",
       "      <td>0.0</td>\n",
       "    </tr>\n",
       "    <tr>\n",
       "      <th>1</th>\n",
       "      <td>7343394.0</td>\n",
       "      <td>18785581.0</td>\n",
       "      <td>2019-03-12 17:17:18</td>\n",
       "      <td>D</td>\n",
       "      <td>S</td>\n",
       "      <td>WEB</td>\n",
       "      <td>0.0</td>\n",
       "      <td>0.00</td>\n",
       "      <td>2519.86</td>\n",
       "      <td>10.0</td>\n",
       "      <td>...</td>\n",
       "      <td>0.0</td>\n",
       "      <td>0.0</td>\n",
       "      <td>0.0</td>\n",
       "      <td>0.0</td>\n",
       "      <td>0.0</td>\n",
       "      <td>0.0</td>\n",
       "      <td>0.0</td>\n",
       "      <td>0.0</td>\n",
       "      <td>0.0</td>\n",
       "      <td>0.0</td>\n",
       "    </tr>\n",
       "    <tr>\n",
       "      <th>2</th>\n",
       "      <td>8653822.0</td>\n",
       "      <td>21630678.0</td>\n",
       "      <td>2019-10-26 21:09:37</td>\n",
       "      <td>D</td>\n",
       "      <td>S</td>\n",
       "      <td>MOB</td>\n",
       "      <td>0.0</td>\n",
       "      <td>0.00</td>\n",
       "      <td>5711.86</td>\n",
       "      <td>10.0</td>\n",
       "      <td>...</td>\n",
       "      <td>0.0</td>\n",
       "      <td>0.0</td>\n",
       "      <td>0.0</td>\n",
       "      <td>0.0</td>\n",
       "      <td>0.0</td>\n",
       "      <td>0.0</td>\n",
       "      <td>0.0</td>\n",
       "      <td>0.0</td>\n",
       "      <td>0.0</td>\n",
       "      <td>0.0</td>\n",
       "    </tr>\n",
       "    <tr>\n",
       "      <th>3</th>\n",
       "      <td>9295849.0</td>\n",
       "      <td>23038199.0</td>\n",
       "      <td>2019-12-26 08:00:03</td>\n",
       "      <td>X</td>\n",
       "      <td>X</td>\n",
       "      <td>WEB</td>\n",
       "      <td>46.0</td>\n",
       "      <td>0.00</td>\n",
       "      <td>644.00</td>\n",
       "      <td>10.0</td>\n",
       "      <td>...</td>\n",
       "      <td>0.0</td>\n",
       "      <td>0.0</td>\n",
       "      <td>0.0</td>\n",
       "      <td>0.0</td>\n",
       "      <td>0.0</td>\n",
       "      <td>0.0</td>\n",
       "      <td>0.0</td>\n",
       "      <td>0.0</td>\n",
       "      <td>0.0</td>\n",
       "      <td>0.0</td>\n",
       "    </tr>\n",
       "    <tr>\n",
       "      <th>4</th>\n",
       "      <td>5384524.0</td>\n",
       "      <td>14643824.0</td>\n",
       "      <td>2018-03-27 13:41:35</td>\n",
       "      <td>R</td>\n",
       "      <td>S</td>\n",
       "      <td>WEB</td>\n",
       "      <td>0.0</td>\n",
       "      <td>174.99</td>\n",
       "      <td>2449.86</td>\n",
       "      <td>10.0</td>\n",
       "      <td>...</td>\n",
       "      <td>0.0</td>\n",
       "      <td>0.0</td>\n",
       "      <td>0.0</td>\n",
       "      <td>0.0</td>\n",
       "      <td>0.0</td>\n",
       "      <td>0.0</td>\n",
       "      <td>0.0</td>\n",
       "      <td>0.0</td>\n",
       "      <td>0.0</td>\n",
       "      <td>0.0</td>\n",
       "    </tr>\n",
       "  </tbody>\n",
       "</table>\n",
       "<p>5 rows × 37 columns</p>\n",
       "</div>"
      ],
      "text/plain": [
       "     ord_num  ord_lin_no               ord_dt ord_line_status ord_hdr_status  \\\n",
       "0  9009772.0  22402482.0  2019-12-01 14:42:08               D              S   \n",
       "1  7343394.0  18785581.0  2019-03-12 17:17:18               D              S   \n",
       "2  8653822.0  21630678.0  2019-10-26 21:09:37               D              S   \n",
       "3  9295849.0  23038199.0  2019-12-26 08:00:03               X              X   \n",
       "4  5384524.0  14643824.0  2018-03-27 13:41:35               R              S   \n",
       "\n",
       "  ord_type  cncl_dol  rtn_dol  dmd_dol  dmd_units  ...  PC_ECOM_CD_14  \\\n",
       "0      MOB       0.0     0.00   559.86       10.0  ...            0.0   \n",
       "1      WEB       0.0     0.00  2519.86       10.0  ...            0.0   \n",
       "2      MOB       0.0     0.00  5711.86       10.0  ...            0.0   \n",
       "3      WEB      46.0     0.00   644.00       10.0  ...            0.0   \n",
       "4      WEB       0.0   174.99  2449.86       10.0  ...            0.0   \n",
       "\n",
       "   PC_ECOM_CD_15  PC_ECOM_CD_2  PC_ECOM_CD_3  PC_ECOM_CD_4  PC_ECOM_CD_5  \\\n",
       "0            0.0           0.0           0.0           0.0           0.0   \n",
       "1            0.0           0.0           0.0           0.0           0.0   \n",
       "2            0.0           0.0           0.0           0.0           0.0   \n",
       "3            0.0           0.0           0.0           0.0           0.0   \n",
       "4            0.0           0.0           0.0           0.0           0.0   \n",
       "\n",
       "   PC_ECOM_CD_6  PC_ECOM_CD_7  PC_ECOM_CD_8 PC_ECOM_CD_9  \n",
       "0           0.0           0.0           0.0          0.0  \n",
       "1           0.0           0.0           0.0          0.0  \n",
       "2           0.0           0.0           0.0          0.0  \n",
       "3           0.0           0.0           0.0          0.0  \n",
       "4           0.0           0.0           0.0          0.0  \n",
       "\n",
       "[5 rows x 37 columns]"
      ]
     },
     "execution_count": 34,
     "metadata": {},
     "output_type": "execute_result"
    }
   ],
   "source": [
    "order_master = pd.merge(order_master, promo_master, left_on = 'ord_num', right_on = 'ORDER_NUM', how = 'left').reset_index(drop=True)\n",
    "order_master = order_master.drop('ORDER_NUM', axis=1)\n",
    "# imputing missing values in the promo code columns with 0s\n",
    "order_master = order_master.fillna(0)\n",
    "order_master.head()"
   ]
  },
  {
   "cell_type": "markdown",
   "metadata": {},
   "source": [
    "This brings us to the end of the data cleaning elements of our code."
   ]
  },
  {
   "cell_type": "markdown",
   "metadata": {},
   "source": [
    "#### Deriving new vairables in context of the case study problem"
   ]
  },
  {
   "cell_type": "markdown",
   "metadata": {},
   "source": [
    "The order_dt timestamp column needs to be treated to convert it into a more machine readable format, as timestamps are not accepted by models. In ouor case, we will use the cyclical encoding method. We know that the temporal components, such as hour, day, month, season all follow a cyclical pattern. As a result, we'll break the timestamp into their corresponding cyclical components."
   ]
  },
  {
   "cell_type": "markdown",
   "metadata": {},
   "source": [
    "First, we'll extract the hour, day of week, month of year, and year components from the order column. We'll use cyclical encoding on thes components later in the assignment"
   ]
  },
  {
   "cell_type": "code",
   "execution_count": 35,
   "metadata": {},
   "outputs": [],
   "source": [
    "order_master['ord_dt'] = pd.to_datetime(order_master['ord_dt'], format='%Y-%m-%d %H:%M:%S')"
   ]
  },
  {
   "cell_type": "code",
   "execution_count": 36,
   "metadata": {},
   "outputs": [],
   "source": [
    "# Extracting temporal component from ord_dt\n",
    "order_master['ord_hour'] = order_master['ord_dt'].dt.hour\n",
    "order_master['ord_dow'] = order_master['ord_dt'].dt.dayofweek\n",
    "order_master['ord_mnth'] = order_master['ord_dt'].dt.month\n",
    "order_master['ord_year'] = order_master['ord_dt'].dt.year\n",
    "order_master['ord_date'] = order_master['ord_dt'].dt.date"
   ]
  },
  {
   "cell_type": "code",
   "execution_count": 37,
   "metadata": {},
   "outputs": [
    {
     "data": {
      "text/html": [
       "<div>\n",
       "<style scoped>\n",
       "    .dataframe tbody tr th:only-of-type {\n",
       "        vertical-align: middle;\n",
       "    }\n",
       "\n",
       "    .dataframe tbody tr th {\n",
       "        vertical-align: top;\n",
       "    }\n",
       "\n",
       "    .dataframe thead th {\n",
       "        text-align: right;\n",
       "    }\n",
       "</style>\n",
       "<table border=\"1\" class=\"dataframe\">\n",
       "  <thead>\n",
       "    <tr style=\"text-align: right;\">\n",
       "      <th></th>\n",
       "      <th>ord_num</th>\n",
       "      <th>ord_lin_no</th>\n",
       "      <th>ord_dt</th>\n",
       "      <th>ord_line_status</th>\n",
       "      <th>ord_hdr_status</th>\n",
       "      <th>ord_type</th>\n",
       "      <th>cncl_dol</th>\n",
       "      <th>rtn_dol</th>\n",
       "      <th>dmd_dol</th>\n",
       "      <th>dmd_units</th>\n",
       "      <th>...</th>\n",
       "      <th>PC_ECOM_CD_5</th>\n",
       "      <th>PC_ECOM_CD_6</th>\n",
       "      <th>PC_ECOM_CD_7</th>\n",
       "      <th>PC_ECOM_CD_8</th>\n",
       "      <th>PC_ECOM_CD_9</th>\n",
       "      <th>ord_hour</th>\n",
       "      <th>ord_dow</th>\n",
       "      <th>ord_mnth</th>\n",
       "      <th>ord_year</th>\n",
       "      <th>ord_date</th>\n",
       "    </tr>\n",
       "  </thead>\n",
       "  <tbody>\n",
       "    <tr>\n",
       "      <th>0</th>\n",
       "      <td>9009772.0</td>\n",
       "      <td>22402482.0</td>\n",
       "      <td>2019-12-01 14:42:08</td>\n",
       "      <td>D</td>\n",
       "      <td>S</td>\n",
       "      <td>MOB</td>\n",
       "      <td>0.0</td>\n",
       "      <td>0.00</td>\n",
       "      <td>559.86</td>\n",
       "      <td>10.0</td>\n",
       "      <td>...</td>\n",
       "      <td>0.0</td>\n",
       "      <td>0.0</td>\n",
       "      <td>0.0</td>\n",
       "      <td>0.0</td>\n",
       "      <td>0.0</td>\n",
       "      <td>14</td>\n",
       "      <td>6</td>\n",
       "      <td>12</td>\n",
       "      <td>2019</td>\n",
       "      <td>2019-12-01</td>\n",
       "    </tr>\n",
       "    <tr>\n",
       "      <th>1</th>\n",
       "      <td>7343394.0</td>\n",
       "      <td>18785581.0</td>\n",
       "      <td>2019-03-12 17:17:18</td>\n",
       "      <td>D</td>\n",
       "      <td>S</td>\n",
       "      <td>WEB</td>\n",
       "      <td>0.0</td>\n",
       "      <td>0.00</td>\n",
       "      <td>2519.86</td>\n",
       "      <td>10.0</td>\n",
       "      <td>...</td>\n",
       "      <td>0.0</td>\n",
       "      <td>0.0</td>\n",
       "      <td>0.0</td>\n",
       "      <td>0.0</td>\n",
       "      <td>0.0</td>\n",
       "      <td>17</td>\n",
       "      <td>1</td>\n",
       "      <td>3</td>\n",
       "      <td>2019</td>\n",
       "      <td>2019-03-12</td>\n",
       "    </tr>\n",
       "    <tr>\n",
       "      <th>2</th>\n",
       "      <td>8653822.0</td>\n",
       "      <td>21630678.0</td>\n",
       "      <td>2019-10-26 21:09:37</td>\n",
       "      <td>D</td>\n",
       "      <td>S</td>\n",
       "      <td>MOB</td>\n",
       "      <td>0.0</td>\n",
       "      <td>0.00</td>\n",
       "      <td>5711.86</td>\n",
       "      <td>10.0</td>\n",
       "      <td>...</td>\n",
       "      <td>0.0</td>\n",
       "      <td>0.0</td>\n",
       "      <td>0.0</td>\n",
       "      <td>0.0</td>\n",
       "      <td>0.0</td>\n",
       "      <td>21</td>\n",
       "      <td>5</td>\n",
       "      <td>10</td>\n",
       "      <td>2019</td>\n",
       "      <td>2019-10-26</td>\n",
       "    </tr>\n",
       "    <tr>\n",
       "      <th>3</th>\n",
       "      <td>9295849.0</td>\n",
       "      <td>23038199.0</td>\n",
       "      <td>2019-12-26 08:00:03</td>\n",
       "      <td>X</td>\n",
       "      <td>X</td>\n",
       "      <td>WEB</td>\n",
       "      <td>46.0</td>\n",
       "      <td>0.00</td>\n",
       "      <td>644.00</td>\n",
       "      <td>10.0</td>\n",
       "      <td>...</td>\n",
       "      <td>0.0</td>\n",
       "      <td>0.0</td>\n",
       "      <td>0.0</td>\n",
       "      <td>0.0</td>\n",
       "      <td>0.0</td>\n",
       "      <td>8</td>\n",
       "      <td>3</td>\n",
       "      <td>12</td>\n",
       "      <td>2019</td>\n",
       "      <td>2019-12-26</td>\n",
       "    </tr>\n",
       "    <tr>\n",
       "      <th>4</th>\n",
       "      <td>5384524.0</td>\n",
       "      <td>14643824.0</td>\n",
       "      <td>2018-03-27 13:41:35</td>\n",
       "      <td>R</td>\n",
       "      <td>S</td>\n",
       "      <td>WEB</td>\n",
       "      <td>0.0</td>\n",
       "      <td>174.99</td>\n",
       "      <td>2449.86</td>\n",
       "      <td>10.0</td>\n",
       "      <td>...</td>\n",
       "      <td>0.0</td>\n",
       "      <td>0.0</td>\n",
       "      <td>0.0</td>\n",
       "      <td>0.0</td>\n",
       "      <td>0.0</td>\n",
       "      <td>13</td>\n",
       "      <td>1</td>\n",
       "      <td>3</td>\n",
       "      <td>2018</td>\n",
       "      <td>2018-03-27</td>\n",
       "    </tr>\n",
       "  </tbody>\n",
       "</table>\n",
       "<p>5 rows × 42 columns</p>\n",
       "</div>"
      ],
      "text/plain": [
       "     ord_num  ord_lin_no              ord_dt ord_line_status ord_hdr_status  \\\n",
       "0  9009772.0  22402482.0 2019-12-01 14:42:08               D              S   \n",
       "1  7343394.0  18785581.0 2019-03-12 17:17:18               D              S   \n",
       "2  8653822.0  21630678.0 2019-10-26 21:09:37               D              S   \n",
       "3  9295849.0  23038199.0 2019-12-26 08:00:03               X              X   \n",
       "4  5384524.0  14643824.0 2018-03-27 13:41:35               R              S   \n",
       "\n",
       "  ord_type  cncl_dol  rtn_dol  dmd_dol  dmd_units  ...  PC_ECOM_CD_5  \\\n",
       "0      MOB       0.0     0.00   559.86       10.0  ...           0.0   \n",
       "1      WEB       0.0     0.00  2519.86       10.0  ...           0.0   \n",
       "2      MOB       0.0     0.00  5711.86       10.0  ...           0.0   \n",
       "3      WEB      46.0     0.00   644.00       10.0  ...           0.0   \n",
       "4      WEB       0.0   174.99  2449.86       10.0  ...           0.0   \n",
       "\n",
       "   PC_ECOM_CD_6  PC_ECOM_CD_7  PC_ECOM_CD_8  PC_ECOM_CD_9  ord_hour  ord_dow  \\\n",
       "0           0.0           0.0           0.0           0.0        14        6   \n",
       "1           0.0           0.0           0.0           0.0        17        1   \n",
       "2           0.0           0.0           0.0           0.0        21        5   \n",
       "3           0.0           0.0           0.0           0.0         8        3   \n",
       "4           0.0           0.0           0.0           0.0        13        1   \n",
       "\n",
       "   ord_mnth  ord_year    ord_date  \n",
       "0        12      2019  2019-12-01  \n",
       "1         3      2019  2019-03-12  \n",
       "2        10      2019  2019-10-26  \n",
       "3        12      2019  2019-12-26  \n",
       "4         3      2018  2018-03-27  \n",
       "\n",
       "[5 rows x 42 columns]"
      ]
     },
     "execution_count": 37,
     "metadata": {},
     "output_type": "execute_result"
    }
   ],
   "source": [
    "order_master.head()"
   ]
  },
  {
   "cell_type": "markdown",
   "metadata": {},
   "source": [
    "Another useful metric for our analysis would be the average revenue per item per order. We have the total revenue generated per order, we'll divide it with the total items to generate the average revenue per item."
   ]
  },
  {
   "cell_type": "code",
   "execution_count": 38,
   "metadata": {},
   "outputs": [],
   "source": [
    "order_master['dmd_dol_per_unit'] = order_master['dmd_dol']/order_master['dmd_units']"
   ]
  },
  {
   "cell_type": "markdown",
   "metadata": {},
   "source": [
    "Creating a column to check whether a coupon has been used in the order or not"
   ]
  },
  {
   "cell_type": "code",
   "execution_count": 39,
   "metadata": {},
   "outputs": [],
   "source": [
    "order_master['coupons_used'] = order_master['PC_ECOM_CD_1'] + order_master['PC_ECOM_CD_2'] + order_master['PC_ECOM_CD_3'] + order_master['PC_ECOM_CD_4'] + order_master['PC_ECOM_CD_5'] + order_master['PC_ECOM_CD_6'] + order_master['PC_ECOM_CD_7'] + order_master['PC_ECOM_CD_8'] + order_master['PC_ECOM_CD_9'] + order_master['PC_ECOM_CD_10'] + order_master['PC_ECOM_CD_11'] +  order_master['PC_ECOM_CD_12'] + order_master['PC_ECOM_CD_13'] + order_master['PC_ECOM_CD_14'] + order_master['PC_ECOM_CD_15']"
   ]
  },
  {
   "cell_type": "markdown",
   "metadata": {},
   "source": [
    "Having cleaned the dataset of most anomalies, and derived new business and data-driven metrics, our next step will be to perform exploratory analysis on the data to unearth some meaningful insights"
   ]
  },
  {
   "cell_type": "markdown",
   "metadata": {},
   "source": [
    "### Exploratory Data Analysis"
   ]
  },
  {
   "cell_type": "markdown",
   "metadata": {},
   "source": [
    "According to the case study problem, we're trying to understand the impact of the friendship sale promotion (promo code - PC_ECOM_CD_5). In our data analysis section, we'll focus on understanding and extracting the following insights, split into 3 broad buckets:\n",
    "1. Overall Orders Exploration:\n",
    "- Top line Stats: highest revenue generating Country/State, YoY trends\n",
    "- Average time between shipping and ordering\n",
    "- Country-wise revenue comparison + US revenue plot\n",
    "- Temporal Trends\n",
    "- Analysis of how the Coupon Codes Perform against each other\n",
    "\n",
    "2. Friendship Sale Promotion Orders:\n",
    "- Top line stats\n",
    "- Timeline of revenue, total orders (highlighting sections on the timeline for when sale was run)\n",
    "- Country-wise revenue comparison + US revenue plot\n",
    "- Temporal Trends\n",
    "\n",
    "3. Additional Insights\n",
    "- Correlation Heatmap to determine effectiveness of friendship sale on revenue\n"
   ]
  },
  {
   "cell_type": "markdown",
   "metadata": {},
   "source": [
    "But before we jump into fetching the insights, let's quickly check whether we have any glaring outliers in the numerical variables of our dataset."
   ]
  },
  {
   "cell_type": "code",
   "execution_count": 40,
   "metadata": {},
   "outputs": [],
   "source": [
    "# Dividing the column into different types\n",
    "num_vars = ['cncl_dol', 'rtn_dol', 'dmd_dol', 'dmd_units', 'RTN_UNITS', 'cncl_units', 'dmd_dol_per_unit']\n",
    "cat_vars = ['ord_line_status', 'ord_hdr_status', 'ord_type', 'Loyalty_Ind', 'Emp_Ind', 'Fship_Ind', 'Subcat_ID', \n",
    "            'Cat_ID', 'Dept_id', 'international_order_ind', 'State_Shipped', 'Cntry_Shipped', 'PC_ECOM_CD_1', 'PC_ECOM_CD_10',\n",
    "            'PC_ECOM_CD_11', 'PC_ECOM_CD_12', 'PC_ECOM_CD_13', 'PC_ECOM_CD_14', 'PC_ECOM_CD_15', 'PC_ECOM_CD_2', 'PC_ECOM_CD_3',\n",
    "            'PC_ECOM_CD_4', 'PC_ECOM_CD_5', 'PC_ECOM_CD_6', 'PC_ECOM_CD_7', 'PC_ECOM_CD_8', 'PC_ECOM_CD_9']\n",
    "temporal_vars = ['ord_hour', 'ord_dow', 'ord_mnth', 'ord_year', 'ord_date']\n",
    "id_vars = ['ord_num', 'ord_lin_no', 'skn_nbr']"
   ]
  },
  {
   "cell_type": "code",
   "execution_count": 41,
   "metadata": {},
   "outputs": [
    {
     "data": {
      "image/png": "[encoded data removed]",
      "text/plain": [
       "<Figure size 1440x1080 with 7 Axes>"
      ]
     },
     "metadata": {
      "needs_background": "light"
     },
     "output_type": "display_data"
    }
   ],
   "source": [
    "#Plotting boxplots for outlier identification for each variable\n",
    "plt.figure(figsize=(20,15))\n",
    "\n",
    "for i in range(len(num_vars)):\n",
    "    plt.subplot(3,5,i+1)\n",
    "    plt.boxplot(order_master[num_vars[i]])\n",
    "    plt.title(num_vars[i])\n"
   ]
  },
  {
   "cell_type": "markdown",
   "metadata": {},
   "source": [
    "We observe that there are plenty of outliers in the dataset. These need to be dealt with. However, we will treat these later in the model building phase. During our EDA, there will be analysis on total sales across different periods, and we would not want to eliminate the high sales values in those cases. "
   ]
  },
  {
   "cell_type": "markdown",
   "metadata": {},
   "source": [
    "We will now begin with our **segmented-univariate and bi-variate analysis**"
   ]
  },
  {
   "cell_type": "markdown",
   "metadata": {},
   "source": [
    "#### EDA on the entire dataset"
   ]
  },
  {
   "cell_type": "markdown",
   "metadata": {},
   "source": [
    "Firstly, let's begin by observing the timeline over the years on how the sales have fluctuated "
   ]
  },
  {
   "cell_type": "code",
   "execution_count": 42,
   "metadata": {},
   "outputs": [],
   "source": [
    "total_rev = sum(order_master['dmd_dol'])"
   ]
  },
  {
   "cell_type": "code",
   "execution_count": 43,
   "metadata": {},
   "outputs": [
    {
     "data": {
      "image/png": "[encoded data removed]",
      "text/plain": [
       "<Figure size 1080x216 with 1 Axes>"
      ]
     },
     "metadata": {
      "needs_background": "light"
     },
     "output_type": "display_data"
    }
   ],
   "source": [
    "timeline = order_master.groupby(['ord_date'], as_index=False).agg({'dmd_dol':'sum'})\n",
    "timeline.columns = ['ord_date', 'total_sales']\n",
    "timeline['share_of_revenue'] = timeline['total_sales']*100/total_rev\n",
    "timeline = timeline.sort_values(['ord_date'])\n",
    "plt.figure(figsize=(15, 3))\n",
    "plt.plot(timeline.ord_date, timeline.share_of_revenue)\n",
    "plt.xlabel(\"Timeline\")\n",
    "plt.ylabel(\"Share of Revenue\")\n",
    "plt.title(\"Timeline Analysis\")\n",
    "plt.show()"
   ]
  },
  {
   "cell_type": "markdown",
   "metadata": {},
   "source": [
    "On observing the timeline, we can clearly identify that there is a seasonal trend in the sales data. The holiday periods e.g. during the month of Christmas/New year/Black Friday tends to be the peak time for sales. In order to get a closer look at this, let's break the sales down to a month level. "
   ]
  },
  {
   "cell_type": "code",
   "execution_count": 44,
   "metadata": {},
   "outputs": [
    {
     "data": {
      "text/plain": [
       "Text(0.5, 1.0, 'Month-on-Month Analysis')"
      ]
     },
     "execution_count": 44,
     "metadata": {},
     "output_type": "execute_result"
    },
    {
     "data": {
      "image/png": "[encoded data removed]",
      "text/plain": [
       "<Figure size 1080x216 with 1 Axes>"
      ]
     },
     "metadata": {
      "needs_background": "light"
     },
     "output_type": "display_data"
    }
   ],
   "source": [
    "timeline = order_master.groupby(['ord_mnth'], as_index=False).agg({'dmd_dol':'sum'})\n",
    "timeline.columns = ['ord_mnth', 'total_sales']\n",
    "timeline['share_of_revenue'] = timeline['total_sales']*100/total_rev\n",
    "timeline = timeline.sort_values(['ord_mnth'])\n",
    "plt.figure(figsize=(15, 3))\n",
    "plt.plot(timeline.ord_mnth, timeline.share_of_revenue)\n",
    "plt.xlabel(\"Month Number\")\n",
    "plt.ylabel(\"Share of Revenue\")\n",
    "plt.title(\"Month-on-Month Analysis\")\n"
   ]
  },
  {
   "cell_type": "markdown",
   "metadata": {},
   "source": [
    "The analysis at month level verifies our above statement that suggests the month of Novemember and December (which is usually the holiday season) tend to generate the greatest number of sales"
   ]
  },
  {
   "cell_type": "markdown",
   "metadata": {},
   "source": [
    "Let's now understand if there is a weekday v. weekend pattern in the sales value"
   ]
  },
  {
   "cell_type": "code",
   "execution_count": 45,
   "metadata": {},
   "outputs": [
    {
     "data": {
      "image/png": "[encoded data removed]",
      "text/plain": [
       "<Figure size 360x360 with 1 Axes>"
      ]
     },
     "metadata": {},
     "output_type": "display_data"
    }
   ],
   "source": [
    "wday_wend = order_master.groupby(['ord_dow'], as_index=False).agg({'dmd_dol':'sum'})\n",
    "wday_wend.columns = ['ord_dow', 'total_sales']\n",
    "wday_wend['ord_dow'] = wday_wend['ord_dow'].apply(lambda x: 'Weekend' if x in (5, 6) else 'Weekday')\n",
    "wday_wend = wday_wend.groupby(['ord_dow'], as_index=False).agg({'total_sales':'mean'})\n",
    "wday_wend.columns = ['ord_dow', 'average_sales_per_day']\n",
    "\n",
    "# # Creating plot\n",
    "# fig = plt.figure(figsize =(5, 5))\n",
    "# plt.pie(wday_wend['average_sales_per_day'], labels = wday_wend['ord_dow'])\n",
    "\n",
    "# Creating explode data\n",
    "explode = (0.1, 0.0)\n",
    "  \n",
    "# Creating color parameters\n",
    "colors = ( \"grey\", \"beige\")\n",
    "  \n",
    "# Wedge properties\n",
    "wp = { 'linewidth' : 1, 'edgecolor' : \"brown\" }\n",
    "  \n",
    "# Creating autocpt arguments\n",
    "def func(pct, allvalues):\n",
    "    absolute = int(pct / 100.*np.sum(allvalues))\n",
    "    return \"{:.1f}%\\n({:d} g)\".format(pct, absolute)\n",
    "  \n",
    "# Creating plot\n",
    "fig, ax = plt.subplots(figsize =(5, 5))\n",
    "wedges, texts, autotexts = ax.pie(wday_wend['average_sales_per_day'], \n",
    "                                  autopct = lambda pct: func(pct, wday_wend['average_sales_per_day']),\n",
    "                                  explode = explode, \n",
    "                                  labels = wday_wend['ord_dow'],\n",
    "                                  shadow = True,\n",
    "                                  colors = colors,\n",
    "                                  startangle = 90,\n",
    "                                  wedgeprops = wp,\n",
    "                                  textprops = dict(color =\"brown\"))\n",
    "  \n",
    "# Adding legend\n",
    "ax.legend(wedges, wday_wend['ord_dow'],\n",
    "          title =\"Weekday/Weekend\",\n",
    "          loc =\"center left\",\n",
    "          bbox_to_anchor =(1, 0, 0.5, 1))\n",
    "  \n",
    "plt.setp(autotexts, size = 8, weight =\"bold\")\n",
    "ax.set_title(\"Customizing pie chart\")\n",
    "  \n",
    "# show plot\n",
    "plt.show()"
   ]
  },
  {
   "cell_type": "markdown",
   "metadata": {},
   "source": [
    "We observe that the sales on weekends are sligthly greater than those on the weekdays, however not by a big margin as such."
   ]
  },
  {
   "cell_type": "markdown",
   "metadata": {},
   "source": [
    "Next, let's analyze the geographical trends that are exhibited by out dataset. We want to understand what are the highest revenue generating places around the world"
   ]
  },
  {
   "cell_type": "code",
   "execution_count": 46,
   "metadata": {},
   "outputs": [],
   "source": [
    "# Creating a Function for dynamically creating the Dataframes as per our required variable.\n",
    "def total_sales(var):\n",
    "    df = order_master.groupby([var], as_index=False).agg({'dmd_dol':['sum']})\n",
    "    df.columns = [var,'total_sales']\n",
    "    df['share_of_revenue'] = df['total_sales']*100/total_rev\n",
    "    return df.sort_values(by='total_sales', ascending = False).head(10)"
   ]
  },
  {
   "cell_type": "code",
   "execution_count": 47,
   "metadata": {},
   "outputs": [
    {
     "data": {
      "text/plain": [
       "<AxesSubplot:xlabel='Cntry_Shipped', ylabel='share_of_revenue'>"
      ]
     },
     "execution_count": 47,
     "metadata": {},
     "output_type": "execute_result"
    },
    {
     "data": {
      "image/png": "[encoded data removed]",
      "text/plain": [
       "<Figure size 1080x216 with 1 Axes>"
      ]
     },
     "metadata": {
      "needs_background": "light"
     },
     "output_type": "display_data"
    }
   ],
   "source": [
    "# Topline stats\n",
    "# Revenue generated by Country\n",
    "total_sales_cntry = total_sales('Cntry_Shipped')\n",
    "plt.figure(figsize=(15, 3))\n",
    "sns.barplot(total_sales_cntry.Cntry_Shipped, total_sales_cntry.share_of_revenue)"
   ]
  },
  {
   "cell_type": "markdown",
   "metadata": {},
   "source": [
    "We observe that over 90% of the total sales are ordered from the US. In order to delve further into the US, let's have a look at what states are generating the greatest number of sales"
   ]
  },
  {
   "cell_type": "code",
   "execution_count": 48,
   "metadata": {},
   "outputs": [
    {
     "data": {
      "text/plain": [
       "<AxesSubplot:xlabel='State_Shipped', ylabel='share_of_revenue'>"
      ]
     },
     "execution_count": 48,
     "metadata": {},
     "output_type": "execute_result"
    },
    {
     "data": {
      "image/png": "[encoded data removed]",
      "text/plain": [
       "<Figure size 1080x216 with 1 Axes>"
      ]
     },
     "metadata": {
      "needs_background": "light"
     },
     "output_type": "display_data"
    }
   ],
   "source": [
    "# Topline stats\n",
    "# Revenue generated by Country\n",
    "total_sales_cntry = total_sales('State_Shipped')\n",
    "plt.figure(figsize=(15, 3))\n",
    "sns.barplot(total_sales_cntry.State_Shipped, total_sales_cntry.share_of_revenue)"
   ]
  },
  {
   "cell_type": "markdown",
   "metadata": {},
   "source": [
    "The states of New York and California generate the greatest amount of revenue"
   ]
  },
  {
   "cell_type": "markdown",
   "metadata": {},
   "source": [
    "We can also analyze the revenue generated by the different product categories and sub-categories. However, we don't really have a lookup for these categories, and as a result, the analysis that we provide would not converted into something actionable or informative. As a result as part of this assignment, we'll skip the product level analysis"
   ]
  },
  {
   "cell_type": "markdown",
   "metadata": {},
   "source": [
    "Now, let's come to the **coupon code analysis.**"
   ]
  },
  {
   "cell_type": "markdown",
   "metadata": {},
   "source": [
    "Let's check the usage of each of the coupon codes to understand which codes are used most frequently by the users"
   ]
  },
  {
   "cell_type": "code",
   "execution_count": 49,
   "metadata": {},
   "outputs": [
    {
     "data": {
      "image/png": "[encoded data removed]",
      "text/plain": [
       "<Figure size 1800x216 with 1 Axes>"
      ]
     },
     "metadata": {
      "needs_background": "light"
     },
     "output_type": "display_data"
    }
   ],
   "source": [
    "coupon_ls = ['PC_ECOM_CD_1', 'PC_ECOM_CD_2', 'PC_ECOM_CD_3', 'PC_ECOM_CD_4', 'PC_ECOM_CD_5', 'PC_ECOM_CD_6', 'PC_ECOM_CD_7',\n",
    "             'PC_ECOM_CD_8', 'PC_ECOM_CD_9', 'PC_ECOM_CD_10', 'PC_ECOM_CD_11', 'PC_ECOM_CD_12', 'PC_ECOM_CD_13', 'PC_ECOM_CD_14',\n",
    "             'PC_ECOM_CD_15']\n",
    "coupon_cnt = []\n",
    "\n",
    "for i in coupon_ls:\n",
    "    coupon_cnt.append(order_master[i].sum())\n",
    "    \n",
    "coupon_usage = pd.DataFrame({'Coupon Code': coupon_ls, 'Coupon Usage': coupon_cnt})\n",
    "\n",
    "# Create a dummy df with the required list and the col name to sort on\n",
    "coupon_usage2 = pd.Series(coupon_ls, name = 'Coupon Code').to_frame()\n",
    "\n",
    "# Use left merge on the dummy to return a sorted df\n",
    "coupon_usage2 = pd.merge(coupon_usage2, coupon_usage, on = 'Coupon Code', how = 'left')\n",
    "\n",
    "total_usage = sum(coupon_usage['Coupon Usage'])\n",
    "coupon_usage2['Coupon Usage'] = coupon_usage2['Coupon Usage']*100/total_usage\n",
    "plt.figure(figsize=(25, 3))\n",
    "sns.barplot(coupon_usage2['Coupon Code'], coupon_usage2['Coupon Usage'])\n",
    "plt.xlabel(\"Coupons\")\n",
    "plt.ylabel(\"Share of Revenue\")\n",
    "plt.title(\"Coupon Analysis\")\n",
    "plt.show()"
   ]
  },
  {
   "cell_type": "markdown",
   "metadata": {},
   "source": [
    "From the above analysis, we observe that the the PC_ECOM_CD1 & PC_ECOM_CD_2 are by far the most used coupons on the website. The coupon that we're interested in i.e. the friendship day sale coupon (PC_ECOM_CD_5) is the 5th most used coupon."
   ]
  },
  {
   "cell_type": "markdown",
   "metadata": {},
   "source": [
    "Let's have a look at the revenue impact that these coupon codes have had.\n",
    "\n",
    "In this case, we will derive 2 new metrics:\n",
    "- revenue generation rate: the amount of revenue generated/no. of days the promo ran for.\n",
    "- Coupon usage rate: no. of coupons used/no. of dats the promo ran for.\n",
    "\n",
    "This will give an indication of how effective the campaign was. The reason for using this metric is because different campaigns ran over different periods of time. Hence this metric will allow us to compare the effectiveness of each campaign."
   ]
  },
  {
   "cell_type": "code",
   "execution_count": 50,
   "metadata": {},
   "outputs": [
    {
     "data": {
      "image/png": "[encoded data removed]",
      "text/plain": [
       "<Figure size 1800x576 with 1 Axes>"
      ]
     },
     "metadata": {
      "needs_background": "light"
     },
     "output_type": "display_data"
    },
    {
     "data": {
      "image/png": "[encoded data removed]",
      "text/plain": [
       "<Figure size 1800x576 with 1 Axes>"
      ]
     },
     "metadata": {
      "needs_background": "light"
     },
     "output_type": "display_data"
    }
   ],
   "source": [
    "coupon_ls = ['PC_ECOM_CD_1', 'PC_ECOM_CD_2', 'PC_ECOM_CD_3', 'PC_ECOM_CD_4', 'PC_ECOM_CD_5', 'PC_ECOM_CD_6', 'PC_ECOM_CD_7',\n",
    "             'PC_ECOM_CD_8', 'PC_ECOM_CD_9', 'PC_ECOM_CD_10', 'PC_ECOM_CD_11', 'PC_ECOM_CD_12', 'PC_ECOM_CD_13', 'PC_ECOM_CD_14',\n",
    "             'PC_ECOM_CD_15']\n",
    "coupon_cnt = []\n",
    "coupon_rev = []\n",
    "coupon_dt = []\n",
    "\n",
    "for i in coupon_ls:\n",
    "    coupon_cnt.append(order_master[i].sum())\n",
    "    coupon_rev.append(order_master.loc[order_master[i]==1, 'dmd_dol'].sum())\n",
    "    coupon_dt.append(order_master.loc[order_master[i]==1, 'ord_date'].nunique())\n",
    "    \n",
    "coupon_usage = pd.DataFrame({'Coupon Code': coupon_ls, 'Coupons Used': coupon_cnt, 'Sales': coupon_rev, 'Coupon Period': coupon_dt})\n",
    "\n",
    "# Create a dummy df with the required list and the col name to sort on\n",
    "coupon_usage2 = pd.Series(coupon_ls, name = 'Coupon Code').to_frame()\n",
    "\n",
    "# Use left merge on the dummy to return a sorted df\n",
    "coupon_usage = pd.merge(coupon_usage2, coupon_usage, on = 'Coupon Code', how = 'left')\n",
    "\n",
    "# Deriving the new metrics\n",
    "coupon_usage['Coupon Usage Rate'] = coupon_usage['Coupons Used']/coupon_usage['Coupon Period']\n",
    "coupon_usage['Coupon Rev Gen Rate'] = coupon_usage['Sales']/coupon_usage['Coupon Period']\n",
    "\n",
    "coupon_usage\n",
    "\n",
    "tmp1 = coupon_usage.sort_values('Coupon Usage Rate', ascending=False)\n",
    "tmp2 = coupon_usage.sort_values('Coupon Rev Gen Rate', ascending=False)\n",
    "\n",
    "plt.figure(figsize=(25, 8))\n",
    "plt.subplot(2,1,1)\n",
    "sns.barplot(tmp1['Coupon Code'], tmp1['Coupon Usage Rate'])\n",
    "plt.xlabel(\"Coupons\")\n",
    "plt.ylabel(\"Coupon Usage Rate\")\n",
    "\n",
    "plt.figure(figsize=(25, 8))\n",
    "plt.subplot(2,1,1)\n",
    "sns.barplot(tmp2['Coupon Code'], tmp2['Coupon Rev Gen Rate'])\n",
    "plt.xlabel(\"Coupons\")\n",
    "plt.ylabel(\"Coupon Rev Gen Rate\")\n",
    "\n",
    "plt.title(\"Coupon Analysis\")\n",
    "plt.show()"
   ]
  },
  {
   "cell_type": "markdown",
   "metadata": {},
   "source": [
    "The above analysis, however, prints a different picture on the impact of the promo campaign. The impact that the friendship promo campaign has had compared to other coupons is quite significant, and it stands 5th on the list."
   ]
  },
  {
   "cell_type": "markdown",
   "metadata": {},
   "source": [
    "Now, let's delve into the coupon code that we're interested in: the Friendship Sale Promotion"
   ]
  },
  {
   "cell_type": "markdown",
   "metadata": {},
   "source": [
    "#### EDA on the dataset filtered for the order using the Friendship Sale Promotion Code"
   ]
  },
  {
   "cell_type": "code",
   "execution_count": 51,
   "metadata": {},
   "outputs": [
    {
     "data": {
      "text/html": [
       "<div>\n",
       "<style scoped>\n",
       "    .dataframe tbody tr th:only-of-type {\n",
       "        vertical-align: middle;\n",
       "    }\n",
       "\n",
       "    .dataframe tbody tr th {\n",
       "        vertical-align: top;\n",
       "    }\n",
       "\n",
       "    .dataframe thead th {\n",
       "        text-align: right;\n",
       "    }\n",
       "</style>\n",
       "<table border=\"1\" class=\"dataframe\">\n",
       "  <thead>\n",
       "    <tr style=\"text-align: right;\">\n",
       "      <th></th>\n",
       "      <th>ord_num</th>\n",
       "      <th>ord_lin_no</th>\n",
       "      <th>ord_dt</th>\n",
       "      <th>ord_line_status</th>\n",
       "      <th>ord_hdr_status</th>\n",
       "      <th>ord_type</th>\n",
       "      <th>cncl_dol</th>\n",
       "      <th>rtn_dol</th>\n",
       "      <th>dmd_dol</th>\n",
       "      <th>dmd_units</th>\n",
       "      <th>...</th>\n",
       "      <th>PC_ECOM_CD_7</th>\n",
       "      <th>PC_ECOM_CD_8</th>\n",
       "      <th>PC_ECOM_CD_9</th>\n",
       "      <th>ord_hour</th>\n",
       "      <th>ord_dow</th>\n",
       "      <th>ord_mnth</th>\n",
       "      <th>ord_year</th>\n",
       "      <th>ord_date</th>\n",
       "      <th>dmd_dol_per_unit</th>\n",
       "      <th>coupons_used</th>\n",
       "    </tr>\n",
       "  </thead>\n",
       "  <tbody>\n",
       "    <tr>\n",
       "      <th>0</th>\n",
       "      <td>6834991.0</td>\n",
       "      <td>17723704.0</td>\n",
       "      <td>2018-12-16 15:18:53</td>\n",
       "      <td>D</td>\n",
       "      <td>S</td>\n",
       "      <td>WEB</td>\n",
       "      <td>0.00</td>\n",
       "      <td>0.0</td>\n",
       "      <td>4199.86</td>\n",
       "      <td>10.0</td>\n",
       "      <td>...</td>\n",
       "      <td>0.0</td>\n",
       "      <td>0.0</td>\n",
       "      <td>0.0</td>\n",
       "      <td>15</td>\n",
       "      <td>6</td>\n",
       "      <td>12</td>\n",
       "      <td>2018</td>\n",
       "      <td>2018-12-16</td>\n",
       "      <td>419.986</td>\n",
       "      <td>2.0</td>\n",
       "    </tr>\n",
       "    <tr>\n",
       "      <th>1</th>\n",
       "      <td>6819044.0</td>\n",
       "      <td>17689222.0</td>\n",
       "      <td>2018-12-14 22:45:30</td>\n",
       "      <td>D</td>\n",
       "      <td>S</td>\n",
       "      <td>WEB</td>\n",
       "      <td>0.00</td>\n",
       "      <td>0.0</td>\n",
       "      <td>839.86</td>\n",
       "      <td>10.0</td>\n",
       "      <td>...</td>\n",
       "      <td>0.0</td>\n",
       "      <td>0.0</td>\n",
       "      <td>0.0</td>\n",
       "      <td>22</td>\n",
       "      <td>4</td>\n",
       "      <td>12</td>\n",
       "      <td>2018</td>\n",
       "      <td>2018-12-14</td>\n",
       "      <td>83.986</td>\n",
       "      <td>1.0</td>\n",
       "    </tr>\n",
       "    <tr>\n",
       "      <th>2</th>\n",
       "      <td>9867652.0</td>\n",
       "      <td>24208598.0</td>\n",
       "      <td>2020-03-21 19:21:31</td>\n",
       "      <td>D</td>\n",
       "      <td>S</td>\n",
       "      <td>WEB</td>\n",
       "      <td>0.00</td>\n",
       "      <td>0.0</td>\n",
       "      <td>188.86</td>\n",
       "      <td>10.0</td>\n",
       "      <td>...</td>\n",
       "      <td>0.0</td>\n",
       "      <td>0.0</td>\n",
       "      <td>0.0</td>\n",
       "      <td>19</td>\n",
       "      <td>5</td>\n",
       "      <td>3</td>\n",
       "      <td>2020</td>\n",
       "      <td>2020-03-21</td>\n",
       "      <td>18.886</td>\n",
       "      <td>1.0</td>\n",
       "    </tr>\n",
       "    <tr>\n",
       "      <th>3</th>\n",
       "      <td>8430663.0</td>\n",
       "      <td>21171646.0</td>\n",
       "      <td>2019-09-23 00:36:01</td>\n",
       "      <td>D</td>\n",
       "      <td>S</td>\n",
       "      <td>MOB</td>\n",
       "      <td>0.00</td>\n",
       "      <td>0.0</td>\n",
       "      <td>2099.86</td>\n",
       "      <td>10.0</td>\n",
       "      <td>...</td>\n",
       "      <td>0.0</td>\n",
       "      <td>0.0</td>\n",
       "      <td>0.0</td>\n",
       "      <td>0</td>\n",
       "      <td>0</td>\n",
       "      <td>9</td>\n",
       "      <td>2019</td>\n",
       "      <td>2019-09-23</td>\n",
       "      <td>209.986</td>\n",
       "      <td>1.0</td>\n",
       "    </tr>\n",
       "    <tr>\n",
       "      <th>4</th>\n",
       "      <td>9885109.0</td>\n",
       "      <td>24257295.0</td>\n",
       "      <td>2020-03-23 12:57:31</td>\n",
       "      <td>X</td>\n",
       "      <td>X</td>\n",
       "      <td>WEB</td>\n",
       "      <td>37.49</td>\n",
       "      <td>0.0</td>\n",
       "      <td>524.86</td>\n",
       "      <td>10.0</td>\n",
       "      <td>...</td>\n",
       "      <td>0.0</td>\n",
       "      <td>0.0</td>\n",
       "      <td>0.0</td>\n",
       "      <td>12</td>\n",
       "      <td>0</td>\n",
       "      <td>3</td>\n",
       "      <td>2020</td>\n",
       "      <td>2020-03-23</td>\n",
       "      <td>52.486</td>\n",
       "      <td>2.0</td>\n",
       "    </tr>\n",
       "  </tbody>\n",
       "</table>\n",
       "<p>5 rows × 44 columns</p>\n",
       "</div>"
      ],
      "text/plain": [
       "     ord_num  ord_lin_no              ord_dt ord_line_status ord_hdr_status  \\\n",
       "0  6834991.0  17723704.0 2018-12-16 15:18:53               D              S   \n",
       "1  6819044.0  17689222.0 2018-12-14 22:45:30               D              S   \n",
       "2  9867652.0  24208598.0 2020-03-21 19:21:31               D              S   \n",
       "3  8430663.0  21171646.0 2019-09-23 00:36:01               D              S   \n",
       "4  9885109.0  24257295.0 2020-03-23 12:57:31               X              X   \n",
       "\n",
       "  ord_type  cncl_dol  rtn_dol  dmd_dol  dmd_units  ...  PC_ECOM_CD_7  \\\n",
       "0      WEB      0.00      0.0  4199.86       10.0  ...           0.0   \n",
       "1      WEB      0.00      0.0   839.86       10.0  ...           0.0   \n",
       "2      WEB      0.00      0.0   188.86       10.0  ...           0.0   \n",
       "3      MOB      0.00      0.0  2099.86       10.0  ...           0.0   \n",
       "4      WEB     37.49      0.0   524.86       10.0  ...           0.0   \n",
       "\n",
       "   PC_ECOM_CD_8  PC_ECOM_CD_9  ord_hour  ord_dow  ord_mnth  ord_year  \\\n",
       "0           0.0           0.0        15        6        12      2018   \n",
       "1           0.0           0.0        22        4        12      2018   \n",
       "2           0.0           0.0        19        5         3      2020   \n",
       "3           0.0           0.0         0        0         9      2019   \n",
       "4           0.0           0.0        12        0         3      2020   \n",
       "\n",
       "     ord_date  dmd_dol_per_unit coupons_used  \n",
       "0  2018-12-16           419.986          2.0  \n",
       "1  2018-12-14            83.986          1.0  \n",
       "2  2020-03-21            18.886          1.0  \n",
       "3  2019-09-23           209.986          1.0  \n",
       "4  2020-03-23            52.486          2.0  \n",
       "\n",
       "[5 rows x 44 columns]"
      ]
     },
     "execution_count": 51,
     "metadata": {},
     "output_type": "execute_result"
    }
   ],
   "source": [
    "friendship_master = order_master.loc[order_master['PC_ECOM_CD_5']==1, :].reset_index(drop=True)\n",
    "friendship_master.head()"
   ]
  },
  {
   "cell_type": "code",
   "execution_count": 52,
   "metadata": {},
   "outputs": [
    {
     "data": {
      "text/plain": [
       "(69795, 44)"
      ]
     },
     "execution_count": 52,
     "metadata": {},
     "output_type": "execute_result"
    }
   ],
   "source": [
    "friendship_master.shape"
   ]
  },
  {
   "cell_type": "markdown",
   "metadata": {},
   "source": [
    "Let's try to extract some insights around how, when and where are the users using this specific code."
   ]
  },
  {
   "cell_type": "code",
   "execution_count": 53,
   "metadata": {},
   "outputs": [
    {
     "data": {
      "image/png": "[encoded data removed]",
      "text/plain": [
       "<Figure size 1080x216 with 1 Axes>"
      ]
     },
     "metadata": {
      "needs_background": "light"
     },
     "output_type": "display_data"
    }
   ],
   "source": [
    "# Identifying the revenue generated by orders using this coupon\n",
    "timeline = order_master[['ord_date', 'PC_ECOM_CD_5', 'dmd_dol']].copy()\n",
    "timeline['friendship_coupon_revenue'] = timeline['PC_ECOM_CD_5'] * timeline['dmd_dol']\n",
    "\n",
    "timeline = timeline.groupby(['ord_date'], as_index=False).agg({'friendship_coupon_revenue':'sum'})\n",
    "timeline.columns = ['ord_date', 'friendship_coupon_revenue']\n",
    "total_frndshp_rev = sum(timeline['friendship_coupon_revenue'])\n",
    "timeline['share_of_coupon_revenue'] = timeline['friendship_coupon_revenue']*100/total_frndshp_rev\n",
    "timeline = timeline.sort_values(['ord_date'])\n",
    "\n",
    "plt.figure(figsize=(15, 3))\n",
    "plt.plot(timeline.ord_date, timeline.friendship_coupon_revenue)\n",
    "plt.xlabel(\"Timeline\")\n",
    "plt.ylabel(\"Share of Friendship Coupon Revenue\")\n",
    "plt.title(\"Timeline Analysis\")\n",
    "plt.show()\n"
   ]
  },
  {
   "cell_type": "markdown",
   "metadata": {},
   "source": [
    "From the timeline, we observe that the friendship coupon over the years was used during only certain portions of the timeline. The greatest share of revenue generated, however, was the burst of March 2020."
   ]
  },
  {
   "cell_type": "markdown",
   "metadata": {},
   "source": [
    "In our problem statement, we specifically want to see how effective the friendship campaign of March 2020 was. As a result, let's isolate the campaign for this specific month, and then test out the 2 derived impact metrics that we discussed previously to understand where on the list of importance does this coupon fall."
   ]
  },
  {
   "cell_type": "code",
   "execution_count": 54,
   "metadata": {},
   "outputs": [],
   "source": [
    "# First, let's create a new column to capture the friendship promo data for just the month of March 2020\n",
    "\n",
    "order_master['PC_ECOM_CD_5_MAR20'] = 0\n",
    "order_master.loc[(order_master['PC_ECOM_CD_5']==1)&(order_master['ord_mnth']==3)&(order_master['ord_year']==2020), 'PC_ECOM_CD_5_MAR20'] = 1"
   ]
  },
  {
   "cell_type": "code",
   "execution_count": 55,
   "metadata": {},
   "outputs": [
    {
     "data": {
      "image/png": "[encoded data removed]",
      "text/plain": [
       "<Figure size 2160x576 with 1 Axes>"
      ]
     },
     "metadata": {
      "needs_background": "light"
     },
     "output_type": "display_data"
    },
    {
     "data": {
      "image/png": "[encoded data removed]",
      "text/plain": [
       "<Figure size 2160x576 with 1 Axes>"
      ]
     },
     "metadata": {
      "needs_background": "light"
     },
     "output_type": "display_data"
    }
   ],
   "source": [
    "coupon_ls = ['PC_ECOM_CD_1', 'PC_ECOM_CD_2', 'PC_ECOM_CD_3', 'PC_ECOM_CD_4', 'PC_ECOM_CD_5', 'PC_ECOM_CD_6', 'PC_ECOM_CD_7',\n",
    "             'PC_ECOM_CD_8', 'PC_ECOM_CD_9', 'PC_ECOM_CD_10', 'PC_ECOM_CD_11', 'PC_ECOM_CD_12', 'PC_ECOM_CD_13', 'PC_ECOM_CD_14',\n",
    "             'PC_ECOM_CD_15', 'PC_ECOM_CD_5_MAR20']\n",
    "coupon_cnt = []\n",
    "coupon_rev = []\n",
    "coupon_dt = []\n",
    "\n",
    "for i in coupon_ls:\n",
    "    coupon_cnt.append(order_master[i].sum())\n",
    "    coupon_rev.append(order_master.loc[order_master[i]==1, 'dmd_dol'].sum())\n",
    "    coupon_dt.append(order_master.loc[order_master[i]==1, 'ord_date'].nunique())\n",
    "    \n",
    "coupon_usage = pd.DataFrame({'Coupon Code': coupon_ls, 'Coupons Used': coupon_cnt, 'Sales': coupon_rev, 'Coupon Period': coupon_dt})\n",
    "\n",
    "# Create a dummy df with the required list and the col name to sort on\n",
    "coupon_usage2 = pd.Series(coupon_ls, name = 'Coupon Code').to_frame()\n",
    "\n",
    "# Use left merge on the dummy to return a sorted df\n",
    "coupon_usage = pd.merge(coupon_usage2, coupon_usage, on = 'Coupon Code', how = 'left')\n",
    "\n",
    "# Deriving the new metrics\n",
    "coupon_usage['Coupon Usage Rate'] = coupon_usage['Coupons Used']/coupon_usage['Coupon Period']\n",
    "coupon_usage['Coupon Rev Gen Rate'] = coupon_usage['Sales']/coupon_usage['Coupon Period']\n",
    "\n",
    "coupon_usage\n",
    "\n",
    "tmp1 = coupon_usage.sort_values('Coupon Usage Rate', ascending=False)\n",
    "tmp2 = coupon_usage.sort_values('Coupon Rev Gen Rate', ascending=False)\n",
    "\n",
    "plt.figure(figsize=(30, 8))\n",
    "plt.subplot(2,1,1)\n",
    "sns.barplot(tmp1['Coupon Code'], tmp1['Coupon Usage Rate'])\n",
    "plt.xlabel(\"Coupons\")\n",
    "plt.ylabel(\"Coupon Usage Rate\")\n",
    "\n",
    "plt.figure(figsize=(30, 8))\n",
    "plt.subplot(2,1,1)\n",
    "sns.barplot(tmp2['Coupon Code'], tmp2['Coupon Rev Gen Rate'])\n",
    "plt.xlabel(\"Coupons\")\n",
    "plt.ylabel(\"Coupon Rev Gen Rate\")\n",
    "\n",
    "plt.title(\"Coupon Analysis\")\n",
    "plt.show()"
   ]
  },
  {
   "cell_type": "markdown",
   "metadata": {},
   "source": [
    "The impact of our friendship campaign in the month of Mar 2020 is now even more glaring!! In terms of both the revenue generation rate and the coupon usage rate, the friendship sale promo code for Mar 2020 is second on the list!!"
   ]
  },
  {
   "cell_type": "markdown",
   "metadata": {},
   "source": [
    "Finally, another important computation is to check whether we were able to drive any incremental sales."
   ]
  },
  {
   "cell_type": "markdown",
   "metadata": {},
   "source": [
    "In order to compute incremental sales: we'll use the following formula:\n",
    "\n",
    "`Incremental Sales = New Sales - Baseline Sales`\n",
    "\n",
    "`Incremental Sales Uplift = (New Sales - Baseline Sales) / Baseline Sales`\n",
    "\n",
    "Where, `New Sales` = Sales after promo code and `Baseline Sales` = Sales without any promo code\n",
    "\n",
    "Since we need to ensure that the period over which these 2 sales values should be consistent, we will use the revenue generation rate metric instead of the sales metric to compute the incremental sales\n"
   ]
  },
  {
   "cell_type": "code",
   "execution_count": 56,
   "metadata": {},
   "outputs": [
    {
     "data": {
      "text/html": [
       "<div>\n",
       "<style scoped>\n",
       "    .dataframe tbody tr th:only-of-type {\n",
       "        vertical-align: middle;\n",
       "    }\n",
       "\n",
       "    .dataframe tbody tr th {\n",
       "        vertical-align: top;\n",
       "    }\n",
       "\n",
       "    .dataframe thead th {\n",
       "        text-align: right;\n",
       "    }\n",
       "</style>\n",
       "<table border=\"1\" class=\"dataframe\">\n",
       "  <thead>\n",
       "    <tr style=\"text-align: right;\">\n",
       "      <th></th>\n",
       "      <th>Coupon Code</th>\n",
       "      <th>Sales</th>\n",
       "      <th>Coupon Period</th>\n",
       "      <th>Coupon Rev Gen Rate</th>\n",
       "    </tr>\n",
       "  </thead>\n",
       "  <tbody>\n",
       "    <tr>\n",
       "      <th>0</th>\n",
       "      <td>BASELINE</td>\n",
       "      <td>3.580293e+09</td>\n",
       "      <td>878</td>\n",
       "      <td>4.077782e+06</td>\n",
       "    </tr>\n",
       "    <tr>\n",
       "      <th>1</th>\n",
       "      <td>PC_ECOM_CD_5_MAR20</td>\n",
       "      <td>4.093104e+07</td>\n",
       "      <td>3</td>\n",
       "      <td>1.364368e+07</td>\n",
       "    </tr>\n",
       "  </tbody>\n",
       "</table>\n",
       "</div>"
      ],
      "text/plain": [
       "          Coupon Code         Sales  Coupon Period  Coupon Rev Gen Rate\n",
       "0            BASELINE  3.580293e+09            878         4.077782e+06\n",
       "1  PC_ECOM_CD_5_MAR20  4.093104e+07              3         1.364368e+07"
      ]
     },
     "execution_count": 56,
     "metadata": {},
     "output_type": "execute_result"
    }
   ],
   "source": [
    "coupon_ls = ['BASELINE', 'PC_ECOM_CD_5_MAR20']\n",
    "coupon_cnt = []\n",
    "coupon_rev = []\n",
    "coupon_dt = []\n",
    "\n",
    "coupon_rev.append(order_master.loc[order_master['coupons_used']==0, 'dmd_dol'].sum())\n",
    "coupon_dt.append(order_master.loc[order_master['coupons_used']==0, 'ord_date'].nunique())\n",
    "\n",
    "coupon_rev.append(order_master.loc[order_master['PC_ECOM_CD_5_MAR20']==1, 'dmd_dol'].sum())\n",
    "coupon_dt.append(order_master.loc[order_master['PC_ECOM_CD_5_MAR20']==1, 'ord_date'].nunique())\n",
    "\n",
    "coupon_usage = pd.DataFrame({'Coupon Code': coupon_ls, 'Sales': coupon_rev, 'Coupon Period': coupon_dt})\n",
    "\n",
    "# Create a dummy df with the required list and the col name to sort on\n",
    "coupon_usage2 = pd.Series(coupon_ls, name = 'Coupon Code').to_frame()\n",
    "\n",
    "# Use left merge on the dummy to return a sorted df\n",
    "coupon_usage = pd.merge(coupon_usage2, coupon_usage, on = 'Coupon Code', how = 'left')\n",
    "\n",
    "coupon_usage['Coupon Rev Gen Rate'] = coupon_usage['Sales']/coupon_usage['Coupon Period']\n",
    "\n",
    "coupon_usage"
   ]
  },
  {
   "cell_type": "markdown",
   "metadata": {},
   "source": [
    "Computing the Incremental Sales Uplift for the Friendship Sale Campaign that ran in Mar20 compared to baseline sales:"
   ]
  },
  {
   "cell_type": "code",
   "execution_count": 57,
   "metadata": {},
   "outputs": [
    {
     "data": {
      "text/plain": [
       "235.0"
      ]
     },
     "execution_count": 57,
     "metadata": {},
     "output_type": "execute_result"
    }
   ],
   "source": [
    "baseline_sales = coupon_usage.loc[coupon_usage['Coupon Code']=='BASELINE', \"Coupon Rev Gen Rate\"].reset_index(drop=True)[0]\n",
    "new_sales = coupon_usage.loc[coupon_usage['Coupon Code']=='PC_ECOM_CD_5_MAR20', \"Coupon Rev Gen Rate\"].reset_index(drop=True)[0]\n",
    "\n",
    "incremental_sales_uplift = (new_sales - baseline_sales)*100 / baseline_sales\n",
    "round(incremental_sales_uplift, 0)"
   ]
  },
  {
   "cell_type": "markdown",
   "metadata": {},
   "source": [
    "**We observe that the friendship promo campaign that ran in March 20 has an incremental uplift of 235% over the baseline sales!!!**"
   ]
  },
  {
   "cell_type": "markdown",
   "metadata": {},
   "source": [
    "With the above analysis, we are able to really quantify the kind of impact that our campaign has had!"
   ]
  },
  {
   "cell_type": "markdown",
   "metadata": {},
   "source": [
    "With this, we can conclude the exploratory data analysis section, and proceed to the model building phase. Before proceeding to the model building phase, there are some final steps of data preparation that we need to take into account"
   ]
  },
  {
   "cell_type": "markdown",
   "metadata": {},
   "source": [
    "### Preparing the data for modeling"
   ]
  },
  {
   "cell_type": "code",
   "execution_count": 58,
   "metadata": {},
   "outputs": [],
   "source": [
    "# Dividing the column into different types\n",
    "num_vars = ['cncl_dol', 'rtn_dol', 'dmd_dol', 'dmd_units', 'RTN_UNITS', 'cncl_units', 'dmd_dol_per_unit', 'coupons_used']\n",
    "\n",
    "cat_vars = ['ord_line_status', 'ord_hdr_status', 'ord_type', 'Loyalty_Ind', 'Emp_Ind', 'Fship_Ind', 'Subcat_ID', \n",
    "            'Cat_ID', 'Dept_id', 'international_order_ind', 'State_Shipped', 'Cntry_Shipped', 'PC_ECOM_CD_1', 'PC_ECOM_CD_10',\n",
    "            'PC_ECOM_CD_11', 'PC_ECOM_CD_12', 'PC_ECOM_CD_13', 'PC_ECOM_CD_14', 'PC_ECOM_CD_15', 'PC_ECOM_CD_2', 'PC_ECOM_CD_3',\n",
    "            'PC_ECOM_CD_4', 'PC_ECOM_CD_5', 'PC_ECOM_CD_6', 'PC_ECOM_CD_7', 'PC_ECOM_CD_8', 'PC_ECOM_CD_9', \n",
    "            'PC_ECOM_CD_5_MAR20']\n",
    "\n",
    "temporal_vars = ['ord_hour', 'ord_dow', 'ord_mnth', 'ord_year', 'ord_date']\n",
    "\n",
    "id_vars = ['ord_num', 'ord_lin_no', 'skn_nbr']"
   ]
  },
  {
   "cell_type": "code",
   "execution_count": 59,
   "metadata": {},
   "outputs": [
    {
     "data": {
      "text/html": [
       "<div>\n",
       "<style scoped>\n",
       "    .dataframe tbody tr th:only-of-type {\n",
       "        vertical-align: middle;\n",
       "    }\n",
       "\n",
       "    .dataframe tbody tr th {\n",
       "        vertical-align: top;\n",
       "    }\n",
       "\n",
       "    .dataframe thead th {\n",
       "        text-align: right;\n",
       "    }\n",
       "</style>\n",
       "<table border=\"1\" class=\"dataframe\">\n",
       "  <thead>\n",
       "    <tr style=\"text-align: right;\">\n",
       "      <th></th>\n",
       "      <th>ord_num</th>\n",
       "      <th>ord_lin_no</th>\n",
       "      <th>ord_dt</th>\n",
       "      <th>ord_line_status</th>\n",
       "      <th>ord_hdr_status</th>\n",
       "      <th>ord_type</th>\n",
       "      <th>cncl_dol</th>\n",
       "      <th>rtn_dol</th>\n",
       "      <th>dmd_dol</th>\n",
       "      <th>dmd_units</th>\n",
       "      <th>...</th>\n",
       "      <th>PC_ECOM_CD_8</th>\n",
       "      <th>PC_ECOM_CD_9</th>\n",
       "      <th>ord_hour</th>\n",
       "      <th>ord_dow</th>\n",
       "      <th>ord_mnth</th>\n",
       "      <th>ord_year</th>\n",
       "      <th>ord_date</th>\n",
       "      <th>dmd_dol_per_unit</th>\n",
       "      <th>coupons_used</th>\n",
       "      <th>PC_ECOM_CD_5_MAR20</th>\n",
       "    </tr>\n",
       "  </thead>\n",
       "  <tbody>\n",
       "    <tr>\n",
       "      <th>0</th>\n",
       "      <td>9009772.0</td>\n",
       "      <td>22402482.0</td>\n",
       "      <td>2019-12-01 14:42:08</td>\n",
       "      <td>D</td>\n",
       "      <td>S</td>\n",
       "      <td>MOB</td>\n",
       "      <td>0.0</td>\n",
       "      <td>0.00</td>\n",
       "      <td>559.86</td>\n",
       "      <td>10.0</td>\n",
       "      <td>...</td>\n",
       "      <td>0.0</td>\n",
       "      <td>0.0</td>\n",
       "      <td>14</td>\n",
       "      <td>6</td>\n",
       "      <td>12</td>\n",
       "      <td>2019</td>\n",
       "      <td>2019-12-01</td>\n",
       "      <td>55.986</td>\n",
       "      <td>0.0</td>\n",
       "      <td>0</td>\n",
       "    </tr>\n",
       "    <tr>\n",
       "      <th>1</th>\n",
       "      <td>7343394.0</td>\n",
       "      <td>18785581.0</td>\n",
       "      <td>2019-03-12 17:17:18</td>\n",
       "      <td>D</td>\n",
       "      <td>S</td>\n",
       "      <td>WEB</td>\n",
       "      <td>0.0</td>\n",
       "      <td>0.00</td>\n",
       "      <td>2519.86</td>\n",
       "      <td>10.0</td>\n",
       "      <td>...</td>\n",
       "      <td>0.0</td>\n",
       "      <td>0.0</td>\n",
       "      <td>17</td>\n",
       "      <td>1</td>\n",
       "      <td>3</td>\n",
       "      <td>2019</td>\n",
       "      <td>2019-03-12</td>\n",
       "      <td>251.986</td>\n",
       "      <td>1.0</td>\n",
       "      <td>0</td>\n",
       "    </tr>\n",
       "    <tr>\n",
       "      <th>2</th>\n",
       "      <td>8653822.0</td>\n",
       "      <td>21630678.0</td>\n",
       "      <td>2019-10-26 21:09:37</td>\n",
       "      <td>D</td>\n",
       "      <td>S</td>\n",
       "      <td>MOB</td>\n",
       "      <td>0.0</td>\n",
       "      <td>0.00</td>\n",
       "      <td>5711.86</td>\n",
       "      <td>10.0</td>\n",
       "      <td>...</td>\n",
       "      <td>0.0</td>\n",
       "      <td>0.0</td>\n",
       "      <td>21</td>\n",
       "      <td>5</td>\n",
       "      <td>10</td>\n",
       "      <td>2019</td>\n",
       "      <td>2019-10-26</td>\n",
       "      <td>571.186</td>\n",
       "      <td>0.0</td>\n",
       "      <td>0</td>\n",
       "    </tr>\n",
       "    <tr>\n",
       "      <th>3</th>\n",
       "      <td>9295849.0</td>\n",
       "      <td>23038199.0</td>\n",
       "      <td>2019-12-26 08:00:03</td>\n",
       "      <td>X</td>\n",
       "      <td>X</td>\n",
       "      <td>WEB</td>\n",
       "      <td>46.0</td>\n",
       "      <td>0.00</td>\n",
       "      <td>644.00</td>\n",
       "      <td>10.0</td>\n",
       "      <td>...</td>\n",
       "      <td>0.0</td>\n",
       "      <td>0.0</td>\n",
       "      <td>8</td>\n",
       "      <td>3</td>\n",
       "      <td>12</td>\n",
       "      <td>2019</td>\n",
       "      <td>2019-12-26</td>\n",
       "      <td>64.400</td>\n",
       "      <td>0.0</td>\n",
       "      <td>0</td>\n",
       "    </tr>\n",
       "    <tr>\n",
       "      <th>4</th>\n",
       "      <td>5384524.0</td>\n",
       "      <td>14643824.0</td>\n",
       "      <td>2018-03-27 13:41:35</td>\n",
       "      <td>R</td>\n",
       "      <td>S</td>\n",
       "      <td>WEB</td>\n",
       "      <td>0.0</td>\n",
       "      <td>174.99</td>\n",
       "      <td>2449.86</td>\n",
       "      <td>10.0</td>\n",
       "      <td>...</td>\n",
       "      <td>0.0</td>\n",
       "      <td>0.0</td>\n",
       "      <td>13</td>\n",
       "      <td>1</td>\n",
       "      <td>3</td>\n",
       "      <td>2018</td>\n",
       "      <td>2018-03-27</td>\n",
       "      <td>244.986</td>\n",
       "      <td>0.0</td>\n",
       "      <td>0</td>\n",
       "    </tr>\n",
       "  </tbody>\n",
       "</table>\n",
       "<p>5 rows × 45 columns</p>\n",
       "</div>"
      ],
      "text/plain": [
       "     ord_num  ord_lin_no              ord_dt ord_line_status ord_hdr_status  \\\n",
       "0  9009772.0  22402482.0 2019-12-01 14:42:08               D              S   \n",
       "1  7343394.0  18785581.0 2019-03-12 17:17:18               D              S   \n",
       "2  8653822.0  21630678.0 2019-10-26 21:09:37               D              S   \n",
       "3  9295849.0  23038199.0 2019-12-26 08:00:03               X              X   \n",
       "4  5384524.0  14643824.0 2018-03-27 13:41:35               R              S   \n",
       "\n",
       "  ord_type  cncl_dol  rtn_dol  dmd_dol  dmd_units  ...  PC_ECOM_CD_8  \\\n",
       "0      MOB       0.0     0.00   559.86       10.0  ...           0.0   \n",
       "1      WEB       0.0     0.00  2519.86       10.0  ...           0.0   \n",
       "2      MOB       0.0     0.00  5711.86       10.0  ...           0.0   \n",
       "3      WEB      46.0     0.00   644.00       10.0  ...           0.0   \n",
       "4      WEB       0.0   174.99  2449.86       10.0  ...           0.0   \n",
       "\n",
       "   PC_ECOM_CD_9  ord_hour  ord_dow  ord_mnth  ord_year    ord_date  \\\n",
       "0           0.0        14        6        12      2019  2019-12-01   \n",
       "1           0.0        17        1         3      2019  2019-03-12   \n",
       "2           0.0        21        5        10      2019  2019-10-26   \n",
       "3           0.0         8        3        12      2019  2019-12-26   \n",
       "4           0.0        13        1         3      2018  2018-03-27   \n",
       "\n",
       "   dmd_dol_per_unit  coupons_used PC_ECOM_CD_5_MAR20  \n",
       "0            55.986           0.0                  0  \n",
       "1           251.986           1.0                  0  \n",
       "2           571.186           0.0                  0  \n",
       "3            64.400           0.0                  0  \n",
       "4           244.986           0.0                  0  \n",
       "\n",
       "[5 rows x 45 columns]"
      ]
     },
     "execution_count": 59,
     "metadata": {},
     "output_type": "execute_result"
    }
   ],
   "source": [
    "order_master.head()"
   ]
  },
  {
   "cell_type": "code",
   "execution_count": 60,
   "metadata": {},
   "outputs": [
    {
     "data": {
      "text/plain": [
       "Index(['ord_num', 'ord_lin_no', 'ord_dt', 'ord_line_status', 'ord_hdr_status',\n",
       "       'ord_type', 'cncl_dol', 'rtn_dol', 'dmd_dol', 'dmd_units',\n",
       "       'Loyalty_Ind', 'Emp_Ind', 'Fship_Ind', 'skn_nbr', 'Subcat_ID', 'Cat_ID',\n",
       "       'Dept_id', 'RTN_UNITS', 'cncl_units', 'international_order_ind',\n",
       "       'State_Shipped', 'Cntry_Shipped', 'PC_ECOM_CD_1', 'PC_ECOM_CD_10',\n",
       "       'PC_ECOM_CD_11', 'PC_ECOM_CD_12', 'PC_ECOM_CD_13', 'PC_ECOM_CD_14',\n",
       "       'PC_ECOM_CD_15', 'PC_ECOM_CD_2', 'PC_ECOM_CD_3', 'PC_ECOM_CD_4',\n",
       "       'PC_ECOM_CD_5', 'PC_ECOM_CD_6', 'PC_ECOM_CD_7', 'PC_ECOM_CD_8',\n",
       "       'PC_ECOM_CD_9', 'ord_hour', 'ord_dow', 'ord_mnth', 'ord_year',\n",
       "       'ord_date', 'dmd_dol_per_unit', 'coupons_used', 'PC_ECOM_CD_5_MAR20'],\n",
       "      dtype='object')"
      ]
     },
     "execution_count": 60,
     "metadata": {},
     "output_type": "execute_result"
    }
   ],
   "source": [
    "order_master.columns"
   ]
  },
  {
   "cell_type": "markdown",
   "metadata": {},
   "source": [
    "Firstly, we need to get rid of the outliers that exist in the numerical variables that we observed during our EDA. We'll eliminate all the rows that have numerical variables above the 95th percentile of their distribution"
   ]
  },
  {
   "cell_type": "code",
   "execution_count": 61,
   "metadata": {},
   "outputs": [],
   "source": [
    "# Outlier Treatment\n",
    "outlier_index = order_master.loc[(order_master['cncl_dol']>order_master['cncl_dol'].quantile(0.95))&\n",
    "                                      (order_master['cncl_dol']>order_master['cncl_dol'].quantile(0.95))&\n",
    "                                      (order_master['cncl_dol']>order_master['cncl_dol'].quantile(0.95))&\n",
    "                                      (order_master['cncl_dol']>order_master['cncl_dol'].quantile(0.95))&\n",
    "                                      (order_master['cncl_dol']>order_master['cncl_dol'].quantile(0.95))&\n",
    "                                      (order_master['cncl_dol']>order_master['cncl_dol'].quantile(0.95))&\n",
    "                                      (order_master['cncl_dol']>order_master['cncl_dol'].quantile(0.95)),:].index\n",
    "\n",
    "order_master_final = order_master.drop(outlier_index).reset_index(drop=True)\n"
   ]
  },
  {
   "cell_type": "markdown",
   "metadata": {},
   "source": [
    "Now, let's look at the temporal related variables. As mentioned previously, variables like hour, dayofweek and month follow a cyclical pattern, and hence we will encode them in that fashion. Let's replace eacch of these 3 variables with their correesponding sine and cosine values"
   ]
  },
  {
   "cell_type": "code",
   "execution_count": 62,
   "metadata": {},
   "outputs": [],
   "source": [
    "# Cyclical encoding of hour variable\n",
    "order_master_final['ord_hour_sin'] = np.sin(order_master_final['ord_hour']*(2.*np.pi/23))\n",
    "order_master_final['ord_hour_cos'] = np.cos(order_master_final['ord_hour']*(2.*np.pi/23))\n",
    "\n",
    "# Cyclical encoding of dow variable\n",
    "order_master_final['ord_dow_sin'] = np.sin(order_master_final['ord_dow']*(2.*np.pi/6))\n",
    "order_master_final['ord_dow_cos'] = np.cos(order_master_final['ord_dow']*(2.*np.pi/6))\n",
    "\n",
    "# Cyclical encoding of mnth variable\n",
    "order_master_final['ord_mnth_sin'] = np.sin(order_master_final['ord_mnth']*(2.*np.pi/12))\n",
    "order_master_final['ord_mnth_cos'] = np.cos(order_master_final['ord_mnth']*(2.*np.pi/12))\n"
   ]
  },
  {
   "cell_type": "markdown",
   "metadata": {},
   "source": [
    "Now, let's have a look at all the categorical variables in our dataset"
   ]
  },
  {
   "cell_type": "code",
   "execution_count": 63,
   "metadata": {},
   "outputs": [
    {
     "name": "stdout",
     "output_type": "stream",
     "text": [
      "D     3572203\n",
      "R      848068\n",
      "X       22110\n",
      "P        9377\n",
      "G         178\n",
      "S         171\n",
      "HY         79\n",
      "O          66\n",
      "U          28\n",
      "HC         22\n",
      "HB          6\n",
      "HR          4\n",
      "L           4\n",
      "W           3\n",
      "Name: ord_line_status, dtype: int64\n",
      "S    4436934\n",
      "X      15375\n",
      "J         10\n",
      "Name: ord_hdr_status, dtype: int64\n",
      "WEB    2974237\n",
      "MOB    1330466\n",
      "TEL     147616\n",
      "Name: ord_type, dtype: int64\n",
      "0.0    4024151\n",
      "1.0     428168\n",
      "Name: Loyalty_Ind, dtype: int64\n",
      "0.0    4419948\n",
      "1.0      32371\n",
      "Name: Emp_Ind, dtype: int64\n",
      "0.0    4452319\n",
      "Name: Fship_Ind, dtype: int64\n",
      "903.0    321678\n",
      "956.0    278233\n",
      "934.0    255081\n",
      "968.0    170561\n",
      "907.0    151733\n",
      "          ...  \n",
      "927.0        45\n",
      "849.0         9\n",
      "851.0         6\n",
      "973.0         4\n",
      "853.0         3\n",
      "Name: Subcat_ID, Length: 88, dtype: int64\n",
      "46.0    1206533\n",
      "47.0    1034637\n",
      "48.0     925232\n",
      "49.0     620788\n",
      "76.0     217750\n",
      "44.0     154722\n",
      "45.0     143991\n",
      "78.0      80489\n",
      "77.0      41678\n",
      "79.0      15419\n",
      "75.0       8905\n",
      "94.0       2098\n",
      "73.0         77\n",
      "Name: Cat_ID, dtype: int64\n",
      "4.0    4450221\n",
      "9.0       2098\n",
      "Name: Dept_id, dtype: int64\n",
      "F    4379845\n",
      "T      72474\n",
      "Name: international_order_ind, dtype: int64\n",
      "NY    765572\n",
      "CA    704748\n",
      "FL    325193\n",
      "NJ    319188\n",
      "TX    304413\n",
      "       ...  \n",
      "TR         1\n",
      "SY         1\n",
      "Ny         1\n",
      "LI         1\n",
      "Fl         1\n",
      "Name: State_Shipped, Length: 211, dtype: int64\n",
      "US    4380850\n",
      "CA      33438\n",
      "AU       5538\n",
      "MX       3703\n",
      "SA       3300\n",
      "       ...   \n",
      "UZ          1\n",
      "AG          1\n",
      "ME          1\n",
      "CD          1\n",
      "SX          1\n",
      "Name: Cntry_Shipped, Length: 154, dtype: int64\n",
      "0.0    3356109\n",
      "1.0    1096210\n",
      "Name: PC_ECOM_CD_1, dtype: int64\n",
      "0.0    4427113\n",
      "1.0      25206\n",
      "Name: PC_ECOM_CD_10, dtype: int64\n",
      "0.0    4428994\n",
      "1.0      23325\n",
      "Name: PC_ECOM_CD_11, dtype: int64\n",
      "0.0    4425979\n",
      "1.0      26340\n",
      "Name: PC_ECOM_CD_12, dtype: int64\n",
      "0.0    4430918\n",
      "1.0      21401\n",
      "Name: PC_ECOM_CD_13, dtype: int64\n",
      "0.0    4433083\n",
      "1.0      19236\n",
      "Name: PC_ECOM_CD_14, dtype: int64\n",
      "0.0    4434222\n",
      "1.0      18097\n",
      "Name: PC_ECOM_CD_15, dtype: int64\n",
      "0.0    3473601\n",
      "1.0     978718\n",
      "Name: PC_ECOM_CD_2, dtype: int64\n",
      "0.0    4374606\n",
      "1.0      77713\n",
      "Name: PC_ECOM_CD_3, dtype: int64\n",
      "0.0    4381660\n",
      "1.0      70659\n",
      "Name: PC_ECOM_CD_4, dtype: int64\n",
      "0.0    4386998\n",
      "1.0      65321\n",
      "Name: PC_ECOM_CD_5, dtype: int64\n",
      "0.0    4403249\n",
      "1.0      49070\n",
      "Name: PC_ECOM_CD_6, dtype: int64\n",
      "0.0    4405730\n",
      "1.0      46589\n",
      "Name: PC_ECOM_CD_7, dtype: int64\n",
      "0.0    4420868\n",
      "1.0      31451\n",
      "Name: PC_ECOM_CD_8, dtype: int64\n",
      "0.0    4426006\n",
      "1.0      26313\n",
      "Name: PC_ECOM_CD_9, dtype: int64\n",
      "0    4435703\n",
      "1      16616\n",
      "Name: PC_ECOM_CD_5_MAR20, dtype: int64\n"
     ]
    }
   ],
   "source": [
    "for i in cat_vars:\n",
    "    print(order_master_final[i].value_counts())"
   ]
  },
  {
   "cell_type": "code",
   "execution_count": 64,
   "metadata": {},
   "outputs": [],
   "source": [
    "# Dummy Encoding the relevant categorical variables\n",
    "\n",
    "# The ord_line_status variable\n",
    "ord_line_status_levels = pd.get_dummies(order_master_final['ord_line_status'])\n",
    "col_ls = []\n",
    "for i in range(len(ord_line_status_levels.columns)):\n",
    "    col_ls.append(str(\"ord_line_status_\")+str(ord_line_status_levels.columns[i]))\n",
    "ord_line_status_levels.columns = col_ls\n",
    "order_master_final = pd.concat([order_master_final, ord_line_status_levels], axis = 1)\n",
    "\n",
    "\n",
    "# The ord_line_status variable\n",
    "dummy_levels = pd.get_dummies(order_master_final['ord_hdr_status'])\n",
    "col_ls = []\n",
    "for i in range(len(dummy_levels.columns)):\n",
    "    col_ls.append(str(\"ord_hdr_status_\")+str(dummy_levels.columns[i]))\n",
    "dummy_levels.columns = col_ls\n",
    "order_master_final = pd.concat([order_master_final, dummy_levels], axis = 1)\n",
    "\n",
    "# The ord_type variable\n",
    "dummy_levels = pd.get_dummies(order_master_final['ord_type'])\n",
    "col_ls = []\n",
    "for i in range(len(dummy_levels.columns)):\n",
    "    col_ls.append(str(\"ord_type_\")+str(dummy_levels.columns[i]))\n",
    "dummy_levels.columns = col_ls\n",
    "order_master_final = pd.concat([order_master_final, dummy_levels], axis = 1)\n",
    "\n",
    "\n",
    "# The Cat_ID variable\n",
    "dummy_levels = pd.get_dummies(order_master_final['Cat_ID'])\n",
    "col_ls = []\n",
    "for i in range(len(dummy_levels.columns)):\n",
    "    col_ls.append(str(\"Cat_ID_\")+str(dummy_levels.columns[i]))    \n",
    "dummy_levels.columns = col_ls\n",
    "order_master_final = pd.concat([order_master_final, dummy_levels], axis = 1)\n",
    "\n",
    "# The ord_year variable\n",
    "dummy_levels = pd.get_dummies(order_master_final['ord_year'])\n",
    "col_ls = []\n",
    "for i in range(len(dummy_levels.columns)):\n",
    "    col_ls.append(str(\"ord_year_\")+str(dummy_levels.columns[i]))    \n",
    "dummy_levels.columns = col_ls\n",
    "order_master_final = pd.concat([order_master_final, dummy_levels], axis = 1)\n"
   ]
  },
  {
   "cell_type": "code",
   "execution_count": 65,
   "metadata": {},
   "outputs": [],
   "source": [
    "# Binary encoding for categories with just 2 levels of data\n",
    "# The Dept_id variable\n",
    "order_master_final.loc[order_master_final['Dept_id']==4.0, 'Dept_id'] = 0\n",
    "order_master_final.loc[order_master_final['Dept_id']==9.0, 'Dept_id'] = 1\n",
    "\n",
    "# The Dept_id variable\n",
    "order_master_final.loc[order_master_final['international_order_ind']=='F', 'international_order_ind'] = 0\n",
    "order_master_final.loc[order_master_final['international_order_ind']=='T', 'international_order_ind'] = 1"
   ]
  },
  {
   "cell_type": "markdown",
   "metadata": {},
   "source": [
    "We're now left with categorical variables that have very high cardinality: 'Subcat_ID', 'State_Shipped', 'Cntry_Shipped'.\n",
    "\n",
    "As for the country column, we've seen that it is massivley skewed towards the US, and hence we will go ahead and drop the column. Also, we make the decision to drop the Subcat_ID column as we're capturing an upper level of this variable using the Cat Id and the problem we're working towards is more concerned about the impact of the promo code.\n",
    "\n",
    "We could train a model while including these variables using other encoding methods too, but we'll skip them for now.\n",
    "\n",
    "As for the State_Shipped column, this seems relevant as there is no massive one-sided skew like the country column. But die to the very high cardinality in this column, we will perform target encoding here to deal with this"
   ]
  },
  {
   "cell_type": "code",
   "execution_count": 66,
   "metadata": {},
   "outputs": [],
   "source": [
    "# Target Encoding for State_Shipped column\n",
    "# Here, we will replace the values for the different states with the median value for sales\n",
    "\n",
    "state_enc = pd.DataFrame(order_master_final.groupby('State_Shipped')['dmd_dol'].median()).reset_index()\n",
    "state_enc.columns = ['State_Shipped', 'State_Shipped_Encoded']\n",
    "\n",
    "order_master_final = pd.merge(order_master_final, state_enc, on = 'State_Shipped', how = 'left')"
   ]
  },
  {
   "cell_type": "markdown",
   "metadata": {},
   "source": [
    "Finally, let's drop all the unnecessary columns from our datarfame"
   ]
  },
  {
   "cell_type": "code",
   "execution_count": 67,
   "metadata": {},
   "outputs": [],
   "source": [
    "order_master_final = order_master_final.drop(['ord_lin_no', 'ord_dt', 'Fship_Ind', 'skn_nbr', 'Subcat_ID', 'State_Shipped', \n",
    "                                              'Cntry_Shipped', 'ord_hour', 'ord_dow', 'ord_mnth', 'ord_year', 'ord_date', \n",
    "                                              'ord_line_status', 'ord_hdr_status', 'ord_type', 'Cat_ID'], axis = 1)"
   ]
  },
  {
   "cell_type": "code",
   "execution_count": 68,
   "metadata": {},
   "outputs": [
    {
     "data": {
      "text/html": [
       "<div>\n",
       "<style scoped>\n",
       "    .dataframe tbody tr th:only-of-type {\n",
       "        vertical-align: middle;\n",
       "    }\n",
       "\n",
       "    .dataframe tbody tr th {\n",
       "        vertical-align: top;\n",
       "    }\n",
       "\n",
       "    .dataframe thead th {\n",
       "        text-align: right;\n",
       "    }\n",
       "</style>\n",
       "<table border=\"1\" class=\"dataframe\">\n",
       "  <thead>\n",
       "    <tr style=\"text-align: right;\">\n",
       "      <th></th>\n",
       "      <th>ord_num</th>\n",
       "      <th>cncl_dol</th>\n",
       "      <th>rtn_dol</th>\n",
       "      <th>dmd_dol</th>\n",
       "      <th>dmd_units</th>\n",
       "      <th>Loyalty_Ind</th>\n",
       "      <th>Emp_Ind</th>\n",
       "      <th>Dept_id</th>\n",
       "      <th>RTN_UNITS</th>\n",
       "      <th>cncl_units</th>\n",
       "      <th>...</th>\n",
       "      <th>Cat_ID_75.0</th>\n",
       "      <th>Cat_ID_76.0</th>\n",
       "      <th>Cat_ID_77.0</th>\n",
       "      <th>Cat_ID_78.0</th>\n",
       "      <th>Cat_ID_79.0</th>\n",
       "      <th>Cat_ID_94.0</th>\n",
       "      <th>ord_year_2018</th>\n",
       "      <th>ord_year_2019</th>\n",
       "      <th>ord_year_2020</th>\n",
       "      <th>State_Shipped_Encoded</th>\n",
       "    </tr>\n",
       "  </thead>\n",
       "  <tbody>\n",
       "    <tr>\n",
       "      <th>0</th>\n",
       "      <td>9009772.0</td>\n",
       "      <td>0.0</td>\n",
       "      <td>0.00</td>\n",
       "      <td>559.86</td>\n",
       "      <td>10.0</td>\n",
       "      <td>0.0</td>\n",
       "      <td>0.0</td>\n",
       "      <td>0.0</td>\n",
       "      <td>0.0</td>\n",
       "      <td>0.0</td>\n",
       "      <td>...</td>\n",
       "      <td>0</td>\n",
       "      <td>0</td>\n",
       "      <td>0</td>\n",
       "      <td>0</td>\n",
       "      <td>0</td>\n",
       "      <td>0</td>\n",
       "      <td>0</td>\n",
       "      <td>1</td>\n",
       "      <td>0</td>\n",
       "      <td>979.86</td>\n",
       "    </tr>\n",
       "    <tr>\n",
       "      <th>1</th>\n",
       "      <td>7343394.0</td>\n",
       "      <td>0.0</td>\n",
       "      <td>0.00</td>\n",
       "      <td>2519.86</td>\n",
       "      <td>10.0</td>\n",
       "      <td>0.0</td>\n",
       "      <td>0.0</td>\n",
       "      <td>0.0</td>\n",
       "      <td>0.0</td>\n",
       "      <td>0.0</td>\n",
       "      <td>...</td>\n",
       "      <td>0</td>\n",
       "      <td>0</td>\n",
       "      <td>0</td>\n",
       "      <td>0</td>\n",
       "      <td>0</td>\n",
       "      <td>0</td>\n",
       "      <td>0</td>\n",
       "      <td>1</td>\n",
       "      <td>0</td>\n",
       "      <td>1075.06</td>\n",
       "    </tr>\n",
       "    <tr>\n",
       "      <th>2</th>\n",
       "      <td>8653822.0</td>\n",
       "      <td>0.0</td>\n",
       "      <td>0.00</td>\n",
       "      <td>5711.86</td>\n",
       "      <td>10.0</td>\n",
       "      <td>0.0</td>\n",
       "      <td>0.0</td>\n",
       "      <td>0.0</td>\n",
       "      <td>0.0</td>\n",
       "      <td>0.0</td>\n",
       "      <td>...</td>\n",
       "      <td>0</td>\n",
       "      <td>0</td>\n",
       "      <td>0</td>\n",
       "      <td>0</td>\n",
       "      <td>0</td>\n",
       "      <td>0</td>\n",
       "      <td>0</td>\n",
       "      <td>1</td>\n",
       "      <td>0</td>\n",
       "      <td>1111.95</td>\n",
       "    </tr>\n",
       "    <tr>\n",
       "      <th>3</th>\n",
       "      <td>5384524.0</td>\n",
       "      <td>0.0</td>\n",
       "      <td>174.99</td>\n",
       "      <td>2449.86</td>\n",
       "      <td>10.0</td>\n",
       "      <td>0.0</td>\n",
       "      <td>0.0</td>\n",
       "      <td>0.0</td>\n",
       "      <td>1.0</td>\n",
       "      <td>0.0</td>\n",
       "      <td>...</td>\n",
       "      <td>0</td>\n",
       "      <td>0</td>\n",
       "      <td>0</td>\n",
       "      <td>0</td>\n",
       "      <td>0</td>\n",
       "      <td>0</td>\n",
       "      <td>1</td>\n",
       "      <td>0</td>\n",
       "      <td>0</td>\n",
       "      <td>1049.86</td>\n",
       "    </tr>\n",
       "    <tr>\n",
       "      <th>4</th>\n",
       "      <td>6393955.0</td>\n",
       "      <td>0.0</td>\n",
       "      <td>34.99</td>\n",
       "      <td>489.86</td>\n",
       "      <td>10.0</td>\n",
       "      <td>0.0</td>\n",
       "      <td>0.0</td>\n",
       "      <td>0.0</td>\n",
       "      <td>1.0</td>\n",
       "      <td>0.0</td>\n",
       "      <td>...</td>\n",
       "      <td>0</td>\n",
       "      <td>0</td>\n",
       "      <td>0</td>\n",
       "      <td>0</td>\n",
       "      <td>0</td>\n",
       "      <td>0</td>\n",
       "      <td>1</td>\n",
       "      <td>0</td>\n",
       "      <td>0</td>\n",
       "      <td>1119.72</td>\n",
       "    </tr>\n",
       "  </tbody>\n",
       "</table>\n",
       "<p>5 rows × 72 columns</p>\n",
       "</div>"
      ],
      "text/plain": [
       "     ord_num  cncl_dol  rtn_dol  dmd_dol  dmd_units  Loyalty_Ind  Emp_Ind  \\\n",
       "0  9009772.0       0.0     0.00   559.86       10.0          0.0      0.0   \n",
       "1  7343394.0       0.0     0.00  2519.86       10.0          0.0      0.0   \n",
       "2  8653822.0       0.0     0.00  5711.86       10.0          0.0      0.0   \n",
       "3  5384524.0       0.0   174.99  2449.86       10.0          0.0      0.0   \n",
       "4  6393955.0       0.0    34.99   489.86       10.0          0.0      0.0   \n",
       "\n",
       "   Dept_id  RTN_UNITS  cncl_units  ... Cat_ID_75.0  Cat_ID_76.0  Cat_ID_77.0  \\\n",
       "0      0.0        0.0         0.0  ...           0            0            0   \n",
       "1      0.0        0.0         0.0  ...           0            0            0   \n",
       "2      0.0        0.0         0.0  ...           0            0            0   \n",
       "3      0.0        1.0         0.0  ...           0            0            0   \n",
       "4      0.0        1.0         0.0  ...           0            0            0   \n",
       "\n",
       "   Cat_ID_78.0  Cat_ID_79.0  Cat_ID_94.0  ord_year_2018  ord_year_2019  \\\n",
       "0            0            0            0              0              1   \n",
       "1            0            0            0              0              1   \n",
       "2            0            0            0              0              1   \n",
       "3            0            0            0              1              0   \n",
       "4            0            0            0              1              0   \n",
       "\n",
       "   ord_year_2020  State_Shipped_Encoded  \n",
       "0              0                 979.86  \n",
       "1              0                1075.06  \n",
       "2              0                1111.95  \n",
       "3              0                1049.86  \n",
       "4              0                1119.72  \n",
       "\n",
       "[5 rows x 72 columns]"
      ]
     },
     "execution_count": 68,
     "metadata": {},
     "output_type": "execute_result"
    }
   ],
   "source": [
    "order_master_final.head()"
   ]
  },
  {
   "cell_type": "markdown",
   "metadata": {},
   "source": [
    "Our dataset has now been more or less prepared for model creation purpose. Before proceeding with model building, let's check whether there exist any multicollinearity in the numerical variables in our dataset"
   ]
  },
  {
   "cell_type": "code",
   "execution_count": 69,
   "metadata": {},
   "outputs": [
    {
     "data": {
      "image/png": "[encoded data removed]",
      "text/plain": [
       "<Figure size 720x432 with 2 Axes>"
      ]
     },
     "metadata": {
      "needs_background": "light"
     },
     "output_type": "display_data"
    }
   ],
   "source": [
    "# Let's see the correlation matrix \n",
    "plt.figure(figsize = (10,6))        # Size of the figure\n",
    "sns.heatmap(order_master_final[num_vars].corr(),annot = True, cmap=\"Blues\")\n",
    "plt.show()"
   ]
  },
  {
   "cell_type": "markdown",
   "metadata": {},
   "source": [
    "On observing the correlation heatmap, we see that the dmd_dol_per_unit column is almost entirely correlated with the dmd_dol column. This is expected as the column was derived from the dmd_dol column itself. In our case, we will do away with this column from our dataset so that we can capture the true importance of the other columns."
   ]
  },
  {
   "cell_type": "code",
   "execution_count": 70,
   "metadata": {},
   "outputs": [],
   "source": [
    "order_master_final = order_master_final.drop('dmd_dol_per_unit', axis=1)"
   ]
  },
  {
   "cell_type": "code",
   "execution_count": 71,
   "metadata": {},
   "outputs": [
    {
     "data": {
      "image/png": "[encoded data removed]",
      "text/plain": [
       "<Figure size 720x432 with 2 Axes>"
      ]
     },
     "metadata": {
      "needs_background": "light"
     },
     "output_type": "display_data"
    }
   ],
   "source": [
    "num_vars.remove('dmd_dol_per_unit')\n",
    "\n",
    "# Let's see the correlation matrix \n",
    "plt.figure(figsize = (10,6))        # Size of the figure\n",
    "sns.heatmap(order_master_final[num_vars].corr(),annot = True, cmap=\"Blues\")\n",
    "plt.show()"
   ]
  },
  {
   "cell_type": "markdown",
   "metadata": {},
   "source": [
    "We do observe some correlation between the cncl_units and cncl_dol. We can eliminate one of these columns too. As of now, however, we will let it remain in the dataset. We can let the VIF values to decide whether to eliminate these variables or not later in the model building phase."
   ]
  },
  {
   "cell_type": "code",
   "execution_count": 73,
   "metadata": {},
   "outputs": [],
   "source": [
    "# Ensuring all the columns are of data type int\n",
    "s = order_master_final.select_dtypes(include='object').columns\n",
    "order_master_final[s] = order_master_final[s].astype(\"float\")"
   ]
  },
  {
   "cell_type": "markdown",
   "metadata": {},
   "source": [
    "#### Splitting the data into test and train"
   ]
  },
  {
   "cell_type": "code",
   "execution_count": 74,
   "metadata": {},
   "outputs": [],
   "source": [
    "from sklearn.model_selection import train_test_split\n",
    "\n",
    "# We specify this so that the train and test data set always have the same rows, respectively\n",
    "np.random.seed(1)\n",
    "df_train, df_test = train_test_split(order_master_final, train_size = 0.7, test_size = 0.3, random_state = 100)"
   ]
  },
  {
   "cell_type": "code",
   "execution_count": 75,
   "metadata": {},
   "outputs": [
    {
     "name": "stdout",
     "output_type": "stream",
     "text": [
      "(3116623, 71)\n",
      "(1335696, 71)\n"
     ]
    }
   ],
   "source": [
    "print(df_train.shape)\n",
    "print(df_test.shape)"
   ]
  },
  {
   "cell_type": "markdown",
   "metadata": {},
   "source": [
    "**Rescaling of features**<br>\n",
    "\n",
    "We now go ahead with rescaling of features which will help serve the following purpose: all the variables will have a comparable scale, and hence the gradient descent procedure for the model will be a lot more optimized.<br>\n",
    "\n",
    "There are two common ways of rescaling:\n",
    "\n",
    "1. Min-Max scaling \n",
    "2. Standardisation\n",
    "\n",
    "We will use MinMax scaling as this will not change the distribution of any variable (won't make the mean to become 0 and standard deviation to become 1) <br>\n",
    "\n",
    "Note - this will be performed independently on the train set i.e. separate from the test set\n"
   ]
  },
  {
   "cell_type": "code",
   "execution_count": 76,
   "metadata": {},
   "outputs": [],
   "source": [
    "from sklearn.preprocessing import MinMaxScaler"
   ]
  },
  {
   "cell_type": "code",
   "execution_count": 77,
   "metadata": {},
   "outputs": [],
   "source": [
    "scaler = MinMaxScaler()"
   ]
  },
  {
   "cell_type": "code",
   "execution_count": 78,
   "metadata": {},
   "outputs": [],
   "source": [
    "# Apply scaler() to all the columns except the 'categorical variables variables\n",
    "num_vars.remove(\"dmd_dol\")\n",
    "df_train[num_vars] = scaler.fit_transform(df_train[num_vars])\n",
    "df_test[num_vars] = scaler.transform(df_test[num_vars])"
   ]
  },
  {
   "cell_type": "code",
   "execution_count": 79,
   "metadata": {},
   "outputs": [
    {
     "data": {
      "text/html": [
       "<div>\n",
       "<style scoped>\n",
       "    .dataframe tbody tr th:only-of-type {\n",
       "        vertical-align: middle;\n",
       "    }\n",
       "\n",
       "    .dataframe tbody tr th {\n",
       "        vertical-align: top;\n",
       "    }\n",
       "\n",
       "    .dataframe thead th {\n",
       "        text-align: right;\n",
       "    }\n",
       "</style>\n",
       "<table border=\"1\" class=\"dataframe\">\n",
       "  <thead>\n",
       "    <tr style=\"text-align: right;\">\n",
       "      <th></th>\n",
       "      <th>ord_num</th>\n",
       "      <th>cncl_dol</th>\n",
       "      <th>rtn_dol</th>\n",
       "      <th>dmd_dol</th>\n",
       "      <th>dmd_units</th>\n",
       "      <th>Loyalty_Ind</th>\n",
       "      <th>Emp_Ind</th>\n",
       "      <th>Dept_id</th>\n",
       "      <th>RTN_UNITS</th>\n",
       "      <th>cncl_units</th>\n",
       "      <th>...</th>\n",
       "      <th>Cat_ID_75.0</th>\n",
       "      <th>Cat_ID_76.0</th>\n",
       "      <th>Cat_ID_77.0</th>\n",
       "      <th>Cat_ID_78.0</th>\n",
       "      <th>Cat_ID_79.0</th>\n",
       "      <th>Cat_ID_94.0</th>\n",
       "      <th>ord_year_2018</th>\n",
       "      <th>ord_year_2019</th>\n",
       "      <th>ord_year_2020</th>\n",
       "      <th>State_Shipped_Encoded</th>\n",
       "    </tr>\n",
       "  </thead>\n",
       "  <tbody>\n",
       "    <tr>\n",
       "      <th>9986</th>\n",
       "      <td>5256968.0</td>\n",
       "      <td>0.945174</td>\n",
       "      <td>0.000000</td>\n",
       "      <td>699.86</td>\n",
       "      <td>0.0</td>\n",
       "      <td>0.0</td>\n",
       "      <td>0.0</td>\n",
       "      <td>0.0</td>\n",
       "      <td>0.000000</td>\n",
       "      <td>0.0</td>\n",
       "      <td>...</td>\n",
       "      <td>0</td>\n",
       "      <td>0</td>\n",
       "      <td>0</td>\n",
       "      <td>0</td>\n",
       "      <td>0</td>\n",
       "      <td>0</td>\n",
       "      <td>1</td>\n",
       "      <td>0</td>\n",
       "      <td>0</td>\n",
       "      <td>1049.86</td>\n",
       "    </tr>\n",
       "    <tr>\n",
       "      <th>1215624</th>\n",
       "      <td>6675547.0</td>\n",
       "      <td>0.945174</td>\n",
       "      <td>0.037499</td>\n",
       "      <td>5711.86</td>\n",
       "      <td>0.0</td>\n",
       "      <td>0.0</td>\n",
       "      <td>0.0</td>\n",
       "      <td>0.0</td>\n",
       "      <td>0.033333</td>\n",
       "      <td>0.0</td>\n",
       "      <td>...</td>\n",
       "      <td>0</td>\n",
       "      <td>0</td>\n",
       "      <td>0</td>\n",
       "      <td>0</td>\n",
       "      <td>0</td>\n",
       "      <td>0</td>\n",
       "      <td>1</td>\n",
       "      <td>0</td>\n",
       "      <td>0</td>\n",
       "      <td>1007.86</td>\n",
       "    </tr>\n",
       "    <tr>\n",
       "      <th>872149</th>\n",
       "      <td>7263125.0</td>\n",
       "      <td>0.945174</td>\n",
       "      <td>0.000000</td>\n",
       "      <td>1119.86</td>\n",
       "      <td>0.0</td>\n",
       "      <td>0.0</td>\n",
       "      <td>0.0</td>\n",
       "      <td>0.0</td>\n",
       "      <td>0.000000</td>\n",
       "      <td>0.0</td>\n",
       "      <td>...</td>\n",
       "      <td>0</td>\n",
       "      <td>0</td>\n",
       "      <td>0</td>\n",
       "      <td>0</td>\n",
       "      <td>0</td>\n",
       "      <td>0</td>\n",
       "      <td>0</td>\n",
       "      <td>1</td>\n",
       "      <td>0</td>\n",
       "      <td>1119.58</td>\n",
       "    </tr>\n",
       "    <tr>\n",
       "      <th>1583403</th>\n",
       "      <td>8099418.0</td>\n",
       "      <td>0.945174</td>\n",
       "      <td>0.000000</td>\n",
       "      <td>6652.66</td>\n",
       "      <td>0.0</td>\n",
       "      <td>0.0</td>\n",
       "      <td>0.0</td>\n",
       "      <td>0.0</td>\n",
       "      <td>0.000000</td>\n",
       "      <td>0.0</td>\n",
       "      <td>...</td>\n",
       "      <td>0</td>\n",
       "      <td>0</td>\n",
       "      <td>0</td>\n",
       "      <td>0</td>\n",
       "      <td>0</td>\n",
       "      <td>0</td>\n",
       "      <td>0</td>\n",
       "      <td>1</td>\n",
       "      <td>0</td>\n",
       "      <td>1049.86</td>\n",
       "    </tr>\n",
       "    <tr>\n",
       "      <th>1582408</th>\n",
       "      <td>5493584.0</td>\n",
       "      <td>0.945174</td>\n",
       "      <td>0.000000</td>\n",
       "      <td>629.86</td>\n",
       "      <td>0.0</td>\n",
       "      <td>0.0</td>\n",
       "      <td>0.0</td>\n",
       "      <td>0.0</td>\n",
       "      <td>0.000000</td>\n",
       "      <td>0.0</td>\n",
       "      <td>...</td>\n",
       "      <td>0</td>\n",
       "      <td>0</td>\n",
       "      <td>0</td>\n",
       "      <td>0</td>\n",
       "      <td>0</td>\n",
       "      <td>0</td>\n",
       "      <td>1</td>\n",
       "      <td>0</td>\n",
       "      <td>0</td>\n",
       "      <td>1119.58</td>\n",
       "    </tr>\n",
       "  </tbody>\n",
       "</table>\n",
       "<p>5 rows × 71 columns</p>\n",
       "</div>"
      ],
      "text/plain": [
       "           ord_num  cncl_dol   rtn_dol  dmd_dol  dmd_units  Loyalty_Ind  \\\n",
       "9986     5256968.0  0.945174  0.000000   699.86        0.0          0.0   \n",
       "1215624  6675547.0  0.945174  0.037499  5711.86        0.0          0.0   \n",
       "872149   7263125.0  0.945174  0.000000  1119.86        0.0          0.0   \n",
       "1583403  8099418.0  0.945174  0.000000  6652.66        0.0          0.0   \n",
       "1582408  5493584.0  0.945174  0.000000   629.86        0.0          0.0   \n",
       "\n",
       "         Emp_Ind  Dept_id  RTN_UNITS  cncl_units  ...  Cat_ID_75.0  \\\n",
       "9986         0.0      0.0   0.000000         0.0  ...            0   \n",
       "1215624      0.0      0.0   0.033333         0.0  ...            0   \n",
       "872149       0.0      0.0   0.000000         0.0  ...            0   \n",
       "1583403      0.0      0.0   0.000000         0.0  ...            0   \n",
       "1582408      0.0      0.0   0.000000         0.0  ...            0   \n",
       "\n",
       "         Cat_ID_76.0  Cat_ID_77.0  Cat_ID_78.0  Cat_ID_79.0  Cat_ID_94.0  \\\n",
       "9986               0            0            0            0            0   \n",
       "1215624            0            0            0            0            0   \n",
       "872149             0            0            0            0            0   \n",
       "1583403            0            0            0            0            0   \n",
       "1582408            0            0            0            0            0   \n",
       "\n",
       "         ord_year_2018  ord_year_2019  ord_year_2020  State_Shipped_Encoded  \n",
       "9986                 1              0              0                1049.86  \n",
       "1215624              1              0              0                1007.86  \n",
       "872149               0              1              0                1119.58  \n",
       "1583403              0              1              0                1049.86  \n",
       "1582408              1              0              0                1119.58  \n",
       "\n",
       "[5 rows x 71 columns]"
      ]
     },
     "execution_count": 79,
     "metadata": {},
     "output_type": "execute_result"
    }
   ],
   "source": [
    "df_train.head()"
   ]
  },
  {
   "cell_type": "markdown",
   "metadata": {},
   "source": [
    "--------"
   ]
  },
  {
   "cell_type": "markdown",
   "metadata": {},
   "source": [
    "### Model Building"
   ]
  },
  {
   "cell_type": "markdown",
   "metadata": {},
   "source": [
    "#### 1. Linear Regression Model"
   ]
  },
  {
   "cell_type": "markdown",
   "metadata": {},
   "source": [
    "First, we'll begin with the base model i.e. including all the existing variables. Let's see how well our model performs"
   ]
  },
  {
   "cell_type": "code",
   "execution_count": 80,
   "metadata": {},
   "outputs": [
    {
     "data": {
      "text/plain": [
       "Index(['ord_num', 'cncl_dol', 'rtn_dol', 'dmd_dol', 'dmd_units', 'Loyalty_Ind',\n",
       "       'Emp_Ind', 'Dept_id', 'RTN_UNITS', 'cncl_units',\n",
       "       'international_order_ind', 'PC_ECOM_CD_1', 'PC_ECOM_CD_10',\n",
       "       'PC_ECOM_CD_11', 'PC_ECOM_CD_12', 'PC_ECOM_CD_13', 'PC_ECOM_CD_14',\n",
       "       'PC_ECOM_CD_15', 'PC_ECOM_CD_2', 'PC_ECOM_CD_3', 'PC_ECOM_CD_4',\n",
       "       'PC_ECOM_CD_5', 'PC_ECOM_CD_6', 'PC_ECOM_CD_7', 'PC_ECOM_CD_8',\n",
       "       'PC_ECOM_CD_9', 'coupons_used', 'PC_ECOM_CD_5_MAR20', 'ord_hour_sin',\n",
       "       'ord_hour_cos', 'ord_dow_sin', 'ord_dow_cos', 'ord_mnth_sin',\n",
       "       'ord_mnth_cos', 'ord_line_status_D', 'ord_line_status_G',\n",
       "       'ord_line_status_HB', 'ord_line_status_HC', 'ord_line_status_HR',\n",
       "       'ord_line_status_HY', 'ord_line_status_L', 'ord_line_status_O',\n",
       "       'ord_line_status_P', 'ord_line_status_R', 'ord_line_status_S',\n",
       "       'ord_line_status_U', 'ord_line_status_W', 'ord_line_status_X',\n",
       "       'ord_hdr_status_J', 'ord_hdr_status_S', 'ord_hdr_status_X',\n",
       "       'ord_type_MOB', 'ord_type_TEL', 'ord_type_WEB', 'Cat_ID_44.0',\n",
       "       'Cat_ID_45.0', 'Cat_ID_46.0', 'Cat_ID_47.0', 'Cat_ID_48.0',\n",
       "       'Cat_ID_49.0', 'Cat_ID_73.0', 'Cat_ID_75.0', 'Cat_ID_76.0',\n",
       "       'Cat_ID_77.0', 'Cat_ID_78.0', 'Cat_ID_79.0', 'Cat_ID_94.0',\n",
       "       'ord_year_2018', 'ord_year_2019', 'ord_year_2020',\n",
       "       'State_Shipped_Encoded'],\n",
       "      dtype='object')"
      ]
     },
     "execution_count": 80,
     "metadata": {},
     "output_type": "execute_result"
    }
   ],
   "source": [
    "df_train.columns"
   ]
  },
  {
   "cell_type": "code",
   "execution_count": 81,
   "metadata": {},
   "outputs": [],
   "source": [
    "y_train = df_train['dmd_dol']\n",
    "X_train = df_train.drop(['dmd_dol', 'ord_num'], axis=1)"
   ]
  },
  {
   "cell_type": "markdown",
   "metadata": {},
   "source": [
    "Fit a regression line through the training data using `statsmodels`."
   ]
  },
  {
   "cell_type": "code",
   "execution_count": 82,
   "metadata": {},
   "outputs": [],
   "source": [
    "import statsmodels.api as sm\n",
    "\n",
    "# Add a constant\n",
    "X_train_lm = sm.add_constant(X_train)\n",
    "\n",
    "# Create a first fitted model\n",
    "lr = sm.OLS(y_train, X_train_lm).fit()"
   ]
  },
  {
   "cell_type": "code",
   "execution_count": 83,
   "metadata": {},
   "outputs": [
    {
     "name": "stdout",
     "output_type": "stream",
     "text": [
      "                            OLS Regression Results                            \n",
      "==============================================================================\n",
      "Dep. Variable:                dmd_dol   R-squared:                       0.312\n",
      "Model:                            OLS   Adj. R-squared:                  0.312\n",
      "Method:                 Least Squares   F-statistic:                 2.284e+04\n",
      "Date:                Thu, 22 Jul 2021   Prob (F-statistic):               0.00\n",
      "Time:                        02:12:29   Log-Likelihood:            -2.7820e+07\n",
      "No. Observations:             3116623   AIC:                         5.564e+07\n",
      "Df Residuals:                 3116560   BIC:                         5.564e+07\n",
      "Df Model:                          62                                         \n",
      "Covariance Type:            nonrobust                                         \n",
      "===========================================================================================\n",
      "                              coef    std err          t      P>|t|      [0.025      0.975]\n",
      "-------------------------------------------------------------------------------------------\n",
      "const                   -1229.0105    412.477     -2.980      0.003   -2037.451    -420.570\n",
      "cncl_dol                 4402.6716    891.356      4.939      0.000    2655.645    6149.698\n",
      "rtn_dol                  1.486e+05    140.164   1060.200      0.000    1.48e+05    1.49e+05\n",
      "dmd_units                2.761e+04    228.311    120.951      0.000    2.72e+04    2.81e+04\n",
      "Loyalty_Ind               201.7683      3.619     55.756      0.000     194.676     208.861\n",
      "Emp_Ind                  -101.9788     12.151     -8.393      0.000    -125.794     -78.164\n",
      "Dept_id                    62.5591     29.653      2.110      0.035       4.440     120.678\n",
      "RTN_UNITS               -8725.5461    292.357    -29.845      0.000   -9298.556   -8152.536\n",
      "cncl_units              -5120.0802    910.680     -5.622      0.000   -6904.981   -3335.180\n",
      "international_order_ind   106.9480      8.733     12.247      0.000      89.832     124.063\n",
      "PC_ECOM_CD_1              361.8692      3.235    111.846      0.000     355.528     368.211\n",
      "PC_ECOM_CD_10             158.6799     13.413     11.830      0.000     132.390     184.970\n",
      "PC_ECOM_CD_11            -220.0494     13.874    -15.861      0.000    -247.242    -192.857\n",
      "PC_ECOM_CD_12             200.2095     14.327     13.975      0.000     172.130     228.289\n",
      "PC_ECOM_CD_13            -246.7794     14.500    -17.019      0.000    -275.199    -218.360\n",
      "PC_ECOM_CD_14            -141.0160     15.212     -9.270      0.000    -170.832    -111.200\n",
      "PC_ECOM_CD_15             894.0124     15.652     57.119      0.000     863.335     924.689\n",
      "PC_ECOM_CD_2               19.7864      3.305      5.987      0.000      13.308      26.264\n",
      "PC_ECOM_CD_3             -231.3390      7.916    -29.225      0.000    -246.854    -215.824\n",
      "PC_ECOM_CD_4             -161.7438      8.251    -19.602      0.000    -177.916    -145.572\n",
      "PC_ECOM_CD_5              -90.1078      9.735     -9.256      0.000    -109.188     -71.027\n",
      "PC_ECOM_CD_6             -133.6348      9.742    -13.718      0.000    -152.728    -114.541\n",
      "PC_ECOM_CD_7               34.7229     10.020      3.465      0.001      15.084      54.361\n",
      "PC_ECOM_CD_8             -242.6929     12.098    -20.060      0.000    -266.405    -218.980\n",
      "PC_ECOM_CD_9             -276.8469     13.093    -21.144      0.000    -302.510    -251.184\n",
      "coupons_used              -24.9766      6.123     -4.079      0.000     -36.978     -12.976\n",
      "PC_ECOM_CD_5_MAR20        574.0817     19.749     29.069      0.000     535.375     612.789\n",
      "ord_hour_sin                0.9850      1.729      0.570      0.569      -2.404       4.374\n",
      "ord_hour_cos               -4.9418      1.383     -3.572      0.000      -7.653      -2.230\n",
      "ord_dow_sin                -3.0989      1.604     -1.932      0.053      -6.242       0.044\n",
      "ord_dow_cos                -1.7907      1.394     -1.285      0.199      -4.522       0.941\n",
      "ord_mnth_sin              -37.6292      1.717    -21.918      0.000     -40.994     -34.264\n",
      "ord_mnth_cos               22.5543      1.513     14.903      0.000      19.588      25.520\n",
      "ord_line_status_D        -839.6647    169.087     -4.966      0.000   -1171.070    -508.260\n",
      "ord_line_status_G       -1112.4305    231.665     -4.802      0.000   -1566.485    -658.376\n",
      "ord_line_status_HB       -956.8654    990.725     -0.966      0.334   -2898.651     984.920\n",
      "ord_line_status_HC       -532.9646    455.326     -1.171      0.242   -1425.388     359.458\n",
      "ord_line_status_HR       9968.7869    862.159     11.563      0.000    8278.985    1.17e+04\n",
      "ord_line_status_HY       -289.3166    283.481     -1.021      0.307    -844.929     266.295\n",
      "ord_line_status_L       -1365.2206   1207.489     -1.131      0.258   -3731.856    1001.415\n",
      "ord_line_status_O        -504.2428    308.353     -1.635      0.102   -1108.604     100.118\n",
      "ord_line_status_P        -797.8166    170.472     -4.680      0.000   -1131.936    -463.697\n",
      "ord_line_status_R       -2054.8158    169.364    -12.133      0.000   -2386.764   -1722.868\n",
      "ord_line_status_S        -211.8329    235.319     -0.900      0.368    -673.050     249.384\n",
      "ord_line_status_U        -161.2571    423.153     -0.381      0.703    -990.621     668.107\n",
      "ord_line_status_W        -632.0898   1207.492     -0.523      0.601   -2998.732    1734.552\n",
      "ord_line_status_X       -1739.2799    183.880     -9.459      0.000   -2099.678   -1378.881\n",
      "ord_hdr_status_J          -92.9293    473.456     -0.196      0.844   -1020.886     835.027\n",
      "ord_hdr_status_S         -573.9358    223.568     -2.567      0.010   -1012.122    -135.750\n",
      "ord_hdr_status_X         -562.1454    224.084     -2.509      0.012   -1001.342    -122.949\n",
      "ord_type_MOB             -510.2761    137.516     -3.711      0.000    -779.802    -240.750\n",
      "ord_type_TEL             -225.2664    137.565     -1.638      0.102    -494.888      44.356\n",
      "ord_type_WEB             -493.4680    137.509     -3.589      0.000    -762.981    -223.955\n",
      "Cat_ID_44.0              -676.9677     38.249    -17.699      0.000    -751.935    -602.001\n",
      "Cat_ID_45.0              -952.9965     38.337    -24.858      0.000   -1028.136    -877.857\n",
      "Cat_ID_46.0              -205.0361     38.082     -5.384      0.000    -279.676    -130.397\n",
      "Cat_ID_47.0               288.9225     38.077      7.588      0.000     214.292     363.552\n",
      "Cat_ID_48.0                24.3179     38.079      0.639      0.523     -50.316      98.951\n",
      "Cat_ID_49.0               352.4167     38.093      9.251      0.000     277.755     427.079\n",
      "Cat_ID_73.0              -603.1317    225.113     -2.679      0.007   -1044.345    -161.918\n",
      "Cat_ID_75.0              -871.8372     43.480    -20.052      0.000    -957.056    -786.619\n",
      "Cat_ID_76.0               288.2088     38.271      7.531      0.000     213.199     363.219\n",
      "Cat_ID_77.0              1394.4236     39.278     35.501      0.000    1317.440    1471.408\n",
      "Cat_ID_78.0               166.1332     38.667      4.296      0.000      90.347     241.920\n",
      "Cat_ID_79.0              -496.0231     41.272    -12.018      0.000    -576.914    -415.132\n",
      "Cat_ID_94.0                62.5591     29.653      2.110      0.035       4.440     120.678\n",
      "ord_year_2018            -431.8096    137.500     -3.140      0.002    -701.306    -162.314\n",
      "ord_year_2019            -405.5843    137.501     -2.950      0.003    -675.081    -136.088\n",
      "ord_year_2020            -391.6166    137.511     -2.848      0.004    -661.132    -122.101\n",
      "State_Shipped_Encoded       0.7228      0.021     35.034      0.000       0.682       0.763\n",
      "==============================================================================\n",
      "Omnibus:                  7071582.678   Durbin-Watson:                   1.999\n",
      "Prob(Omnibus):                  0.000   Jarque-Bera (JB):     670116749730.444\n",
      "Skew:                          20.612   Prob(JB):                         0.00\n",
      "Kurtosis:                    2274.262   Cond. No.                     1.00e+16\n",
      "==============================================================================\n",
      "\n",
      "Notes:\n",
      "[1] Standard Errors assume that the covariance matrix of the errors is correctly specified.\n",
      "[2] The smallest eigenvalue is 3.55e-20. This might indicate that there are\n",
      "strong multicollinearity problems or that the design matrix is singular.\n"
     ]
    }
   ],
   "source": [
    "# Check the summary\n",
    "print(lr.summary())"
   ]
  },
  {
   "cell_type": "markdown",
   "metadata": {},
   "source": [
    "Evaluating the above model on test set"
   ]
  },
  {
   "cell_type": "code",
   "execution_count": 86,
   "metadata": {},
   "outputs": [],
   "source": [
    "y_test = df_test['dmd_dol']\n",
    "X_test = df_test.drop(['dmd_dol', 'ord_num'], axis=1)"
   ]
  },
  {
   "cell_type": "code",
   "execution_count": 87,
   "metadata": {},
   "outputs": [],
   "source": [
    "# Now let's use our model to make predictions.\n",
    "\n",
    "# Creating X_test_new dataframe by dropping variables from X_test\n",
    "X_test_new = X_test[X_train.columns[:]]\n",
    "\n",
    "# Adding a constant variable \n",
    "X_test_new = sm.add_constant(X_test_new)"
   ]
  },
  {
   "cell_type": "code",
   "execution_count": 88,
   "metadata": {},
   "outputs": [],
   "source": [
    "# Making predictions\n",
    "y_pred = lr.predict(X_test_new)"
   ]
  },
  {
   "cell_type": "code",
   "execution_count": 89,
   "metadata": {},
   "outputs": [
    {
     "name": "stdout",
     "output_type": "stream",
     "text": [
      "Mean Absolute Error    873.9599\n",
      "Mean Squared Error     3242714.5739\n",
      "R Square               0.3431\n"
     ]
    }
   ],
   "source": [
    "from sklearn.metrics import r2_score, mean_absolute_error, mean_squared_error, mean_squared_log_error, explained_variance_score\n",
    "\n",
    "## mean absolute error\n",
    "mae = mean_absolute_error(y_test, y_pred)\n",
    "## mean squared error\n",
    "mse = mean_squared_error(y_test, y_pred)\n",
    "## getting r2 and adjusted r2 values\n",
    "r2 = r2_score(y_test, y_pred)\n",
    "\n",
    "print(\"Mean Absolute Error    {:.4f}\".format(mae))\n",
    "print(\"Mean Squared Error     {:.4f}\".format(mse))\n",
    "print(\"R Square               {:.4f}\".format(r2))"
   ]
  },
  {
   "cell_type": "markdown",
   "metadata": {},
   "source": [
    "#### 2. Linear Regression Model (With Feature Selection using RFE)"
   ]
  },
  {
   "cell_type": "markdown",
   "metadata": {},
   "source": [
    "However, there are plenty of insignificant variables that we observe looking at the p-values for the co-efficients. Also, we need to deal with multicollinearity in the data too. As a result, let's implement **Recursive Feature Elimination** to come down to about a smaller number of variables that explain the highest variance in the data and exhibit the least multicollinearity. Post that, we'll go into fine-tuning the model manually to end up with the final set of variables"
   ]
  },
  {
   "cell_type": "code",
   "execution_count": 90,
   "metadata": {},
   "outputs": [],
   "source": [
    "# Importing RFE and LinearRegression\n",
    "from sklearn.feature_selection import RFE\n",
    "from sklearn.linear_model import LinearRegression"
   ]
  },
  {
   "cell_type": "code",
   "execution_count": 91,
   "metadata": {},
   "outputs": [
    {
     "data": {
      "text/plain": [
       "LinearRegression()"
      ]
     },
     "execution_count": 91,
     "metadata": {},
     "output_type": "execute_result"
    }
   ],
   "source": [
    "lm = LinearRegression()\n",
    "lm.fit(X_train, y_train)"
   ]
  },
  {
   "cell_type": "markdown",
   "metadata": {},
   "source": [
    "Let's try using the recursive feature elimination based on mean squared error to identify the optimal number of features that we should huse in our model"
   ]
  },
  {
   "cell_type": "code",
   "execution_count": 87,
   "metadata": {},
   "outputs": [
    {
     "name": "stdout",
     "output_type": "stream",
     "text": [
      "Optimal number of features : 69\n",
      "Best features : Index(['cncl_dol', 'rtn_dol', 'dmd_units', 'Loyalty_Ind', 'Emp_Ind', 'Dept_id',\n",
      "       'RTN_UNITS', 'cncl_units', 'international_order_ind', 'PC_ECOM_CD_1',\n",
      "       'PC_ECOM_CD_10', 'PC_ECOM_CD_11', 'PC_ECOM_CD_12', 'PC_ECOM_CD_13',\n",
      "       'PC_ECOM_CD_14', 'PC_ECOM_CD_15', 'PC_ECOM_CD_2', 'PC_ECOM_CD_3',\n",
      "       'PC_ECOM_CD_4', 'PC_ECOM_CD_5', 'PC_ECOM_CD_6', 'PC_ECOM_CD_7',\n",
      "       'PC_ECOM_CD_8', 'PC_ECOM_CD_9', 'coupons_used', 'PC_ECOM_CD_5_MAR20',\n",
      "       'ord_hour_sin', 'ord_hour_cos', 'ord_dow_sin', 'ord_dow_cos',\n",
      "       'ord_mnth_sin', 'ord_mnth_cos', 'ord_line_status_D',\n",
      "       'ord_line_status_G', 'ord_line_status_HB', 'ord_line_status_HC',\n",
      "       'ord_line_status_HR', 'ord_line_status_HY', 'ord_line_status_L',\n",
      "       'ord_line_status_O', 'ord_line_status_P', 'ord_line_status_R',\n",
      "       'ord_line_status_S', 'ord_line_status_U', 'ord_line_status_W',\n",
      "       'ord_line_status_X', 'ord_hdr_status_J', 'ord_hdr_status_S',\n",
      "       'ord_hdr_status_X', 'ord_type_MOB', 'ord_type_TEL', 'ord_type_WEB',\n",
      "       'Cat_ID_44.0', 'Cat_ID_45.0', 'Cat_ID_46.0', 'Cat_ID_47.0',\n",
      "       'Cat_ID_48.0', 'Cat_ID_49.0', 'Cat_ID_73.0', 'Cat_ID_75.0',\n",
      "       'Cat_ID_76.0', 'Cat_ID_77.0', 'Cat_ID_78.0', 'Cat_ID_79.0',\n",
      "       'Cat_ID_94.0', 'ord_year_2018', 'ord_year_2019', 'ord_year_2020',\n",
      "       'State_Shipped_Encoded'],\n",
      "      dtype='object')\n"
     ]
    }
   ],
   "source": [
    "from sklearn.feature_selection import RFECV\n",
    "\n",
    "# Create recursive feature eliminator that scores features by mean squared errors\n",
    "rfecv = RFECV(estimator=lm, step=1, scoring='neg_mean_squared_error', cv=3)\n",
    "\n",
    "# Fit recursive feature eliminator \n",
    "rfecv.fit(X_train, y_train)\n",
    "print('Optimal number of features :', rfecv.n_features_)\n",
    "print('Best features :', X_train.columns[rfecv.support_])"
   ]
  },
  {
   "cell_type": "markdown",
   "metadata": {},
   "source": [
    "The output of the scorer tells us that the optimal number of features that we should consider are 69. Let's implement RFE with the above set of features."
   ]
  },
  {
   "cell_type": "code",
   "execution_count": 82,
   "metadata": {},
   "outputs": [],
   "source": [
    "rfe_cols = ['cncl_dol', 'rtn_dol', 'dmd_units', 'Loyalty_Ind', 'Emp_Ind', 'Dept_id',\n",
    "       'RTN_UNITS', 'cncl_units', 'international_order_ind', 'PC_ECOM_CD_1',\n",
    "       'PC_ECOM_CD_10', 'PC_ECOM_CD_11', 'PC_ECOM_CD_12', 'PC_ECOM_CD_13',\n",
    "       'PC_ECOM_CD_14', 'PC_ECOM_CD_15', 'PC_ECOM_CD_2', 'PC_ECOM_CD_3',\n",
    "       'PC_ECOM_CD_4', 'PC_ECOM_CD_5', 'PC_ECOM_CD_6', 'PC_ECOM_CD_7',\n",
    "       'PC_ECOM_CD_8', 'PC_ECOM_CD_9', 'coupons_used', 'PC_ECOM_CD_5_MAR20',\n",
    "       'ord_hour_sin', 'ord_hour_cos', 'ord_dow_sin', 'ord_dow_cos',\n",
    "       'ord_mnth_sin', 'ord_mnth_cos', 'ord_line_status_D',\n",
    "       'ord_line_status_G', 'ord_line_status_HB', 'ord_line_status_HC',\n",
    "       'ord_line_status_HR', 'ord_line_status_HY', 'ord_line_status_L',\n",
    "       'ord_line_status_O', 'ord_line_status_P', 'ord_line_status_R',\n",
    "       'ord_line_status_S', 'ord_line_status_U', 'ord_line_status_W',\n",
    "       'ord_line_status_X', 'ord_hdr_status_J', 'ord_hdr_status_S',\n",
    "       'ord_hdr_status_X', 'ord_type_MOB', 'ord_type_TEL', 'ord_type_WEB',\n",
    "       'Cat_ID_44.0', 'Cat_ID_45.0', 'Cat_ID_46.0', 'Cat_ID_47.0',\n",
    "       'Cat_ID_48.0', 'Cat_ID_49.0', 'Cat_ID_73.0', 'Cat_ID_75.0',\n",
    "       'Cat_ID_76.0', 'Cat_ID_77.0', 'Cat_ID_78.0', 'Cat_ID_79.0',\n",
    "       'Cat_ID_94.0', 'ord_year_2018', 'ord_year_2019', 'ord_year_2020',\n",
    "       'State_Shipped_Encoded']"
   ]
  },
  {
   "cell_type": "code",
   "execution_count": 83,
   "metadata": {},
   "outputs": [],
   "source": [
    "# Creating X_test dataframe with RFE selected variables\n",
    "X_train_rfe = X_train[rfe_cols]"
   ]
  },
  {
   "cell_type": "code",
   "execution_count": 84,
   "metadata": {},
   "outputs": [],
   "source": [
    "# Adding a constant variable \n",
    "import statsmodels.api as sm  \n",
    "X_train_rfe = sm.add_constant(X_train_rfe)"
   ]
  },
  {
   "cell_type": "code",
   "execution_count": 85,
   "metadata": {},
   "outputs": [],
   "source": [
    "lm = sm.OLS(y_train,X_train_rfe).fit()   # Running the linear model"
   ]
  },
  {
   "cell_type": "code",
   "execution_count": 86,
   "metadata": {},
   "outputs": [
    {
     "name": "stdout",
     "output_type": "stream",
     "text": [
      "                            OLS Regression Results                            \n",
      "==============================================================================\n",
      "Dep. Variable:                dmd_dol   R-squared:                       0.312\n",
      "Model:                            OLS   Adj. R-squared:                  0.312\n",
      "Method:                 Least Squares   F-statistic:                 2.284e+04\n",
      "Date:                Thu, 22 Jul 2021   Prob (F-statistic):               0.00\n",
      "Time:                        02:24:00   Log-Likelihood:            -2.7820e+07\n",
      "No. Observations:             3116623   AIC:                         5.564e+07\n",
      "Df Residuals:                 3116560   BIC:                         5.564e+07\n",
      "Df Model:                          62                                         \n",
      "Covariance Type:            nonrobust                                         \n",
      "===========================================================================================\n",
      "                              coef    std err          t      P>|t|      [0.025      0.975]\n",
      "-------------------------------------------------------------------------------------------\n",
      "const                   -1229.0105    412.477     -2.980      0.003   -2037.451    -420.570\n",
      "cncl_dol                 4402.6716    891.356      4.939      0.000    2655.645    6149.698\n",
      "rtn_dol                  1.486e+05    140.164   1060.200      0.000    1.48e+05    1.49e+05\n",
      "dmd_units                2.761e+04    228.311    120.951      0.000    2.72e+04    2.81e+04\n",
      "Loyalty_Ind               201.7683      3.619     55.756      0.000     194.676     208.861\n",
      "Emp_Ind                  -101.9788     12.151     -8.393      0.000    -125.794     -78.164\n",
      "Dept_id                    62.5591     29.653      2.110      0.035       4.440     120.678\n",
      "RTN_UNITS               -8725.5461    292.357    -29.845      0.000   -9298.556   -8152.536\n",
      "cncl_units              -5120.0802    910.680     -5.622      0.000   -6904.981   -3335.180\n",
      "international_order_ind   106.9480      8.733     12.247      0.000      89.832     124.063\n",
      "PC_ECOM_CD_1              361.8692      3.235    111.846      0.000     355.528     368.211\n",
      "PC_ECOM_CD_10             158.6799     13.413     11.830      0.000     132.390     184.970\n",
      "PC_ECOM_CD_11            -220.0494     13.874    -15.861      0.000    -247.242    -192.857\n",
      "PC_ECOM_CD_12             200.2095     14.327     13.975      0.000     172.130     228.289\n",
      "PC_ECOM_CD_13            -246.7794     14.500    -17.019      0.000    -275.199    -218.360\n",
      "PC_ECOM_CD_14            -141.0160     15.212     -9.270      0.000    -170.832    -111.200\n",
      "PC_ECOM_CD_15             894.0124     15.652     57.119      0.000     863.335     924.689\n",
      "PC_ECOM_CD_2               19.7864      3.305      5.987      0.000      13.308      26.264\n",
      "PC_ECOM_CD_3             -231.3390      7.916    -29.225      0.000    -246.854    -215.824\n",
      "PC_ECOM_CD_4             -161.7438      8.251    -19.602      0.000    -177.916    -145.572\n",
      "PC_ECOM_CD_5              -90.1078      9.735     -9.256      0.000    -109.188     -71.027\n",
      "PC_ECOM_CD_6             -133.6348      9.742    -13.718      0.000    -152.728    -114.541\n",
      "PC_ECOM_CD_7               34.7229     10.020      3.465      0.001      15.084      54.361\n",
      "PC_ECOM_CD_8             -242.6929     12.098    -20.060      0.000    -266.405    -218.980\n",
      "PC_ECOM_CD_9             -276.8469     13.093    -21.144      0.000    -302.510    -251.184\n",
      "coupons_used              -24.9766      6.123     -4.079      0.000     -36.978     -12.976\n",
      "PC_ECOM_CD_5_MAR20        574.0817     19.749     29.069      0.000     535.375     612.789\n",
      "ord_hour_sin                0.9850      1.729      0.570      0.569      -2.404       4.374\n",
      "ord_hour_cos               -4.9418      1.383     -3.572      0.000      -7.653      -2.230\n",
      "ord_dow_sin                -3.0989      1.604     -1.932      0.053      -6.242       0.044\n",
      "ord_dow_cos                -1.7907      1.394     -1.285      0.199      -4.522       0.941\n",
      "ord_mnth_sin              -37.6292      1.717    -21.918      0.000     -40.994     -34.264\n",
      "ord_mnth_cos               22.5543      1.513     14.903      0.000      19.588      25.520\n",
      "ord_line_status_D        -839.6647    169.087     -4.966      0.000   -1171.070    -508.260\n",
      "ord_line_status_G       -1112.4305    231.665     -4.802      0.000   -1566.485    -658.376\n",
      "ord_line_status_HB       -956.8654    990.725     -0.966      0.334   -2898.651     984.920\n",
      "ord_line_status_HC       -532.9646    455.326     -1.171      0.242   -1425.388     359.458\n",
      "ord_line_status_HR       9968.7869    862.159     11.563      0.000    8278.985    1.17e+04\n",
      "ord_line_status_HY       -289.3166    283.481     -1.021      0.307    -844.929     266.295\n",
      "ord_line_status_L       -1365.2206   1207.489     -1.131      0.258   -3731.856    1001.415\n",
      "ord_line_status_O        -504.2428    308.353     -1.635      0.102   -1108.604     100.118\n",
      "ord_line_status_P        -797.8166    170.472     -4.680      0.000   -1131.936    -463.697\n",
      "ord_line_status_R       -2054.8158    169.364    -12.133      0.000   -2386.764   -1722.868\n",
      "ord_line_status_S        -211.8329    235.319     -0.900      0.368    -673.050     249.384\n",
      "ord_line_status_U        -161.2571    423.153     -0.381      0.703    -990.621     668.107\n",
      "ord_line_status_W        -632.0898   1207.492     -0.523      0.601   -2998.732    1734.552\n",
      "ord_line_status_X       -1739.2799    183.880     -9.459      0.000   -2099.678   -1378.881\n",
      "ord_hdr_status_J          -92.9293    473.456     -0.196      0.844   -1020.886     835.027\n",
      "ord_hdr_status_S         -573.9358    223.568     -2.567      0.010   -1012.122    -135.750\n",
      "ord_hdr_status_X         -562.1454    224.084     -2.509      0.012   -1001.342    -122.949\n",
      "ord_type_MOB             -510.2761    137.516     -3.711      0.000    -779.802    -240.750\n",
      "ord_type_TEL             -225.2664    137.565     -1.638      0.102    -494.888      44.356\n",
      "ord_type_WEB             -493.4680    137.509     -3.589      0.000    -762.981    -223.955\n",
      "Cat_ID_44.0              -676.9677     38.249    -17.699      0.000    -751.935    -602.001\n",
      "Cat_ID_45.0              -952.9965     38.337    -24.858      0.000   -1028.136    -877.857\n",
      "Cat_ID_46.0              -205.0361     38.082     -5.384      0.000    -279.676    -130.397\n",
      "Cat_ID_47.0               288.9225     38.077      7.588      0.000     214.292     363.552\n",
      "Cat_ID_48.0                24.3179     38.079      0.639      0.523     -50.316      98.951\n",
      "Cat_ID_49.0               352.4167     38.093      9.251      0.000     277.755     427.079\n",
      "Cat_ID_73.0              -603.1317    225.113     -2.679      0.007   -1044.345    -161.918\n",
      "Cat_ID_75.0              -871.8372     43.480    -20.052      0.000    -957.056    -786.619\n",
      "Cat_ID_76.0               288.2088     38.271      7.531      0.000     213.199     363.219\n",
      "Cat_ID_77.0              1394.4236     39.278     35.501      0.000    1317.440    1471.408\n",
      "Cat_ID_78.0               166.1332     38.667      4.296      0.000      90.347     241.920\n",
      "Cat_ID_79.0              -496.0231     41.272    -12.018      0.000    -576.914    -415.132\n",
      "Cat_ID_94.0                62.5591     29.653      2.110      0.035       4.440     120.678\n",
      "ord_year_2018            -431.8096    137.500     -3.140      0.002    -701.306    -162.314\n",
      "ord_year_2019            -405.5843    137.501     -2.950      0.003    -675.081    -136.088\n",
      "ord_year_2020            -391.6166    137.511     -2.848      0.004    -661.132    -122.101\n",
      "State_Shipped_Encoded       0.7228      0.021     35.034      0.000       0.682       0.763\n",
      "==============================================================================\n",
      "Omnibus:                  7071582.678   Durbin-Watson:                   1.999\n",
      "Prob(Omnibus):                  0.000   Jarque-Bera (JB):     670116749730.444\n",
      "Skew:                          20.612   Prob(JB):                         0.00\n",
      "Kurtosis:                    2274.262   Cond. No.                     1.00e+16\n",
      "==============================================================================\n",
      "\n",
      "Notes:\n",
      "[1] Standard Errors assume that the covariance matrix of the errors is correctly specified.\n",
      "[2] The smallest eigenvalue is 3.55e-20. This might indicate that there are\n",
      "strong multicollinearity problems or that the design matrix is singular.\n"
     ]
    }
   ],
   "source": [
    "#Let's see the summary of our linear model\n",
    "print(lm.summary())"
   ]
  },
  {
   "cell_type": "markdown",
   "metadata": {},
   "source": [
    "Let's **check the VIF**\n",
    "Variance Inflation Factor or VIF, gives a basic quantitative idea about how much the feature variables are correlated with each other. It is an extremely important parameter to test our linear model. The formula for calculating `VIF` is:\n",
    "\n",
    "### $ VIF_i = \\frac{1}{1 - {R_i}^2} $"
   ]
  },
  {
   "cell_type": "code",
   "execution_count": 89,
   "metadata": {},
   "outputs": [],
   "source": [
    "# # Check for the VIF values of the feature variables. \n",
    "# from statsmodels.stats.outliers_influence import variance_inflation_factor"
   ]
  },
  {
   "cell_type": "code",
   "execution_count": 90,
   "metadata": {},
   "outputs": [],
   "source": [
    "# # Create a dataframe that will contain the names of all the feature variables and their respective VIFs\n",
    "# vif = pd.DataFrame()\n",
    "# vif['Features'] = X_train_rfe.columns\n",
    "# vif['VIF'] = [variance_inflation_factor(X_train_rfe.values, i) for i in range(X_train_rfe.shape[1])]\n",
    "# vif['VIF'] = round(vif['VIF'], 2)\n",
    "# vif = vif.sort_values(by = \"VIF\", ascending = False)\n",
    "# vif"
   ]
  },
  {
   "cell_type": "markdown",
   "metadata": {},
   "source": [
    "Evaluating the above model on test set"
   ]
  },
  {
   "cell_type": "code",
   "execution_count": 92,
   "metadata": {},
   "outputs": [],
   "source": [
    "y_test = df_test['dmd_dol']\n",
    "X_test = df_test.drop(['dmd_dol', 'ord_num'], axis=1)"
   ]
  },
  {
   "cell_type": "code",
   "execution_count": 94,
   "metadata": {},
   "outputs": [],
   "source": [
    "# Now let's use our model to make predictions.\n",
    "\n",
    "# Creating X_test_new dataframe by dropping variables from X_test\n",
    "X_test_new = X_test[X_train_rfe.columns[1:]]\n",
    "\n",
    "# Adding a constant variable \n",
    "X_test_new = sm.add_constant(X_test_new)\n",
    "\n",
    "# Making predictions\n",
    "y_pred = lm.predict(X_test_new)"
   ]
  },
  {
   "cell_type": "code",
   "execution_count": 95,
   "metadata": {},
   "outputs": [
    {
     "name": "stdout",
     "output_type": "stream",
     "text": [
      "Mean Absolute Error    873.9599\n",
      "Mean Squared Error     3242714.5739\n",
      "R Square               0.3431\n"
     ]
    }
   ],
   "source": [
    "from sklearn.metrics import r2_score, mean_absolute_error, mean_squared_error, mean_squared_log_error, explained_variance_score\n",
    "\n",
    "## mean absolute error\n",
    "mae = mean_absolute_error(y_test, y_pred)\n",
    "## mean squared error\n",
    "mse = mean_squared_error(y_test, y_pred)\n",
    "## getting r2 and adjusted r2 values\n",
    "r2 = r2_score(y_test, y_pred)\n",
    "\n",
    "print(\"Mean Absolute Error    {:.4f}\".format(mae))\n",
    "print(\"Mean Squared Error     {:.4f}\".format(mse))\n",
    "print(\"R Square               {:.4f}\".format(r2))"
   ]
  },
  {
   "cell_type": "markdown",
   "metadata": {},
   "source": [
    "#### 3. Ridge Regression"
   ]
  },
  {
   "cell_type": "code",
   "execution_count": 99,
   "metadata": {},
   "outputs": [],
   "source": [
    "# df_train.to_csv(\"df_train.csv\", index=False)\n",
    "# df_test.to_csv(\"df_test.csv\", index=False)"
   ]
  },
  {
   "cell_type": "code",
   "execution_count": 3,
   "metadata": {},
   "outputs": [],
   "source": [
    "df_train=pd.read_csv(\"df_train.csv\")\n",
    "df_test=pd.read_csv(\"df_test.csv\")"
   ]
  },
  {
   "cell_type": "code",
   "execution_count": 4,
   "metadata": {},
   "outputs": [],
   "source": [
    "y_train = df_train['dmd_dol']\n",
    "X_train = df_train.drop(['dmd_dol', 'ord_num'], axis=1)"
   ]
  },
  {
   "cell_type": "code",
   "execution_count": 5,
   "metadata": {},
   "outputs": [],
   "source": [
    "y_test = df_test['dmd_dol']\n",
    "X_test = df_test.drop(['dmd_dol', 'ord_num'], axis=1)"
   ]
  },
  {
   "cell_type": "code",
   "execution_count": 7,
   "metadata": {},
   "outputs": [
    {
     "name": "stdout",
     "output_type": "stream",
     "text": [
      "Best cross-validation score: 0.31\n",
      "Best parameters:  {'alpha': 0.1}\n"
     ]
    }
   ],
   "source": [
    "from sklearn.linear_model import LinearRegression, SGDRegressor, Ridge, Lasso\n",
    "from sklearn.model_selection import GridSearchCV, RandomizedSearchCV\n",
    "\n",
    "## initializing model\n",
    "reg_ridge = Ridge()\n",
    "\n",
    "## initializing parameters\n",
    "params_ = {\"alpha\" : [0.1, 1, 10]}\n",
    "\n",
    "## grid search cv with roc_auc\n",
    "clf = GridSearchCV(reg_ridge, params_, \n",
    "                   cv=2, scoring='r2', \n",
    "                   return_train_score=True, \n",
    "                   verbose=5,\n",
    "                   n_jobs=-1).fit(X_train, y_train)\n",
    "\n",
    "print(\"Best cross-validation score: {:.2f}\".format(clf.best_score_))\n",
    "print(\"Best parameters: \", clf.best_params_)\n",
    "\n",
    "## fitting the model with best output\n",
    "reg_ridge = Ridge(alpha = clf.best_params_['alpha']).fit(X_train, y_train)\n",
    "\n",
    "## output prediction\n",
    "ypred_tr = reg_ridge.predict(X_train)\n",
    "ypred_te = reg_ridge.predict(X_test)"
   ]
  },
  {
   "cell_type": "code",
   "execution_count": 9,
   "metadata": {},
   "outputs": [
    {
     "name": "stdout",
     "output_type": "stream",
     "text": [
      "Mean Absolute Error    873.9627\n",
      "Mean Squared Error     3242715.1804\n",
      "R Square               0.3431\n"
     ]
    }
   ],
   "source": [
    "from sklearn.metrics import r2_score, mean_absolute_error, mean_squared_error\n",
    "\n",
    "## mean absolute error\n",
    "mae = mean_absolute_error(y_test, ypred_te)\n",
    "## mean squared error\n",
    "mse = mean_squared_error(y_test, ypred_te)\n",
    "## getting r2 and adjusted r2 values\n",
    "r2 = r2_score(y_test, ypred_te)\n",
    "\n",
    "print(\"Mean Absolute Error    {:.4f}\".format(mae))\n",
    "print(\"Mean Squared Error     {:.4f}\".format(mse))\n",
    "print(\"R Square               {:.4f}\".format(r2))\n"
   ]
  },
  {
   "cell_type": "markdown",
   "metadata": {},
   "source": [
    "#### 4. Lasso Regression"
   ]
  },
  {
   "cell_type": "code",
   "execution_count": 11,
   "metadata": {},
   "outputs": [
    {
     "name": "stdout",
     "output_type": "stream",
     "text": [
      "Best cross-validation score: 0.30\n",
      "Best parameters:  {'alpha': 1}\n"
     ]
    }
   ],
   "source": [
    "from sklearn.linear_model import Lasso\n",
    "\n",
    "## initializing model\n",
    "reg_lasso = Lasso()\n",
    "\n",
    "## initializing parameters\n",
    "params_ = {\"alpha\" : [0.1, 1, 10]}\n",
    "\n",
    "## grid search cv with roc_auc\n",
    "clf = GridSearchCV(reg_lasso, params_, \n",
    "                   cv=2, scoring='r2', \n",
    "                   return_train_score=True, \n",
    "                   verbose=5,\n",
    "                   n_jobs=-1).fit(X_train, y_train)\n",
    "\n",
    "print(\"Best cross-validation score: {:.2f}\".format(clf.best_score_))\n",
    "print(\"Best parameters: \", clf.best_params_)\n",
    "\n",
    "## fitting the model with best output\n",
    "reg_lasso = Ridge(alpha = clf.best_params_['alpha']).fit(X_train, y_train)\n",
    "\n",
    "## output prediction\n",
    "ypred_tr = reg_lasso.predict(X_train)\n",
    "ypred_te = reg_lasso.predict(X_test)"
   ]
  },
  {
   "cell_type": "code",
   "execution_count": 12,
   "metadata": {},
   "outputs": [
    {
     "name": "stdout",
     "output_type": "stream",
     "text": [
      "Mean Absolute Error    874.0216\n",
      "Mean Squared Error     3242772.3247\n",
      "R Square               0.3431\n"
     ]
    }
   ],
   "source": [
    "from sklearn.metrics import r2_score, mean_absolute_error, mean_squared_error\n",
    "\n",
    "## mean absolute error\n",
    "mae = mean_absolute_error(y_test, ypred_te)\n",
    "## mean squared error\n",
    "mse = mean_squared_error(y_test, ypred_te)\n",
    "## getting r2 and adjusted r2 values\n",
    "r2 = r2_score(y_test, ypred_te)\n",
    "\n",
    "print(\"Mean Absolute Error    {:.4f}\".format(mae))\n",
    "print(\"Mean Squared Error     {:.4f}\".format(mse))\n",
    "print(\"R Square               {:.4f}\".format(r2))\n"
   ]
  },
  {
   "cell_type": "markdown",
   "metadata": {},
   "source": [
    "#### 5. Decision Tree Model"
   ]
  },
  {
   "cell_type": "markdown",
   "metadata": {},
   "source": [
    "For tree based model, we do not need to one-hot encode the categorical variables. Label Encoding will suffice, hence let's reprepare the dataset for this case"
   ]
  },
  {
   "cell_type": "code",
   "execution_count": 80,
   "metadata": {},
   "outputs": [
    {
     "data": {
      "text/html": [
       "<div>\n",
       "<style scoped>\n",
       "    .dataframe tbody tr th:only-of-type {\n",
       "        vertical-align: middle;\n",
       "    }\n",
       "\n",
       "    .dataframe tbody tr th {\n",
       "        vertical-align: top;\n",
       "    }\n",
       "\n",
       "    .dataframe thead th {\n",
       "        text-align: right;\n",
       "    }\n",
       "</style>\n",
       "<table border=\"1\" class=\"dataframe\">\n",
       "  <thead>\n",
       "    <tr style=\"text-align: right;\">\n",
       "      <th></th>\n",
       "      <th>ord_num</th>\n",
       "      <th>ord_lin_no</th>\n",
       "      <th>ord_dt</th>\n",
       "      <th>ord_line_status</th>\n",
       "      <th>ord_hdr_status</th>\n",
       "      <th>ord_type</th>\n",
       "      <th>cncl_dol</th>\n",
       "      <th>rtn_dol</th>\n",
       "      <th>dmd_dol</th>\n",
       "      <th>dmd_units</th>\n",
       "      <th>...</th>\n",
       "      <th>PC_ECOM_CD_8</th>\n",
       "      <th>PC_ECOM_CD_9</th>\n",
       "      <th>ord_hour</th>\n",
       "      <th>ord_dow</th>\n",
       "      <th>ord_mnth</th>\n",
       "      <th>ord_year</th>\n",
       "      <th>ord_date</th>\n",
       "      <th>dmd_dol_per_unit</th>\n",
       "      <th>coupons_used</th>\n",
       "      <th>PC_ECOM_CD_5_MAR20</th>\n",
       "    </tr>\n",
       "  </thead>\n",
       "  <tbody>\n",
       "    <tr>\n",
       "      <th>0</th>\n",
       "      <td>9009772.0</td>\n",
       "      <td>22402482.0</td>\n",
       "      <td>2019-12-01 14:42:08</td>\n",
       "      <td>D</td>\n",
       "      <td>S</td>\n",
       "      <td>MOB</td>\n",
       "      <td>0.0</td>\n",
       "      <td>0.00</td>\n",
       "      <td>559.86</td>\n",
       "      <td>10.0</td>\n",
       "      <td>...</td>\n",
       "      <td>0.0</td>\n",
       "      <td>0.0</td>\n",
       "      <td>14</td>\n",
       "      <td>6</td>\n",
       "      <td>12</td>\n",
       "      <td>2019</td>\n",
       "      <td>2019-12-01</td>\n",
       "      <td>55.986</td>\n",
       "      <td>0.0</td>\n",
       "      <td>0</td>\n",
       "    </tr>\n",
       "    <tr>\n",
       "      <th>1</th>\n",
       "      <td>7343394.0</td>\n",
       "      <td>18785581.0</td>\n",
       "      <td>2019-03-12 17:17:18</td>\n",
       "      <td>D</td>\n",
       "      <td>S</td>\n",
       "      <td>WEB</td>\n",
       "      <td>0.0</td>\n",
       "      <td>0.00</td>\n",
       "      <td>2519.86</td>\n",
       "      <td>10.0</td>\n",
       "      <td>...</td>\n",
       "      <td>0.0</td>\n",
       "      <td>0.0</td>\n",
       "      <td>17</td>\n",
       "      <td>1</td>\n",
       "      <td>3</td>\n",
       "      <td>2019</td>\n",
       "      <td>2019-03-12</td>\n",
       "      <td>251.986</td>\n",
       "      <td>1.0</td>\n",
       "      <td>0</td>\n",
       "    </tr>\n",
       "    <tr>\n",
       "      <th>2</th>\n",
       "      <td>8653822.0</td>\n",
       "      <td>21630678.0</td>\n",
       "      <td>2019-10-26 21:09:37</td>\n",
       "      <td>D</td>\n",
       "      <td>S</td>\n",
       "      <td>MOB</td>\n",
       "      <td>0.0</td>\n",
       "      <td>0.00</td>\n",
       "      <td>5711.86</td>\n",
       "      <td>10.0</td>\n",
       "      <td>...</td>\n",
       "      <td>0.0</td>\n",
       "      <td>0.0</td>\n",
       "      <td>21</td>\n",
       "      <td>5</td>\n",
       "      <td>10</td>\n",
       "      <td>2019</td>\n",
       "      <td>2019-10-26</td>\n",
       "      <td>571.186</td>\n",
       "      <td>0.0</td>\n",
       "      <td>0</td>\n",
       "    </tr>\n",
       "    <tr>\n",
       "      <th>3</th>\n",
       "      <td>9295849.0</td>\n",
       "      <td>23038199.0</td>\n",
       "      <td>2019-12-26 08:00:03</td>\n",
       "      <td>X</td>\n",
       "      <td>X</td>\n",
       "      <td>WEB</td>\n",
       "      <td>46.0</td>\n",
       "      <td>0.00</td>\n",
       "      <td>644.00</td>\n",
       "      <td>10.0</td>\n",
       "      <td>...</td>\n",
       "      <td>0.0</td>\n",
       "      <td>0.0</td>\n",
       "      <td>8</td>\n",
       "      <td>3</td>\n",
       "      <td>12</td>\n",
       "      <td>2019</td>\n",
       "      <td>2019-12-26</td>\n",
       "      <td>64.400</td>\n",
       "      <td>0.0</td>\n",
       "      <td>0</td>\n",
       "    </tr>\n",
       "    <tr>\n",
       "      <th>4</th>\n",
       "      <td>5384524.0</td>\n",
       "      <td>14643824.0</td>\n",
       "      <td>2018-03-27 13:41:35</td>\n",
       "      <td>R</td>\n",
       "      <td>S</td>\n",
       "      <td>WEB</td>\n",
       "      <td>0.0</td>\n",
       "      <td>174.99</td>\n",
       "      <td>2449.86</td>\n",
       "      <td>10.0</td>\n",
       "      <td>...</td>\n",
       "      <td>0.0</td>\n",
       "      <td>0.0</td>\n",
       "      <td>13</td>\n",
       "      <td>1</td>\n",
       "      <td>3</td>\n",
       "      <td>2018</td>\n",
       "      <td>2018-03-27</td>\n",
       "      <td>244.986</td>\n",
       "      <td>0.0</td>\n",
       "      <td>0</td>\n",
       "    </tr>\n",
       "  </tbody>\n",
       "</table>\n",
       "<p>5 rows × 45 columns</p>\n",
       "</div>"
      ],
      "text/plain": [
       "     ord_num  ord_lin_no              ord_dt ord_line_status ord_hdr_status  \\\n",
       "0  9009772.0  22402482.0 2019-12-01 14:42:08               D              S   \n",
       "1  7343394.0  18785581.0 2019-03-12 17:17:18               D              S   \n",
       "2  8653822.0  21630678.0 2019-10-26 21:09:37               D              S   \n",
       "3  9295849.0  23038199.0 2019-12-26 08:00:03               X              X   \n",
       "4  5384524.0  14643824.0 2018-03-27 13:41:35               R              S   \n",
       "\n",
       "  ord_type  cncl_dol  rtn_dol  dmd_dol  dmd_units  ...  PC_ECOM_CD_8  \\\n",
       "0      MOB       0.0     0.00   559.86       10.0  ...           0.0   \n",
       "1      WEB       0.0     0.00  2519.86       10.0  ...           0.0   \n",
       "2      MOB       0.0     0.00  5711.86       10.0  ...           0.0   \n",
       "3      WEB      46.0     0.00   644.00       10.0  ...           0.0   \n",
       "4      WEB       0.0   174.99  2449.86       10.0  ...           0.0   \n",
       "\n",
       "   PC_ECOM_CD_9  ord_hour  ord_dow  ord_mnth  ord_year    ord_date  \\\n",
       "0           0.0        14        6        12      2019  2019-12-01   \n",
       "1           0.0        17        1         3      2019  2019-03-12   \n",
       "2           0.0        21        5        10      2019  2019-10-26   \n",
       "3           0.0         8        3        12      2019  2019-12-26   \n",
       "4           0.0        13        1         3      2018  2018-03-27   \n",
       "\n",
       "   dmd_dol_per_unit  coupons_used PC_ECOM_CD_5_MAR20  \n",
       "0            55.986           0.0                  0  \n",
       "1           251.986           1.0                  0  \n",
       "2           571.186           0.0                  0  \n",
       "3            64.400           0.0                  0  \n",
       "4           244.986           0.0                  0  \n",
       "\n",
       "[5 rows x 45 columns]"
      ]
     },
     "execution_count": 80,
     "metadata": {},
     "output_type": "execute_result"
    }
   ],
   "source": [
    "order_master.head()"
   ]
  },
  {
   "cell_type": "code",
   "execution_count": 81,
   "metadata": {},
   "outputs": [
    {
     "data": {
      "text/plain": [
       "Index(['ord_num', 'ord_lin_no', 'ord_dt', 'ord_line_status', 'ord_hdr_status',\n",
       "       'ord_type', 'cncl_dol', 'rtn_dol', 'dmd_dol', 'dmd_units',\n",
       "       'Loyalty_Ind', 'Emp_Ind', 'Fship_Ind', 'skn_nbr', 'Subcat_ID', 'Cat_ID',\n",
       "       'Dept_id', 'RTN_UNITS', 'cncl_units', 'international_order_ind',\n",
       "       'State_Shipped', 'Cntry_Shipped', 'PC_ECOM_CD_1', 'PC_ECOM_CD_10',\n",
       "       'PC_ECOM_CD_11', 'PC_ECOM_CD_12', 'PC_ECOM_CD_13', 'PC_ECOM_CD_14',\n",
       "       'PC_ECOM_CD_15', 'PC_ECOM_CD_2', 'PC_ECOM_CD_3', 'PC_ECOM_CD_4',\n",
       "       'PC_ECOM_CD_5', 'PC_ECOM_CD_6', 'PC_ECOM_CD_7', 'PC_ECOM_CD_8',\n",
       "       'PC_ECOM_CD_9', 'ord_hour', 'ord_dow', 'ord_mnth', 'ord_year',\n",
       "       'ord_date', 'dmd_dol_per_unit', 'coupons_used', 'PC_ECOM_CD_5_MAR20'],\n",
       "      dtype='object')"
      ]
     },
     "execution_count": 81,
     "metadata": {},
     "output_type": "execute_result"
    }
   ],
   "source": [
    "order_master.columns"
   ]
  },
  {
   "cell_type": "code",
   "execution_count": 82,
   "metadata": {},
   "outputs": [],
   "source": [
    "order_master_final2 = order_master.drop(['ord_dt', 'Fship_Ind', 'skn_nbr', 'ord_date', 'Cntry_Shipped', 'State_Shipped', \n",
    "                                         'dmd_dol_per_unit', 'ord_lin_no', 'Subcat_ID'], axis=1)"
   ]
  },
  {
   "cell_type": "code",
   "execution_count": 85,
   "metadata": {},
   "outputs": [],
   "source": [
    "cat_vars = ['ord_line_status', 'ord_hdr_status', 'ord_type', 'Cat_ID', 'Dept_id', 'international_order_ind']"
   ]
  },
  {
   "cell_type": "code",
   "execution_count": 87,
   "metadata": {},
   "outputs": [
    {
     "data": {
      "text/html": [
       "<div>\n",
       "<style scoped>\n",
       "    .dataframe tbody tr th:only-of-type {\n",
       "        vertical-align: middle;\n",
       "    }\n",
       "\n",
       "    .dataframe tbody tr th {\n",
       "        vertical-align: top;\n",
       "    }\n",
       "\n",
       "    .dataframe thead th {\n",
       "        text-align: right;\n",
       "    }\n",
       "</style>\n",
       "<table border=\"1\" class=\"dataframe\">\n",
       "  <thead>\n",
       "    <tr style=\"text-align: right;\">\n",
       "      <th></th>\n",
       "      <th>ord_num</th>\n",
       "      <th>cncl_dol</th>\n",
       "      <th>rtn_dol</th>\n",
       "      <th>dmd_dol</th>\n",
       "      <th>dmd_units</th>\n",
       "      <th>Loyalty_Ind</th>\n",
       "      <th>Emp_Ind</th>\n",
       "      <th>RTN_UNITS</th>\n",
       "      <th>cncl_units</th>\n",
       "      <th>PC_ECOM_CD_1</th>\n",
       "      <th>...</th>\n",
       "      <th>ord_mnth</th>\n",
       "      <th>ord_year</th>\n",
       "      <th>coupons_used</th>\n",
       "      <th>PC_ECOM_CD_5_MAR20</th>\n",
       "      <th>ord_line_status</th>\n",
       "      <th>ord_hdr_status</th>\n",
       "      <th>ord_type</th>\n",
       "      <th>Cat_ID</th>\n",
       "      <th>Dept_id</th>\n",
       "      <th>international_order_ind</th>\n",
       "    </tr>\n",
       "  </thead>\n",
       "  <tbody>\n",
       "    <tr>\n",
       "      <th>0</th>\n",
       "      <td>9009772.0</td>\n",
       "      <td>0.0</td>\n",
       "      <td>0.00</td>\n",
       "      <td>559.86</td>\n",
       "      <td>10.0</td>\n",
       "      <td>0.0</td>\n",
       "      <td>0.0</td>\n",
       "      <td>0.0</td>\n",
       "      <td>0.0</td>\n",
       "      <td>0.0</td>\n",
       "      <td>...</td>\n",
       "      <td>12</td>\n",
       "      <td>2019</td>\n",
       "      <td>0.0</td>\n",
       "      <td>0</td>\n",
       "      <td>0</td>\n",
       "      <td>1</td>\n",
       "      <td>0</td>\n",
       "      <td>3</td>\n",
       "      <td>0</td>\n",
       "      <td>0</td>\n",
       "    </tr>\n",
       "    <tr>\n",
       "      <th>1</th>\n",
       "      <td>7343394.0</td>\n",
       "      <td>0.0</td>\n",
       "      <td>0.00</td>\n",
       "      <td>2519.86</td>\n",
       "      <td>10.0</td>\n",
       "      <td>0.0</td>\n",
       "      <td>0.0</td>\n",
       "      <td>0.0</td>\n",
       "      <td>0.0</td>\n",
       "      <td>1.0</td>\n",
       "      <td>...</td>\n",
       "      <td>3</td>\n",
       "      <td>2019</td>\n",
       "      <td>1.0</td>\n",
       "      <td>0</td>\n",
       "      <td>0</td>\n",
       "      <td>1</td>\n",
       "      <td>2</td>\n",
       "      <td>3</td>\n",
       "      <td>0</td>\n",
       "      <td>0</td>\n",
       "    </tr>\n",
       "    <tr>\n",
       "      <th>2</th>\n",
       "      <td>8653822.0</td>\n",
       "      <td>0.0</td>\n",
       "      <td>0.00</td>\n",
       "      <td>5711.86</td>\n",
       "      <td>10.0</td>\n",
       "      <td>0.0</td>\n",
       "      <td>0.0</td>\n",
       "      <td>0.0</td>\n",
       "      <td>0.0</td>\n",
       "      <td>0.0</td>\n",
       "      <td>...</td>\n",
       "      <td>10</td>\n",
       "      <td>2019</td>\n",
       "      <td>0.0</td>\n",
       "      <td>0</td>\n",
       "      <td>0</td>\n",
       "      <td>1</td>\n",
       "      <td>0</td>\n",
       "      <td>2</td>\n",
       "      <td>0</td>\n",
       "      <td>0</td>\n",
       "    </tr>\n",
       "    <tr>\n",
       "      <th>3</th>\n",
       "      <td>9295849.0</td>\n",
       "      <td>46.0</td>\n",
       "      <td>0.00</td>\n",
       "      <td>644.00</td>\n",
       "      <td>10.0</td>\n",
       "      <td>0.0</td>\n",
       "      <td>0.0</td>\n",
       "      <td>0.0</td>\n",
       "      <td>1.0</td>\n",
       "      <td>0.0</td>\n",
       "      <td>...</td>\n",
       "      <td>12</td>\n",
       "      <td>2019</td>\n",
       "      <td>0.0</td>\n",
       "      <td>0</td>\n",
       "      <td>13</td>\n",
       "      <td>2</td>\n",
       "      <td>2</td>\n",
       "      <td>5</td>\n",
       "      <td>0</td>\n",
       "      <td>0</td>\n",
       "    </tr>\n",
       "    <tr>\n",
       "      <th>4</th>\n",
       "      <td>5384524.0</td>\n",
       "      <td>0.0</td>\n",
       "      <td>174.99</td>\n",
       "      <td>2449.86</td>\n",
       "      <td>10.0</td>\n",
       "      <td>0.0</td>\n",
       "      <td>0.0</td>\n",
       "      <td>1.0</td>\n",
       "      <td>0.0</td>\n",
       "      <td>0.0</td>\n",
       "      <td>...</td>\n",
       "      <td>3</td>\n",
       "      <td>2018</td>\n",
       "      <td>0.0</td>\n",
       "      <td>0</td>\n",
       "      <td>9</td>\n",
       "      <td>1</td>\n",
       "      <td>2</td>\n",
       "      <td>3</td>\n",
       "      <td>0</td>\n",
       "      <td>0</td>\n",
       "    </tr>\n",
       "  </tbody>\n",
       "</table>\n",
       "<p>5 rows × 36 columns</p>\n",
       "</div>"
      ],
      "text/plain": [
       "     ord_num  cncl_dol  rtn_dol  dmd_dol  dmd_units  Loyalty_Ind  Emp_Ind  \\\n",
       "0  9009772.0       0.0     0.00   559.86       10.0          0.0      0.0   \n",
       "1  7343394.0       0.0     0.00  2519.86       10.0          0.0      0.0   \n",
       "2  8653822.0       0.0     0.00  5711.86       10.0          0.0      0.0   \n",
       "3  9295849.0      46.0     0.00   644.00       10.0          0.0      0.0   \n",
       "4  5384524.0       0.0   174.99  2449.86       10.0          0.0      0.0   \n",
       "\n",
       "   RTN_UNITS  cncl_units  PC_ECOM_CD_1  ...  ord_mnth  ord_year  coupons_used  \\\n",
       "0        0.0         0.0           0.0  ...        12      2019           0.0   \n",
       "1        0.0         0.0           1.0  ...         3      2019           1.0   \n",
       "2        0.0         0.0           0.0  ...        10      2019           0.0   \n",
       "3        0.0         1.0           0.0  ...        12      2019           0.0   \n",
       "4        1.0         0.0           0.0  ...         3      2018           0.0   \n",
       "\n",
       "   PC_ECOM_CD_5_MAR20  ord_line_status  ord_hdr_status  ord_type  Cat_ID  \\\n",
       "0                   0                0               1         0       3   \n",
       "1                   0                0               1         2       3   \n",
       "2                   0                0               1         0       2   \n",
       "3                   0               13               2         2       5   \n",
       "4                   0                9               1         2       3   \n",
       "\n",
       "   Dept_id  international_order_ind  \n",
       "0        0                        0  \n",
       "1        0                        0  \n",
       "2        0                        0  \n",
       "3        0                        0  \n",
       "4        0                        0  \n",
       "\n",
       "[5 rows x 36 columns]"
      ]
     },
     "execution_count": 87,
     "metadata": {},
     "output_type": "execute_result"
    }
   ],
   "source": [
    "from sklearn import preprocessing\n",
    "\n",
    "# encode categorical variables using Label Encoder\n",
    "\n",
    "# select all categorical variables\n",
    "df_categorical = order_master_final2[cat_vars]\n",
    "\n",
    "# apply Label encoder to df_categorical\n",
    "le = preprocessing.LabelEncoder()\n",
    "df_categorical = df_categorical.apply(le.fit_transform)\n",
    "df_categorical.head()\n",
    "\n",
    "# concat df_categorical with original df\n",
    "order_master_final2 = order_master_final2.drop(df_categorical.columns, axis=1)\n",
    "order_master_final2 = pd.concat([order_master_final2, df_categorical], axis=1)\n",
    "order_master_final2.head()"
   ]
  },
  {
   "cell_type": "code",
   "execution_count": 88,
   "metadata": {},
   "outputs": [
    {
     "data": {
      "text/html": [
       "<div>\n",
       "<style scoped>\n",
       "    .dataframe tbody tr th:only-of-type {\n",
       "        vertical-align: middle;\n",
       "    }\n",
       "\n",
       "    .dataframe tbody tr th {\n",
       "        vertical-align: top;\n",
       "    }\n",
       "\n",
       "    .dataframe thead th {\n",
       "        text-align: right;\n",
       "    }\n",
       "</style>\n",
       "<table border=\"1\" class=\"dataframe\">\n",
       "  <thead>\n",
       "    <tr style=\"text-align: right;\">\n",
       "      <th></th>\n",
       "      <th>ord_num</th>\n",
       "      <th>cncl_dol</th>\n",
       "      <th>rtn_dol</th>\n",
       "      <th>dmd_dol</th>\n",
       "      <th>ord_line_status</th>\n",
       "      <th>ord_hdr_status</th>\n",
       "      <th>ord_type</th>\n",
       "      <th>international_order_ind</th>\n",
       "      <th>ord_hour</th>\n",
       "      <th>ord_dow</th>\n",
       "      <th>...</th>\n",
       "      <th>PC_ECOM_CD_6</th>\n",
       "      <th>PC_ECOM_CD_7</th>\n",
       "      <th>PC_ECOM_CD_8</th>\n",
       "      <th>PC_ECOM_CD_9</th>\n",
       "      <th>dmd_units</th>\n",
       "      <th>Loyalty_Ind</th>\n",
       "      <th>Emp_Ind</th>\n",
       "      <th>RTN_UNITS</th>\n",
       "      <th>cncl_units</th>\n",
       "      <th>coupons_used</th>\n",
       "    </tr>\n",
       "  </thead>\n",
       "  <tbody>\n",
       "    <tr>\n",
       "      <th>0</th>\n",
       "      <td>9009772.0</td>\n",
       "      <td>0.0</td>\n",
       "      <td>0.00</td>\n",
       "      <td>559.86</td>\n",
       "      <td>0</td>\n",
       "      <td>1</td>\n",
       "      <td>0</td>\n",
       "      <td>0</td>\n",
       "      <td>14</td>\n",
       "      <td>6</td>\n",
       "      <td>...</td>\n",
       "      <td>0</td>\n",
       "      <td>0</td>\n",
       "      <td>0</td>\n",
       "      <td>0</td>\n",
       "      <td>10</td>\n",
       "      <td>0</td>\n",
       "      <td>0</td>\n",
       "      <td>0</td>\n",
       "      <td>0</td>\n",
       "      <td>0</td>\n",
       "    </tr>\n",
       "    <tr>\n",
       "      <th>1</th>\n",
       "      <td>7343394.0</td>\n",
       "      <td>0.0</td>\n",
       "      <td>0.00</td>\n",
       "      <td>2519.86</td>\n",
       "      <td>0</td>\n",
       "      <td>1</td>\n",
       "      <td>2</td>\n",
       "      <td>0</td>\n",
       "      <td>17</td>\n",
       "      <td>1</td>\n",
       "      <td>...</td>\n",
       "      <td>0</td>\n",
       "      <td>0</td>\n",
       "      <td>0</td>\n",
       "      <td>0</td>\n",
       "      <td>10</td>\n",
       "      <td>0</td>\n",
       "      <td>0</td>\n",
       "      <td>0</td>\n",
       "      <td>0</td>\n",
       "      <td>1</td>\n",
       "    </tr>\n",
       "    <tr>\n",
       "      <th>2</th>\n",
       "      <td>8653822.0</td>\n",
       "      <td>0.0</td>\n",
       "      <td>0.00</td>\n",
       "      <td>5711.86</td>\n",
       "      <td>0</td>\n",
       "      <td>1</td>\n",
       "      <td>0</td>\n",
       "      <td>0</td>\n",
       "      <td>21</td>\n",
       "      <td>5</td>\n",
       "      <td>...</td>\n",
       "      <td>0</td>\n",
       "      <td>0</td>\n",
       "      <td>0</td>\n",
       "      <td>0</td>\n",
       "      <td>10</td>\n",
       "      <td>0</td>\n",
       "      <td>0</td>\n",
       "      <td>0</td>\n",
       "      <td>0</td>\n",
       "      <td>0</td>\n",
       "    </tr>\n",
       "    <tr>\n",
       "      <th>3</th>\n",
       "      <td>9295849.0</td>\n",
       "      <td>46.0</td>\n",
       "      <td>0.00</td>\n",
       "      <td>644.00</td>\n",
       "      <td>13</td>\n",
       "      <td>2</td>\n",
       "      <td>2</td>\n",
       "      <td>0</td>\n",
       "      <td>8</td>\n",
       "      <td>3</td>\n",
       "      <td>...</td>\n",
       "      <td>0</td>\n",
       "      <td>0</td>\n",
       "      <td>0</td>\n",
       "      <td>0</td>\n",
       "      <td>10</td>\n",
       "      <td>0</td>\n",
       "      <td>0</td>\n",
       "      <td>0</td>\n",
       "      <td>1</td>\n",
       "      <td>0</td>\n",
       "    </tr>\n",
       "    <tr>\n",
       "      <th>4</th>\n",
       "      <td>5384524.0</td>\n",
       "      <td>0.0</td>\n",
       "      <td>174.99</td>\n",
       "      <td>2449.86</td>\n",
       "      <td>9</td>\n",
       "      <td>1</td>\n",
       "      <td>2</td>\n",
       "      <td>0</td>\n",
       "      <td>13</td>\n",
       "      <td>1</td>\n",
       "      <td>...</td>\n",
       "      <td>0</td>\n",
       "      <td>0</td>\n",
       "      <td>0</td>\n",
       "      <td>0</td>\n",
       "      <td>10</td>\n",
       "      <td>0</td>\n",
       "      <td>0</td>\n",
       "      <td>1</td>\n",
       "      <td>0</td>\n",
       "      <td>0</td>\n",
       "    </tr>\n",
       "  </tbody>\n",
       "</table>\n",
       "<p>5 rows × 36 columns</p>\n",
       "</div>"
      ],
      "text/plain": [
       "     ord_num  cncl_dol  rtn_dol  dmd_dol  ord_line_status  ord_hdr_status  \\\n",
       "0  9009772.0       0.0     0.00   559.86                0               1   \n",
       "1  7343394.0       0.0     0.00  2519.86                0               1   \n",
       "2  8653822.0       0.0     0.00  5711.86                0               1   \n",
       "3  9295849.0      46.0     0.00   644.00               13               2   \n",
       "4  5384524.0       0.0   174.99  2449.86                9               1   \n",
       "\n",
       "   ord_type  international_order_ind  ord_hour  ord_dow  ...  PC_ECOM_CD_6  \\\n",
       "0         0                        0        14        6  ...             0   \n",
       "1         2                        0        17        1  ...             0   \n",
       "2         0                        0        21        5  ...             0   \n",
       "3         2                        0         8        3  ...             0   \n",
       "4         2                        0        13        1  ...             0   \n",
       "\n",
       "   PC_ECOM_CD_7  PC_ECOM_CD_8  PC_ECOM_CD_9  dmd_units  Loyalty_Ind  Emp_Ind  \\\n",
       "0             0             0             0         10            0        0   \n",
       "1             0             0             0         10            0        0   \n",
       "2             0             0             0         10            0        0   \n",
       "3             0             0             0         10            0        0   \n",
       "4             0             0             0         10            0        0   \n",
       "\n",
       "   RTN_UNITS  cncl_units  coupons_used  \n",
       "0          0           0             0  \n",
       "1          0           0             1  \n",
       "2          0           0             0  \n",
       "3          0           1             0  \n",
       "4          1           0             0  \n",
       "\n",
       "[5 rows x 36 columns]"
      ]
     },
     "execution_count": 88,
     "metadata": {},
     "output_type": "execute_result"
    }
   ],
   "source": [
    "# Correcting the datatypes of the different columns\n",
    "df_int64 = order_master_final2.select_dtypes(include=['int64']).astype('int')\n",
    "# concat df_categorical with original df\n",
    "order_master_final2 = order_master_final2.drop(df_int64.columns, axis=1)\n",
    "order_master_final2 = pd.concat([order_master_final2, df_int64], axis=1)\n",
    "\n",
    "df_float64 = order_master_final2[['PC_ECOM_CD_1', 'PC_ECOM_CD_10',\n",
    "       'PC_ECOM_CD_11', 'PC_ECOM_CD_12', 'PC_ECOM_CD_13', 'PC_ECOM_CD_14',\n",
    "       'PC_ECOM_CD_15', 'PC_ECOM_CD_2', 'PC_ECOM_CD_3', 'PC_ECOM_CD_4',\n",
    "       'PC_ECOM_CD_5', 'PC_ECOM_CD_6', 'PC_ECOM_CD_7', 'PC_ECOM_CD_8',\n",
    "       'PC_ECOM_CD_9', 'dmd_units', 'Loyalty_Ind',\n",
    "       'Emp_Ind', 'RTN_UNITS', 'cncl_units', 'coupons_used']].astype('int')\n",
    "\n",
    "# concat df_categorical with original df\n",
    "order_master_final2 = order_master_final2.drop(df_float64.columns, axis=1)\n",
    "order_master_final2 = pd.concat([order_master_final2, df_float64], axis=1)\n",
    "order_master_final2.head()"
   ]
  },
  {
   "cell_type": "code",
   "execution_count": 89,
   "metadata": {},
   "outputs": [
    {
     "data": {
      "text/plain": [
       "array([dtype('float64'), dtype('float64'), dtype('float64'),\n",
       "       dtype('float64'), dtype('int32'), dtype('int32'), dtype('int32'),\n",
       "       dtype('int32'), dtype('int32'), dtype('int32'), dtype('int32'),\n",
       "       dtype('int32'), dtype('int32'), dtype('int32'), dtype('int32'),\n",
       "       dtype('int32'), dtype('int32'), dtype('int32'), dtype('int32'),\n",
       "       dtype('int32'), dtype('int32'), dtype('int32'), dtype('int32'),\n",
       "       dtype('int32'), dtype('int32'), dtype('int32'), dtype('int32'),\n",
       "       dtype('int32'), dtype('int32'), dtype('int32'), dtype('int32'),\n",
       "       dtype('int32'), dtype('int32'), dtype('int32'), dtype('int32'),\n",
       "       dtype('int32')], dtype=object)"
      ]
     },
     "execution_count": 89,
     "metadata": {},
     "output_type": "execute_result"
    }
   ],
   "source": [
    "order_master_final2.dtypes.values"
   ]
  },
  {
   "cell_type": "code",
   "execution_count": 13,
   "metadata": {},
   "outputs": [],
   "source": [
    "# order_master_final2.to_csv(\"order_master_final2.csv\", index = False)\n",
    "# order_master_final2 = pd.read_csv(\"order_master_final2.csv\")"
   ]
  },
  {
   "cell_type": "markdown",
   "metadata": {},
   "source": [
    "**Splitting the data into test and train sets**"
   ]
  },
  {
   "cell_type": "code",
   "execution_count": 14,
   "metadata": {},
   "outputs": [],
   "source": [
    "from sklearn.model_selection import train_test_split\n",
    "\n",
    "# We specify this so that the train and test data set always have the same rows, respectively\n",
    "np.random.seed(1)\n",
    "df_train, df_test = train_test_split(order_master_final2, train_size = 0.7, test_size = 0.3, random_state = 100)"
   ]
  },
  {
   "cell_type": "code",
   "execution_count": 31,
   "metadata": {},
   "outputs": [],
   "source": [
    "y_train = df_train['dmd_dol']\n",
    "X_train = df_train.drop(['dmd_dol', 'ord_num'], axis=1)\n",
    "\n",
    "y_test = df_test['dmd_dol']\n",
    "X_test = df_test.drop(['dmd_dol', 'ord_num'], axis=1)"
   ]
  },
  {
   "cell_type": "code",
   "execution_count": 94,
   "metadata": {},
   "outputs": [
    {
     "name": "stdout",
     "output_type": "stream",
     "text": [
      "Fitting 3 folds for each of 8 candidates, totalling 24 fits\n"
     ]
    },
    {
     "name": "stderr",
     "output_type": "stream",
     "text": [
      "[Parallel(n_jobs=-1)]: Using backend LokyBackend with 8 concurrent workers.\n",
      "[Parallel(n_jobs=-1)]: Done   2 tasks      | elapsed:  1.2min\n",
      "[Parallel(n_jobs=-1)]: Done  14 out of  24 | elapsed:  2.3min remaining:  1.6min\n",
      "[Parallel(n_jobs=-1)]: Done  19 out of  24 | elapsed:  3.1min remaining:   48.5s\n",
      "[Parallel(n_jobs=-1)]: Done  24 out of  24 | elapsed:  3.2min remaining:    0.0s\n",
      "[Parallel(n_jobs=-1)]: Done  24 out of  24 | elapsed:  3.2min finished\n"
     ]
    },
    {
     "name": "stdout",
     "output_type": "stream",
     "text": [
      "Best cross-validation score: 0.40\n",
      "Best parameters:  {'max_depth': 100, 'min_samples_leaf': 10, 'min_samples_split': 1000}\n"
     ]
    }
   ],
   "source": [
    "from sklearn.tree import DecisionTreeRegressor\n",
    "from sklearn.model_selection import GridSearchCV, RandomizedSearchCV\n",
    "from sklearn.model_selection import KFold, StratifiedKFold, cross_val_score\n",
    "from sklearn.preprocessing import LabelEncoder, OneHotEncoder, OrdinalEncoder, MinMaxScaler, StandardScaler\n",
    "from sklearn.metrics import r2_score, mean_absolute_error, mean_squared_error, mean_squared_log_error, explained_variance_score\n",
    "\n",
    "\n",
    "## initializing model\n",
    "reg_dt = DecisionTreeRegressor(criterion = \"mse\", random_state=42)\n",
    "\n",
    "## initializing parameters\n",
    "param_dt = {'max_depth':[100, 500],\n",
    "            'min_samples_split':[1000, 2000], \n",
    "            'min_samples_leaf':[5, 10]}\n",
    "\n",
    "# hyper parameter tuning\n",
    "reg = GridSearchCV(reg_dt, param_dt, \n",
    "                   cv=3, scoring='r2', \n",
    "                   return_train_score=True, \n",
    "                   verbose=5,\n",
    "                   n_jobs=-1).fit(X_train, y_train)\n",
    "\n",
    "print(\"Best cross-validation score: {:.2f}\".format(reg.best_score_))\n",
    "print(\"Best parameters: \", reg.best_params_)"
   ]
  },
  {
   "cell_type": "code",
   "execution_count": 32,
   "metadata": {},
   "outputs": [],
   "source": [
    "## predicting with best parameters\n",
    "reg_dt = DecisionTreeRegressor(criterion = \"mse\", \n",
    "                               max_depth = 100, \n",
    "                               min_samples_split = 1000, \n",
    "                               min_samples_leaf = 10, \n",
    "                               random_state=42).fit(X_train, y_train)\n",
    "\n",
    "## output prediction\n",
    "ypred_tr = reg_dt.predict(X_train)\n",
    "ypred_te = reg_dt.predict(X_test)"
   ]
  },
  {
   "cell_type": "code",
   "execution_count": 33,
   "metadata": {},
   "outputs": [
    {
     "name": "stdout",
     "output_type": "stream",
     "text": [
      "Mean Absolute Error    773.6099\n",
      "Mean Squared Error     3318752.8337\n",
      "R Square               0.4039\n"
     ]
    }
   ],
   "source": [
    "## mean absolute error\n",
    "mae = mean_absolute_error(y_test, ypred_te)\n",
    "## mean squared error\n",
    "mse = mean_squared_error(y_test, ypred_te)\n",
    "## getting r2 and adjusted r2 values\n",
    "r2 = r2_score(y_test, ypred_te)\n",
    "\n",
    "print(\"Mean Absolute Error    {:.4f}\".format(mae))\n",
    "print(\"Mean Squared Error     {:.4f}\".format(mse))\n",
    "print(\"R Square               {:.4f}\".format(r2))\n"
   ]
  },
  {
   "cell_type": "markdown",
   "metadata": {},
   "source": [
    "#### 6. Random Forest (Ensemble) Model"
   ]
  },
  {
   "cell_type": "markdown",
   "metadata": {},
   "source": [
    "Next, we will attempt the random forest, which is an ensemble of multiple decision trees and uses the bootstrap aggregation method to combine the results from the multiple decision trees"
   ]
  },
  {
   "cell_type": "code",
   "execution_count": 3,
   "metadata": {},
   "outputs": [],
   "source": [
    "order_master_final2 = pd.read_csv(\"order_master_final2.csv\")\n",
    "\n",
    "from sklearn.model_selection import train_test_split\n",
    "\n",
    "# We specify this so that the train and test data set always have the same rows, respectively\n",
    "np.random.seed(1)\n",
    "df_train, df_test = train_test_split(order_master_final2, train_size = 0.7, test_size = 0.3, random_state = 100)\n",
    "\n",
    "y_train = df_train['dmd_dol']\n",
    "X_train = df_train.drop(['dmd_dol', 'ord_num'], axis=1)\n",
    "\n",
    "y_test = df_test['dmd_dol']\n",
    "X_test = df_test.drop(['dmd_dol', 'ord_num'], axis=1)"
   ]
  },
  {
   "cell_type": "code",
   "execution_count": null,
   "metadata": {},
   "outputs": [
    {
     "name": "stdout",
     "output_type": "stream",
     "text": [
      "Fitting 3 folds for each of 4 candidates, totalling 12 fits\n"
     ]
    },
    {
     "name": "stderr",
     "output_type": "stream",
     "text": [
      "[Parallel(n_jobs=-1)]: Using backend LokyBackend with 8 concurrent workers.\n"
     ]
    }
   ],
   "source": [
    "# from sklearn.ensemble import RandomForestRegressor\n",
    "# from sklearn.model_selection import GridSearchCV, RandomizedSearchCV\n",
    "# from sklearn.model_selection import KFold, StratifiedKFold, cross_val_score\n",
    "# from sklearn.preprocessing import LabelEncoder, OneHotEncoder, OrdinalEncoder, MinMaxScaler, StandardScaler\n",
    "# from sklearn.metrics import r2_score, mean_absolute_error, mean_squared_error, mean_squared_log_error, explained_variance_score\n",
    "\n",
    "\n",
    "# ## initializing model\n",
    "# rf = RandomForestRegressor(criterion = \"mse\", random_state=42)\n",
    "\n",
    "# # Create the parameter grid based on the results of random search \n",
    "# param_grid = {'max_depth':[100, 500],\n",
    "#             'min_samples_split':[1000, 2000]}\n",
    "\n",
    "# # Instantiate the grid search model\n",
    "# grid_search = GridSearchCV(estimator = rf, param_grid = param_grid, \n",
    "#                           cv = 3, n_jobs = -1,verbose = 5, scoring='r2', \n",
    "#                            return_train_score=True).fit(X_train, y_train)\n",
    "\n",
    "\n",
    "# print(\"Best cross-validation score: {:.2f}\".format(reg.best_score_))\n",
    "# print(\"Best parameters: \", reg.best_params_)\n",
    "\n",
    "# ## predicting with best parameters\n",
    "# rf_final = RandomForestRegressor(criterion = \"mse\", \n",
    "#                                max_depth = grid_search.best_params_['max_depth'], \n",
    "#                                min_samples_split = grid_search.best_params_['min_samples_split'], \n",
    "#                                max_features = grid_search.best_params_['max_features'], \n",
    "#                                random_state=42).fit(X_train, y_train)\n",
    "\n",
    "# ## output prediction\n",
    "# ypred_tr = rf_final.predict(X_train)\n",
    "# ypred_te = rf_final.predict(X_test)"
   ]
  },
  {
   "cell_type": "markdown",
   "metadata": {},
   "source": [
    "Tuning of hyperparameters for the random forest model requires a lot of compute for the scale of data that we are processing. As a result, we will just train the random forest on the most optimal features identified for the decision tree."
   ]
  },
  {
   "cell_type": "code",
   "execution_count": null,
   "metadata": {},
   "outputs": [],
   "source": [
    "# from sklearn.ensemble import RandomForestRegressor\n",
    "# from sklearn.model_selection import GridSearchCV, RandomizedSearchCV\n",
    "# from sklearn.model_selection import KFold, StratifiedKFold, cross_val_score\n",
    "# from sklearn.preprocessing import LabelEncoder, OneHotEncoder, OrdinalEncoder, MinMaxScaler, StandardScaler\n",
    "# from sklearn.metrics import r2_score, mean_absolute_error, mean_squared_error, mean_squared_log_error, explained_variance_score\n",
    "\n",
    "# ## predicting with best parameters\n",
    "# rf_final = RandomForestRegressor(criterion = \"mse\", max_depth = 100, min_samples_leaf = 10, min_samples_split = 1000, \n",
    "#                                random_state=42).fit(X_train, y_train)\n",
    "\n",
    "# ## output prediction\n",
    "# ypred_tr = rf_final.predict(X_train)\n",
    "# ypred_te = rf_final.predict(X_test)"
   ]
  },
  {
   "cell_type": "markdown",
   "metadata": {},
   "source": [
    "We're not able to train the Random Forest model due to limitations in computation power. Along with this, training for other complex models will also not be feasible with our compute power limitations. These algorithms include:\n",
    "- neural networks\n",
    "- gradient boosting algorithms\n",
    "- SGD Regressors"
   ]
  },
  {
   "cell_type": "markdown",
   "metadata": {},
   "source": [
    "Out of the models that we have trained, the **Decision Tree Regressor** was the best performing model if we consider the R-Squared value on the test data."
   ]
  },
  {
   "cell_type": "markdown",
   "metadata": {},
   "source": [
    "Let's have a look at the most important features that were identified by the model."
   ]
  },
  {
   "cell_type": "code",
   "execution_count": 34,
   "metadata": {},
   "outputs": [
    {
     "data": {
      "text/html": [
       "<div>\n",
       "<style scoped>\n",
       "    .dataframe tbody tr th:only-of-type {\n",
       "        vertical-align: middle;\n",
       "    }\n",
       "\n",
       "    .dataframe tbody tr th {\n",
       "        vertical-align: top;\n",
       "    }\n",
       "\n",
       "    .dataframe thead th {\n",
       "        text-align: right;\n",
       "    }\n",
       "</style>\n",
       "<table border=\"1\" class=\"dataframe\">\n",
       "  <thead>\n",
       "    <tr style=\"text-align: right;\">\n",
       "      <th></th>\n",
       "      <th>Feature name</th>\n",
       "      <th>Importance</th>\n",
       "    </tr>\n",
       "  </thead>\n",
       "  <tbody>\n",
       "    <tr>\n",
       "      <th>0</th>\n",
       "      <td>rtn_dol</td>\n",
       "      <td>0.564618</td>\n",
       "    </tr>\n",
       "    <tr>\n",
       "      <th>1</th>\n",
       "      <td>cncl_dol</td>\n",
       "      <td>0.308485</td>\n",
       "    </tr>\n",
       "    <tr>\n",
       "      <th>2</th>\n",
       "      <td>Cat_ID</td>\n",
       "      <td>0.059609</td>\n",
       "    </tr>\n",
       "    <tr>\n",
       "      <th>3</th>\n",
       "      <td>PC_ECOM_CD_1</td>\n",
       "      <td>0.011377</td>\n",
       "    </tr>\n",
       "    <tr>\n",
       "      <th>4</th>\n",
       "      <td>ord_line_status</td>\n",
       "      <td>0.010749</td>\n",
       "    </tr>\n",
       "    <tr>\n",
       "      <th>5</th>\n",
       "      <td>dmd_units</td>\n",
       "      <td>0.008465</td>\n",
       "    </tr>\n",
       "    <tr>\n",
       "      <th>6</th>\n",
       "      <td>ord_mnth</td>\n",
       "      <td>0.006891</td>\n",
       "    </tr>\n",
       "    <tr>\n",
       "      <th>7</th>\n",
       "      <td>coupons_used</td>\n",
       "      <td>0.003862</td>\n",
       "    </tr>\n",
       "    <tr>\n",
       "      <th>8</th>\n",
       "      <td>ord_hour</td>\n",
       "      <td>0.003741</td>\n",
       "    </tr>\n",
       "    <tr>\n",
       "      <th>9</th>\n",
       "      <td>PC_ECOM_CD_15</td>\n",
       "      <td>0.003415</td>\n",
       "    </tr>\n",
       "    <tr>\n",
       "      <th>10</th>\n",
       "      <td>ord_dow</td>\n",
       "      <td>0.002951</td>\n",
       "    </tr>\n",
       "    <tr>\n",
       "      <th>11</th>\n",
       "      <td>Loyalty_Ind</td>\n",
       "      <td>0.002863</td>\n",
       "    </tr>\n",
       "    <tr>\n",
       "      <th>12</th>\n",
       "      <td>ord_year</td>\n",
       "      <td>0.002661</td>\n",
       "    </tr>\n",
       "    <tr>\n",
       "      <th>13</th>\n",
       "      <td>ord_type</td>\n",
       "      <td>0.002339</td>\n",
       "    </tr>\n",
       "    <tr>\n",
       "      <th>14</th>\n",
       "      <td>PC_ECOM_CD_12</td>\n",
       "      <td>0.001368</td>\n",
       "    </tr>\n",
       "    <tr>\n",
       "      <th>15</th>\n",
       "      <td>PC_ECOM_CD_10</td>\n",
       "      <td>0.001171</td>\n",
       "    </tr>\n",
       "    <tr>\n",
       "      <th>16</th>\n",
       "      <td>PC_ECOM_CD_3</td>\n",
       "      <td>0.000828</td>\n",
       "    </tr>\n",
       "    <tr>\n",
       "      <th>17</th>\n",
       "      <td>PC_ECOM_CD_2</td>\n",
       "      <td>0.000815</td>\n",
       "    </tr>\n",
       "    <tr>\n",
       "      <th>18</th>\n",
       "      <td>PC_ECOM_CD_5_MAR20</td>\n",
       "      <td>0.000746</td>\n",
       "    </tr>\n",
       "    <tr>\n",
       "      <th>19</th>\n",
       "      <td>PC_ECOM_CD_7</td>\n",
       "      <td>0.000574</td>\n",
       "    </tr>\n",
       "  </tbody>\n",
       "</table>\n",
       "</div>"
      ],
      "text/plain": [
       "          Feature name  Importance\n",
       "0              rtn_dol    0.564618\n",
       "1             cncl_dol    0.308485\n",
       "2               Cat_ID    0.059609\n",
       "3         PC_ECOM_CD_1    0.011377\n",
       "4      ord_line_status    0.010749\n",
       "5            dmd_units    0.008465\n",
       "6             ord_mnth    0.006891\n",
       "7         coupons_used    0.003862\n",
       "8             ord_hour    0.003741\n",
       "9        PC_ECOM_CD_15    0.003415\n",
       "10             ord_dow    0.002951\n",
       "11         Loyalty_Ind    0.002863\n",
       "12            ord_year    0.002661\n",
       "13            ord_type    0.002339\n",
       "14       PC_ECOM_CD_12    0.001368\n",
       "15       PC_ECOM_CD_10    0.001171\n",
       "16        PC_ECOM_CD_3    0.000828\n",
       "17        PC_ECOM_CD_2    0.000815\n",
       "18  PC_ECOM_CD_5_MAR20    0.000746\n",
       "19        PC_ECOM_CD_7    0.000574"
      ]
     },
     "execution_count": 34,
     "metadata": {},
     "output_type": "execute_result"
    }
   ],
   "source": [
    "feature_importance = pd.DataFrame({'Feature name': list(X_train.columns), 'Importance': list(reg_dt.feature_importances_)})\n",
    "feature_importance = feature_importance.sort_values('Importance', ascending = False).reset_index(drop=True)\n",
    "feature_importance.to_csv(\"dtree_feature_importance.csv\", index=False)\n",
    "feature_importance.head(20)"
   ]
  },
  {
   "cell_type": "markdown",
   "metadata": {},
   "source": [
    "### Conclusion & Summary"
   ]
  },
  {
   "cell_type": "markdown",
   "metadata": {},
   "source": [
    "This concludes the Case Study Code. We began with the major problem statement being: \n",
    "\n",
    "\"Evaluate effectiveness of the Friendship Sale Promotion which ran online in March-2020 (21-23 March)\""
   ]
  },
  {
   "cell_type": "markdown",
   "metadata": {},
   "source": [
    "In order to execute this, we went through the entire CRISP-DM menthodology. We began with reading an getting an overall sense of the data. Post that, we dealt with all the anomalies that existed in the dataset. This was followed by implementing EDA on the datasest to extract insights that would specifically help us answer the objective at hand. The EDA generated some really crucial insights that helped us judge the effectiveness of the Friendship Sale Promotion."
   ]
  },
  {
   "cell_type": "markdown",
   "metadata": {},
   "source": [
    "The EDA was followed by regression modelling, where we implemented several different algorithms. However, there were limitations that existed with regard to the computation power available to train these models.. As a result, we could no train some of the more complex models."
   ]
  },
  {
   "cell_type": "markdown",
   "metadata": {},
   "source": [
    "**Summary:**\n",
    "- The Decision Tree model was the best performing model out of all that were tested\n",
    "- When looking at the feature importance of the Decision Tree, the Friendship Promo Code is the 7th best performing Coupon Code when compared to all the other Coupon Codes\n",
    "- From the EDA, we were able to successfully quantify the impact that the Friendship Promo Code had on Sales.\n",
    "- The Friendship Promo Code was the 2nd best Promo Code in terms of the Coupon Usage Rate and the Revenue Generation Rate\n",
    "- The Friendship Promo Code resulted in a 235% incremental sales uplift when compared to the baseline sales.\n"
   ]
  }
 ],
 "metadata": {
  "kernelspec": {
   "display_name": "Python 3 (ipykernel)",
   "language": "python",
   "name": "python3"
  },
  "language_info": {
   "codemirror_mode": {
    "name": "ipython",
    "version": 3
   },
   "file_extension": ".py",
   "mimetype": "text/x-python",
   "name": "python",
   "nbconvert_exporter": "python",
   "pygments_lexer": "ipython3",
   "version": "3.10.0"
  }
 },
 "nbformat": 4,
 "nbformat_minor": 4
}
